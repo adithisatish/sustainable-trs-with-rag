{
 "cells": [
  {
   "cell_type": "code",
   "execution_count": 16,
   "metadata": {},
   "outputs": [],
   "source": [
    "import sklearn\n",
    "import pandas as pd \n",
    "import numpy as np \n",
    "import os \n",
    "import re\n",
    "import sys \n",
    "import ast "
   ]
  },
  {
   "cell_type": "code",
   "execution_count": 17,
   "metadata": {},
   "outputs": [],
   "source": [
    "results_dir = \"../../../european-city-data/rag-sustainability/results/results-combined_prompts/\"\n",
    "folders = os.listdir(results_dir)"
   ]
  },
  {
   "cell_type": "code",
   "execution_count": 18,
   "metadata": {},
   "outputs": [],
   "source": [
    "from sklearn.feature_extraction.text import TfidfVectorizer\n",
    "\n",
    "# can we just stick to Tf-Idf to vectorize, or do we want to use embeddings - static (Word2Vec) or contextual (BERT)? \n",
    "\n",
    "def compute_similarity(paths):\n",
    "\n",
    "    documents = [open(f).read() for f in paths]\n",
    "    tfidf = TfidfVectorizer().fit_transform(documents)\n",
    "    # no need to normalize, since Vectorizer will return normalized tf-idf\n",
    "    pairwise_similarity = tfidf * tfidf.T\n",
    "\n",
    "    return round(pairwise_similarity[0,1], 3)\n",
    "\n",
    "# corpus = [\"I'd like an apple\", \"An apple a day keeps the doctor away\",]\n",
    "# tfidf = TfidfVectorizer().fit_transform(corpus)\n",
    "#     # no need to normalize, since Vectorizer will return normalized tf-idf\n",
    "# pairwise_similarity = tfidf * tfidf.T\n",
    "# print(round(pairwise_similarity[0,1], 3))"
   ]
  },
  {
   "cell_type": "code",
   "execution_count": 19,
   "metadata": {},
   "outputs": [],
   "source": [
    "sim_results = []\n",
    "for model in folders:\n",
    "    if \".csv\" in model: \n",
    "        continue \n",
    "\n",
    "    for prompt in os.listdir(os.path.join(results_dir, model)):\n",
    "\n",
    "        non_sus_paths = [os.path.join(results_dir, model, prompt, \"response.txt\"), os.path.join(results_dir, model, prompt, \"context.txt\")]\n",
    "        sus_paths = [os.path.join(results_dir, model, prompt, \"response_sustainable.txt\"), os.path.join(results_dir, model, prompt, \"context_sustainable.txt\")]\n",
    "\n",
    "        sim_score = compute_similarity(non_sus_paths)\n",
    "        sim_score_sustainable = compute_similarity(sus_paths)\n",
    "\n",
    "        sim_results.append({\n",
    "            'model': model, \n",
    "            'prompt_id': prompt,\n",
    "            'context_response_sim': sim_score, \n",
    "            'context_response_sim_sustainable': sim_score_sustainable,\n",
    "        })"
   ]
  },
  {
   "cell_type": "code",
   "execution_count": 21,
   "metadata": {},
   "outputs": [],
   "source": [
    "sim_results_df = pd.DataFrame(sim_results)"
   ]
  },
  {
   "cell_type": "code",
   "execution_count": 22,
   "metadata": {},
   "outputs": [
    {
     "data": {
      "text/html": [
       "<div>\n",
       "<style scoped>\n",
       "    .dataframe tbody tr th:only-of-type {\n",
       "        vertical-align: middle;\n",
       "    }\n",
       "\n",
       "    .dataframe tbody tr th {\n",
       "        vertical-align: top;\n",
       "    }\n",
       "\n",
       "    .dataframe thead th {\n",
       "        text-align: right;\n",
       "    }\n",
       "</style>\n",
       "<table border=\"1\" class=\"dataframe\">\n",
       "  <thead>\n",
       "    <tr style=\"text-align: right;\">\n",
       "      <th></th>\n",
       "      <th>model</th>\n",
       "      <th>prompt_id</th>\n",
       "      <th>context_response_sim</th>\n",
       "      <th>context_response_sim_sustainable</th>\n",
       "    </tr>\n",
       "  </thead>\n",
       "  <tbody>\n",
       "    <tr>\n",
       "      <th>0</th>\n",
       "      <td>llama3point1-instruct</td>\n",
       "      <td>prompt_17_gemini-ui</td>\n",
       "      <td>0.751</td>\n",
       "      <td>0.675</td>\n",
       "    </tr>\n",
       "    <tr>\n",
       "      <th>1</th>\n",
       "      <td>llama3point1-instruct</td>\n",
       "      <td>prompt_27_gemini-1.5-pro-001</td>\n",
       "      <td>0.601</td>\n",
       "      <td>0.543</td>\n",
       "    </tr>\n",
       "    <tr>\n",
       "      <th>2</th>\n",
       "      <td>llama3point1-instruct</td>\n",
       "      <td>prompt_42_gpt-4o-mini</td>\n",
       "      <td>0.419</td>\n",
       "      <td>0.777</td>\n",
       "    </tr>\n",
       "    <tr>\n",
       "      <th>3</th>\n",
       "      <td>llama3point1-instruct</td>\n",
       "      <td>prompt_0_gpt-4o-mini</td>\n",
       "      <td>0.647</td>\n",
       "      <td>0.605</td>\n",
       "    </tr>\n",
       "    <tr>\n",
       "      <th>4</th>\n",
       "      <td>llama3point1-instruct</td>\n",
       "      <td>prompt_44_gemini-1.5-pro-001</td>\n",
       "      <td>0.663</td>\n",
       "      <td>0.576</td>\n",
       "    </tr>\n",
       "  </tbody>\n",
       "</table>\n",
       "</div>"
      ],
      "text/plain": [
       "                   model                     prompt_id  context_response_sim  \\\n",
       "0  llama3point1-instruct           prompt_17_gemini-ui                 0.751   \n",
       "1  llama3point1-instruct  prompt_27_gemini-1.5-pro-001                 0.601   \n",
       "2  llama3point1-instruct         prompt_42_gpt-4o-mini                 0.419   \n",
       "3  llama3point1-instruct          prompt_0_gpt-4o-mini                 0.647   \n",
       "4  llama3point1-instruct  prompt_44_gemini-1.5-pro-001                 0.663   \n",
       "\n",
       "   context_response_sim_sustainable  \n",
       "0                             0.675  \n",
       "1                             0.543  \n",
       "2                             0.777  \n",
       "3                             0.605  \n",
       "4                             0.576  "
      ]
     },
     "execution_count": 22,
     "metadata": {},
     "output_type": "execute_result"
    }
   ],
   "source": [
    "sim_results_df.head()"
   ]
  },
  {
   "cell_type": "code",
   "execution_count": 23,
   "metadata": {},
   "outputs": [],
   "source": [
    "sim_results_df.to_csv(f\"{results_dir}/context_response_similarity_scores.csv\")"
   ]
  },
  {
   "cell_type": "code",
   "execution_count": null,
   "metadata": {},
   "outputs": [],
   "source": []
  }
 ],
 "metadata": {
  "kernelspec": {
   "display_name": ".env",
   "language": "python",
   "name": "python3"
  },
  "language_info": {
   "codemirror_mode": {
    "name": "ipython",
    "version": 3
   },
   "file_extension": ".py",
   "mimetype": "text/x-python",
   "name": "python",
   "nbconvert_exporter": "python",
   "pygments_lexer": "ipython3",
   "version": "3.9.6"
  }
 },
 "nbformat": 4,
 "nbformat_minor": 2
}
