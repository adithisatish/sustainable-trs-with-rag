{
 "cells": [
  {
   "cell_type": "code",
   "execution_count": 1,
   "metadata": {},
   "outputs": [],
   "source": [
    "import pandas as pd \n",
    "import numpy as np \n",
    "import os \n",
    "import re\n",
    "import sys \n",
    "import ast "
   ]
  },
  {
   "cell_type": "code",
   "execution_count": 2,
   "metadata": {},
   "outputs": [],
   "source": [
    "results_dir = \"../../../european-city-data/rag-sustainability/results/results-combined_prompts/\"\n",
    "folders = os.listdir(results_dir)\n",
    "results_df = pd.read_csv(f\"{results_dir}/recommended_cities.csv\")\n",
    "\n",
    "cities_df = pd.read_csv(\"../../../european-city-data/cities/worldcities.csv\")\n",
    "cities = list(cities_df['city'])\n",
    "\n",
    "eucities_df = pd.read_csv(\"../../../european-city-data/archive/city_abstracts_embeddings.csv\")\n",
    "eu_cities = list(cities_df['city'])"
   ]
  },
  {
   "cell_type": "code",
   "execution_count": 3,
   "metadata": {},
   "outputs": [],
   "source": [
    "llama = results_df[results_df['model'] == 'llama3point1-instruct']\n",
    "mistral = results_df[results_df['model'] == 'mistral-instruct']"
   ]
  },
  {
   "cell_type": "code",
   "execution_count": null,
   "metadata": {},
   "outputs": [],
   "source": []
  }
 ],
 "metadata": {
  "kernelspec": {
   "display_name": ".env",
   "language": "python",
   "name": "python3"
  },
  "language_info": {
   "codemirror_mode": {
    "name": "ipython",
    "version": 3
   },
   "file_extension": ".py",
   "mimetype": "text/x-python",
   "name": "python",
   "nbconvert_exporter": "python",
   "pygments_lexer": "ipython3",
   "version": "3.9.6"
  }
 },
 "nbformat": 4,
 "nbformat_minor": 2
}
