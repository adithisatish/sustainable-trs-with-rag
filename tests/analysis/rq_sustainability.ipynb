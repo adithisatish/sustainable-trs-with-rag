{
 "cells": [
  {
   "cell_type": "code",
   "execution_count": 1,
   "metadata": {
    "pycharm": {
     "name": "#%%\n"
    }
   },
   "outputs": [],
   "source": [
    "import pandas as pd \n",
    "import numpy as np \n",
    "import os \n",
    "import re\n",
    "import sys \n",
    "import ast \n",
    "import json"
   ]
  },
  {
   "cell_type": "code",
   "execution_count": 2,
   "metadata": {
    "pycharm": {
     "name": "#%%\n"
    }
   },
   "outputs": [],
   "source": [
    "results_dir = \"../../european-city-data/rag-sustainability/results/results-combined_prompts/\"\n",
    "folders = os.listdir(results_dir)\n",
    "results_df = pd.read_csv(f\"{results_dir}/recommended_cities_gemma.csv\")\n",
    "sim_df = pd.read_csv(f\"{results_dir}/context_response_similarity_scores.csv\")\n",
    "\n",
    "cities_df = pd.read_csv(\"../../european-city-data/cities/worldcities.csv\")\n",
    "cities = list(cities_df['city'])\n",
    "\n",
    "eucities_df = pd.read_csv(\"../../european-city-data/archive/city_abstracts_embeddings.csv\")\n",
    "eu_cities = list(cities_df['city'])\n",
    "\n",
    "sar_results_dir = \"../../european-city-data/rag-sustainability/results/results-combined_prompts_SAR/\"\n",
    "sar_results = pd.read_csv(f\"{sar_results_dir}/recommended_cities_sar_gemma.csv\")\n",
    "\n",
    "sim_sar = pd.read_csv(f\"{sar_results_dir}/context_response_similarity_scores.csv\")"
   ]
  },
  {
   "cell_type": "code",
   "execution_count": 4,
   "metadata": {
    "pycharm": {
     "name": "#%%\n"
    }
   },
   "outputs": [],
   "source": [
    "combined_df = pd.merge(\n",
    "    left=results_df, \n",
    "    right=sar_results,\n",
    "    how='left',\n",
    "    left_on=['model', 'prompt_id'],\n",
    "    right_on=['model', 'prompt_id'],\n",
    ")"
   ]
  },
  {
   "cell_type": "code",
   "execution_count": 5,
   "metadata": {
    "pycharm": {
     "name": "#%%\n"
    }
   },
   "outputs": [],
   "source": [
    "llama = combined_df[results_df['model'] == 'llama3point1-instruct']\n",
    "mistral = combined_df[results_df['model'] == 'mistral-instruct']\n",
    "gemma = combined_df[results_df['model'] == 'gemma2']"
   ]
  },
  {
   "cell_type": "code",
   "execution_count": 6,
   "metadata": {
    "pycharm": {
     "name": "#%%\n"
    }
   },
   "outputs": [
    {
     "data": {
      "text/html": [
       "<div>\n",
       "<style scoped>\n",
       "    .dataframe tbody tr th:only-of-type {\n",
       "        vertical-align: middle;\n",
       "    }\n",
       "\n",
       "    .dataframe tbody tr th {\n",
       "        vertical-align: top;\n",
       "    }\n",
       "\n",
       "    .dataframe thead th {\n",
       "        text-align: right;\n",
       "    }\n",
       "</style>\n",
       "<table border=\"1\" class=\"dataframe\">\n",
       "  <thead>\n",
       "    <tr style=\"text-align: right;\">\n",
       "      <th></th>\n",
       "      <th>model</th>\n",
       "      <th>prompt_id</th>\n",
       "      <th>rec_cities</th>\n",
       "      <th>response</th>\n",
       "      <th>rec_cities_sar</th>\n",
       "      <th>response_sar</th>\n",
       "    </tr>\n",
       "  </thead>\n",
       "  <tbody>\n",
       "    <tr>\n",
       "      <th>200</th>\n",
       "      <td>llama3point1-instruct</td>\n",
       "      <td>prompt_17_gemini-ui</td>\n",
       "      <td>['Kaunas']</td>\n",
       "      <td>I recommend Kaunas in Lithuania for your expe...</td>\n",
       "      <td>['Kaunas', 'Sibiu']</td>\n",
       "      <td>I recommend Kaunas and Sibiu. I recommend the...</td>\n",
       "    </tr>\n",
       "    <tr>\n",
       "      <th>201</th>\n",
       "      <td>llama3point1-instruct</td>\n",
       "      <td>prompt_27_gemini-1.5-pro-001</td>\n",
       "      <td>['Copenhagen']</td>\n",
       "      <td>I recommend Copenhagen, Denmark because it is...</td>\n",
       "      <td>['Kahramanmaras', 'Nevsehir']</td>\n",
       "      <td>I recommend Baia Mare, Kahramanmaras, and Nev...</td>\n",
       "    </tr>\n",
       "    <tr>\n",
       "      <th>202</th>\n",
       "      <td>llama3point1-instruct</td>\n",
       "      <td>prompt_42_gpt-4o-mini</td>\n",
       "      <td>['Amsterdam']</td>\n",
       "      <td>I recommend Amsterdam, Netherlands. Amsterdam...</td>\n",
       "      <td>['Nalchik', 'Arkhangelsk', 'Amsterdam']</td>\n",
       "      <td>I recommend Nalchik, Arkhangelsk, and Amsterd...</td>\n",
       "    </tr>\n",
       "    <tr>\n",
       "      <th>203</th>\n",
       "      <td>llama3point1-instruct</td>\n",
       "      <td>prompt_0_gpt-4o-mini</td>\n",
       "      <td>['Kaunas', 'Thessaloniki', 'Strasbourg']</td>\n",
       "      <td>I recommend Kaunas, Lithuania. I recommend Ka...</td>\n",
       "      <td>['Kaunas', 'Oradea', 'Sibiu']</td>\n",
       "      <td>I recommend Kaunas, Oradea, and Sibiu. I reco...</td>\n",
       "    </tr>\n",
       "    <tr>\n",
       "      <th>204</th>\n",
       "      <td>llama3point1-instruct</td>\n",
       "      <td>prompt_44_gemini-1.5-pro-001</td>\n",
       "      <td>['Kaunas']</td>\n",
       "      <td>I recommend Kaunas for your medieval history ...</td>\n",
       "      <td>['Kaunas', 'Rennes', 'Copenhagen']</td>\n",
       "      <td>I recommend Kaunas, Rennes, and Copenhagen fo...</td>\n",
       "    </tr>\n",
       "    <tr>\n",
       "      <th>...</th>\n",
       "      <td>...</td>\n",
       "      <td>...</td>\n",
       "      <td>...</td>\n",
       "      <td>...</td>\n",
       "      <td>...</td>\n",
       "      <td>...</td>\n",
       "    </tr>\n",
       "    <tr>\n",
       "      <th>395</th>\n",
       "      <td>llama3point1-instruct</td>\n",
       "      <td>prompt_29_gpt-4o-mini</td>\n",
       "      <td>['Innsbruck']</td>\n",
       "      <td>I recommend Innsbruck, Austria. Innsbruck is ...</td>\n",
       "      <td>['Innsbruck', 'Strasbourg']</td>\n",
       "      <td>I recommend Innsbruck and Strasbourg because ...</td>\n",
       "    </tr>\n",
       "    <tr>\n",
       "      <th>396</th>\n",
       "      <td>llama3point1-instruct</td>\n",
       "      <td>prompt_44_gemini-ui</td>\n",
       "      <td>['Stavanger']</td>\n",
       "      <td>I recommend Stavanger, Norway, because it off...</td>\n",
       "      <td>['Nalchik', 'Kaunas', 'Stavanger', 'Erzurum', ...</td>\n",
       "      <td>I recommend Nalchik, Kaunas, and Stavanger. I...</td>\n",
       "    </tr>\n",
       "    <tr>\n",
       "      <th>397</th>\n",
       "      <td>llama3point1-instruct</td>\n",
       "      <td>prompt_59_gpt-4o-mini</td>\n",
       "      <td>['Munich', 'Thessaloniki', 'Arkhangelsk', 'Gaz...</td>\n",
       "      <td>I recommend Munich, Germany for its vibrant a...</td>\n",
       "      <td>['Oradea', 'Gaziantep', 'Varna']</td>\n",
       "      <td>I recommend Oradea, Gaziantep, and Varna. I r...</td>\n",
       "    </tr>\n",
       "    <tr>\n",
       "      <th>398</th>\n",
       "      <td>llama3point1-instruct</td>\n",
       "      <td>prompt_50_gemini-ui</td>\n",
       "      <td>['Varna', 'Tallinn', 'London', 'Cork', 'Innsbr...</td>\n",
       "      <td>I recommend Varna, Bulgaria for your weekend ...</td>\n",
       "      <td>['Tallinn', 'Cork']</td>\n",
       "      <td>I recommend Tallinn, Baia Mare, and Cork. I r...</td>\n",
       "    </tr>\n",
       "    <tr>\n",
       "      <th>399</th>\n",
       "      <td>llama3point1-instruct</td>\n",
       "      <td>prompt_77_gpt-4o-mini</td>\n",
       "      <td>['Innsbruck', 'Kaunas', 'Stavanger', 'Bergen']</td>\n",
       "      <td>I recommend Innsbruck and why you recommended...</td>\n",
       "      <td>['Innsbruck', 'Erzurum', 'Kaunas', 'Isparta']</td>\n",
       "      <td>I recommend Innsbruck, Erzurum, and Kaunas fo...</td>\n",
       "    </tr>\n",
       "  </tbody>\n",
       "</table>\n",
       "<p>200 rows × 6 columns</p>\n",
       "</div>"
      ],
      "text/plain": [
       "                     model                     prompt_id  \\\n",
       "200  llama3point1-instruct           prompt_17_gemini-ui   \n",
       "201  llama3point1-instruct  prompt_27_gemini-1.5-pro-001   \n",
       "202  llama3point1-instruct         prompt_42_gpt-4o-mini   \n",
       "203  llama3point1-instruct          prompt_0_gpt-4o-mini   \n",
       "204  llama3point1-instruct  prompt_44_gemini-1.5-pro-001   \n",
       "..                     ...                           ...   \n",
       "395  llama3point1-instruct         prompt_29_gpt-4o-mini   \n",
       "396  llama3point1-instruct           prompt_44_gemini-ui   \n",
       "397  llama3point1-instruct         prompt_59_gpt-4o-mini   \n",
       "398  llama3point1-instruct           prompt_50_gemini-ui   \n",
       "399  llama3point1-instruct         prompt_77_gpt-4o-mini   \n",
       "\n",
       "                                            rec_cities  \\\n",
       "200                                         ['Kaunas']   \n",
       "201                                     ['Copenhagen']   \n",
       "202                                      ['Amsterdam']   \n",
       "203           ['Kaunas', 'Thessaloniki', 'Strasbourg']   \n",
       "204                                         ['Kaunas']   \n",
       "..                                                 ...   \n",
       "395                                      ['Innsbruck']   \n",
       "396                                      ['Stavanger']   \n",
       "397  ['Munich', 'Thessaloniki', 'Arkhangelsk', 'Gaz...   \n",
       "398  ['Varna', 'Tallinn', 'London', 'Cork', 'Innsbr...   \n",
       "399     ['Innsbruck', 'Kaunas', 'Stavanger', 'Bergen']   \n",
       "\n",
       "                                              response  \\\n",
       "200   I recommend Kaunas in Lithuania for your expe...   \n",
       "201   I recommend Copenhagen, Denmark because it is...   \n",
       "202   I recommend Amsterdam, Netherlands. Amsterdam...   \n",
       "203   I recommend Kaunas, Lithuania. I recommend Ka...   \n",
       "204   I recommend Kaunas for your medieval history ...   \n",
       "..                                                 ...   \n",
       "395   I recommend Innsbruck, Austria. Innsbruck is ...   \n",
       "396   I recommend Stavanger, Norway, because it off...   \n",
       "397   I recommend Munich, Germany for its vibrant a...   \n",
       "398   I recommend Varna, Bulgaria for your weekend ...   \n",
       "399   I recommend Innsbruck and why you recommended...   \n",
       "\n",
       "                                        rec_cities_sar  \\\n",
       "200                                ['Kaunas', 'Sibiu']   \n",
       "201                      ['Kahramanmaras', 'Nevsehir']   \n",
       "202            ['Nalchik', 'Arkhangelsk', 'Amsterdam']   \n",
       "203                      ['Kaunas', 'Oradea', 'Sibiu']   \n",
       "204                 ['Kaunas', 'Rennes', 'Copenhagen']   \n",
       "..                                                 ...   \n",
       "395                        ['Innsbruck', 'Strasbourg']   \n",
       "396  ['Nalchik', 'Kaunas', 'Stavanger', 'Erzurum', ...   \n",
       "397                   ['Oradea', 'Gaziantep', 'Varna']   \n",
       "398                                ['Tallinn', 'Cork']   \n",
       "399      ['Innsbruck', 'Erzurum', 'Kaunas', 'Isparta']   \n",
       "\n",
       "                                          response_sar  \n",
       "200   I recommend Kaunas and Sibiu. I recommend the...  \n",
       "201   I recommend Baia Mare, Kahramanmaras, and Nev...  \n",
       "202   I recommend Nalchik, Arkhangelsk, and Amsterd...  \n",
       "203   I recommend Kaunas, Oradea, and Sibiu. I reco...  \n",
       "204   I recommend Kaunas, Rennes, and Copenhagen fo...  \n",
       "..                                                 ...  \n",
       "395   I recommend Innsbruck and Strasbourg because ...  \n",
       "396   I recommend Nalchik, Kaunas, and Stavanger. I...  \n",
       "397   I recommend Oradea, Gaziantep, and Varna. I r...  \n",
       "398   I recommend Tallinn, Baia Mare, and Cork. I r...  \n",
       "399   I recommend Innsbruck, Erzurum, and Kaunas fo...  \n",
       "\n",
       "[200 rows x 6 columns]"
      ]
     },
     "execution_count": 6,
     "metadata": {},
     "output_type": "execute_result"
    }
   ],
   "source": [
    "llama"
   ]
  },
  {
   "cell_type": "markdown",
   "metadata": {
    "pycharm": {
     "name": "#%% md\n"
    }
   },
   "source": [
    "### What are the sustainability ranks of the recommended cities?"
   ]
  },
  {
   "cell_type": "code",
   "execution_count": null,
   "outputs": [],
   "source": [
    "def get_ranks(df):\n",
    "    city_s_ranks = []\n",
    "    for i, row in df.iterrows():\n",
    "        context_path = os.path.join(sar_results_dir, row['model'], row['prompt_id'], 'cities_sustainable.json')\n",
    "        # print(context_path)\n",
    "        with open(context_path) as f:\n",
    "            context = json.load(f)\n",
    "        \n",
    "        city_rank = []\n",
    "        for city in ast.literal_eval(row['rec_cities_sar']):\n",
    "            for j, rec_city in enumerate(context): \n",
    "                if city == rec_city['city']:\n",
    "                    city_rank.append({\n",
    "                        'city': city,\n",
    "                        's-fairness-rank': j+1\n",
    "                    })\n",
    "        city_s_ranks.append(city_rank)\n",
    "\n",
    "    df['sustainability_ranks'] = city_s_ranks\n",
    "    return df\n"
   ],
   "metadata": {
    "collapsed": false,
    "pycharm": {
     "name": "#%%\n"
    }
   }
  },
  {
   "cell_type": "code",
   "execution_count": null,
   "outputs": [],
   "source": [
    "llama_ranks = get_ranks(llama)\n",
    "llama_ranks"
   ],
   "metadata": {
    "collapsed": false,
    "pycharm": {
     "name": "#%%\n"
    }
   }
  },
  {
   "cell_type": "code",
   "execution_count": null,
   "outputs": [],
   "source": [
    "mistral_ranks = get_ranks(mistral)\n",
    "mistral_ranks"
   ],
   "metadata": {
    "collapsed": false,
    "pycharm": {
     "name": "#%%\n"
    }
   }
  },
  {
   "cell_type": "code",
   "execution_count": null,
   "outputs": [],
   "source": [
    "gemma"
   ],
   "metadata": {
    "collapsed": false,
    "pycharm": {
     "name": "#%%\n"
    }
   }
  },
  {
   "cell_type": "code",
   "execution_count": null,
   "outputs": [],
   "source": [
    "gemma_ranks = get_ranks(gemma)\n",
    "gemma_ranks"
   ],
   "metadata": {
    "collapsed": false,
    "pycharm": {
     "name": "#%%\n"
    }
   }
  },
  {
   "cell_type": "markdown",
   "source": [
    "Number of prompts where the first city has lowest s-fairness: "
   ],
   "metadata": {
    "collapsed": false,
    "pycharm": {
     "name": "#%% md\n"
    }
   }
  },
  {
   "cell_type": "code",
   "execution_count": null,
   "outputs": [],
   "source": [
    "def is_lowest_rank(ranked_list):\n",
    "    if len(ranked_list):\n",
    "        min_rank = min(ranked_list, key=lambda x: x['s-fairness-rank'])['s-fairness-rank']\n",
    "\n",
    "        if ranked_list[0]['s-fairness-rank'] == min_rank:\n",
    "            return 1\n",
    "    return 0"
   ],
   "metadata": {
    "collapsed": false,
    "pycharm": {
     "name": "#%%\n"
    }
   }
  },
  {
   "cell_type": "code",
   "execution_count": null,
   "outputs": [],
   "source": [
    "llama_min_ranks = sum(llama_ranks['sustainability_ranks'].apply(is_lowest_rank))\n",
    "llama_min_ranks"
   ],
   "metadata": {
    "collapsed": false,
    "pycharm": {
     "name": "#%%\n"
    }
   }
  },
  {
   "cell_type": "code",
   "execution_count": null,
   "outputs": [],
   "source": [
    "mistral_min_ranks = sum(mistral_ranks['sustainability_ranks'].apply(is_lowest_rank))\n",
    "mistral_min_ranks"
   ],
   "metadata": {
    "collapsed": false,
    "pycharm": {
     "name": "#%%\n"
    }
   }
  },
  {
   "cell_type": "code",
   "execution_count": null,
   "outputs": [],
   "source": [
    "gemma_min_ranks = sum(gemma_ranks['sustainability_ranks'].apply(is_lowest_rank))\n",
    "gemma_min_ranks"
   ],
   "metadata": {
    "collapsed": false,
    "pycharm": {
     "name": "#%%\n"
    }
   }
  },
  {
   "cell_type": "markdown",
   "source": [
    "Llama outperforms Mistral (2x better) here as well: in 72.5% of the prompts, the top choice has the lowest s-fairness compared to the rest of the recommended cities, NOT retrieved cities (as opposed to 43.5% for Mistral)"
   ],
   "metadata": {
    "collapsed": false,
    "pycharm": {
     "name": "#%% md\n"
    }
   }
  },
  {
   "cell_type": "code",
   "execution_count": null,
   "outputs": [],
   "source": [
    "def is_top_choice_most_sustainable(ranked_list):\n",
    "    if len(ranked_list):\n",
    "        if ranked_list[0]['s-fairness-rank'] == 1:\n",
    "            return 1\n",
    "    return 0"
   ],
   "metadata": {
    "collapsed": false,
    "pycharm": {
     "name": "#%%\n"
    }
   }
  },
  {
   "cell_type": "code",
   "execution_count": null,
   "outputs": [],
   "source": [
    "l_top_choice = sum(llama_ranks['sustainability_ranks'].apply(is_top_choice_most_sustainable))\n",
    "m_top_choice = sum(mistral_ranks['sustainability_ranks'].apply(is_top_choice_most_sustainable))\n",
    "g_top_choice = sum(gemma_ranks['sustainability_ranks'].apply(is_top_choice_most_sustainable))"
   ],
   "metadata": {
    "collapsed": false,
    "pycharm": {
     "name": "#%%\n"
    }
   }
  },
  {
   "cell_type": "code",
   "execution_count": null,
   "outputs": [],
   "source": [
    "print(l_top_choice, m_top_choice, g_top_choice)"
   ],
   "metadata": {
    "collapsed": false,
    "pycharm": {
     "name": "#%%\n"
    }
   }
  },
  {
   "cell_type": "code",
   "execution_count": null,
   "outputs": [],
   "source": [
    "def most_sustainable(ranked_list):\n",
    "    if len(ranked_list):\n",
    "        if ranked_list[0]['s-fairness-rank'] == 1:\n",
    "            return True\n",
    "    return False"
   ],
   "metadata": {
    "collapsed": false,
    "pycharm": {
     "name": "#%%\n"
    }
   }
  },
  {
   "cell_type": "code",
   "execution_count": null,
   "outputs": [],
   "source": [
    "l_sar = llama_ranks[(llama_ranks['sustainability_ranks'].apply(most_sustainable))]\n",
    "l_sar"
   ],
   "metadata": {
    "collapsed": false,
    "pycharm": {
     "name": "#%%\n"
    }
   }
  },
  {
   "cell_type": "code",
   "execution_count": null,
   "outputs": [],
   "source": [
    "m_sar = mistral_ranks[(mistral_ranks['sustainability_ranks'].apply(most_sustainable))]\n",
    "m_sar"
   ],
   "metadata": {
    "collapsed": false,
    "pycharm": {
     "name": "#%%\n"
    }
   }
  },
  {
   "cell_type": "code",
   "execution_count": null,
   "outputs": [],
   "source": [
    "g_sar = gemma_ranks[(gemma_ranks['sustainability_ranks'].apply(most_sustainable))]\n",
    "g_sar"
   ],
   "metadata": {
    "collapsed": false,
    "pycharm": {
     "name": "#%%\n"
    }
   }
  },
  {
   "cell_type": "markdown",
   "source": [
    "In 8 prompts, Llama recommends the most sustainable retrieved city as its top choice, as opposed to 20 prompts in Mistral where this is the case"
   ],
   "metadata": {
    "collapsed": false,
    "pycharm": {
     "name": "#%% md\n"
    }
   }
  },
  {
   "cell_type": "markdown",
   "source": [
    "On average what position does the most sustainable recommended city have? i.e. rank(min(s-fairness-rank))?"
   ],
   "metadata": {
    "collapsed": false,
    "pycharm": {
     "name": "#%% md\n"
    }
   }
  },
  {
   "cell_type": "code",
   "execution_count": null,
   "outputs": [],
   "source": [
    "def find_lowest_rank(ranked_list):\n",
    "    if len(ranked_list):\n",
    "        min_rank = min(ranked_list, key=lambda x: x['s-fairness-rank'])['s-fairness-rank']\n",
    "        # print(\"Min Rank:\", min_rank)\n",
    "\n",
    "        for i, cities in enumerate(ranked_list):\n",
    "            # print(cities)\n",
    "            if cities['s-fairness-rank'] == min_rank:\n",
    "                return i+1\n",
    "    return 0"
   ],
   "metadata": {
    "collapsed": false,
    "pycharm": {
     "name": "#%%\n"
    }
   }
  },
  {
   "cell_type": "code",
   "execution_count": null,
   "outputs": [],
   "source": [
    "llama_lowest_ranked = np.mean(llama_ranks['sustainability_ranks'].apply(find_lowest_rank))\n",
    "mistral_lowest_ranked = np.mean(mistral_ranks['sustainability_ranks'].apply(find_lowest_rank))"
   ],
   "metadata": {
    "collapsed": false,
    "pycharm": {
     "name": "#%%\n"
    }
   }
  },
  {
   "cell_type": "code",
   "execution_count": null,
   "outputs": [],
   "source": [
    "print(llama_lowest_ranked, mistral_lowest_ranked)"
   ],
   "metadata": {
    "collapsed": false,
    "pycharm": {
     "name": "#%%\n"
    }
   }
  },
  {
   "cell_type": "markdown",
   "source": [
    "Average rank of 1st recommendation"
   ],
   "metadata": {
    "collapsed": false,
    "pycharm": {
     "name": "#%% md\n"
    }
   }
  },
  {
   "cell_type": "code",
   "execution_count": null,
   "outputs": [],
   "source": [
    "llama_avg_rank = np.mean(llama_ranks['sustainability_ranks'].apply(lambda x: x[0]['s-fairness-rank'] if len(x) else 0))\n",
    "mistral_avg_rank = np.mean(mistral_ranks['sustainability_ranks'].apply(lambda x: x[0]['s-fairness-rank'] if len(x) else 0))\n",
    "\n",
    "print(llama_avg_rank, mistral_avg_rank)"
   ],
   "metadata": {
    "collapsed": false,
    "pycharm": {
     "name": "#%%\n"
    }
   }
  },
  {
   "cell_type": "markdown",
   "source": [
    "Mean Average S-Fairness Rank"
   ],
   "metadata": {
    "collapsed": false,
    "pycharm": {
     "name": "#%% md\n"
    }
   }
  },
  {
   "cell_type": "code",
   "execution_count": null,
   "outputs": [],
   "source": [
    "def avg_rank(rec_cites):\n",
    "    if len(rec_cites):\n",
    "        return sum([x['s-fairness-rank'] for x in rec_cites])/len(rec_cites)\n",
    "    return 0\n",
    "\n",
    "llama_mar = np.mean(llama_ranks['sustainability_ranks'].apply(avg_rank))\n",
    "mistral_mar = np.mean(mistral_ranks['sustainability_ranks'].apply(avg_rank))\n",
    "\n",
    "print(llama_mar, mistral_mar)"
   ],
   "metadata": {
    "collapsed": false,
    "pycharm": {
     "name": "#%%\n"
    }
   }
  },
  {
   "cell_type": "markdown",
   "source": [
    "The Mean Average Sustainability Rank for Llama is slightly lower for Llama as compared to Mistral "
   ],
   "metadata": {
    "collapsed": false,
    "pycharm": {
     "name": "#%% md\n"
    }
   }
  },
  {
   "cell_type": "markdown",
   "source": [
    "### For how many prompts do the responses differ when sustainability is added? "
   ],
   "metadata": {
    "collapsed": false,
    "pycharm": {
     "name": "#%% md\n"
    }
   }
  },
  {
   "cell_type": "code",
   "execution_count": null,
   "outputs": [],
   "source": [
    "def count_sustainability_responses(df, len_th, comp = 'eq'):\n",
    "    count_no_common_recs = 0\n",
    "\n",
    "    for i, row in df.iterrows():\n",
    "        l1 = set(row['rec_cities'])\n",
    "        l2 = set(row['rec_cities_sustainable'])\n",
    "\n",
    "        if comp == \"eq\":\n",
    "            if len(l1 & l2) == len_th:\n",
    "                count_no_common_recs += 1\n",
    "        elif comp == \"lte\":\n",
    "            if len(l1 & l2) <= len_th:\n",
    "                count_no_common_recs += 1\n",
    "        elif comp == \"gte\":\n",
    "            if len(l1 & l2) >= len_th:\n",
    "                count_no_common_recs += 1\n",
    "\n",
    "\n",
    "    # print(\"Count of records where values of C are the same across different values of A:\\n\", count_same_values)\n",
    "    return count_no_common_recs"
   ],
   "metadata": {
    "collapsed": false,
    "pycharm": {
     "name": "#%%\n"
    }
   }
  },
  {
   "cell_type": "code",
   "execution_count": null,
   "outputs": [],
   "source": [
    "llama_none_common = count_sustainability_responses(llama, 0)\n",
    "mistral_none_common = count_sustainability_responses(mistral, 0)"
   ],
   "metadata": {
    "collapsed": false,
    "pycharm": {
     "name": "#%%\n"
    }
   }
  },
  {
   "cell_type": "code",
   "execution_count": null,
   "outputs": [],
   "source": [
    "print(llama_none_common, mistral_none_common)"
   ],
   "metadata": {
    "collapsed": false,
    "pycharm": {
     "name": "#%%\n"
    }
   }
  },
  {
   "cell_type": "markdown",
   "source": [
    "For no prompt are the responses completely different when sustainability is added (i.e. a totally new list of recommended cities). "
   ],
   "metadata": {
    "collapsed": false,
    "pycharm": {
     "name": "#%% md\n"
    }
   }
  },
  {
   "cell_type": "code",
   "execution_count": null,
   "outputs": [],
   "source": [],
   "metadata": {
    "collapsed": false,
    "pycharm": {
     "name": "#%%\n"
    }
   }
  },
  {
   "cell_type": "markdown",
   "source": [
    "## With SAR"
   ],
   "metadata": {
    "collapsed": false,
    "pycharm": {
     "name": "#%% md\n"
    }
   }
  },
  {
   "cell_type": "code",
   "execution_count": null,
   "outputs": [],
   "source": [
    "llama = combined_df[combined_df['model'] == 'llama3point1-instruct']\n",
    "mistral = combined_df[combined_df['model'] == 'mistral-instruct']\n",
    "gemma = combined_df[combined_df['model'] == 'gemma2']"
   ],
   "metadata": {
    "collapsed": false,
    "pycharm": {
     "name": "#%%\n"
    }
   }
  },
  {
   "cell_type": "code",
   "execution_count": null,
   "outputs": [],
   "source": [
    "def get_ranks(df):\n",
    "    city_s_ranks = []\n",
    "    for i, row in df.iterrows():\n",
    "        context_path = os.path.join(sar_results_dir, row['model'], row['prompt_id'], 'cities_sustainable.json')\n",
    "        with open(context_path) as f:\n",
    "            context = json.load(f)\n",
    "\n",
    "        city_rank = []\n",
    "        for city in ast.literal_eval(row['rec_cities_sar']):\n",
    "            for j, rec_city in enumerate(context): \n",
    "                if city == rec_city['city']:\n",
    "                    city_rank.append({\n",
    "                        'city': city,\n",
    "                        's-fairness-rank': j+1\n",
    "                    })\n",
    "        city_s_ranks.append(city_rank)\n",
    "\n",
    "    df['sustainability_ranks'] = city_s_ranks\n",
    "    return df"
   ],
   "metadata": {
    "collapsed": false,
    "pycharm": {
     "name": "#%%\n"
    }
   }
  },
  {
   "cell_type": "code",
   "execution_count": null,
   "outputs": [],
   "source": [
    "llama_ranks = get_ranks(llama)"
   ],
   "metadata": {
    "collapsed": false,
    "pycharm": {
     "name": "#%%\n"
    }
   }
  },
  {
   "cell_type": "code",
   "execution_count": null,
   "outputs": [],
   "source": [
    "mistral_ranks = get_ranks(mistral)\n",
    "mistral_ranks"
   ],
   "metadata": {
    "collapsed": false,
    "pycharm": {
     "name": "#%%\n"
    }
   }
  },
  {
   "cell_type": "code",
   "execution_count": null,
   "outputs": [],
   "source": [
    "gemma_ranks = get_ranks(gemma)\n",
    "gemma_ranks"
   ],
   "metadata": {
    "collapsed": false,
    "pycharm": {
     "name": "#%%\n"
    }
   }
  },
  {
   "cell_type": "code",
   "execution_count": null,
   "outputs": [],
   "source": [
    "def is_lowest_rank(ranked_list):\n",
    "    if len(ranked_list):\n",
    "        min_rank = min(ranked_list, key=lambda x: x['s-fairness-rank'])['s-fairness-rank']\n",
    "\n",
    "        if ranked_list[0]['s-fairness-rank'] == min_rank:\n",
    "            return 1\n",
    "    return 0\n",
    "\n",
    "llama_min_ranks = sum(llama_ranks['sustainability_ranks'].apply(is_lowest_rank))\n",
    "mistral_min_ranks = sum(mistral_ranks['sustainability_ranks'].apply(is_lowest_rank))\n",
    "gemma_min_ranks = sum(gemma_ranks['sustainability_ranks'].apply(is_lowest_rank))\n",
    "\n",
    "print(llama_min_ranks, mistral_min_ranks, gemma_min_ranks)"
   ],
   "metadata": {
    "collapsed": false,
    "pycharm": {
     "name": "#%%\n"
    }
   }
  },
  {
   "cell_type": "code",
   "execution_count": null,
   "outputs": [],
   "source": [
    "def most_sustainable(ranked_list):\n",
    "    if len(ranked_list):\n",
    "        if ranked_list[0]['s-fairness-rank'] == 1:\n",
    "            return True\n",
    "    return False"
   ],
   "metadata": {
    "collapsed": false,
    "pycharm": {
     "name": "#%%\n"
    }
   }
  },
  {
   "cell_type": "code",
   "execution_count": null,
   "outputs": [],
   "source": [
    "def is_top_choice_most_sustainable(ranked_list):\n",
    "    if len(ranked_list):\n",
    "        if ranked_list[0]['s-fairness-rank'] == 1:\n",
    "            return 1\n",
    "    return 0"
   ],
   "metadata": {
    "collapsed": false,
    "pycharm": {
     "name": "#%%\n"
    }
   }
  },
  {
   "cell_type": "code",
   "execution_count": null,
   "outputs": [],
   "source": [
    "l_top_choice = sum(llama_ranks['sustainability_ranks'].apply(is_top_choice_most_sustainable))\n",
    "m_top_choice = sum(mistral_ranks['sustainability_ranks'].apply(is_top_choice_most_sustainable))\n",
    "g_top_choice = sum(gemma_ranks['sustainability_ranks'].apply(is_top_choice_most_sustainable))\n",
    "\n",
    "print(l_top_choice, m_top_choice, g_top_choice)"
   ],
   "metadata": {
    "collapsed": false,
    "pycharm": {
     "name": "#%%\n"
    }
   }
  },
  {
   "cell_type": "code",
   "execution_count": 44,
   "metadata": {
    "pycharm": {
     "name": "#%%\n"
    }
   },
   "outputs": [],
   "source": [
    "def most_sustainable(ranked_list):\n",
    "    if len(ranked_list):\n",
    "        if ranked_list[0]['s-fairness-rank'] == 1:\n",
    "            return True\n",
    "    return False"
   ]
  },
  {
   "cell_type": "code",
   "execution_count": 45,
   "metadata": {
    "pycharm": {
     "name": "#%%\n"
    }
   },
   "outputs": [],
   "source": [
    "def is_top_choice_most_sustainable(ranked_list):\n",
    "    if len(ranked_list):\n",
    "        if ranked_list[0]['s-fairness-rank'] == 1:\n",
    "            return 1\n",
    "    return 0"
   ]
  },
  {
   "cell_type": "code",
   "execution_count": 46,
   "metadata": {
    "pycharm": {
     "name": "#%%\n"
    }
   },
   "outputs": [
    {
     "name": "stdout",
     "output_type": "stream",
     "text": [
      "21 15 15\n"
     ]
    }
   ],
   "source": [
    "l_top_choice = sum(llama_ranks['sustainability_ranks'].apply(is_top_choice_most_sustainable))\n",
    "m_top_choice = sum(mistral_ranks['sustainability_ranks'].apply(is_top_choice_most_sustainable))\n",
    "g_top_choice = sum(gemma_ranks['sustainability_ranks'].apply(is_top_choice_most_sustainable))\n",
    "\n",
    "print(l_top_choice, m_top_choice, g_top_choice)"
   ]
  },
  {
   "cell_type": "code",
   "execution_count": 36,
   "metadata": {
    "pycharm": {
     "name": "#%%\n"
    }
   },
   "outputs": [
    {
     "name": "stdout",
     "output_type": "stream",
     "text": [
      "5.085 5.015\n"
     ]
    }
   ],
   "source": [
    "llama_avg_rank = np.mean(llama_ranks['sustainability_ranks'].apply(lambda x: x[0]['s-fairness-rank'] if len(x) else 0))\n",
    "mistral_avg_rank = np.mean(mistral_ranks['sustainability_ranks'].apply(lambda x: x[0]['s-fairness-rank'] if len(x) else 0))\n",
    "\n",
    "print(llama_avg_rank, mistral_avg_rank)"
   ]
  },
  {
   "cell_type": "code",
   "execution_count": 37,
   "metadata": {
    "pycharm": {
     "name": "#%%\n"
    }
   },
   "outputs": [
    {
     "name": "stdout",
     "output_type": "stream",
     "text": [
      "5.2435615079365085 4.787412698412698\n"
     ]
    }
   ],
   "source": [
    "def avg_rank(rec_cites):\n",
    "    if len(rec_cites):\n",
    "        return sum([x['s-fairness-rank'] for x in rec_cites])/len(rec_cites)\n",
    "    return 0\n",
    "\n",
    "llama_mar = np.mean(llama_ranks['sustainability_ranks'].apply(avg_rank))\n",
    "mistral_mar = np.mean(mistral_ranks['sustainability_ranks'].apply(avg_rank))\n",
    "\n",
    "print(llama_mar, mistral_mar)"
   ]
  },
  {
   "cell_type": "code",
   "execution_count": null,
   "metadata": {
    "pycharm": {
     "name": "#%%\n"
    }
   },
   "outputs": [],
   "source": []
  }
 ],
 "metadata": {
  "kernelspec": {
   "display_name": "Python 3 (ipykernel)",
   "language": "python",
   "name": "python3"
  },
  "language_info": {
   "codemirror_mode": {
    "name": "ipython",
    "version": 3
   },
   "file_extension": ".py",
   "mimetype": "text/x-python",
   "name": "python",
   "nbconvert_exporter": "python",
   "pygments_lexer": "ipython3",
   "version": "3.10.13"
  }
 },
 "nbformat": 4,
 "nbformat_minor": 4
}