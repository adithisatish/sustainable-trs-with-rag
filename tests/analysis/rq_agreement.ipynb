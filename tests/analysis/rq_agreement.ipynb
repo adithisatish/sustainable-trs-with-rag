{
 "cells": [
  {
   "cell_type": "code",
   "execution_count": 1,
   "metadata": {},
   "outputs": [],
   "source": [
    "import pandas as pd \n",
    "import numpy as np \n",
    "import os \n",
    "import re\n",
    "import sys \n",
    "import ast "
   ]
  },
  {
   "cell_type": "code",
   "execution_count": 2,
   "metadata": {},
   "outputs": [],
   "source": [
    "results_dir = \"../../../european-city-data/rag-sustainability/results/results-combined_prompts/\"\n",
    "folders = os.listdir(results_dir)\n",
    "results_df = pd.read_csv(f\"{results_dir}/recommended_cities.csv\")\n",
    "\n",
    "cities_df = pd.read_csv(\"../../../european-city-data/cities/worldcities.csv\")\n",
    "cities = list(cities_df['city'])\n",
    "\n",
    "eucities_df = pd.read_csv(\"../../../european-city-data/archive/city_abstracts_embeddings.csv\")\n",
    "eu_cities = list(cities_df['city'])"
   ]
  },
  {
   "cell_type": "code",
   "execution_count": 3,
   "metadata": {},
   "outputs": [],
   "source": [
    "llama = results_df[results_df['model'] == 'llama3point1-instruct']\n",
    "mistral = results_df[results_df['model'] == 'mistral-instruct']"
   ]
  },
  {
   "cell_type": "markdown",
   "metadata": {},
   "source": [
    "### Do both models recommend the same city? In how many cases do they differ?"
   ]
  },
  {
   "cell_type": "code",
   "execution_count": 19,
   "metadata": {},
   "outputs": [],
   "source": [
    "sort_cities = lambda x: sorted(ast.literal_eval(x))\n",
    "\n",
    "df = results_df.copy(deep=True)\n",
    "df['rec_cities'] = df['rec_cities'].apply(sort_cities)\n",
    "df['rec_cities_sustainable'] = df['rec_cities_sustainable'].apply(sort_cities)\n",
    "\n",
    "def count_same_response(df):\n",
    "    count_same_values = 0\n",
    "\n",
    "    for i, row in df.iterrows():\n",
    "        l1 = sorted(row['llama3point1-instruct'])\n",
    "        l2 = sorted(row['mistral-instruct'])\n",
    "\n",
    "        if len(l1) == len(l2) and l1 == l2:\n",
    "            count_same_values += 1\n",
    "\n",
    "\n",
    "    # print(\"Count of records where values of C are the same across different values of A:\\n\", count_same_values)\n",
    "    return count_same_values\n",
    "\n",
    "\n",
    "# count_rec = count_same_response(df, 'rec_cities')\n",
    "# count_rec"
   ]
  },
  {
   "cell_type": "code",
   "execution_count": 14,
   "metadata": {},
   "outputs": [
    {
     "data": {
      "text/html": [
       "<div>\n",
       "<style scoped>\n",
       "    .dataframe tbody tr th:only-of-type {\n",
       "        vertical-align: middle;\n",
       "    }\n",
       "\n",
       "    .dataframe tbody tr th {\n",
       "        vertical-align: top;\n",
       "    }\n",
       "\n",
       "    .dataframe thead th {\n",
       "        text-align: right;\n",
       "    }\n",
       "</style>\n",
       "<table border=\"1\" class=\"dataframe\">\n",
       "  <thead>\n",
       "    <tr style=\"text-align: right;\">\n",
       "      <th>model</th>\n",
       "      <th>llama3point1-instruct</th>\n",
       "      <th>mistral-instruct</th>\n",
       "    </tr>\n",
       "    <tr>\n",
       "      <th>prompt_id</th>\n",
       "      <th></th>\n",
       "      <th></th>\n",
       "    </tr>\n",
       "  </thead>\n",
       "  <tbody>\n",
       "    <tr>\n",
       "      <th>prompt_0_gemini-1.5-pro-001</th>\n",
       "      <td>[Innsbruck]</td>\n",
       "      <td>[]</td>\n",
       "    </tr>\n",
       "    <tr>\n",
       "      <th>prompt_0_gemini-ui</th>\n",
       "      <td>[Innsbruck]</td>\n",
       "      <td>[Bergen, Kars, Kaunas, Nalchik, Plovdiv]</td>\n",
       "    </tr>\n",
       "    <tr>\n",
       "      <th>prompt_0_gpt-4o-mini</th>\n",
       "      <td>[Kaunas, Strasbourg, Thessaloniki]</td>\n",
       "      <td>[Sibiu]</td>\n",
       "    </tr>\n",
       "    <tr>\n",
       "      <th>prompt_10_gemini-1.5-pro-001</th>\n",
       "      <td>[Sarajevo]</td>\n",
       "      <td>[]</td>\n",
       "    </tr>\n",
       "    <tr>\n",
       "      <th>prompt_10_gemini-ui</th>\n",
       "      <td>[London]</td>\n",
       "      <td>[]</td>\n",
       "    </tr>\n",
       "    <tr>\n",
       "      <th>...</th>\n",
       "      <td>...</td>\n",
       "      <td>...</td>\n",
       "    </tr>\n",
       "    <tr>\n",
       "      <th>prompt_8_gemini-ui</th>\n",
       "      <td>[Milan]</td>\n",
       "      <td>[Barcelona]</td>\n",
       "    </tr>\n",
       "    <tr>\n",
       "      <th>prompt_8_gpt-4o-mini</th>\n",
       "      <td>[Bergen]</td>\n",
       "      <td>[]</td>\n",
       "    </tr>\n",
       "    <tr>\n",
       "      <th>prompt_9_gemini-1.5-pro-001</th>\n",
       "      <td>[Budapest, Luxembourg, Mykolaiv, Nicosia, Orad...</td>\n",
       "      <td>[Amsterdam, Ankara, Budapest]</td>\n",
       "    </tr>\n",
       "    <tr>\n",
       "      <th>prompt_9_gemini-ui</th>\n",
       "      <td>[Varna]</td>\n",
       "      <td>[]</td>\n",
       "    </tr>\n",
       "    <tr>\n",
       "      <th>prompt_9_gpt-4o-mini</th>\n",
       "      <td>[Innsbruck]</td>\n",
       "      <td>[Arkhangelsk, Bergen, Erzurum, Nalchik, Stavan...</td>\n",
       "    </tr>\n",
       "  </tbody>\n",
       "</table>\n",
       "<p>200 rows × 2 columns</p>\n",
       "</div>"
      ],
      "text/plain": [
       "model                                                     llama3point1-instruct  \\\n",
       "prompt_id                                                                         \n",
       "prompt_0_gemini-1.5-pro-001                                         [Innsbruck]   \n",
       "prompt_0_gemini-ui                                                  [Innsbruck]   \n",
       "prompt_0_gpt-4o-mini                         [Kaunas, Strasbourg, Thessaloniki]   \n",
       "prompt_10_gemini-1.5-pro-001                                         [Sarajevo]   \n",
       "prompt_10_gemini-ui                                                    [London]   \n",
       "...                                                                         ...   \n",
       "prompt_8_gemini-ui                                                      [Milan]   \n",
       "prompt_8_gpt-4o-mini                                                   [Bergen]   \n",
       "prompt_9_gemini-1.5-pro-001   [Budapest, Luxembourg, Mykolaiv, Nicosia, Orad...   \n",
       "prompt_9_gemini-ui                                                      [Varna]   \n",
       "prompt_9_gpt-4o-mini                                                [Innsbruck]   \n",
       "\n",
       "model                                                          mistral-instruct  \n",
       "prompt_id                                                                        \n",
       "prompt_0_gemini-1.5-pro-001                                                  []  \n",
       "prompt_0_gemini-ui                     [Bergen, Kars, Kaunas, Nalchik, Plovdiv]  \n",
       "prompt_0_gpt-4o-mini                                                    [Sibiu]  \n",
       "prompt_10_gemini-1.5-pro-001                                                 []  \n",
       "prompt_10_gemini-ui                                                          []  \n",
       "...                                                                         ...  \n",
       "prompt_8_gemini-ui                                                  [Barcelona]  \n",
       "prompt_8_gpt-4o-mini                                                         []  \n",
       "prompt_9_gemini-1.5-pro-001                       [Amsterdam, Ankara, Budapest]  \n",
       "prompt_9_gemini-ui                                                           []  \n",
       "prompt_9_gpt-4o-mini          [Arkhangelsk, Bergen, Erzurum, Nalchik, Stavan...  \n",
       "\n",
       "[200 rows x 2 columns]"
      ]
     },
     "execution_count": 14,
     "metadata": {},
     "output_type": "execute_result"
    }
   ],
   "source": [
    "pivot_table = df.pivot_table(index='prompt_id', columns='model', values='rec_cities', aggfunc=lambda x: x)\n",
    "pivot_table"
   ]
  },
  {
   "cell_type": "code",
   "execution_count": 15,
   "metadata": {},
   "outputs": [
    {
     "data": {
      "text/html": [
       "<div>\n",
       "<style scoped>\n",
       "    .dataframe tbody tr th:only-of-type {\n",
       "        vertical-align: middle;\n",
       "    }\n",
       "\n",
       "    .dataframe tbody tr th {\n",
       "        vertical-align: top;\n",
       "    }\n",
       "\n",
       "    .dataframe thead th {\n",
       "        text-align: right;\n",
       "    }\n",
       "</style>\n",
       "<table border=\"1\" class=\"dataframe\">\n",
       "  <thead>\n",
       "    <tr style=\"text-align: right;\">\n",
       "      <th>model</th>\n",
       "      <th>llama3point1-instruct</th>\n",
       "      <th>mistral-instruct</th>\n",
       "    </tr>\n",
       "    <tr>\n",
       "      <th>prompt_id</th>\n",
       "      <th></th>\n",
       "      <th></th>\n",
       "    </tr>\n",
       "  </thead>\n",
       "  <tbody>\n",
       "    <tr>\n",
       "      <th>prompt_0_gemini-1.5-pro-001</th>\n",
       "      <td>[Innsbruck]</td>\n",
       "      <td>[]</td>\n",
       "    </tr>\n",
       "    <tr>\n",
       "      <th>prompt_0_gemini-ui</th>\n",
       "      <td>[Innsbruck]</td>\n",
       "      <td>[Kars, Kaunas, Nalchik, Plovdiv]</td>\n",
       "    </tr>\n",
       "    <tr>\n",
       "      <th>prompt_0_gpt-4o-mini</th>\n",
       "      <td>[Gaziantep, Kaunas, Mykolaiv, Oradea, Sibiu, S...</td>\n",
       "      <td>[Sibiu]</td>\n",
       "    </tr>\n",
       "    <tr>\n",
       "      <th>prompt_10_gemini-1.5-pro-001</th>\n",
       "      <td>[Erzurum]</td>\n",
       "      <td>[]</td>\n",
       "    </tr>\n",
       "    <tr>\n",
       "      <th>prompt_10_gemini-ui</th>\n",
       "      <td>[London]</td>\n",
       "      <td>[]</td>\n",
       "    </tr>\n",
       "    <tr>\n",
       "      <th>...</th>\n",
       "      <td>...</td>\n",
       "      <td>...</td>\n",
       "    </tr>\n",
       "    <tr>\n",
       "      <th>prompt_8_gemini-ui</th>\n",
       "      <td>[Milan]</td>\n",
       "      <td>[Barcelona]</td>\n",
       "    </tr>\n",
       "    <tr>\n",
       "      <th>prompt_8_gpt-4o-mini</th>\n",
       "      <td>[Nalchik]</td>\n",
       "      <td>[Bergen, Craiova, Maastricht, Plovdiv, Simfero...</td>\n",
       "    </tr>\n",
       "    <tr>\n",
       "      <th>prompt_9_gemini-1.5-pro-001</th>\n",
       "      <td>[Budapest]</td>\n",
       "      <td>[]</td>\n",
       "    </tr>\n",
       "    <tr>\n",
       "      <th>prompt_9_gemini-ui</th>\n",
       "      <td>[Antalya, Burgas, Copenhagen]</td>\n",
       "      <td>[]</td>\n",
       "    </tr>\n",
       "    <tr>\n",
       "      <th>prompt_9_gpt-4o-mini</th>\n",
       "      <td>[Innsbruck]</td>\n",
       "      <td>[]</td>\n",
       "    </tr>\n",
       "  </tbody>\n",
       "</table>\n",
       "<p>200 rows × 2 columns</p>\n",
       "</div>"
      ],
      "text/plain": [
       "model                                                     llama3point1-instruct  \\\n",
       "prompt_id                                                                         \n",
       "prompt_0_gemini-1.5-pro-001                                         [Innsbruck]   \n",
       "prompt_0_gemini-ui                                                  [Innsbruck]   \n",
       "prompt_0_gpt-4o-mini          [Gaziantep, Kaunas, Mykolaiv, Oradea, Sibiu, S...   \n",
       "prompt_10_gemini-1.5-pro-001                                          [Erzurum]   \n",
       "prompt_10_gemini-ui                                                    [London]   \n",
       "...                                                                         ...   \n",
       "prompt_8_gemini-ui                                                      [Milan]   \n",
       "prompt_8_gpt-4o-mini                                                  [Nalchik]   \n",
       "prompt_9_gemini-1.5-pro-001                                          [Budapest]   \n",
       "prompt_9_gemini-ui                                [Antalya, Burgas, Copenhagen]   \n",
       "prompt_9_gpt-4o-mini                                                [Innsbruck]   \n",
       "\n",
       "model                                                          mistral-instruct  \n",
       "prompt_id                                                                        \n",
       "prompt_0_gemini-1.5-pro-001                                                  []  \n",
       "prompt_0_gemini-ui                             [Kars, Kaunas, Nalchik, Plovdiv]  \n",
       "prompt_0_gpt-4o-mini                                                    [Sibiu]  \n",
       "prompt_10_gemini-1.5-pro-001                                                 []  \n",
       "prompt_10_gemini-ui                                                          []  \n",
       "...                                                                         ...  \n",
       "prompt_8_gemini-ui                                                  [Barcelona]  \n",
       "prompt_8_gpt-4o-mini          [Bergen, Craiova, Maastricht, Plovdiv, Simfero...  \n",
       "prompt_9_gemini-1.5-pro-001                                                  []  \n",
       "prompt_9_gemini-ui                                                           []  \n",
       "prompt_9_gpt-4o-mini                                                         []  \n",
       "\n",
       "[200 rows x 2 columns]"
      ]
     },
     "execution_count": 15,
     "metadata": {},
     "output_type": "execute_result"
    }
   ],
   "source": [
    "pivot_table_sus = df.pivot_table(index='prompt_id', columns='model', values='rec_cities_sustainable', aggfunc=lambda x: x)\n",
    "pivot_table_sus"
   ]
  },
  {
   "cell_type": "code",
   "execution_count": 20,
   "metadata": {},
   "outputs": [],
   "source": [
    "count_non_sus = count_same_response(pivot_table)"
   ]
  },
  {
   "cell_type": "code",
   "execution_count": 21,
   "metadata": {},
   "outputs": [],
   "source": [
    "count_sus = count_same_response(pivot_table_sus)"
   ]
  },
  {
   "cell_type": "code",
   "execution_count": 22,
   "metadata": {},
   "outputs": [
    {
     "data": {
      "text/plain": [
       "8"
      ]
     },
     "execution_count": 22,
     "metadata": {},
     "output_type": "execute_result"
    }
   ],
   "source": [
    "count_non_sus"
   ]
  },
  {
   "cell_type": "code",
   "execution_count": 23,
   "metadata": {},
   "outputs": [
    {
     "data": {
      "text/plain": [
       "12"
      ]
     },
     "execution_count": 23,
     "metadata": {},
     "output_type": "execute_result"
    }
   ],
   "source": [
    "count_sus"
   ]
  },
  {
   "cell_type": "markdown",
   "metadata": {},
   "source": [
    "The models rarely agree with their responses. Providing sustainability information does increase the model agreement, albeit marginally, perhaps because of the additional constraint placed on the models to consider the S-Fairness score. WHY??"
   ]
  },
  {
   "cell_type": "markdown",
   "metadata": {},
   "source": [
    "### How many prompt responses have atleast one city in common between Llama and Mistral?"
   ]
  },
  {
   "cell_type": "code",
   "execution_count": 24,
   "metadata": {},
   "outputs": [],
   "source": [
    "def count_atleast_one_common_city(df):\n",
    "    count_same_values = 0\n",
    "\n",
    "    for i, row in df.iterrows():\n",
    "        l1 = set(row['llama3point1-instruct'])\n",
    "        l2 = set(row['mistral-instruct'])\n",
    "\n",
    "        if len(l1 & l2):\n",
    "            count_same_values += 1\n",
    "\n",
    "\n",
    "    # print(\"Count of records where values of C are the same across different values of A:\\n\", count_same_values)\n",
    "    return count_same_values"
   ]
  },
  {
   "cell_type": "code",
   "execution_count": 25,
   "metadata": {},
   "outputs": [
    {
     "name": "stdout",
     "output_type": "stream",
     "text": [
      "63 66\n"
     ]
    }
   ],
   "source": [
    "one_common = count_atleast_one_common_city(pivot_table)\n",
    "one_common_sus = count_atleast_one_common_city(pivot_table_sus)\n",
    "\n",
    "print(one_common, one_common_sus)"
   ]
  },
  {
   "cell_type": "markdown",
   "metadata": {},
   "source": [
    "Checking if both models predict atleast one common city fares much better, with both models agreeing approximately 33% of the time"
   ]
  },
  {
   "cell_type": "code",
   "execution_count": null,
   "metadata": {},
   "outputs": [],
   "source": []
  }
 ],
 "metadata": {
  "kernelspec": {
   "display_name": ".env",
   "language": "python",
   "name": "python3"
  },
  "language_info": {
   "codemirror_mode": {
    "name": "ipython",
    "version": 3
   },
   "file_extension": ".py",
   "mimetype": "text/x-python",
   "name": "python",
   "nbconvert_exporter": "python",
   "pygments_lexer": "ipython3",
   "version": "3.9.6"
  }
 },
 "nbformat": 4,
 "nbformat_minor": 2
}
