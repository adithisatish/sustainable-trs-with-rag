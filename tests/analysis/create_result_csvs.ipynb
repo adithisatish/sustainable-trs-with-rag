{
 "cells": [
  {
   "cell_type": "code",
   "execution_count": 1,
   "metadata": {},
   "outputs": [],
   "source": [
    "import pandas as pd \n",
    "import numpy as np \n",
    "import os \n",
    "import re\n",
    "import sys "
   ]
  },
  {
   "cell_type": "code",
   "execution_count": 2,
   "metadata": {},
   "outputs": [],
   "source": [
    "results_dir = \"../results/results-06.08./\"\n",
    "folders = os.listdir(results_dir)"
   ]
  },
  {
   "cell_type": "code",
   "execution_count": 14,
   "metadata": {},
   "outputs": [],
   "source": [
    "cities_df = pd.read_csv(\"../../city_abstracts_embeddings.csv\")\n",
    "cities = cities_df['city']"
   ]
  },
  {
   "cell_type": "code",
   "execution_count": 41,
   "metadata": {},
   "outputs": [],
   "source": [
    "def extract_city(text):\n",
    "    # Define the regex pattern to find the city name right after \"I recommend\"\n",
    "    pattern = r'I recommend\\s+(?:visiting\\s+)?(?:the city of\\s+)?(\\w+)'\n",
    "    match = re.search(pattern, text)\n",
    "    \n",
    "    # If a match is found, return the captured group\n",
    "    if match:\n",
    "        return match.group(1)\n",
    "    else:\n",
    "        return None\n",
    "    \n",
    "def extract_first_list_item(text):\n",
    "    # Define the regex pattern to find the first item in a numbered list\n",
    "    pattern = r'\\b1\\.\\s+([^0-9]+)(?=\\s*\\b[2-9]\\.)(\\w+)'\n",
    "    \n",
    "    # Search for the pattern in the text\n",
    "    match = re.search(pattern, text, re.DOTALL)\n",
    "    \n",
    "    # If a match is found, return the captured group\n",
    "    if match:\n",
    "        first_item = match.group(1).strip()\n",
    "        cleaned_item = re.sub(r'[^a-zA-Z\\s]', '', first_item)\n",
    "        cleaned_item = cleaned_item.strip().split(\" \")[0]\n",
    "        # return cleaned_item\n",
    "        if cleaned_item in cities:\n",
    "            return cleaned_item\n",
    "    else:\n",
    "        return None\n",
    "    \n",
    "def find_first_city(paragraph):\n",
    "    # Create a regex pattern to match any city in the list\n",
    "    city_pattern = r'\\b(' + '|'.join(re.escape(city) for city in cities) + r')\\b'\n",
    "    \n",
    "    # Search for the pattern in the paragraph\n",
    "    match = re.search(city_pattern, paragraph, re.IGNORECASE)\n",
    "    \n",
    "    # If a match is found, return the matched city name\n",
    "    if match:\n",
    "        return match.group(1)\n",
    "    else:\n",
    "        return None\n",
    "\n",
    "results_dict = []\n",
    "\n",
    "for model in folders:\n",
    "    for prompt in os.listdir(os.path.join(results_dir, model)):\n",
    "        \n",
    "        with open(os.path.join(results_dir, model, prompt, \"response.txt\")) as f:\n",
    "            response = f.read()\n",
    "        \n",
    "        with open(os.path.join(results_dir, model, prompt, \"response_sustainable.txt\")) as f:\n",
    "            response_sustainable = f.read()\n",
    "\n",
    "        city = extract_city(response)\n",
    "\n",
    "        if city is None or city not in cities:\n",
    "            # print(model, prompt)\n",
    "            city = extract_first_list_item(response)\n",
    "\n",
    "            if city is None or city not in cities:\n",
    "                city = find_first_city(response)\n",
    "\n",
    "        city_sustainable = extract_city(response_sustainable)\n",
    "\n",
    "        if city_sustainable is None or city_sustainable not in cities:\n",
    "            city_sustainable = extract_first_list_item(response_sustainable)\n",
    "\n",
    "            if city_sustainable is None or city_sustainable not in cities:\n",
    "                city_sustainable = find_first_city(response_sustainable)\n",
    "\n",
    "        results_dict.append({\n",
    "            'model': model, \n",
    "            'prompt_id': prompt.split(\"_\")[1],\n",
    "            'rec_city': city, \n",
    "            'rec_city_sustainable': city_sustainable\n",
    "        })\n",
    "        \n",
    "results_df = pd.DataFrame(results_dict)"
   ]
  },
  {
   "cell_type": "code",
   "execution_count": 42,
   "metadata": {},
   "outputs": [
    {
     "data": {
      "text/html": [
       "<div>\n",
       "<style scoped>\n",
       "    .dataframe tbody tr th:only-of-type {\n",
       "        vertical-align: middle;\n",
       "    }\n",
       "\n",
       "    .dataframe tbody tr th {\n",
       "        vertical-align: top;\n",
       "    }\n",
       "\n",
       "    .dataframe thead th {\n",
       "        text-align: right;\n",
       "    }\n",
       "</style>\n",
       "<table border=\"1\" class=\"dataframe\">\n",
       "  <thead>\n",
       "    <tr style=\"text-align: right;\">\n",
       "      <th></th>\n",
       "      <th>model</th>\n",
       "      <th>prompt_id</th>\n",
       "      <th>rec_city</th>\n",
       "      <th>rec_city_sustainable</th>\n",
       "    </tr>\n",
       "  </thead>\n",
       "  <tbody>\n",
       "    <tr>\n",
       "      <th>0</th>\n",
       "      <td>llama3point1-instruct</td>\n",
       "      <td>45</td>\n",
       "      <td>Strasbourg</td>\n",
       "      <td>Strasbourg</td>\n",
       "    </tr>\n",
       "    <tr>\n",
       "      <th>1</th>\n",
       "      <td>llama3point1-instruct</td>\n",
       "      <td>42</td>\n",
       "      <td>Klagenfurt</td>\n",
       "      <td>Klagenfurt</td>\n",
       "    </tr>\n",
       "    <tr>\n",
       "      <th>2</th>\n",
       "      <td>llama3point1-instruct</td>\n",
       "      <td>18</td>\n",
       "      <td>Strasbourg</td>\n",
       "      <td>Vienna</td>\n",
       "    </tr>\n",
       "    <tr>\n",
       "      <th>3</th>\n",
       "      <td>llama3point1-instruct</td>\n",
       "      <td>27</td>\n",
       "      <td>Innsbruck</td>\n",
       "      <td>Klagenfurt</td>\n",
       "    </tr>\n",
       "    <tr>\n",
       "      <th>4</th>\n",
       "      <td>llama3point1-instruct</td>\n",
       "      <td>20</td>\n",
       "      <td>Tbilisi</td>\n",
       "      <td>Bursa</td>\n",
       "    </tr>\n",
       "  </tbody>\n",
       "</table>\n",
       "</div>"
      ],
      "text/plain": [
       "                   model prompt_id    rec_city rec_city_sustainable\n",
       "0  llama3point1-instruct        45  Strasbourg           Strasbourg\n",
       "1  llama3point1-instruct        42  Klagenfurt           Klagenfurt\n",
       "2  llama3point1-instruct        18  Strasbourg               Vienna\n",
       "3  llama3point1-instruct        27   Innsbruck           Klagenfurt\n",
       "4  llama3point1-instruct        20     Tbilisi                Bursa"
      ]
     },
     "execution_count": 42,
     "metadata": {},
     "output_type": "execute_result"
    }
   ],
   "source": [
    "results_df.head(5)"
   ]
  },
  {
   "cell_type": "code",
   "execution_count": 43,
   "metadata": {},
   "outputs": [],
   "source": [
    "results_df.to_csv(os.path.join(results_dir, \"recommended_cities.csv\"))"
   ]
  },
  {
   "cell_type": "code",
   "execution_count": 44,
   "metadata": {},
   "outputs": [
    {
     "data": {
      "text/plain": [
       "False"
      ]
     },
     "execution_count": 44,
     "metadata": {},
     "output_type": "execute_result"
    }
   ],
   "source": [
    "\"Venice\" in cities"
   ]
  },
  {
   "cell_type": "code",
   "execution_count": null,
   "metadata": {},
   "outputs": [],
   "source": []
  }
 ],
 "metadata": {
  "kernelspec": {
   "display_name": ".env",
   "language": "python",
   "name": "python3"
  },
  "language_info": {
   "codemirror_mode": {
    "name": "ipython",
    "version": 3
   },
   "file_extension": ".py",
   "mimetype": "text/x-python",
   "name": "python",
   "nbconvert_exporter": "python",
   "pygments_lexer": "ipython3",
   "version": "3.9.6"
  }
 },
 "nbformat": 4,
 "nbformat_minor": 2
}
