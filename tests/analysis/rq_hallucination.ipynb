{
 "cells": [
  {
   "cell_type": "code",
   "execution_count": 1,
   "metadata": {},
   "outputs": [],
   "source": [
    "import pandas as pd \n",
    "import numpy as np \n",
    "import os \n",
    "import re\n",
    "import sys \n",
    "import ast "
   ]
  },
  {
   "cell_type": "code",
   "execution_count": 5,
   "metadata": {},
   "outputs": [],
   "source": [
    "results_dir = \"../../european-city-data/rag-sustainability/results/results-combined_prompts/\"\n",
    "folders = os.listdir(results_dir)\n",
    "results_df = pd.read_csv(f\"{results_dir}/recommended_cities_gemma.csv\")\n",
    "sim_df = pd.read_csv(f\"{results_dir}/context_response_similarity_scores.csv\")\n",
    "\n",
    "cities_df = pd.read_csv(\"../../european-city-data/cities/worldcities.csv\")\n",
    "cities = list(cities_df['city'])\n",
    "\n",
    "eucities_df = pd.read_csv(\"../../european-city-data/archive/city_abstracts_embeddings.csv\")\n",
    "eu_cities = list(cities_df['city'])\n",
    "\n",
    "sar_results_dir = \"../../european-city-data/rag-sustainability/results/results-combined_prompts_SAR/\"\n",
    "sar_results = pd.read_csv(f\"{sar_results_dir}/recommended_cities_sar_gemma.csv\")\n",
    "\n",
    "sim_sar = pd.read_csv(f\"{sar_results_dir}/context_response_similarity_scores.csv\")"
   ]
  },
  {
   "cell_type": "code",
   "execution_count": 6,
   "metadata": {},
   "outputs": [
    {
     "data": {
      "text/html": [
       "<div>\n",
       "<style scoped>\n",
       "    .dataframe tbody tr th:only-of-type {\n",
       "        vertical-align: middle;\n",
       "    }\n",
       "\n",
       "    .dataframe tbody tr th {\n",
       "        vertical-align: top;\n",
       "    }\n",
       "\n",
       "    .dataframe thead th {\n",
       "        text-align: right;\n",
       "    }\n",
       "</style>\n",
       "<table border=\"1\" class=\"dataframe\">\n",
       "  <thead>\n",
       "    <tr style=\"text-align: right;\">\n",
       "      <th></th>\n",
       "      <th>model</th>\n",
       "      <th>prompt_id</th>\n",
       "      <th>rec_cities</th>\n",
       "      <th>response</th>\n",
       "      <th>rec_cities_sar</th>\n",
       "      <th>response_sar</th>\n",
       "    </tr>\n",
       "  </thead>\n",
       "  <tbody>\n",
       "    <tr>\n",
       "      <th>0</th>\n",
       "      <td>gemma2</td>\n",
       "      <td>prompt_17_gemini-ui</td>\n",
       "      <td>['Gaziantep', 'Konya']</td>\n",
       "      <td>It seems you've provided information about two...</td>\n",
       "      <td>['Gaziantep', 'Konya']</td>\n",
       "      <td>The text you provided gives information about ...</td>\n",
       "    </tr>\n",
       "    <tr>\n",
       "      <th>1</th>\n",
       "      <td>gemma2</td>\n",
       "      <td>prompt_27_gemini-1.5-pro-001</td>\n",
       "      <td>['Coimbra', 'Varna']</td>\n",
       "      <td>It looks like you've provided information abou...</td>\n",
       "      <td>['Coimbra', 'Varna']</td>\n",
       "      <td>Let's break down how to structure this informa...</td>\n",
       "    </tr>\n",
       "    <tr>\n",
       "      <th>2</th>\n",
       "      <td>gemma2</td>\n",
       "      <td>prompt_42_gpt-4o-mini</td>\n",
       "      <td>['Amsterdam']</td>\n",
       "      <td>The provided text gives a list of events happe...</td>\n",
       "      <td>['Amsterdam']</td>\n",
       "      <td>The provided text outlines a list of events ha...</td>\n",
       "    </tr>\n",
       "    <tr>\n",
       "      <th>3</th>\n",
       "      <td>gemma2</td>\n",
       "      <td>prompt_0_gpt-4o-mini</td>\n",
       "      <td>['Strasbourg']</td>\n",
       "      <td>It seems like you're providing text snippets a...</td>\n",
       "      <td>['Strasbourg']</td>\n",
       "      <td>Let's break down how to structure this informa...</td>\n",
       "    </tr>\n",
       "    <tr>\n",
       "      <th>4</th>\n",
       "      <td>gemma2</td>\n",
       "      <td>prompt_44_gemini-1.5-pro-001</td>\n",
       "      <td>['Prague']</td>\n",
       "      <td>It looks like you've provided information abou...</td>\n",
       "      <td>['Prague']</td>\n",
       "      <td>This data looks like a collection of tourist a...</td>\n",
       "    </tr>\n",
       "  </tbody>\n",
       "</table>\n",
       "</div>"
      ],
      "text/plain": [
       "    model                     prompt_id              rec_cities  \\\n",
       "0  gemma2           prompt_17_gemini-ui  ['Gaziantep', 'Konya']   \n",
       "1  gemma2  prompt_27_gemini-1.5-pro-001    ['Coimbra', 'Varna']   \n",
       "2  gemma2         prompt_42_gpt-4o-mini           ['Amsterdam']   \n",
       "3  gemma2          prompt_0_gpt-4o-mini          ['Strasbourg']   \n",
       "4  gemma2  prompt_44_gemini-1.5-pro-001              ['Prague']   \n",
       "\n",
       "                                            response          rec_cities_sar  \\\n",
       "0  It seems you've provided information about two...  ['Gaziantep', 'Konya']   \n",
       "1  It looks like you've provided information abou...    ['Coimbra', 'Varna']   \n",
       "2  The provided text gives a list of events happe...           ['Amsterdam']   \n",
       "3  It seems like you're providing text snippets a...          ['Strasbourg']   \n",
       "4  It looks like you've provided information abou...              ['Prague']   \n",
       "\n",
       "                                        response_sar  \n",
       "0  The text you provided gives information about ...  \n",
       "1  Let's break down how to structure this informa...  \n",
       "2  The provided text outlines a list of events ha...  \n",
       "3  Let's break down how to structure this informa...  \n",
       "4  This data looks like a collection of tourist a...  "
      ]
     },
     "execution_count": 6,
     "metadata": {},
     "output_type": "execute_result"
    }
   ],
   "source": [
    "combined_df = pd.merge(\n",
    "    left=results_df, \n",
    "    right=sar_results,\n",
    "    how='left',\n",
    "    left_on=['model', 'prompt_id'],\n",
    "    right_on=['model', 'prompt_id'],\n",
    ")\n",
    "combined_df.head()"
   ]
  },
  {
   "cell_type": "code",
   "execution_count": 7,
   "metadata": {},
   "outputs": [
    {
     "data": {
      "text/html": [
       "<div>\n",
       "<style scoped>\n",
       "    .dataframe tbody tr th:only-of-type {\n",
       "        vertical-align: middle;\n",
       "    }\n",
       "\n",
       "    .dataframe tbody tr th {\n",
       "        vertical-align: top;\n",
       "    }\n",
       "\n",
       "    .dataframe thead th {\n",
       "        text-align: right;\n",
       "    }\n",
       "</style>\n",
       "<table border=\"1\" class=\"dataframe\">\n",
       "  <thead>\n",
       "    <tr style=\"text-align: right;\">\n",
       "      <th></th>\n",
       "      <th>model</th>\n",
       "      <th>prompt_id</th>\n",
       "      <th>rec_cities</th>\n",
       "      <th>response</th>\n",
       "    </tr>\n",
       "  </thead>\n",
       "  <tbody>\n",
       "    <tr>\n",
       "      <th>0</th>\n",
       "      <td>gemma2</td>\n",
       "      <td>prompt_17_gemini-ui</td>\n",
       "      <td>['Gaziantep', 'Konya']</td>\n",
       "      <td>It seems you've provided information about two...</td>\n",
       "    </tr>\n",
       "    <tr>\n",
       "      <th>1</th>\n",
       "      <td>gemma2</td>\n",
       "      <td>prompt_27_gemini-1.5-pro-001</td>\n",
       "      <td>['Coimbra', 'Varna']</td>\n",
       "      <td>It looks like you've provided information abou...</td>\n",
       "    </tr>\n",
       "    <tr>\n",
       "      <th>2</th>\n",
       "      <td>gemma2</td>\n",
       "      <td>prompt_42_gpt-4o-mini</td>\n",
       "      <td>['Amsterdam']</td>\n",
       "      <td>The provided text gives a list of events happe...</td>\n",
       "    </tr>\n",
       "    <tr>\n",
       "      <th>3</th>\n",
       "      <td>gemma2</td>\n",
       "      <td>prompt_0_gpt-4o-mini</td>\n",
       "      <td>['Strasbourg']</td>\n",
       "      <td>It seems like you're providing text snippets a...</td>\n",
       "    </tr>\n",
       "    <tr>\n",
       "      <th>4</th>\n",
       "      <td>gemma2</td>\n",
       "      <td>prompt_44_gemini-1.5-pro-001</td>\n",
       "      <td>['Prague']</td>\n",
       "      <td>It looks like you've provided information abou...</td>\n",
       "    </tr>\n",
       "  </tbody>\n",
       "</table>\n",
       "</div>"
      ],
      "text/plain": [
       "    model                     prompt_id              rec_cities  \\\n",
       "0  gemma2           prompt_17_gemini-ui  ['Gaziantep', 'Konya']   \n",
       "1  gemma2  prompt_27_gemini-1.5-pro-001    ['Coimbra', 'Varna']   \n",
       "2  gemma2         prompt_42_gpt-4o-mini           ['Amsterdam']   \n",
       "3  gemma2          prompt_0_gpt-4o-mini          ['Strasbourg']   \n",
       "4  gemma2  prompt_44_gemini-1.5-pro-001              ['Prague']   \n",
       "\n",
       "                                            response  \n",
       "0  It seems you've provided information about two...  \n",
       "1  It looks like you've provided information abou...  \n",
       "2  The provided text gives a list of events happe...  \n",
       "3  It seems like you're providing text snippets a...  \n",
       "4  It looks like you've provided information abou...  "
      ]
     },
     "execution_count": 7,
     "metadata": {},
     "output_type": "execute_result"
    }
   ],
   "source": [
    "results_df.head()"
   ]
  },
  {
   "cell_type": "code",
   "execution_count": 13,
   "metadata": {},
   "outputs": [
    {
     "data": {
      "text/html": [
       "<div>\n",
       "<style scoped>\n",
       "    .dataframe tbody tr th:only-of-type {\n",
       "        vertical-align: middle;\n",
       "    }\n",
       "\n",
       "    .dataframe tbody tr th {\n",
       "        vertical-align: top;\n",
       "    }\n",
       "\n",
       "    .dataframe thead th {\n",
       "        text-align: right;\n",
       "    }\n",
       "</style>\n",
       "<table border=\"1\" class=\"dataframe\">\n",
       "  <thead>\n",
       "    <tr style=\"text-align: right;\">\n",
       "      <th></th>\n",
       "      <th>model</th>\n",
       "      <th>prompt_id</th>\n",
       "      <th>rec_cities</th>\n",
       "      <th>response</th>\n",
       "      <th>rec_cities_sar</th>\n",
       "      <th>response_sar</th>\n",
       "    </tr>\n",
       "  </thead>\n",
       "  <tbody>\n",
       "    <tr>\n",
       "      <th>200</th>\n",
       "      <td>llama3point1-instruct</td>\n",
       "      <td>prompt_17_gemini-ui</td>\n",
       "      <td>['Kaunas']</td>\n",
       "      <td>I recommend Kaunas in Lithuania for your expe...</td>\n",
       "      <td>['Kaunas', 'Sibiu']</td>\n",
       "      <td>I recommend Kaunas and Sibiu. I recommend the...</td>\n",
       "    </tr>\n",
       "    <tr>\n",
       "      <th>201</th>\n",
       "      <td>llama3point1-instruct</td>\n",
       "      <td>prompt_27_gemini-1.5-pro-001</td>\n",
       "      <td>['Copenhagen']</td>\n",
       "      <td>I recommend Copenhagen, Denmark because it is...</td>\n",
       "      <td>['Kahramanmaras', 'Nevsehir']</td>\n",
       "      <td>I recommend Baia Mare, Kahramanmaras, and Nev...</td>\n",
       "    </tr>\n",
       "    <tr>\n",
       "      <th>202</th>\n",
       "      <td>llama3point1-instruct</td>\n",
       "      <td>prompt_42_gpt-4o-mini</td>\n",
       "      <td>['Amsterdam']</td>\n",
       "      <td>I recommend Amsterdam, Netherlands. Amsterdam...</td>\n",
       "      <td>['Nalchik', 'Arkhangelsk', 'Amsterdam']</td>\n",
       "      <td>I recommend Nalchik, Arkhangelsk, and Amsterd...</td>\n",
       "    </tr>\n",
       "    <tr>\n",
       "      <th>203</th>\n",
       "      <td>llama3point1-instruct</td>\n",
       "      <td>prompt_0_gpt-4o-mini</td>\n",
       "      <td>['Kaunas', 'Thessaloniki', 'Strasbourg']</td>\n",
       "      <td>I recommend Kaunas, Lithuania. I recommend Ka...</td>\n",
       "      <td>['Kaunas', 'Oradea', 'Sibiu']</td>\n",
       "      <td>I recommend Kaunas, Oradea, and Sibiu. I reco...</td>\n",
       "    </tr>\n",
       "    <tr>\n",
       "      <th>204</th>\n",
       "      <td>llama3point1-instruct</td>\n",
       "      <td>prompt_44_gemini-1.5-pro-001</td>\n",
       "      <td>['Kaunas']</td>\n",
       "      <td>I recommend Kaunas for your medieval history ...</td>\n",
       "      <td>['Kaunas', 'Rennes', 'Copenhagen']</td>\n",
       "      <td>I recommend Kaunas, Rennes, and Copenhagen fo...</td>\n",
       "    </tr>\n",
       "    <tr>\n",
       "      <th>...</th>\n",
       "      <td>...</td>\n",
       "      <td>...</td>\n",
       "      <td>...</td>\n",
       "      <td>...</td>\n",
       "      <td>...</td>\n",
       "      <td>...</td>\n",
       "    </tr>\n",
       "    <tr>\n",
       "      <th>395</th>\n",
       "      <td>llama3point1-instruct</td>\n",
       "      <td>prompt_29_gpt-4o-mini</td>\n",
       "      <td>['Innsbruck']</td>\n",
       "      <td>I recommend Innsbruck, Austria. Innsbruck is ...</td>\n",
       "      <td>['Innsbruck', 'Strasbourg']</td>\n",
       "      <td>I recommend Innsbruck and Strasbourg because ...</td>\n",
       "    </tr>\n",
       "    <tr>\n",
       "      <th>396</th>\n",
       "      <td>llama3point1-instruct</td>\n",
       "      <td>prompt_44_gemini-ui</td>\n",
       "      <td>['Stavanger']</td>\n",
       "      <td>I recommend Stavanger, Norway, because it off...</td>\n",
       "      <td>['Nalchik', 'Kaunas', 'Stavanger', 'Erzurum', ...</td>\n",
       "      <td>I recommend Nalchik, Kaunas, and Stavanger. I...</td>\n",
       "    </tr>\n",
       "    <tr>\n",
       "      <th>397</th>\n",
       "      <td>llama3point1-instruct</td>\n",
       "      <td>prompt_59_gpt-4o-mini</td>\n",
       "      <td>['Munich', 'Thessaloniki', 'Arkhangelsk', 'Gaz...</td>\n",
       "      <td>I recommend Munich, Germany for its vibrant a...</td>\n",
       "      <td>['Oradea', 'Gaziantep', 'Varna']</td>\n",
       "      <td>I recommend Oradea, Gaziantep, and Varna. I r...</td>\n",
       "    </tr>\n",
       "    <tr>\n",
       "      <th>398</th>\n",
       "      <td>llama3point1-instruct</td>\n",
       "      <td>prompt_50_gemini-ui</td>\n",
       "      <td>['Varna', 'Tallinn', 'London', 'Cork', 'Innsbr...</td>\n",
       "      <td>I recommend Varna, Bulgaria for your weekend ...</td>\n",
       "      <td>['Tallinn', 'Cork']</td>\n",
       "      <td>I recommend Tallinn, Baia Mare, and Cork. I r...</td>\n",
       "    </tr>\n",
       "    <tr>\n",
       "      <th>399</th>\n",
       "      <td>llama3point1-instruct</td>\n",
       "      <td>prompt_77_gpt-4o-mini</td>\n",
       "      <td>['Innsbruck', 'Kaunas', 'Stavanger', 'Bergen']</td>\n",
       "      <td>I recommend Innsbruck and why you recommended...</td>\n",
       "      <td>['Innsbruck', 'Erzurum', 'Kaunas', 'Isparta']</td>\n",
       "      <td>I recommend Innsbruck, Erzurum, and Kaunas fo...</td>\n",
       "    </tr>\n",
       "  </tbody>\n",
       "</table>\n",
       "<p>200 rows × 6 columns</p>\n",
       "</div>"
      ],
      "text/plain": [
       "                     model                     prompt_id  \\\n",
       "200  llama3point1-instruct           prompt_17_gemini-ui   \n",
       "201  llama3point1-instruct  prompt_27_gemini-1.5-pro-001   \n",
       "202  llama3point1-instruct         prompt_42_gpt-4o-mini   \n",
       "203  llama3point1-instruct          prompt_0_gpt-4o-mini   \n",
       "204  llama3point1-instruct  prompt_44_gemini-1.5-pro-001   \n",
       "..                     ...                           ...   \n",
       "395  llama3point1-instruct         prompt_29_gpt-4o-mini   \n",
       "396  llama3point1-instruct           prompt_44_gemini-ui   \n",
       "397  llama3point1-instruct         prompt_59_gpt-4o-mini   \n",
       "398  llama3point1-instruct           prompt_50_gemini-ui   \n",
       "399  llama3point1-instruct         prompt_77_gpt-4o-mini   \n",
       "\n",
       "                                            rec_cities  \\\n",
       "200                                         ['Kaunas']   \n",
       "201                                     ['Copenhagen']   \n",
       "202                                      ['Amsterdam']   \n",
       "203           ['Kaunas', 'Thessaloniki', 'Strasbourg']   \n",
       "204                                         ['Kaunas']   \n",
       "..                                                 ...   \n",
       "395                                      ['Innsbruck']   \n",
       "396                                      ['Stavanger']   \n",
       "397  ['Munich', 'Thessaloniki', 'Arkhangelsk', 'Gaz...   \n",
       "398  ['Varna', 'Tallinn', 'London', 'Cork', 'Innsbr...   \n",
       "399     ['Innsbruck', 'Kaunas', 'Stavanger', 'Bergen']   \n",
       "\n",
       "                                              response  \\\n",
       "200   I recommend Kaunas in Lithuania for your expe...   \n",
       "201   I recommend Copenhagen, Denmark because it is...   \n",
       "202   I recommend Amsterdam, Netherlands. Amsterdam...   \n",
       "203   I recommend Kaunas, Lithuania. I recommend Ka...   \n",
       "204   I recommend Kaunas for your medieval history ...   \n",
       "..                                                 ...   \n",
       "395   I recommend Innsbruck, Austria. Innsbruck is ...   \n",
       "396   I recommend Stavanger, Norway, because it off...   \n",
       "397   I recommend Munich, Germany for its vibrant a...   \n",
       "398   I recommend Varna, Bulgaria for your weekend ...   \n",
       "399   I recommend Innsbruck and why you recommended...   \n",
       "\n",
       "                                        rec_cities_sar  \\\n",
       "200                                ['Kaunas', 'Sibiu']   \n",
       "201                      ['Kahramanmaras', 'Nevsehir']   \n",
       "202            ['Nalchik', 'Arkhangelsk', 'Amsterdam']   \n",
       "203                      ['Kaunas', 'Oradea', 'Sibiu']   \n",
       "204                 ['Kaunas', 'Rennes', 'Copenhagen']   \n",
       "..                                                 ...   \n",
       "395                        ['Innsbruck', 'Strasbourg']   \n",
       "396  ['Nalchik', 'Kaunas', 'Stavanger', 'Erzurum', ...   \n",
       "397                   ['Oradea', 'Gaziantep', 'Varna']   \n",
       "398                                ['Tallinn', 'Cork']   \n",
       "399      ['Innsbruck', 'Erzurum', 'Kaunas', 'Isparta']   \n",
       "\n",
       "                                          response_sar  \n",
       "200   I recommend Kaunas and Sibiu. I recommend the...  \n",
       "201   I recommend Baia Mare, Kahramanmaras, and Nev...  \n",
       "202   I recommend Nalchik, Arkhangelsk, and Amsterd...  \n",
       "203   I recommend Kaunas, Oradea, and Sibiu. I reco...  \n",
       "204   I recommend Kaunas, Rennes, and Copenhagen fo...  \n",
       "..                                                 ...  \n",
       "395   I recommend Innsbruck and Strasbourg because ...  \n",
       "396   I recommend Nalchik, Kaunas, and Stavanger. I...  \n",
       "397   I recommend Oradea, Gaziantep, and Varna. I r...  \n",
       "398   I recommend Tallinn, Baia Mare, and Cork. I r...  \n",
       "399   I recommend Innsbruck, Erzurum, and Kaunas fo...  \n",
       "\n",
       "[200 rows x 6 columns]"
      ]
     },
     "execution_count": 13,
     "metadata": {},
     "output_type": "execute_result"
    }
   ],
   "source": [
    "# Compute the average number of cities from our database that have been recommended by each model \n",
    "\n",
    "llama = combined_df[combined_df['model'] == 'llama3point1-instruct']\n",
    "mistral = combined_df[combined_df['model'] == 'mistral-instruct']\n",
    "gemma = combined_df[combined_df['model'] == 'gemma2']\n",
    "llama"
   ]
  },
  {
   "cell_type": "markdown",
   "metadata": {},
   "source": [
    "### How many cities does each model recommend on average? \n",
    "\n",
    "For reference: the prompt asked each model to recommend 3 cities to the user "
   ]
  },
  {
   "cell_type": "code",
   "execution_count": 14,
   "metadata": {},
   "outputs": [
    {
     "name": "stdout",
     "output_type": "stream",
     "text": [
      "2.83\n",
      "2.93\n"
     ]
    }
   ],
   "source": [
    "# Average number of cities in context per prompt - Llama\n",
    "\n",
    "llama_avg_cities = np.mean(llama['rec_cities'].apply(lambda x: len(ast.literal_eval(x))))\n",
    "print(llama_avg_cities)\n",
    "\n",
    "llama_avg_cities_sus = np.mean(llama['rec_cities_sar'].apply(lambda x: len(ast.literal_eval(x))))\n",
    "print(llama_avg_cities_sus)\n",
    "\n"
   ]
  },
  {
   "cell_type": "code",
   "execution_count": 15,
   "metadata": {},
   "outputs": [
    {
     "name": "stdout",
     "output_type": "stream",
     "text": [
      "2.58\n",
      "3.49\n"
     ]
    }
   ],
   "source": [
    "# Average number of cities in context per prompt - Mistral\n",
    "\n",
    "mistral_avg_cities = np.mean(mistral['rec_cities'].apply(lambda x: len(ast.literal_eval(x))))\n",
    "print(mistral_avg_cities)\n",
    "\n",
    "mistral_avg_cities_sus = np.mean(mistral['rec_cities_sar'].apply(lambda x: len(ast.literal_eval(x))))\n",
    "print(mistral_avg_cities_sus)"
   ]
  },
  {
   "cell_type": "code",
   "execution_count": 16,
   "metadata": {},
   "outputs": [
    {
     "name": "stdout",
     "output_type": "stream",
     "text": [
      "1.305\n",
      "1.245\n"
     ]
    }
   ],
   "source": [
    "# Average number of cities in context per prompt - Gemma\n",
    "\n",
    "gemma_avg_cities = np.mean(gemma['rec_cities'].apply(lambda x: len(ast.literal_eval(x))))\n",
    "print(gemma_avg_cities)\n",
    "\n",
    "gemma_avg_cities_sus = np.mean(gemma['rec_cities_sar'].apply(lambda x: len(ast.literal_eval(x))))\n",
    "print(gemma_avg_cities_sus)"
   ]
  },
  {
   "cell_type": "markdown",
   "metadata": {},
   "source": [
    "Llama 3.1. shows a slightly better performance as opposed to Mistral but both are below the expected requirement of 3 recommended cities per prompt"
   ]
  },
  {
   "cell_type": "markdown",
   "metadata": {},
   "source": [
    "### How many out-of-context cities are recommended to the user? \n",
    "\n",
    "How to compute this without ambiguities???"
   ]
  },
  {
   "cell_type": "code",
   "execution_count": 17,
   "metadata": {},
   "outputs": [],
   "source": [
    "def avg_city_not_in_db(rec_cities, ref_cities = eu_cities):\n",
    "    size = len(ast.literal_eval(rec_cities))\n",
    "    if size == 0: \n",
    "        # return 0\n",
    "        return []\n",
    "    \n",
    "    cities_in_db = [city for city in ast.literal_eval(rec_cities) if city not in ref_cities]\n",
    "    # cities_in_db = sum(1 for city in ast.literal_eval(rec_cities) if city not in ref_cities)\n",
    "    return cities_in_db\n",
    "\n",
    "\n",
    "\n",
    "# # avg_llama = llama['rec_cities'].apply(avg_city_not_in_db)\n",
    "# # avg_llama_sus = llama['rec_cities_sustainable'].apply(avg_city_not_in_db)\n",
    "\n",
    "# avg_mistral = mistral['rec_cities'].apply(avg_city_not_in_db)\n",
    "# avg_mistral_sus = mistral['rec_cities_sustainable'].apply(avg_city_not_in_db)\n",
    "\n",
    "# # avg_table = np.array([avg_llama, avg_llama_sus, avg_mistral, avg_mistral_sus]).reshape(2, 2)\n",
    "# # print(avg_table)\n",
    "\n",
    "# print(avg_mistral)\n",
    "\n"
   ]
  },
  {
   "cell_type": "code",
   "execution_count": 18,
   "metadata": {},
   "outputs": [],
   "source": [
    "def flatten_list(cities_list):\n",
    "     return set([city for cities in cities_list for city in ast.literal_eval(cities)])\n",
    "\n",
    "def cities_not_in_db(cities_list):\n",
    "    total_rec_cities = flatten_list(cities_list)\n",
    "    cities_not_in_db = total_rec_cities - set(eu_cities)\n",
    "    return cities_not_in_db\n",
    "\n",
    "# llama_db = cities_not_in_db(list(llama['rec_cities']))\n",
    "# llama_db_sus = cities_not_in_db(list(llama['rec_cities_sustainable']))\n",
    "\n",
    "# mistral_db = cities_not_in_db(list(mistral['rec_cities']))\n",
    "# mistral_db_sus = cities_not_in_db(list(mistral['rec_cities_sustainable']))"
   ]
  },
  {
   "cell_type": "markdown",
   "metadata": {},
   "source": [
    "### Count of empty lists for cities => none of the retrieved cities from the context were recommended => model has hallucinated"
   ]
  },
  {
   "cell_type": "code",
   "execution_count": 21,
   "metadata": {},
   "outputs": [],
   "source": [
    "def hallucination(df):\n",
    "    prompt_ids = []\n",
    "\n",
    "    for i, row in df.iterrows():\n",
    "        if len(ast.literal_eval(row['rec_cities_sar'])) == 0:\n",
    "            prompt_ids.append(row['prompt_id'])\n",
    "    \n",
    "    return prompt_ids"
   ]
  },
  {
   "cell_type": "code",
   "execution_count": 22,
   "metadata": {},
   "outputs": [
    {
     "data": {
      "text/plain": [
       "[]"
      ]
     },
     "execution_count": 22,
     "metadata": {},
     "output_type": "execute_result"
    }
   ],
   "source": [
    "llama_hal_prompts = hallucination(llama)\n",
    "llama_hal_prompts"
   ]
  },
  {
   "cell_type": "code",
   "execution_count": 33,
   "metadata": {},
   "outputs": [
    {
     "name": "stdout",
     "output_type": "stream",
     "text": [
      "['prompt_49_gemini-1.5-pro-001', 'prompt_36_gemini-ui', 'prompt_55_gemini-ui', 'prompt_27_gpt-4o-mini', 'prompt_47_gpt-4o-mini', 'prompt_5_gpt-4o-mini', 'prompt_6_gemini-ui', 'prompt_21_gpt-4o-mini', 'prompt_66_gpt-4o-mini', 'prompt_28_gemini-ui', 'prompt_41_gpt-4o-mini', 'prompt_52_gemini-1.5-pro-001', 'prompt_61_gpt-4o-mini', 'prompt_8_gemini-1.5-pro-001', 'prompt_32_gemini-ui', 'prompt_71_gpt-4o-mini', 'prompt_51_gemini-ui', 'prompt_33_gpt-4o-mini', 'prompt_4_gemini-ui', 'prompt_56_gemini-ui', 'prompt_33_gemini-ui', 'prompt_35_gpt-4o-mini', 'prompt_77_gpt-4o-mini']\n"
     ]
    },
    {
     "data": {
      "text/plain": [
       "23"
      ]
     },
     "execution_count": 33,
     "metadata": {},
     "output_type": "execute_result"
    }
   ],
   "source": [
    "print(hallucination(gemma))\n",
    "len(hallucination(gemma))"
   ]
  },
  {
   "cell_type": "code",
   "execution_count": 25,
   "metadata": {},
   "outputs": [],
   "source": [
    "count_empty = lambda x: 1 if len(ast.literal_eval(x)) == 0 else 0\n",
    "\n",
    "mistral_empty = sum(mistral['rec_cities'].apply(count_empty))\n",
    "mistral_empty_sus = sum(mistral['rec_cities_sar'].apply(count_empty))\n",
    "\n",
    "llama_empty = sum(llama['rec_cities'].apply(count_empty))\n",
    "llama_empty_sus = sum(llama['rec_cities_sar'].apply(count_empty))\n",
    "\n",
    "gemma_empty = sum(gemma['rec_cities'].apply(count_empty))\n",
    "gemma_empty_sus = sum(gemma['rec_cities_sar'].apply(count_empty))"
   ]
  },
  {
   "cell_type": "code",
   "execution_count": 29,
   "metadata": {},
   "outputs": [
    {
     "data": {
      "text/plain": [
       "array([[ 0,  0],\n",
       "       [28, 19],\n",
       "       [23, 23]])"
      ]
     },
     "execution_count": 29,
     "metadata": {},
     "output_type": "execute_result"
    }
   ],
   "source": [
    "table_empty_count = np.array([llama_empty, llama_empty_sus, mistral_empty, mistral_empty_sus, gemma_empty, gemma_empty_sus]).reshape(3, 2)\n",
    "table_empty_count"
   ]
  },
  {
   "cell_type": "markdown",
   "metadata": {},
   "source": [
    "Mistral is worse than Llama in this regard and hallucinates in 28/200 prompts without sustainability and 18/200 prompts with sustainability, where as ALL of the prompt responses in Llama include atleast 1 city from the retrieved context.\n",
    "\n",
    "While hallucination comes down in Mistral when sustainability is added, it seems to increase by 100% in Llama - what could be a possible reason??"
   ]
  },
  {
   "cell_type": "markdown",
   "metadata": {},
   "source": [
    "## With SAR"
   ]
  },
  {
   "cell_type": "code",
   "execution_count": 30,
   "metadata": {},
   "outputs": [],
   "source": [
    "llama = combined_df[combined_df['model'] == 'llama3point1-instruct']\n",
    "mistral = combined_df[combined_df['model'] == 'mistral-instruct']\n",
    "gemma = combined_df[combined_df['model'] == 'gemma2']"
   ]
  },
  {
   "cell_type": "code",
   "execution_count": 34,
   "metadata": {},
   "outputs": [],
   "source": [
    "count_empty = lambda x: 1 if len(ast.literal_eval(x)) == 0 else 0\n",
    "\n",
    "mistral_empty = sum(mistral['rec_cities'].apply(count_empty))\n",
    "mistral_empty_sar = sum(mistral['rec_cities_sar'].apply(count_empty))\n",
    "\n",
    "llama_empty = sum(llama['rec_cities'].apply(count_empty))\n",
    "llama_empty_sar = sum(llama['rec_cities_sar'].apply(count_empty))\n",
    "\n",
    "gemma_empty = sum(gemma['rec_cities'].apply(count_empty))\n",
    "gemma_empty_sus = sum(gemma['rec_cities_sar'].apply(count_empty))"
   ]
  },
  {
   "cell_type": "code",
   "execution_count": 35,
   "metadata": {},
   "outputs": [
    {
     "data": {
      "text/plain": [
       "array([[ 0,  0],\n",
       "       [28, 19],\n",
       "       [23, 23]])"
      ]
     },
     "execution_count": 35,
     "metadata": {},
     "output_type": "execute_result"
    }
   ],
   "source": [
    "table_empty_count = np.array([llama_empty, llama_empty_sus, mistral_empty, mistral_empty_sus, gemma_empty, gemma_empty_sus]).reshape(3, 2)\n",
    "table_empty_count"
   ]
  },
  {
   "cell_type": "code",
   "execution_count": null,
   "metadata": {},
   "outputs": [],
   "source": []
  }
 ],
 "metadata": {
  "kernelspec": {
   "display_name": "Python 3 (ipykernel)",
   "language": "python",
   "name": "python3"
  },
  "language_info": {
   "codemirror_mode": {
    "name": "ipython",
    "version": 3
   },
   "file_extension": ".py",
   "mimetype": "text/x-python",
   "name": "python",
   "nbconvert_exporter": "python",
   "pygments_lexer": "ipython3",
   "version": "3.10.13"
  }
 },
 "nbformat": 4,
 "nbformat_minor": 4
}
