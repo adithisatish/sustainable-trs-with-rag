{
 "cells": [
  {
   "cell_type": "code",
   "execution_count": 30,
   "metadata": {},
   "outputs": [],
   "source": [
    "import pandas as pd \n",
    "import numpy as np \n",
    "import os \n",
    "import re\n",
    "import sys \n",
    "import ast "
   ]
  },
  {
   "cell_type": "code",
   "execution_count": 31,
   "metadata": {},
   "outputs": [],
   "source": [
    "results_dir = \"../../../european-city-data/rag-sustainability/results/results-combined_prompts/\"\n",
    "folders = os.listdir(results_dir)\n",
    "results_df = pd.read_csv(f\"{results_dir}/recommended_cities.csv\")\n",
    "\n",
    "cities_df = pd.read_csv(\"../../../european-city-data/cities/worldcities.csv\")\n",
    "cities = list(cities_df['city'])\n",
    "\n",
    "eucities_df = pd.read_csv(\"../../../european-city-data/archive/city_abstracts_embeddings.csv\")\n",
    "eu_cities = list(cities_df['city'])"
   ]
  },
  {
   "cell_type": "code",
   "execution_count": 32,
   "metadata": {},
   "outputs": [
    {
     "data": {
      "text/html": [
       "<div>\n",
       "<style scoped>\n",
       "    .dataframe tbody tr th:only-of-type {\n",
       "        vertical-align: middle;\n",
       "    }\n",
       "\n",
       "    .dataframe tbody tr th {\n",
       "        vertical-align: top;\n",
       "    }\n",
       "\n",
       "    .dataframe thead th {\n",
       "        text-align: right;\n",
       "    }\n",
       "</style>\n",
       "<table border=\"1\" class=\"dataframe\">\n",
       "  <thead>\n",
       "    <tr style=\"text-align: right;\">\n",
       "      <th></th>\n",
       "      <th>model</th>\n",
       "      <th>prompt_id</th>\n",
       "      <th>rec_cities</th>\n",
       "      <th>response</th>\n",
       "      <th>rec_cities_sustainable</th>\n",
       "      <th>response_sustainable</th>\n",
       "    </tr>\n",
       "  </thead>\n",
       "  <tbody>\n",
       "    <tr>\n",
       "      <th>0</th>\n",
       "      <td>llama3point1-instruct</td>\n",
       "      <td>prompt_17_gemini-ui</td>\n",
       "      <td>['Kaunas']</td>\n",
       "      <td>I recommend Kaunas in Lithuania for your expe...</td>\n",
       "      <td>['Vitoria-Gasteiz']</td>\n",
       "      <td>I recommend Vitoria-Gasteiz because it is a c...</td>\n",
       "    </tr>\n",
       "    <tr>\n",
       "      <th>1</th>\n",
       "      <td>llama3point1-instruct</td>\n",
       "      <td>prompt_27_gemini-1.5-pro-001</td>\n",
       "      <td>['Copenhagen']</td>\n",
       "      <td>I recommend Copenhagen, Denmark because it is...</td>\n",
       "      <td>['Copenhagen']</td>\n",
       "      <td>I recommend Copenhagen and why I recommended ...</td>\n",
       "    </tr>\n",
       "    <tr>\n",
       "      <th>2</th>\n",
       "      <td>llama3point1-instruct</td>\n",
       "      <td>prompt_42_gpt-4o-mini</td>\n",
       "      <td>['Amsterdam']</td>\n",
       "      <td>I recommend Amsterdam, Netherlands. Amsterdam...</td>\n",
       "      <td>['Nalchik', 'Varna', 'Kahramanmaras']</td>\n",
       "      <td>I recommend Nalchik, Russia because of its be...</td>\n",
       "    </tr>\n",
       "    <tr>\n",
       "      <th>3</th>\n",
       "      <td>llama3point1-instruct</td>\n",
       "      <td>prompt_0_gpt-4o-mini</td>\n",
       "      <td>['Kaunas', 'Thessaloniki', 'Strasbourg']</td>\n",
       "      <td>I recommend Kaunas, Lithuania. I recommend Ka...</td>\n",
       "      <td>['Kaunas', 'Oradea', 'Strasbourg', 'Thessaloni...</td>\n",
       "      <td>I recommend Kaunas, Lithuania because it is a...</td>\n",
       "    </tr>\n",
       "    <tr>\n",
       "      <th>4</th>\n",
       "      <td>llama3point1-instruct</td>\n",
       "      <td>prompt_44_gemini-1.5-pro-001</td>\n",
       "      <td>['Kaunas']</td>\n",
       "      <td>I recommend Kaunas for your medieval history ...</td>\n",
       "      <td>['Kaunas']</td>\n",
       "      <td>I recommend Kaunas, Lithuania because it has ...</td>\n",
       "    </tr>\n",
       "  </tbody>\n",
       "</table>\n",
       "</div>"
      ],
      "text/plain": [
       "                   model                     prompt_id  \\\n",
       "0  llama3point1-instruct           prompt_17_gemini-ui   \n",
       "1  llama3point1-instruct  prompt_27_gemini-1.5-pro-001   \n",
       "2  llama3point1-instruct         prompt_42_gpt-4o-mini   \n",
       "3  llama3point1-instruct          prompt_0_gpt-4o-mini   \n",
       "4  llama3point1-instruct  prompt_44_gemini-1.5-pro-001   \n",
       "\n",
       "                                 rec_cities  \\\n",
       "0                                ['Kaunas']   \n",
       "1                            ['Copenhagen']   \n",
       "2                             ['Amsterdam']   \n",
       "3  ['Kaunas', 'Thessaloniki', 'Strasbourg']   \n",
       "4                                ['Kaunas']   \n",
       "\n",
       "                                            response  \\\n",
       "0   I recommend Kaunas in Lithuania for your expe...   \n",
       "1   I recommend Copenhagen, Denmark because it is...   \n",
       "2   I recommend Amsterdam, Netherlands. Amsterdam...   \n",
       "3   I recommend Kaunas, Lithuania. I recommend Ka...   \n",
       "4   I recommend Kaunas for your medieval history ...   \n",
       "\n",
       "                              rec_cities_sustainable  \\\n",
       "0                                ['Vitoria-Gasteiz']   \n",
       "1                                     ['Copenhagen']   \n",
       "2              ['Nalchik', 'Varna', 'Kahramanmaras']   \n",
       "3  ['Kaunas', 'Oradea', 'Strasbourg', 'Thessaloni...   \n",
       "4                                         ['Kaunas']   \n",
       "\n",
       "                                response_sustainable  \n",
       "0   I recommend Vitoria-Gasteiz because it is a c...  \n",
       "1   I recommend Copenhagen and why I recommended ...  \n",
       "2   I recommend Nalchik, Russia because of its be...  \n",
       "3   I recommend Kaunas, Lithuania because it is a...  \n",
       "4   I recommend Kaunas, Lithuania because it has ...  "
      ]
     },
     "execution_count": 32,
     "metadata": {},
     "output_type": "execute_result"
    }
   ],
   "source": [
    "results_df.head()"
   ]
  },
  {
   "cell_type": "code",
   "execution_count": 33,
   "metadata": {},
   "outputs": [],
   "source": [
    "# Compute the average number of cities from our database that have been recommended by each model \n",
    "\n",
    "llama = results_df[results_df['model'] == 'llama3point1-instruct']\n",
    "mistral = results_df[results_df['model'] == 'mistral-instruct']"
   ]
  },
  {
   "cell_type": "markdown",
   "metadata": {},
   "source": [
    "### How many cities does each model recommend on average? \n",
    "\n",
    "For reference: the prompt asked each model to recommend 3 cities to the user "
   ]
  },
  {
   "cell_type": "code",
   "execution_count": 34,
   "metadata": {},
   "outputs": [
    {
     "name": "stdout",
     "output_type": "stream",
     "text": [
      "2.825\n",
      "2.74\n"
     ]
    }
   ],
   "source": [
    "# Average number of cities in context per prompt - Llama\n",
    "\n",
    "llama_avg_cities = np.mean(llama['rec_cities'].apply(lambda x: len(ast.literal_eval(x))))\n",
    "print(llama_avg_cities)\n",
    "\n",
    "llama_avg_cities_sus = np.mean(llama['rec_cities_sustainable'].apply(lambda x: len(ast.literal_eval(x))))\n",
    "print(llama_avg_cities_sus)\n",
    "\n"
   ]
  },
  {
   "cell_type": "code",
   "execution_count": 35,
   "metadata": {},
   "outputs": [
    {
     "name": "stdout",
     "output_type": "stream",
     "text": [
      "2.58\n",
      "3.04\n"
     ]
    }
   ],
   "source": [
    "# Average number of cities in context per prompt - Mistral\n",
    "\n",
    "mistral_avg_cities = np.mean(mistral['rec_cities'].apply(lambda x: len(ast.literal_eval(x))))\n",
    "print(mistral_avg_cities)\n",
    "\n",
    "mistral_avg_cities_sus = np.mean(mistral['rec_cities_sustainable'].apply(lambda x: len(ast.literal_eval(x))))\n",
    "print(mistral_avg_cities_sus)"
   ]
  },
  {
   "cell_type": "markdown",
   "metadata": {},
   "source": [
    "Llama 3.1. shows a slightly better performance as opposed to Mistral but both are below the expected requirement of 3 recommended cities per prompt"
   ]
  },
  {
   "cell_type": "markdown",
   "metadata": {},
   "source": [
    "### How many out-of-context cities are recommended to the user? \n",
    "\n",
    "How to compute this without ambiguities???"
   ]
  },
  {
   "cell_type": "code",
   "execution_count": 36,
   "metadata": {},
   "outputs": [],
   "source": [
    "def avg_city_not_in_db(rec_cities, ref_cities = eu_cities):\n",
    "    size = len(ast.literal_eval(rec_cities))\n",
    "    if size == 0: \n",
    "        # return 0\n",
    "        return []\n",
    "    \n",
    "    cities_in_db = [city for city in ast.literal_eval(rec_cities) if city not in ref_cities]\n",
    "    # cities_in_db = sum(1 for city in ast.literal_eval(rec_cities) if city not in ref_cities)\n",
    "    return cities_in_db\n",
    "\n",
    "\n",
    "\n",
    "# # avg_llama = llama['rec_cities'].apply(avg_city_not_in_db)\n",
    "# # avg_llama_sus = llama['rec_cities_sustainable'].apply(avg_city_not_in_db)\n",
    "\n",
    "# avg_mistral = mistral['rec_cities'].apply(avg_city_not_in_db)\n",
    "# avg_mistral_sus = mistral['rec_cities_sustainable'].apply(avg_city_not_in_db)\n",
    "\n",
    "# # avg_table = np.array([avg_llama, avg_llama_sus, avg_mistral, avg_mistral_sus]).reshape(2, 2)\n",
    "# # print(avg_table)\n",
    "\n",
    "# print(avg_mistral)\n",
    "\n"
   ]
  },
  {
   "cell_type": "code",
   "execution_count": 37,
   "metadata": {},
   "outputs": [],
   "source": [
    "def flatten_list(cities_list):\n",
    "     return set([city for cities in cities_list for city in ast.literal_eval(cities)])\n",
    "\n",
    "def cities_not_in_db(cities_list):\n",
    "    total_rec_cities = flatten_list(cities_list)\n",
    "    cities_not_in_db = total_rec_cities - set(eu_cities)\n",
    "    return cities_not_in_db\n",
    "\n",
    "# llama_db = cities_not_in_db(list(llama['rec_cities']))\n",
    "# llama_db_sus = cities_not_in_db(list(llama['rec_cities_sustainable']))\n",
    "\n",
    "# mistral_db = cities_not_in_db(list(mistral['rec_cities']))\n",
    "# mistral_db_sus = cities_not_in_db(list(mistral['rec_cities_sustainable']))"
   ]
  },
  {
   "cell_type": "markdown",
   "metadata": {},
   "source": [
    "### Count of empty lists for cities => none of the retrieved cities from the context were recommended => model has hallucinated"
   ]
  },
  {
   "cell_type": "code",
   "execution_count": 38,
   "metadata": {},
   "outputs": [],
   "source": [
    "count_empty = lambda x: 1 if len(ast.literal_eval(x)) == 0 else 0\n",
    "\n",
    "mistral_empty = sum(mistral['rec_cities'].apply(count_empty))\n",
    "mistral_empty_sus = sum(mistral['rec_cities_sustainable'].apply(count_empty))\n",
    "\n",
    "llama_empty = sum(llama['rec_cities'].apply(count_empty))\n",
    "llama_empty_sus = sum(llama['rec_cities_sustainable'].apply(count_empty))"
   ]
  },
  {
   "cell_type": "code",
   "execution_count": 39,
   "metadata": {},
   "outputs": [
    {
     "data": {
      "text/plain": [
       "array([[ 1,  2],\n",
       "       [28, 18]])"
      ]
     },
     "execution_count": 39,
     "metadata": {},
     "output_type": "execute_result"
    }
   ],
   "source": [
    "table_empty_count = np.array([llama_empty, llama_empty_sus, mistral_empty, mistral_empty_sus]).reshape(2, 2)\n",
    "table_empty_count"
   ]
  },
  {
   "cell_type": "markdown",
   "metadata": {},
   "source": [
    "Mistral is far worse than Llama in this regard and hallucinates in 76/200 prompts without sustainability and 57/200 prompts with sustainability, where as more than 90-95% of the prompt responses in Llama include atleast 1 city from the retrieved context.\n",
    "\n",
    "While hallucination comes down in Mistral when sustainability is added, it seems to increase by 81% in Llama - what could be a possible reason??"
   ]
  },
  {
   "cell_type": "code",
   "execution_count": null,
   "metadata": {},
   "outputs": [],
   "source": []
  }
 ],
 "metadata": {
  "kernelspec": {
   "display_name": ".env",
   "language": "python",
   "name": "python3"
  },
  "language_info": {
   "codemirror_mode": {
    "name": "ipython",
    "version": 3
   },
   "file_extension": ".py",
   "mimetype": "text/x-python",
   "name": "python",
   "nbconvert_exporter": "python",
   "pygments_lexer": "ipython3",
   "version": "3.9.6"
  }
 },
 "nbformat": 4,
 "nbformat_minor": 2
}
