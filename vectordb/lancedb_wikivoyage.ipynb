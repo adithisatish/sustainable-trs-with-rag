{
 "cells": [
  {
   "cell_type": "code",
   "execution_count": 20,
   "metadata": {},
   "outputs": [],
   "source": [
    "import lancedb\n",
    "import pandas as pd \n",
    "import numpy as np \n",
    "import os \n",
    "import ast\n",
    "from sentence_transformers import SentenceTransformer"
   ]
  },
  {
   "cell_type": "code",
   "execution_count": 3,
   "metadata": {},
   "outputs": [],
   "source": [
    "data_dir = \"../../europeancities-wikivoyage-tripadvisor/data-sources/\"\n",
    "wikivoyage_docs_dir = data_dir + \"wikivoyage/\"\n",
    "wikivoyage_listings_dir = wikivoyage_docs_dir + \"listings/\"\n",
    "airbnb_dir = data_dir + \"airbnb/\""
   ]
  },
  {
   "cell_type": "code",
   "execution_count": 25,
   "metadata": {},
   "outputs": [],
   "source": [
    "uri = \"../database/wikivoyage-listings-db\"\n",
    "db = lancedb.connect(uri)"
   ]
  },
  {
   "cell_type": "code",
   "execution_count": 9,
   "metadata": {},
   "outputs": [],
   "source": [
    "listings = pd.read_csv(wikivoyage_listings_dir + \"wikivoyage-listings-embeddings.csv\")"
   ]
  },
  {
   "cell_type": "code",
   "execution_count": 12,
   "metadata": {},
   "outputs": [],
   "source": [
    "listings = listings[['city','type','title','description','country','combined', 'embeddings']]"
   ]
  },
  {
   "cell_type": "code",
   "execution_count": 13,
   "metadata": {},
   "outputs": [
    {
     "name": "stderr",
     "output_type": "stream",
     "text": [
      "/var/folders/07/81pmlyln5szbq49h1zdqjq1h0000gn/T/ipykernel_68843/3595120442.py:1: SettingWithCopyWarning: \n",
      "A value is trying to be set on a copy of a slice from a DataFrame\n",
      "\n",
      "See the caveats in the documentation: https://pandas.pydata.org/pandas-docs/stable/user_guide/indexing.html#returning-a-view-versus-a-copy\n",
      "  listings.rename(columns={'embeddings':'vector'}, inplace=True)\n"
     ]
    }
   ],
   "source": [
    "listings.rename(columns={'embeddings':'vector'}, inplace=True)\n"
   ]
  },
  {
   "cell_type": "code",
   "execution_count": 14,
   "metadata": {},
   "outputs": [
    {
     "data": {
      "text/html": [
       "<div>\n",
       "<style scoped>\n",
       "    .dataframe tbody tr th:only-of-type {\n",
       "        vertical-align: middle;\n",
       "    }\n",
       "\n",
       "    .dataframe tbody tr th {\n",
       "        vertical-align: top;\n",
       "    }\n",
       "\n",
       "    .dataframe thead th {\n",
       "        text-align: right;\n",
       "    }\n",
       "</style>\n",
       "<table border=\"1\" class=\"dataframe\">\n",
       "  <thead>\n",
       "    <tr style=\"text-align: right;\">\n",
       "      <th></th>\n",
       "      <th>city</th>\n",
       "      <th>type</th>\n",
       "      <th>title</th>\n",
       "      <th>description</th>\n",
       "      <th>country</th>\n",
       "      <th>combined</th>\n",
       "      <th>vector</th>\n",
       "    </tr>\n",
       "  </thead>\n",
       "  <tbody>\n",
       "    <tr>\n",
       "      <th>0</th>\n",
       "      <td>Aalborg</td>\n",
       "      <td>see</td>\n",
       "      <td>Aalborg Akvavit</td>\n",
       "      <td>Distillery.</td>\n",
       "      <td>Denmark</td>\n",
       "      <td>city: Aalborg, country: Denmark, type: see, ti...</td>\n",
       "      <td>[0.03534001111984253, 0.04959840700030327, -0....</td>\n",
       "    </tr>\n",
       "    <tr>\n",
       "      <th>1</th>\n",
       "      <td>Aalborg</td>\n",
       "      <td>see</td>\n",
       "      <td>Aalborghus Castle</td>\n",
       "      <td>A castle and garden from the 16th century.</td>\n",
       "      <td>Denmark</td>\n",
       "      <td>city: Aalborg, country: Denmark, type: see, ti...</td>\n",
       "      <td>[0.020535504445433617, 0.10963066667318344, -0...</td>\n",
       "    </tr>\n",
       "    <tr>\n",
       "      <th>2</th>\n",
       "      <td>Aalborg</td>\n",
       "      <td>see</td>\n",
       "      <td>Aalborg Tower</td>\n",
       "      <td>No description found.</td>\n",
       "      <td>Denmark</td>\n",
       "      <td>city: Aalborg, country: Denmark, type: see, ti...</td>\n",
       "      <td>[0.0070536076091229916, 0.10140001028776169, -...</td>\n",
       "    </tr>\n",
       "    <tr>\n",
       "      <th>3</th>\n",
       "      <td>Aalborg</td>\n",
       "      <td>see</td>\n",
       "      <td>Aalborg Townhall</td>\n",
       "      <td>Built in 1759.</td>\n",
       "      <td>Denmark</td>\n",
       "      <td>city: Aalborg, country: Denmark, type: see, ti...</td>\n",
       "      <td>[-0.030464187264442444, 0.050615373998880386, ...</td>\n",
       "    </tr>\n",
       "    <tr>\n",
       "      <th>4</th>\n",
       "      <td>Aalborg</td>\n",
       "      <td>see</td>\n",
       "      <td>Aalborg Zoo</td>\n",
       "      <td>Cosy zoo with many \"classic\" zoo animals such ...</td>\n",
       "      <td>Denmark</td>\n",
       "      <td>city: Aalborg, country: Denmark, type: see, ti...</td>\n",
       "      <td>[0.09230892360210419, 0.08421209454536438, -0....</td>\n",
       "    </tr>\n",
       "  </tbody>\n",
       "</table>\n",
       "</div>"
      ],
      "text/plain": [
       "      city type              title  \\\n",
       "0  Aalborg  see    Aalborg Akvavit   \n",
       "1  Aalborg  see  Aalborghus Castle   \n",
       "2  Aalborg  see      Aalborg Tower   \n",
       "3  Aalborg  see   Aalborg Townhall   \n",
       "4  Aalborg  see        Aalborg Zoo   \n",
       "\n",
       "                                         description  country  \\\n",
       "0                                        Distillery.  Denmark   \n",
       "1         A castle and garden from the 16th century.  Denmark   \n",
       "2                              No description found.  Denmark   \n",
       "3                                     Built in 1759.  Denmark   \n",
       "4  Cosy zoo with many \"classic\" zoo animals such ...  Denmark   \n",
       "\n",
       "                                            combined  \\\n",
       "0  city: Aalborg, country: Denmark, type: see, ti...   \n",
       "1  city: Aalborg, country: Denmark, type: see, ti...   \n",
       "2  city: Aalborg, country: Denmark, type: see, ti...   \n",
       "3  city: Aalborg, country: Denmark, type: see, ti...   \n",
       "4  city: Aalborg, country: Denmark, type: see, ti...   \n",
       "\n",
       "                                              vector  \n",
       "0  [0.03534001111984253, 0.04959840700030327, -0....  \n",
       "1  [0.020535504445433617, 0.10963066667318344, -0...  \n",
       "2  [0.0070536076091229916, 0.10140001028776169, -...  \n",
       "3  [-0.030464187264442444, 0.050615373998880386, ...  \n",
       "4  [0.09230892360210419, 0.08421209454536438, -0....  "
      ]
     },
     "execution_count": 14,
     "metadata": {},
     "output_type": "execute_result"
    }
   ],
   "source": [
    "listings.head()"
   ]
  },
  {
   "cell_type": "code",
   "execution_count": 17,
   "metadata": {},
   "outputs": [
    {
     "name": "stderr",
     "output_type": "stream",
     "text": [
      "/var/folders/07/81pmlyln5szbq49h1zdqjq1h0000gn/T/ipykernel_68843/3399729079.py:1: SettingWithCopyWarning: \n",
      "A value is trying to be set on a copy of a slice from a DataFrame.\n",
      "Try using .loc[row_indexer,col_indexer] = value instead\n",
      "\n",
      "See the caveats in the documentation: https://pandas.pydata.org/pandas-docs/stable/user_guide/indexing.html#returning-a-view-versus-a-copy\n",
      "  listings['vector'] = listings['vector'].apply(ast.literal_eval)\n"
     ]
    }
   ],
   "source": [
    "listings['vector'] = listings['vector'].apply(ast.literal_eval)"
   ]
  },
  {
   "cell_type": "code",
   "execution_count": 18,
   "metadata": {},
   "outputs": [
    {
     "data": {
      "text/html": [
       "<div>\n",
       "<style scoped>\n",
       "    .dataframe tbody tr th:only-of-type {\n",
       "        vertical-align: middle;\n",
       "    }\n",
       "\n",
       "    .dataframe tbody tr th {\n",
       "        vertical-align: top;\n",
       "    }\n",
       "\n",
       "    .dataframe thead th {\n",
       "        text-align: right;\n",
       "    }\n",
       "</style>\n",
       "<table border=\"1\" class=\"dataframe\">\n",
       "  <thead>\n",
       "    <tr style=\"text-align: right;\">\n",
       "      <th></th>\n",
       "      <th>city</th>\n",
       "      <th>type</th>\n",
       "      <th>title</th>\n",
       "      <th>description</th>\n",
       "      <th>country</th>\n",
       "      <th>combined</th>\n",
       "      <th>vector</th>\n",
       "    </tr>\n",
       "  </thead>\n",
       "  <tbody>\n",
       "    <tr>\n",
       "      <th>0</th>\n",
       "      <td>Aalborg</td>\n",
       "      <td>see</td>\n",
       "      <td>Aalborg Akvavit</td>\n",
       "      <td>Distillery.</td>\n",
       "      <td>Denmark</td>\n",
       "      <td>city: Aalborg, country: Denmark, type: see, ti...</td>\n",
       "      <td>[0.03534001111984253, 0.04959840700030327, -0....</td>\n",
       "    </tr>\n",
       "    <tr>\n",
       "      <th>1</th>\n",
       "      <td>Aalborg</td>\n",
       "      <td>see</td>\n",
       "      <td>Aalborghus Castle</td>\n",
       "      <td>A castle and garden from the 16th century.</td>\n",
       "      <td>Denmark</td>\n",
       "      <td>city: Aalborg, country: Denmark, type: see, ti...</td>\n",
       "      <td>[0.020535504445433617, 0.10963066667318344, -0...</td>\n",
       "    </tr>\n",
       "    <tr>\n",
       "      <th>2</th>\n",
       "      <td>Aalborg</td>\n",
       "      <td>see</td>\n",
       "      <td>Aalborg Tower</td>\n",
       "      <td>No description found.</td>\n",
       "      <td>Denmark</td>\n",
       "      <td>city: Aalborg, country: Denmark, type: see, ti...</td>\n",
       "      <td>[0.0070536076091229916, 0.10140001028776169, -...</td>\n",
       "    </tr>\n",
       "    <tr>\n",
       "      <th>3</th>\n",
       "      <td>Aalborg</td>\n",
       "      <td>see</td>\n",
       "      <td>Aalborg Townhall</td>\n",
       "      <td>Built in 1759.</td>\n",
       "      <td>Denmark</td>\n",
       "      <td>city: Aalborg, country: Denmark, type: see, ti...</td>\n",
       "      <td>[-0.030464187264442444, 0.050615373998880386, ...</td>\n",
       "    </tr>\n",
       "    <tr>\n",
       "      <th>4</th>\n",
       "      <td>Aalborg</td>\n",
       "      <td>see</td>\n",
       "      <td>Aalborg Zoo</td>\n",
       "      <td>Cosy zoo with many \"classic\" zoo animals such ...</td>\n",
       "      <td>Denmark</td>\n",
       "      <td>city: Aalborg, country: Denmark, type: see, ti...</td>\n",
       "      <td>[0.09230892360210419, 0.08421209454536438, -0....</td>\n",
       "    </tr>\n",
       "  </tbody>\n",
       "</table>\n",
       "</div>"
      ],
      "text/plain": [
       "      city type              title  \\\n",
       "0  Aalborg  see    Aalborg Akvavit   \n",
       "1  Aalborg  see  Aalborghus Castle   \n",
       "2  Aalborg  see      Aalborg Tower   \n",
       "3  Aalborg  see   Aalborg Townhall   \n",
       "4  Aalborg  see        Aalborg Zoo   \n",
       "\n",
       "                                         description  country  \\\n",
       "0                                        Distillery.  Denmark   \n",
       "1         A castle and garden from the 16th century.  Denmark   \n",
       "2                              No description found.  Denmark   \n",
       "3                                     Built in 1759.  Denmark   \n",
       "4  Cosy zoo with many \"classic\" zoo animals such ...  Denmark   \n",
       "\n",
       "                                            combined  \\\n",
       "0  city: Aalborg, country: Denmark, type: see, ti...   \n",
       "1  city: Aalborg, country: Denmark, type: see, ti...   \n",
       "2  city: Aalborg, country: Denmark, type: see, ti...   \n",
       "3  city: Aalborg, country: Denmark, type: see, ti...   \n",
       "4  city: Aalborg, country: Denmark, type: see, ti...   \n",
       "\n",
       "                                              vector  \n",
       "0  [0.03534001111984253, 0.04959840700030327, -0....  \n",
       "1  [0.020535504445433617, 0.10963066667318344, -0...  \n",
       "2  [0.0070536076091229916, 0.10140001028776169, -...  \n",
       "3  [-0.030464187264442444, 0.050615373998880386, ...  \n",
       "4  [0.09230892360210419, 0.08421209454536438, -0....  "
      ]
     },
     "execution_count": 18,
     "metadata": {},
     "output_type": "execute_result"
    }
   ],
   "source": [
    "listings.head()"
   ]
  },
  {
   "cell_type": "code",
   "execution_count": 19,
   "metadata": {},
   "outputs": [
    {
     "data": {
      "text/plain": [
       "LanceTable(connection=LanceDBConnection(/Users/adithisatish/TUM/Academics/SoSe24/guided_research/rag-sustainable-trs/vectordb/../database/wikivoyage-listings-db), name=\"wikivoyage_listings\")"
      ]
     },
     "execution_count": 19,
     "metadata": {},
     "output_type": "execute_result"
    }
   ],
   "source": [
    "db.create_table(\"wikivoyage_listings\", data=listings)"
   ]
  },
  {
   "cell_type": "code",
   "execution_count": 26,
   "metadata": {},
   "outputs": [],
   "source": [
    "def embed_query(query):\n",
    "    model = SentenceTransformer('sentence-transformers/all-MiniLM-L6-v2')\n",
    "    # vector_dimension = model.get_sentence_embedding_dimension()   \n",
    "    embedding = model.encode(query).tolist()\n",
    "    return embedding\n",
    "\n",
    "query = \"Museums in Europe\"\n",
    "query_embedding = embed_query(query)\n",
    "table = db.open_table(\"wikivoyage_listings\")\n",
    "results = table.search(query_embedding).limit(5).to_list()\n"
   ]
  },
  {
   "cell_type": "code",
   "execution_count": 33,
   "metadata": {},
   "outputs": [
    {
     "data": {
      "text/plain": [
       "[\"city: Bologna, country: Italy, type: see, title: Museo Europeo degli Studenti, description: The ''Museum of European Students'' is about the history and culture of university students from the thirteenth to the twentieth century. Closed on Monday; Admission free. Don't miss this when you are interested in student life. It's unique.\",\n",
       " 'city: Stuttgart, country: Germany, type: see, title: Staatliches Museum für Naturkunde Stuttgart, description: Two exhibitions: one features biology and evolution and the other features paleontology and archeology.',\n",
       " 'city: Lyon, country: France, type: see, title: Musée gallo-romain de Fourvière, description: The second largest museum in France, it has all kinds of things relating to Rhone-Alps history. A free visit to the Roman theatres may be just as interesting for those not into the details.',\n",
       " 'city: Strasbourg, country: France, type: see, title: Musée Alsacien, description: This museum features articles from the daily lives of Alsatian peoples from the 13th to 19th centuries: clothing, furniture, toys, tools of artisans and farmers, and religious objects used in Christian, Jewish, and even pagan rites. The exhibits are in rooms connected by wooden staircases and balconies in adjacent multistory Renaissance-era houses around a central courtyard.',\n",
       " 'city: Vitoria-Gasteiz, country: Spain, type: see, title: Fine Arts Museum, description: No description found.']"
      ]
     },
     "execution_count": 33,
     "metadata": {},
     "output_type": "execute_result"
    }
   ],
   "source": [
    "[r[\"combined\"] for r in results]"
   ]
  },
  {
   "cell_type": "code",
   "execution_count": 34,
   "metadata": {},
   "outputs": [
    {
     "data": {
      "text/plain": [
       "[\"city: Bologna, country: Italy, name: Museo Europeo degli Studenti, description: The ''Museum of European Students'' is about the history and culture of university students from the thirteenth to the twentieth century. Closed on Monday; Admission free. Don't miss this when you are interested in student life. It's unique.\",\n",
       " 'city: Stuttgart, country: Germany, name: Staatliches Museum für Naturkunde Stuttgart, description: Two exhibitions: one features biology and evolution and the other features paleontology and archeology.',\n",
       " 'city: Lyon, country: France, name: Musée gallo-romain de Fourvière, description: The second largest museum in France, it has all kinds of things relating to Rhone-Alps history. A free visit to the Roman theatres may be just as interesting for those not into the details.',\n",
       " 'city: Strasbourg, country: France, name: Musée Alsacien, description: This museum features articles from the daily lives of Alsatian peoples from the 13th to 19th centuries: clothing, furniture, toys, tools of artisans and farmers, and religious objects used in Christian, Jewish, and even pagan rites. The exhibits are in rooms connected by wooden staircases and balconies in adjacent multistory Renaissance-era houses around a central courtyard.',\n",
       " 'city: Vitoria-Gasteiz, country: Spain, name: Fine Arts Museum, description: No description found.']"
      ]
     },
     "execution_count": 34,
     "metadata": {},
     "output_type": "execute_result"
    }
   ],
   "source": [
    "[f\"city: {r['city']}, country: {r['country']}, name: {r['title']}, description: {r['description']}\" for r in results]"
   ]
  },
  {
   "cell_type": "code",
   "execution_count": null,
   "metadata": {},
   "outputs": [],
   "source": []
  }
 ],
 "metadata": {
  "kernelspec": {
   "display_name": ".env",
   "language": "python",
   "name": "python3"
  },
  "language_info": {
   "codemirror_mode": {
    "name": "ipython",
    "version": 3
   },
   "file_extension": ".py",
   "mimetype": "text/x-python",
   "name": "python",
   "nbconvert_exporter": "python",
   "pygments_lexer": "ipython3",
   "version": "3.9.6"
  }
 },
 "nbformat": 4,
 "nbformat_minor": 2
}
