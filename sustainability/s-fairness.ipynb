{
 "cells": [
  {
   "cell_type": "markdown",
   "metadata": {},
   "source": [
    "## S-Fairness\n",
    "Computing the S-Fairness Index given a starting point, destination and month\n",
    "\n",
    "Symbols:\n",
    "- j: month\n",
    "- c<sub>i</sub>: destination\n",
    "\n",
    "\n",
    "Formulae:\n",
    "\n",
    "- Emissions Trade-off Indicator: Z (c<sub>i</sub>) = 0.352 · 𝜏<sub>𝑇𝑇</sub> (c<sub>i</sub>) + 0.218 · 𝜏<sub>𝐸𝑀</sub> (c<sub>i</sub>) + 0.431 · 𝜏<sub>𝐶𝑜𝑠𝑡</sub> (c<sub>i</sub>) \n",
    "- Popularity Index: 𝜌 (c<sub>i</sub> ) = 0.469 · 𝜋<sub>𝑃𝑂𝐼</sub> + 0.325 · 𝜋<sub>𝑈𝐺𝐶</sub> + 0.206 · 𝜋<sub>𝐺𝑇</sub>\n",
    "- Seasonality Index: 𝜎 (c<sub>i</sub><sup>j</sup> ) = 0.443 · 𝐺 <sup>(𝑖)</sup> <sub>𝐴𝑉𝐶</sub> + 0.557 · 𝐺 <sup>(𝑖 ) ( 𝑗 )</sup> <sub>𝐴𝐷𝑅</sub>\n",
    "\n",
    "S-Fairness score: 𝜓 (c<sub>i</sub><sup>j</sup>) = 0.281 · Z (c<sub>i</sub>) + 0.334 · 𝜌 (c<sub>i</sub> ) + 0.385 · 𝜎 (c<sub>i</sub><sup>j</sup> )"
   ]
  },
  {
   "cell_type": "code",
   "execution_count": 2,
   "metadata": {},
   "outputs": [],
   "source": [
    "import pandas as pd \n",
    "import numpy as np \n",
    "import os \n",
    "import sys\n",
    "import re"
   ]
  },
  {
   "cell_type": "code",
   "execution_count": 3,
   "metadata": {},
   "outputs": [],
   "source": [
    "data_dir = \"../../europeancities-wikivoyage-tripadvisor/data-sources/\"\n",
    "wikivoyage_docs_dir = data_dir + \"wikivoyage/cleaned/\"\n",
    "wikivoyage_listings_dir = data_dir + \"wikvoyage/listings/\"\n",
    "airbnb_dir = data_dir + \"airbnb/\"\n",
    "seasonality_dir = \"../../europeancities-wikivoyage-tripadvisor/computed/seasonality/\"\n",
    "popularity_dir = \"../../europeancities-wikivoyage-tripadvisor/computed/popularity/\""
   ]
  },
  {
   "cell_type": "code",
   "execution_count": 14,
   "metadata": {},
   "outputs": [],
   "source": [
    "def get_popularity(destination):\n",
    "    popularity_df = pd.read_csv(popularity_dir + \"popularity_scores.csv\")\n",
    "    return popularity_df[popularity_df['city'] == destination]['weighted_pop_score'].item()\n",
    "\n",
    "def get_seasonality(destination, month = None):\n",
    "    seasonality_df = pd.read_csv(seasonality_dir + \"seasonality_scores.csv\")\n",
    "    if month:\n",
    "        m = month.capitalize()[:3]\n",
    "    else: \n",
    "        seasonality_df['lowest_col'] = seasonality_df.loc[:, seasonality_df.columns != 'city'].idxmin(axis=\"columns\")\n",
    "        m = seasonality_df[seasonality_df['city'] == destination]['lowest_col'].item()\n",
    "\n",
    "    return  (m, seasonality_df[seasonality_df['city'] == destination][m].item())\n",
    "\n",
    "\n",
    "def compute_sfairness_score(starting_city, destination, month = None):\n",
    "    seasonality = get_seasonality(destination, month = None)\n",
    "    month = seasonality[0]\n",
    "    popularity = get_popularity(destination)\n",
    "    emissions = 0\n",
    "\n",
    "    s_fairness = 0.281 * emissions + 0.334 * popularity + 0.385 * seasonality[1]\n",
    "\n",
    "    return {\n",
    "            'month': month, \n",
    "            's-fairness': s_fairness\n",
    "        }"
   ]
  },
  {
   "cell_type": "code",
   "execution_count": 15,
   "metadata": {},
   "outputs": [
    {
     "data": {
      "text/plain": [
       "{'month': 'Feb', 's-fairness': 0.04008}"
      ]
     },
     "execution_count": 15,
     "metadata": {},
     "output_type": "execute_result"
    }
   ],
   "source": [
    "compute_sfairness_score(\"Paris\",\"Munich\", \"September\")"
   ]
  },
  {
   "cell_type": "code",
   "execution_count": 13,
   "metadata": {},
   "outputs": [
    {
     "data": {
      "text/plain": [
       "0      Feb\n",
       "1      Jan\n",
       "2      Jan\n",
       "3      Jan\n",
       "4      Feb\n",
       "      ... \n",
       "190    Jan\n",
       "191    Jan\n",
       "192    Jan\n",
       "193    Jan\n",
       "194    Apr\n",
       "Length: 195, dtype: object"
      ]
     },
     "execution_count": 13,
     "metadata": {},
     "output_type": "execute_result"
    }
   ],
   "source": []
  },
  {
   "cell_type": "code",
   "execution_count": null,
   "metadata": {},
   "outputs": [],
   "source": []
  }
 ],
 "metadata": {
  "kernelspec": {
   "display_name": ".env",
   "language": "python",
   "name": "python3"
  },
  "language_info": {
   "codemirror_mode": {
    "name": "ipython",
    "version": 3
   },
   "file_extension": ".py",
   "mimetype": "text/x-python",
   "name": "python",
   "nbconvert_exporter": "python",
   "pygments_lexer": "ipython3",
   "version": "3.9.6"
  }
 },
 "nbformat": 4,
 "nbformat_minor": 2
}
