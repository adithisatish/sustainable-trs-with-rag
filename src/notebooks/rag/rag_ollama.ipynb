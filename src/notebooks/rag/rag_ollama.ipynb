{
 "cells": [
  {
   "cell_type": "code",
   "execution_count": 2,
   "metadata": {},
   "outputs": [
    {
     "name": "stderr",
     "output_type": "stream",
     "text": [
      "/Users/adithisatish/TUM/Academics/SoSe24/guided_research/.env/lib/python3.9/site-packages/tqdm/auto.py:21: TqdmWarning: IProgress not found. Please update jupyter and ipywidgets. See https://ipywidgets.readthedocs.io/en/stable/user_install.html\n",
      "  from .autonotebook import tqdm as notebook_tqdm\n"
     ]
    }
   ],
   "source": [
    "import ollama\n",
    "import pandas as pd \n",
    "import numpy as np \n",
    "from sentence_transformers import SentenceTransformer\n",
    "import os\n",
    "import lancedb"
   ]
  },
  {
   "cell_type": "code",
   "execution_count": 3,
   "metadata": {},
   "outputs": [],
   "source": [
    "data_dir = \"../../european-city-data/data-sources/\"\n",
    "wikivoyage_docs_dir = data_dir + \"wikivoyage/\"\n",
    "wikivoyage_listings_dir = wikivoyage_docs_dir + \"listings/\""
   ]
  },
  {
   "cell_type": "code",
   "execution_count": 4,
   "metadata": {},
   "outputs": [],
   "source": [
    "def embed_query(query):\n",
    "    model = SentenceTransformer('sentence-transformers/all-MiniLM-L6-v2')\n",
    "    # vector_dimension = model.get_sentence_embedding_dimension()   \n",
    "    embedding = model.encode(query).tolist()\n",
    "    print(\"Finished encoding the query.\")\n",
    "    return embedding\n",
    "\n",
    "def get_context(query):\n",
    "    uri = \"../database/wikivoyage-listings-db\"\n",
    "    db = lancedb.connect(uri)\n",
    "    print(\"Connected to DB.\")\n",
    "\n",
    "    query_embedding = embed_query(query)\n",
    "    table = db.open_table(\"wikivoyage_listings\")\n",
    "    results = table.search(query_embedding).limit(5).to_list()\n",
    "    print(\"Found the most relevant documents.\")\n",
    "\n",
    "    context = [f\"city: {r['city']}, country: {r['country']}, name: {r['title']}, description: {r['description']}\" for r in results]\n",
    "\n",
    "    return context"
   ]
  },
  {
   "cell_type": "code",
   "execution_count": 24,
   "metadata": {},
   "outputs": [],
   "source": [
    "def rag_qa(question, context = None):\n",
    "    base_prompt = \"\"\"You are an AI assistant. Your task is to understand the user question, and provide an answer using the provided contexts. Every answer you generate should have citations in this pattern  \"Answer [position].\", for example: \"Earth is round [1][2].,\" if it's relevant.\n",
    "    Your answers are correct, high-quality, and written by an domain expert. If the provided context does not contain the answer, simply state, \"The provided context does not have the answer.\"\n",
    "\n",
    "    User question: {}\n",
    "\n",
    "    Contexts:\n",
    "    {}\n",
    "    \"\"\"\n",
    "\n",
    "    # llm\n",
    "    if not context:\n",
    "        context = get_context(question)\n",
    "\n",
    "    prompt = f\"{base_prompt.format(question, context)}\"\n",
    "    # print(\"Prompt to LLM:\", prompt)\n",
    "\n",
    "    response = ollama.chat(\n",
    "        model=\"gemma:2b\",\n",
    "        messages=[\n",
    "            {\n",
    "                \"role\": \"system\",\n",
    "                \"content\": prompt,\n",
    "            },\n",
    "        ],\n",
    "    )\n",
    "    print(\"Finished generating response.\")\n",
    "\n",
    "    return response[\"message\"][\"content\"]"
   ]
  },
  {
   "cell_type": "code",
   "execution_count": 6,
   "metadata": {},
   "outputs": [
    {
     "name": "stdout",
     "output_type": "stream",
     "text": [
      "Connected to DB.\n",
      "Finished encoding the query.\n",
      "Found the most relevant documents.\n",
      "Finished generating response.\n"
     ]
    }
   ],
   "source": [
    "# question = \"What cities should I visit in Europe that have modern art museums?\"\n",
    "question = \"I like hiking and nature. What cities do you recommend I visit?\"\n",
    "\n",
    "answer = rag_qa(question)"
   ]
  },
  {
   "cell_type": "code",
   "execution_count": 7,
   "metadata": {},
   "outputs": [
    {
     "data": {
      "text/plain": [
       "'The context does not mention any cities that would be suitable for hiking and nature, so I cannot generate an answer from the context.'"
      ]
     },
     "execution_count": 7,
     "metadata": {},
     "output_type": "execute_result"
    }
   ],
   "source": [
    "answer"
   ]
  },
  {
   "cell_type": "code",
   "execution_count": 25,
   "metadata": {},
   "outputs": [
    {
     "name": "stdout",
     "output_type": "stream",
     "text": [
      "Connected to DB.\n",
      "Finished encoding the query.\n",
      "Found the most relevant documents.\n",
      "[\"city: Tampere, country: Finland, name: Hiking, description: In Finland, everyone has a right of public access to the wilderness provided that you don't cause damage. In Tampere, good hiking/jogging/cycling/skiing grounds with marked paths can be found in the Pyynikki and Kauppi forests. In Hervanta, there's a popular 4km loop trail around lake Suolijärvi (take bus number 30 to get there).\", 'city: Ivano-Frankivsk, country: Ukraine, name: Yaremche village and Waterfall \"Probiy\", description: Many outdoor option. Good base for a hike to Peak Hoverla the highest place in Ukraine. Also there is the Vorokhta ski resort', 'city: Kaliningrad, country: Russia, name: Trek in the forests, description: Soak up nature in the untouched forests', 'city: Trabzon, country: Turkey, name: Pontic Mountains, description: Many trekking, hiking, possibility. Zil Castle, Palovit Waterfall', 'city: Minsk, country: Belarus, name: Skiing resorts, description: These are the most popular places to have a rest. They provide wide range of winter activities: skiing, snowboarding, skating, tubing etc.']\n"
     ]
    }
   ],
   "source": [
    "c = get_context(question)\n",
    "print(c)"
   ]
  },
  {
   "cell_type": "code",
   "execution_count": 26,
   "metadata": {},
   "outputs": [
    {
     "name": "stdout",
     "output_type": "stream",
     "text": [
      "Finished generating response.\n"
     ]
    },
    {
     "data": {
      "text/plain": [
       "'The context does not provide any recommendations for cities to hike in, so I cannot generate an answer from the context.'"
      ]
     },
     "execution_count": 26,
     "metadata": {},
     "output_type": "execute_result"
    }
   ],
   "source": [
    "rag_qa(question, c)"
   ]
  },
  {
   "cell_type": "code",
   "execution_count": 12,
   "metadata": {},
   "outputs": [
    {
     "name": "stdout",
     "output_type": "stream",
     "text": [
      "Connected to DB.\n",
      "Finished encoding the query.\n",
      "Found the most relevant documents.\n",
      "Finished generating response.\n"
     ]
    },
    {
     "data": {
      "text/plain": [
       "'The context does not provide any information about the best restaurants in Germany to eat Italian food, so I cannot generate an answer to this question from the provided context.'"
      ]
     },
     "execution_count": 12,
     "metadata": {},
     "output_type": "execute_result"
    }
   ],
   "source": [
    "example = \"Which are the best restaurants in Germany to eat Italian food?\"\n",
    "rag_qa(example)"
   ]
  },
  {
   "cell_type": "code",
   "execution_count": 16,
   "metadata": {},
   "outputs": [
    {
     "name": "stdout",
     "output_type": "stream",
     "text": [
      "Connected to DB.\n",
      "Finished encoding the query.\n",
      "Found the most relevant documents.\n",
      "Prompt to LLM: You are an AI assistant. Your task is to understand the user question, and provide an answer using the provided contexts. Every answer you generate should have citations in this pattern  \"Answer [position].\", for example: \"Earth is round [1][2].,\" if it's relevant.\n",
      "    Your answers are correct, high-quality, and written by an domain expert. If the provided context does not contain the answer, simply state, \"The provided context does not have the answer.\"\n",
      "\n",
      "    User question: Which are the best restaurants in Germany to eat Italian food?\n",
      "\n",
      "    Contexts:\n",
      "    ['city: Stuttgart, country: Germany, name: Ristorante Italiani, description: Good Italian food, friendly efficient service.', 'city: Aalborg, country: Denmark, name: San Giovanni, description: Good Italian restaurant', 'city: Dresden, country: Germany, name: Vecchia Napoli, description: A good Italian restaurant, with a wood fired pizza oven. You can get a pizza or pasta, or a full multicourse meal. Generally very busy, and the food is excellent.', 'city: Dresden, country: Germany, name: Villa Marie, description: Excellent food, excellent ambiance. Italian food done really well. Reservations strongly recommended. Try to get it on the first floor with its views of the Elbe and the Blaues Wunder, or out on their garden', 'city: Dresden, country: Germany, name: Mamma Mia, description: good Italian food, [http://widmann-gastronomie.de/restaurants/mammamia/speisen-und-getraenke/mittagsangebote.html lunch menu] (11am to 3pm) is particuarly good value']\n",
      "    \n",
      "Finished generating response.\n"
     ]
    },
    {
     "data": {
      "text/plain": [
       "'The provided context does not mention the best restaurants in Germany to eat Italian food, so I cannot answer this question from the provided context.'"
      ]
     },
     "execution_count": 16,
     "metadata": {},
     "output_type": "execute_result"
    }
   ],
   "source": [
    "rag_qa(example, get_context(example))"
   ]
  },
  {
   "cell_type": "code",
   "execution_count": 18,
   "metadata": {},
   "outputs": [
    {
     "name": "stdout",
     "output_type": "stream",
     "text": [
      "Connected to DB.\n",
      "Finished encoding the query.\n",
      "Found the most relevant documents.\n",
      "Prompt to LLM: You are an AI assistant. Your task is to understand the user question, and provide an answer using the provided contexts. Every answer you generate should have citations in this pattern  \"Answer [position].\", for example: \"Earth is round [1][2].,\" if it's relevant.\n",
      "    Your answers are correct, high-quality, and written by an domain expert. If the provided context does not contain the answer, simply state, \"The provided context does not have the answer.\"\n",
      "\n",
      "    User question: Tell me some things to do in Croatia\n",
      "\n",
      "    Contexts:\n",
      "    ['city: Rijeka, country: Croatia, name: Parks and promenades, description: Nature lovers and more active visitors can discover the city in a different way – by researching Rijeka’s promenades by the sea, urban or forest areas, and for those less active, parks are the best option for taking a break during a walk around Rijeka.', 'city: Rijeka, country: Croatia, name: Hotel Neboder, description: Renovated in 2007, this 14-story hotel is part of the complex of the Croatian Cultural Centre. The best part about the hotel is the amazing view of the eastern part of the Istrian peninsula and Učka, Opatija, Rijeka, the small towns of Kostrena and Kraljevica and the island of Krk.', 'city: Rijeka, country: Croatia, name: Rijeka’s beaches, description: Rijeka has the beach for everyone’s taste and thanks to the Mediterranean climate, the bathing season begins in spring and lasts until late autumn. With regard to the city location, Rijeka’s beaches are located to the far east and to the far western parts of the city, and you can choose your favorite – large and noisy or small and secluded, pebbly, concrete, rocky, hidden… City buses drive to all beaches and there is free car parking close to all of them.', 'city: Rijeka, country: Croatia, name: Restaurants, description: There are numerous restaurants offering domestic and international food. Try some of their local fish specialties and also meat and vegetarian dishes as well as exotic specialties. If you didn’t walk into one of the more exclusive restraints in Rijeka, such as Zlatna školjka, Kamov or Municipium, you will find the prices to be mostly moderate.', 'city: Rijeka, country: Croatia, name: Diving around the coast of Rijeka, description: The Adriatic has one of the most indented coasts in Europe and its northern part is especially attractive for divers who like to dive on the underwater cliffs. The area offers various diving conditions both for beginners and for advanced divers. Besides the extremely clear sea and wealth of underwater life, underwater cliffs with gorgonian corals and caves can be found here as well as ship wrecks.']\n",
      "    \n",
      "Finished generating response.\n"
     ]
    }
   ],
   "source": [
    "q = \"Tell me some things to do in Croatia\"\n",
    "answer = rag_qa(q)"
   ]
  },
  {
   "cell_type": "code",
   "execution_count": 27,
   "metadata": {},
   "outputs": [
    {
     "name": "stdout",
     "output_type": "stream",
     "text": [
      "Prompt: Tell me some things to do in Croatia\n",
      "\n",
      "\n",
      "**Answer 1.**\n",
      "Rijeka has a beautiful coastline with several stunning beaches, each catering to different tastes. From the lively and bustling beaches of Rijeka to the secluded and peaceful beaches of the nearby islands, there is a perfect beach for everyone.\n",
      "\n",
      "**Answer 2.**\n",
      "Rijeka is a vibrant city with a rich history and culture. Hotel Neboder is a luxurious hotel with stunning views of the city, making it an ideal choice for travelers seeking a luxurious stay.\n",
      "\n",
      "**Answer 3.**\n",
      "Rijeka offers a wide array of dining options to suit all tastes and budgets. From traditional Croatian cuisine to international dishes, there is something to tantalize your taste buds.\n",
      "\n",
      "**Answer 4.**\n",
      "The Adriatic Sea boasts some of the most beautiful diving spots in Europe, with breathtaking underwater cliffs and caves that offer a plethora of diving opportunities for divers of all levels.\n"
     ]
    }
   ],
   "source": [
    "print(f\"Prompt: {q}\\n\\n\")\n",
    "print(answer)"
   ]
  },
  {
   "cell_type": "code",
   "execution_count": 30,
   "metadata": {},
   "outputs": [
    {
     "name": "stdout",
     "output_type": "stream",
     "text": [
      "Connected to DB.\n",
      "Finished encoding the query.\n",
      "Found the most relevant documents.\n",
      "Finished generating response.\n"
     ]
    },
    {
     "data": {
      "text/plain": [
       "'The provided context does not mention any places to visit in France for the month of September for a user travelling from Munich, so I cannot generate an answer from the context.'"
      ]
     },
     "execution_count": 30,
     "metadata": {},
     "output_type": "execute_result"
    }
   ],
   "source": [
    "query = \"Suggest some places to visit in France for the month of September for a user who is travelling from Munich\"\n",
    "rag_qa(query)"
   ]
  },
  {
   "cell_type": "code",
   "execution_count": 31,
   "metadata": {},
   "outputs": [
    {
     "name": "stdout",
     "output_type": "stream",
     "text": [
      "Connected to DB.\n",
      "Finished encoding the query.\n",
      "Found the most relevant documents.\n"
     ]
    },
    {
     "data": {
      "text/plain": [
       "['city: Munich, country: Germany, name: Tollwood, description: This three week long festival combines ethnic food, souvenir shops, concerts & theater and it is very popular among the locals.',\n",
       " \"city: Munich, country: Germany, name: River-Surfing, description: In spring, join the locals surfing on the river at the edge of the ''Englischer Garten'', at the bridge near the Lehel U-bahn station.\",\n",
       " 'city: Dresden, country: Germany, name: Tips in English, description: weekly tips in English covering events which might be of particular interest to visitors',\n",
       " \"city: Rennes, country: France, name: campsite, description: The at Rennes is rather large. To get there, take the number 3 bus, and get off at the ''Piscine/Gayeulles'' stop. The neighbouring park has much to offer, including an ice rink, a pool and sports facilities.\",\n",
       " 'city: Stuttgart, country: Germany, name: Mercedes-Benz Museum, description: Built in 2006 in an astonishing architecture, the Mercedes-Benz museum houses a collection of automobiles built by the company over its long history. Both pioneering vehicles, significant technological breakthroughs as well as those significant for their participation in history (record-breaking or winning sportscars, cars used by famous personalities) are exhibited brilliantly.<br>The museum ticket includes the use of an electronic audioguide, but the visit may be enhanced by a guided tour (extra €4), of which there is a variety to choose from. You can also combine your museum visit with a tour of the factory in Unterturkheim (€4, 90 mins, Tu&Fr 11:45AM in English). There is an on-site cafe and high-class restaurant in the Museum and a museum shop. There are special events throughout the year, so do browse the page to see what is on on the days of your visit to Stuttgart.']"
      ]
     },
     "execution_count": 31,
     "metadata": {},
     "output_type": "execute_result"
    }
   ],
   "source": [
    "query = \"Suggest some places to visit in France for the month of September for a user who is travelling from Munich\"\n",
    "get_context(query)"
   ]
  },
  {
   "cell_type": "code",
   "execution_count": null,
   "metadata": {},
   "outputs": [],
   "source": []
  }
 ],
 "metadata": {
  "kernelspec": {
   "display_name": ".env",
   "language": "python",
   "name": "python3"
  },
  "language_info": {
   "codemirror_mode": {
    "name": "ipython",
    "version": 3
   },
   "file_extension": ".py",
   "mimetype": "text/x-python",
   "name": "python",
   "nbconvert_exporter": "python",
   "pygments_lexer": "ipython3",
   "version": "3.9.6"
  }
 },
 "nbformat": 4,
 "nbformat_minor": 2
}
