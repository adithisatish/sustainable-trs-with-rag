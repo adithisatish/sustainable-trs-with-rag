{
 "cells": [
  {
   "cell_type": "code",
   "execution_count": 1,
   "metadata": {},
   "outputs": [],
   "source": [
    "import pandas as pd \n",
    "import numpy as np \n",
    "import os "
   ]
  },
  {
   "cell_type": "code",
   "execution_count": 2,
   "metadata": {},
   "outputs": [],
   "source": [
    "wikivoyage_dir = \"../../european-city-data/data-sources/wikivoyage/listings/\"\n",
    "\n",
    "df = pd.read_csv(wikivoyage_dir + \"wikivoyage-listings-cleaned.csv\")"
   ]
  },
  {
   "cell_type": "code",
   "execution_count": 3,
   "metadata": {},
   "outputs": [],
   "source": [
    "cities_csv = \"../../european-city-data/data-sources/city_abstracts_embeddings.csv\"\n",
    "cities = pd.read_csv(cities_csv)\n"
   ]
  },
  {
   "cell_type": "code",
   "execution_count": 15,
   "metadata": {},
   "outputs": [
    {
     "data": {
      "text/plain": [
       "7168"
      ]
     },
     "execution_count": 15,
     "metadata": {},
     "output_type": "execute_result"
    }
   ],
   "source": [
    "len(df)"
   ]
  },
  {
   "cell_type": "code",
   "execution_count": 14,
   "metadata": {},
   "outputs": [
    {
     "data": {
      "text/plain": [
       "array(['see', 'do', 'eat', 'drink', 'sleep', 'go'], dtype=object)"
      ]
     },
     "execution_count": 14,
     "metadata": {},
     "output_type": "execute_result"
    }
   ],
   "source": [
    "df['type'].unique()"
   ]
  },
  {
   "cell_type": "code",
   "execution_count": 12,
   "metadata": {},
   "outputs": [
    {
     "name": "stdout",
     "output_type": "stream",
     "text": [
      "Arad not found!!\n",
      "----------------\n",
      "\n",
      "Batman not found!!\n",
      "----------------\n",
      "\n",
      "Brest not found!!\n",
      "----------------\n",
      "\n",
      "Erzincan not found!!\n",
      "----------------\n",
      "\n",
      "Isparta not found!!\n",
      "----------------\n",
      "\n",
      "Istanbul not found!!\n",
      "----------------\n",
      "\n",
      "Kahramanmaras not found!!\n",
      "----------------\n",
      "\n",
      "Luxembourg not found!!\n",
      "----------------\n",
      "\n",
      "Murcia not found!!\n",
      "----------------\n",
      "\n",
      "Mykolaiv not found!!\n",
      "----------------\n",
      "\n",
      "Nalchik not found!!\n",
      "----------------\n",
      "\n",
      "Orenburg not found!!\n",
      "----------------\n",
      "\n",
      "Penza not found!!\n",
      "----------------\n",
      "\n",
      "Saratov not found!!\n",
      "----------------\n",
      "\n",
      "Siirt not found!!\n",
      "----------------\n",
      "\n",
      "Stavropol not found!!\n",
      "----------------\n",
      "\n",
      "Valladolid not found!!\n",
      "----------------\n",
      "\n",
      "Vinnytsia not found!!\n",
      "----------------\n",
      "\n",
      "Zaporizhzhia not found!!\n",
      "----------------\n",
      "\n"
     ]
    }
   ],
   "source": [
    "for city in cities['city']:\n",
    "    city_df = df[df['city'] == city]\n",
    "\n",
    "    if city_df.empty:\n",
    "        print(f'{city} not found!!\\n----------------\\n')"
   ]
  },
  {
   "cell_type": "code",
   "execution_count": 10,
   "metadata": {},
   "outputs": [],
   "source": [
    "grouped = df.groupby(['city', 'type']).size().reset_index(name='counts')"
   ]
  },
  {
   "cell_type": "code",
   "execution_count": 11,
   "metadata": {},
   "outputs": [
    {
     "data": {
      "text/html": [
       "<div>\n",
       "<style scoped>\n",
       "    .dataframe tbody tr th:only-of-type {\n",
       "        vertical-align: middle;\n",
       "    }\n",
       "\n",
       "    .dataframe tbody tr th {\n",
       "        vertical-align: top;\n",
       "    }\n",
       "\n",
       "    .dataframe thead th {\n",
       "        text-align: right;\n",
       "    }\n",
       "</style>\n",
       "<table border=\"1\" class=\"dataframe\">\n",
       "  <thead>\n",
       "    <tr style=\"text-align: right;\">\n",
       "      <th></th>\n",
       "      <th>city</th>\n",
       "      <th>type</th>\n",
       "      <th>counts</th>\n",
       "    </tr>\n",
       "  </thead>\n",
       "  <tbody>\n",
       "    <tr>\n",
       "      <th>0</th>\n",
       "      <td>Aalborg</td>\n",
       "      <td>do</td>\n",
       "      <td>7</td>\n",
       "    </tr>\n",
       "    <tr>\n",
       "      <th>1</th>\n",
       "      <td>Aalborg</td>\n",
       "      <td>drink</td>\n",
       "      <td>6</td>\n",
       "    </tr>\n",
       "    <tr>\n",
       "      <th>2</th>\n",
       "      <td>Aalborg</td>\n",
       "      <td>eat</td>\n",
       "      <td>3</td>\n",
       "    </tr>\n",
       "    <tr>\n",
       "      <th>3</th>\n",
       "      <td>Aalborg</td>\n",
       "      <td>see</td>\n",
       "      <td>16</td>\n",
       "    </tr>\n",
       "    <tr>\n",
       "      <th>4</th>\n",
       "      <td>Aalborg</td>\n",
       "      <td>sleep</td>\n",
       "      <td>5</td>\n",
       "    </tr>\n",
       "    <tr>\n",
       "      <th>...</th>\n",
       "      <td>...</td>\n",
       "      <td>...</td>\n",
       "      <td>...</td>\n",
       "    </tr>\n",
       "    <tr>\n",
       "      <th>516</th>\n",
       "      <td>Zurich</td>\n",
       "      <td>do</td>\n",
       "      <td>9</td>\n",
       "    </tr>\n",
       "    <tr>\n",
       "      <th>517</th>\n",
       "      <td>Zurich</td>\n",
       "      <td>drink</td>\n",
       "      <td>35</td>\n",
       "    </tr>\n",
       "    <tr>\n",
       "      <th>518</th>\n",
       "      <td>Zurich</td>\n",
       "      <td>eat</td>\n",
       "      <td>38</td>\n",
       "    </tr>\n",
       "    <tr>\n",
       "      <th>519</th>\n",
       "      <td>Zurich</td>\n",
       "      <td>see</td>\n",
       "      <td>17</td>\n",
       "    </tr>\n",
       "    <tr>\n",
       "      <th>520</th>\n",
       "      <td>Zurich</td>\n",
       "      <td>sleep</td>\n",
       "      <td>34</td>\n",
       "    </tr>\n",
       "  </tbody>\n",
       "</table>\n",
       "<p>521 rows × 3 columns</p>\n",
       "</div>"
      ],
      "text/plain": [
       "        city   type  counts\n",
       "0    Aalborg     do       7\n",
       "1    Aalborg  drink       6\n",
       "2    Aalborg    eat       3\n",
       "3    Aalborg    see      16\n",
       "4    Aalborg  sleep       5\n",
       "..       ...    ...     ...\n",
       "516   Zurich     do       9\n",
       "517   Zurich  drink      35\n",
       "518   Zurich    eat      38\n",
       "519   Zurich    see      17\n",
       "520   Zurich  sleep      34\n",
       "\n",
       "[521 rows x 3 columns]"
      ]
     },
     "execution_count": 11,
     "metadata": {},
     "output_type": "execute_result"
    }
   ],
   "source": [
    "grouped"
   ]
  },
  {
   "cell_type": "code",
   "execution_count": null,
   "metadata": {},
   "outputs": [],
   "source": []
  }
 ],
 "metadata": {
  "kernelspec": {
   "display_name": ".env",
   "language": "python",
   "name": "python3"
  },
  "language_info": {
   "codemirror_mode": {
    "name": "ipython",
    "version": 3
   },
   "file_extension": ".py",
   "mimetype": "text/x-python",
   "name": "python",
   "nbconvert_exporter": "python",
   "pygments_lexer": "ipython3",
   "version": "3.9.6"
  }
 },
 "nbformat": 4,
 "nbformat_minor": 2
}
