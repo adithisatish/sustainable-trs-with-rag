{
 "cells": [
  {
   "cell_type": "code",
   "execution_count": 22,
   "metadata": {},
   "outputs": [],
   "source": [
    "import pandas as pd \n",
    "import numpy as np \n",
    "import os \n",
    "import sys\n",
    "import re\n",
    "import json \n",
    "import string"
   ]
  },
  {
   "cell_type": "code",
   "execution_count": null,
   "metadata": {},
   "outputs": [],
   "source": [
    "import gensim\n",
    "from gensim.utils import simple_preprocess\n",
    "import nltk\n",
    "nltk.download('stopwords')\n",
    "\n",
    "from nltk.corpus import stopwords\n",
    "stop_words = stopwords.words('english')"
   ]
  },
  {
   "cell_type": "code",
   "execution_count": 2,
   "metadata": {},
   "outputs": [],
   "source": [
    "wikivoyage_dir = \"../../../../european-city-data/data-sources/wikivoyage/listings/\"\n",
    "cities = pd.read_csv(\"../../../../european-city-data/archive/city_abstracts_embeddings.csv\")"
   ]
  },
  {
   "cell_type": "code",
   "execution_count": 59,
   "metadata": {},
   "outputs": [],
   "source": [
    "listings = pd.read_csv(f\"{wikivoyage_dir}/wikivoyage-listings-cleaned.csv\")\n",
    "things_to_do = listings[listings['type'].isin(['do', 'see', 'go'])]\n",
    "\n",
    "things_to_do = things_to_do[things_to_do['description'] != \"No description found.\"]\n",
    "things_to_do['description_processed'] = things_to_do['title'] + \": \" + things_to_do['description']\n",
    "things_to_do.dropna(subset=['description_processed'], inplace=True)"
   ]
  },
  {
   "cell_type": "code",
   "execution_count": 60,
   "metadata": {},
   "outputs": [
    {
     "data": {
      "text/html": [
       "<div>\n",
       "<style scoped>\n",
       "    .dataframe tbody tr th:only-of-type {\n",
       "        vertical-align: middle;\n",
       "    }\n",
       "\n",
       "    .dataframe tbody tr th {\n",
       "        vertical-align: top;\n",
       "    }\n",
       "\n",
       "    .dataframe thead th {\n",
       "        text-align: right;\n",
       "    }\n",
       "</style>\n",
       "<table border=\"1\" class=\"dataframe\">\n",
       "  <thead>\n",
       "    <tr style=\"text-align: right;\">\n",
       "      <th></th>\n",
       "      <th>city</th>\n",
       "      <th>type</th>\n",
       "      <th>title</th>\n",
       "      <th>description</th>\n",
       "      <th>description_processed</th>\n",
       "    </tr>\n",
       "  </thead>\n",
       "  <tbody>\n",
       "    <tr>\n",
       "      <th>0</th>\n",
       "      <td>Aalborg</td>\n",
       "      <td>see</td>\n",
       "      <td>Aalborg Akvavit</td>\n",
       "      <td>Distillery.</td>\n",
       "      <td>Aalborg Akvavit: Distillery.</td>\n",
       "    </tr>\n",
       "    <tr>\n",
       "      <th>1</th>\n",
       "      <td>Aalborg</td>\n",
       "      <td>see</td>\n",
       "      <td>Aalborghus Castle</td>\n",
       "      <td>A castle and garden from the 16th century.</td>\n",
       "      <td>Aalborghus Castle: A castle and garden from th...</td>\n",
       "    </tr>\n",
       "    <tr>\n",
       "      <th>3</th>\n",
       "      <td>Aalborg</td>\n",
       "      <td>see</td>\n",
       "      <td>Aalborg Townhall</td>\n",
       "      <td>Built in 1759.</td>\n",
       "      <td>Aalborg Townhall: Built in 1759.</td>\n",
       "    </tr>\n",
       "    <tr>\n",
       "      <th>4</th>\n",
       "      <td>Aalborg</td>\n",
       "      <td>see</td>\n",
       "      <td>Aalborg Zoo</td>\n",
       "      <td>Cosy zoo with many \"classic\" zoo animals such ...</td>\n",
       "      <td>Aalborg Zoo: Cosy zoo with many \"classic\" zoo ...</td>\n",
       "    </tr>\n",
       "    <tr>\n",
       "      <th>8</th>\n",
       "      <td>Aalborg</td>\n",
       "      <td>see</td>\n",
       "      <td>Elbjørn</td>\n",
       "      <td>Icebreaker now working as a restaurant and cul...</td>\n",
       "      <td>Elbjørn: Icebreaker now working as a restauran...</td>\n",
       "    </tr>\n",
       "  </tbody>\n",
       "</table>\n",
       "</div>"
      ],
      "text/plain": [
       "      city type              title  \\\n",
       "0  Aalborg  see    Aalborg Akvavit   \n",
       "1  Aalborg  see  Aalborghus Castle   \n",
       "3  Aalborg  see   Aalborg Townhall   \n",
       "4  Aalborg  see        Aalborg Zoo   \n",
       "8  Aalborg  see            Elbjørn   \n",
       "\n",
       "                                         description  \\\n",
       "0                                        Distillery.   \n",
       "1         A castle and garden from the 16th century.   \n",
       "3                                     Built in 1759.   \n",
       "4  Cosy zoo with many \"classic\" zoo animals such ...   \n",
       "8  Icebreaker now working as a restaurant and cul...   \n",
       "\n",
       "                               description_processed  \n",
       "0                       Aalborg Akvavit: Distillery.  \n",
       "1  Aalborghus Castle: A castle and garden from th...  \n",
       "3                   Aalborg Townhall: Built in 1759.  \n",
       "4  Aalborg Zoo: Cosy zoo with many \"classic\" zoo ...  \n",
       "8  Elbjørn: Icebreaker now working as a restauran...  "
      ]
     },
     "execution_count": 60,
     "metadata": {},
     "output_type": "execute_result"
    }
   ],
   "source": [
    "things_to_do.head()"
   ]
  },
  {
   "cell_type": "code",
   "execution_count": 61,
   "metadata": {},
   "outputs": [],
   "source": [
    "def preprocess(text):\n",
    "    # Lowercase the text\n",
    "    try:\n",
    "        text = text.lower()\n",
    "        # Remove punctuation\n",
    "        text = text.translate(str.maketrans('', '', string.punctuation))\n",
    "        # Remove numbers\n",
    "        text = re.sub(r'\\d+', '', text)\n",
    "        # Tokenize and remove stopwords\n",
    "        stop_words = set(stopwords.words('english'))\n",
    "        tokens = text.split()\n",
    "        tokens = [word for word in tokens if word not in stop_words]\n",
    "        # Rejoin the tokens into a string\n",
    "        return ' '.join(tokens)\n",
    "    except Exception as e: \n",
    "        print(text)\n",
    "        return ''\n",
    "\n",
    "things_to_do['description_processed'] = things_to_do['description_processed'].apply(preprocess)"
   ]
  },
  {
   "cell_type": "code",
   "execution_count": 62,
   "metadata": {},
   "outputs": [
    {
     "data": {
      "image/jpeg": "[encoded data removed]",
      "image/png": "[encoded data removed]",
      "text/plain": [
       "<PIL.Image.Image image mode=RGB size=400x200>"
      ]
     },
     "execution_count": 62,
     "metadata": {},
     "output_type": "execute_result"
    }
   ],
   "source": [
    "from wordcloud import WordCloud\n",
    "# Join the different processed titles together.\n",
    "long_string = ','.join(list(things_to_do['description_processed'].values))\n",
    "# Create a WordCloud object\n",
    "wordcloud = WordCloud(background_color=\"white\", max_words=5000, contour_width=3, contour_color='steelblue')\n",
    "# Generate a word cloud\n",
    "wordcloud.generate(long_string)\n",
    "# Visualize the word cloud\n",
    "wordcloud.to_image()"
   ]
  },
  {
   "cell_type": "code",
   "execution_count": 47,
   "metadata": {},
   "outputs": [],
   "source": [
    "# stop_words.extend(['from', 'subject', 're', 'edu', 'use'])\n",
    "def sent_to_words(sentences):\n",
    "    for sentence in sentences:\n",
    "        # deacc=True removes punctuations\n",
    "        yield(gensim.utils.simple_preprocess(str(sentence), deacc=True))\n",
    "\n",
    "def remove_stopwords(texts):\n",
    "    return [[word for word in simple_preprocess(str(doc)) \n",
    "             if word not in stop_words] for doc in texts]\n",
    "\n",
    "data = things_to_do.description_processed.values.tolist()\n",
    "data_words = list(sent_to_words(data))\n",
    "# remove stop words\n",
    "data_words = remove_stopwords(data_words)\n",
    "# print(data_words)"
   ]
  },
  {
   "cell_type": "code",
   "execution_count": 48,
   "metadata": {},
   "outputs": [
    {
     "name": "stdout",
     "output_type": "stream",
     "text": [
      "[(0, 1)]\n"
     ]
    }
   ],
   "source": [
    "import gensim.corpora as corpora\n",
    "# Create Dictionary\n",
    "id2word = corpora.Dictionary(data_words)\n",
    "# Create Corpus\n",
    "texts = data_words\n",
    "# Term Document Frequency\n",
    "corpus = [id2word.doc2bow(text) for text in texts]\n",
    "# View\n",
    "print(corpus[:1][0][:30])"
   ]
  },
  {
   "cell_type": "code",
   "execution_count": 49,
   "metadata": {},
   "outputs": [
    {
     "name": "stdout",
     "output_type": "stream",
     "text": [
      "[(0,\n",
      "  '0.007*\"city\" + 0.006*\"also\" + 0.006*\"church\" + 0.006*\"th\" + 0.006*\"museum\" '\n",
      "  '+ 0.005*\"built\" + 0.005*\"tower\" + 0.005*\"collection\" + 0.004*\"art\" + '\n",
      "  '0.004*\"century\"'),\n",
      " (1,\n",
      "  '0.009*\"museum\" + 0.008*\"one\" + 0.008*\"building\" + 0.006*\"also\" + '\n",
      "  '0.005*\"church\" + 0.004*\"city\" + 0.004*\"built\" + 0.004*\"history\" + '\n",
      "  '0.004*\"old\" + 0.004*\"area\"'),\n",
      " (2,\n",
      "  '0.007*\"one\" + 0.006*\"built\" + 0.004*\"art\" + 0.003*\"well\" + 0.003*\"festival\" '\n",
      "  '+ 0.003*\"theater\" + 0.003*\"centre\" + 0.003*\"small\" + 0.003*\"best\" + '\n",
      "  '0.003*\"main\"'),\n",
      " (3,\n",
      "  '0.011*\"built\" + 0.009*\"th\" + 0.009*\"century\" + 0.008*\"city\" + 0.006*\"one\" + '\n",
      "  '0.006*\"church\" + 0.006*\"small\" + 0.005*\"mosque\" + 0.005*\"building\" + '\n",
      "  '0.004*\"style\"'),\n",
      " (4,\n",
      "  '0.008*\"old\" + 0.008*\"century\" + 0.007*\"th\" + 0.005*\"city\" + 0.005*\"museum\" '\n",
      "  '+ 0.005*\"built\" + 0.005*\"building\" + 0.004*\"tower\" + 0.004*\"one\" + '\n",
      "  '0.003*\"art\"'),\n",
      " (5,\n",
      "  '0.011*\"city\" + 0.008*\"built\" + 0.008*\"park\" + 0.007*\"church\" + 0.006*\"one\" '\n",
      "  '+ 0.005*\"museum\" + 0.005*\"art\" + 0.005*\"also\" + 0.003*\"place\" + '\n",
      "  '0.003*\"palace\"'),\n",
      " (6,\n",
      "  '0.006*\"museum\" + 0.005*\"one\" + 0.005*\"city\" + 0.005*\"also\" + 0.004*\"built\" '\n",
      "  '+ 0.004*\"place\" + 0.004*\"new\" + 0.004*\"square\" + 0.004*\"year\" + '\n",
      "  '0.003*\"building\"'),\n",
      " (7,\n",
      "  '0.015*\"museum\" + 0.008*\"art\" + 0.006*\"also\" + 0.005*\"one\" + 0.005*\"park\" + '\n",
      "  '0.005*\"located\" + 0.004*\"collection\" + 0.004*\"city\" + 0.004*\"history\" + '\n",
      "  '0.004*\"exhibitions\"'),\n",
      " (8,\n",
      "  '0.012*\"church\" + 0.009*\"th\" + 0.008*\"museum\" + 0.008*\"city\" + '\n",
      "  '0.008*\"century\" + 0.007*\"built\" + 0.006*\"building\" + 0.005*\"one\" + '\n",
      "  '0.005*\"also\" + 0.004*\"festival\"'),\n",
      " (9,\n",
      "  '0.009*\"th\" + 0.008*\"also\" + 0.007*\"century\" + 0.006*\"city\" + 0.005*\"museum\" '\n",
      "  '+ 0.005*\"park\" + 0.005*\"one\" + 0.005*\"built\" + 0.004*\"art\" + 0.004*\"two\"')]\n"
     ]
    }
   ],
   "source": [
    "from pprint import pprint\n",
    "# number of topics\n",
    "num_topics = 10\n",
    "# Build LDA model\n",
    "lda_model = gensim.models.LdaMulticore(corpus=corpus,\n",
    "                                       id2word=id2word,\n",
    "                                       num_topics=num_topics)\n",
    "# Print the Keyword in the 10 topics\n",
    "pprint(lda_model.print_topics())\n",
    "doc_lda = lda_model[corpus]"
   ]
  },
  {
   "cell_type": "code",
   "execution_count": 51,
   "metadata": {},
   "outputs": [
    {
     "data": {
      "text/html": [
       "\n",
       "<link rel=\"stylesheet\" type=\"text/css\" href=\"https://cdn.jsdelivr.net/gh/bmabey/pyLDAvis@3.4.0/pyLDAvis/js/ldavis.v1.0.0.css\">\n",
       "\n",
       "\n",
       "<div id=\"ldavis_el47755109563555048956037770\" style=\"background-color:white;\"></div>\n",
       "<script type=\"text/javascript\">\n",
       "\n",
       "var ldavis_el47755109563555048956037770_data = {\"mdsDat\": {\"x\": [-0.014436593474306507, -0.016636511208237472, 0.0028919945903131484, 0.002659802138113579, 0.0034499788770704963, 0.01823385729190527, -0.03900195303320762, -0.015871049502130266, 0.08767269682308117, -0.028962222502601612], \"y\": [0.01654057318169728, 0.009149091362523946, -0.013513479860916252, 0.023523641518887355, 0.010250485225032323, 0.004068985527096924, 0.02009959878921648, 0.02843403768669308, -0.011670230964754629, -0.08688270246547664], \"topics\": [1, 2, 3, 4, 5, 6, 7, 8, 9, 10], \"cluster\": [1, 1, 1, 1, 1, 1, 1, 1, 1, 1], \"Freq\": [15.450113128164874, 13.307856612285274, 11.916472748218974, 10.039595150664136, 9.90580007933277, 9.190049189111702, 8.860976612078332, 8.739478268244318, 6.399565700326532, 6.190092511573088]}, \"tinfo\": {\"Term\": [\"th\", \"century\", \"built\", \"mosque\", \"art\", \"old\", \"museum\", \"tower\", \"city\", \"park\", \"festival\", \"church\", \"theatre\", \"island\", \"theater\", \"small\", \"collection\", \"monastery\", \"new\", \"palace\", \"square\", \"contemporary\", \"opened\", \"great\", \"ottoman\", \"st\", \"one\", \"street\", \"europe\", \"river\", \"hrs\", \"sch\\u00f8tstuene\", \"tofrom\", \"ossuary\", \"designers\", \"ferries\", \"marine\", \"maerlant\", \"scout\", \"arboretum\", \"luisenplatz\", \"giacometti\", \"pavillon\", \"operetta\", \"hagia\", \"subject\", \"ibiza\", \"tsarist\", \"flags\", \"manor\", \"riigikogu\", \"geiereck\", \"annunciation\", \"martin\", \"arsenal\", \"authorities\", \"fourviere\", \"luther\", \"oblast\", \"pristina\", \"zigana\", \"uzungol\", \"revolution\", \"hanseatic\", \"model\", \"dozens\", \"church\", \"era\", \"festival\", \"mid\", \"brinkhall\", \"th\", \"century\", \"city\", \"building\", \"new\", \"collection\", \"museum\", \"times\", \"main\", \"harbour\", \"built\", \"world\", \"many\", \"dating\", \"free\", \"roman\", \"artifacts\", \"used\", \"cathedral\", \"around\", \"one\", \"oldest\", \"also\", \"style\", \"village\", \"buildings\", \"old\", \"area\", \"time\", \"public\", \"available\", \"famous\", \"first\", \"tower\", \"history\", \"park\", \"art\", \"rytas\", \"gaia\", \"farmhouse\", \"cagliari\", \"\\u0442\\u0440\\u043e\\u0456\\u0446\\u044c\\u043a\\u0438\\u0438\", \"recreates\", \"linkmay\", \"lietuvos\", \"cannot\", \"bags\", \"flaming\", \"strand\", \"ramps\", \"william\", \"blockbuster\", \"operations\", \"damming\", \"andre\", \"kruonis\", \"manifestation\", \"streva\", \"rumsiskes\", \"naval\", \"lawn\", \"arkhangelsks\", \"quarters\", \"gaspard\", \"skate\", \"naberezhnaya\", \"shershni\", \"supports\", \"maritime\", \"bremen\", \"wish\", \"movies\", \"serve\", \"cathedral\", \"reservoir\", \"kaunas\", \"building\", \"jewish\", \"cinema\", \"great\", \"architect\", \"ukrainian\", \"one\", \"museum\", \"st\", \"open\", \"name\", \"history\", \"construction\", \"area\", \"also\", \"river\", \"mosque\", \"time\", \"designed\", \"movie\", \"nice\", \"synagogue\", \"old\", \"first\", \"town\", \"complex\", \"large\", \"beautiful\", \"church\", \"part\", \"built\", \"well\", \"located\", \"city\", \"see\", \"style\", \"park\", \"art\", \"century\", \"th\", \"main\", \"two\", \"alpine\", \"divers\", \"herbaceous\", \"galluzzi\", \"shot\", \"unconventional\", \"glagolitic\", \"cardinal\", \"lambertini\", \"picassos\", \"tepesi\", \"bombed\", \"theta\", \"guernica\", \"locomotive\", \"tango\", \"drawing\", \"farka\", \"incidentally\", \"skopjes\", \"anyhow\", \"sandstones\", \"galeries\", \"nicosias\", \"alvaro\", \"archistratigus\", \"expert\", \"retiro\", \"admittance\", \"munnich\", \"assorted\", \"roses\", \"preseren\", \"dali\", \"underwater\", \"adriatic\", \"ethno\", \"corbusier\", \"displaying\", \"revolving\", \"permanent\", \"quite\", \"species\", \"museum\", \"painting\", \"exhibitions\", \"art\", \"temporary\", \"section\", \"painters\", \"concert\", \"located\", \"garden\", \"culture\", \"masters\", \"natural\", \"collection\", \"park\", \"history\", \"modern\", \"exhibits\", \"also\", \"hall\", \"zoo\", \"exhibition\", \"works\", \"collections\", \"two\", \"three\", \"artists\", \"one\", \"area\", \"buildings\", \"music\", \"old\", \"well\", \"world\", \"church\", \"city\", \"century\", \"th\", \"building\", \"small\", \"houses\", \"dynamic\", \"comics\", \"announced\", \"gpsenabled\", \"alaadin\", \"smells\", \"bartok\", \"hunt\", \"stnicolas\", \"fischer\", \"ciurlionis\", \"johann\", \"styled\", \"marulic\", \"ariana\", \"tablets\", \"romanticism\", \"talk\", \"focuses\", \"race\", \"baked\", \"skeleton\", \"gathered\", \"vessel\", \"entering\", \"englishstyle\", \"parmigianino\", \"karts\", \"vending\", \"sardinero\", \"stadion\", \"skyscrapers\", \"waterfalls\", \"moravia\", \"chief\", \"companies\", \"park\", \"city\", \"palace\", \"built\", \"fine\", \"call\", \"church\", \"fun\", \"hill\", \"art\", \"works\", \"place\", \"one\", \"fish\", \"year\", \"amusement\", \"former\", \"villa\", \"style\", \"theatre\", \"international\", \"also\", \"house\", \"well\", \"square\", \"museum\", \"baroque\", \"national\", \"exhibitions\", \"beautiful\", \"hall\", \"houses\", \"large\", \"old\", \"high\", \"small\", \"located\", \"world\", \"century\", \"th\", \"carillon\", \"solovyanenko\", \"devils\", \"bor\", \"biff\", \"howth\", \"apoel\", \"dame\", \"foundry\", \"sustation\", \"pleasing\", \"brown\", \"alexandra\", \"nattjazz\", \"wonder\", \"incline\", \"salzburgs\", \"cruise\", \"stockholm\", \"mine\", \"tampella\", \"mig\", \"reinforced\", \"stops\", \"tuto\", \"marli\", \"oppression\", \"engines\", \"caucasus\", \"vera\", \"emin\", \"spectators\", \"varna\", \"lying\", \"storey\", \"nbspsek\", \"night\", \"vytautas\", \"tower\", \"island\", \"collection\", \"start\", \"goya\", \"see\", \"great\", \"bike\", \"day\", \"also\", \"city\", \"every\", \"church\", \"th\", \"festival\", \"bergen\", \"place\", \"folk\", \"palace\", \"built\", \"street\", \"beautiful\", \"museum\", \"art\", \"main\", \"large\", \"lot\", \"history\", \"including\", \"located\", \"theatre\", \"century\", \"castle\", \"building\", \"monument\", \"one\", \"house\", \"park\", \"small\", \"whiskey\", \"gpo\", \"spy\", \"hemisphere\", \"stalin\", \"blvd\", \"nantes\", \"petrov\", \"senaatintori\", \"areal\", \"bernardines\", \"oktoberfest\", \"bullfighting\", \"traboules\", \"supertitles\", \"fai\", \"appeal\", \"triathlon\", \"adult\", \"package\", \"stuck\", \"shooted\", \"blekki\", \"shoulders\", \"kaleici\", \"galeria\", \"protector\", \"potocki\", \"brazilian\", \"respite\", \"giftshop\", \"uniao\", \"soaps\", \"subjects\", \"romain\", \"mozart\", \"stays\", \"impressively\", \"television\", \"vepsa\", \"champions\", \"boeuf\", \"tiranas\", \"rue\", \"porsche\", \"weekend\", \"new\", \"tickets\", \"prague\", \"year\", \"du\", \"st\", \"matches\", \"watch\", \"held\", \"part\", \"local\", \"square\", \"find\", \"place\", \"popular\", \"open\", \"mosque\", \"summer\", \"residence\", \"buildings\", \"three\", \"citys\", \"visitors\", \"museum\", \"one\", \"people\", \"also\", \"event\", \"city\", \"house\", \"day\", \"built\", \"two\", \"building\", \"old\", \"well\", \"located\", \"used\", \"world\", \"area\", \"church\", \"park\", \"th\", \"many\", \"behalf\", \"chillout\", \"parachute\", \"tablaos\", \"servandoni\", \"naftalan\", \"teqe\", \"liquorice\", \"kostaki\", \"wanted\", \"lifesize\", \"garners\", \"prishtina\", \"maximilian\", \"spilberk\", \"mehmet\", \"salmiak\", \"paid\", \"demanding\", \"numbering\", \"skupi\", \"conveniently\", \"tops\", \"attika\", \"directory\", \"opart\", \"plainpalais\", \"flamencos\", \"austrianturkish\", \"escaping\", \"writing\", \"bench\", \"iv\", \"product\", \"tabakhane\", \"exhibitors\", \"island\", \"fair\", \"mosque\", \"ottoman\", \"dance\", \"lari\", \"built\", \"nature\", \"small\", \"century\", \"th\", \"oil\", \"style\", \"baroque\", \"city\", \"contemporary\", \"one\", \"former\", \"inside\", \"restored\", \"church\", \"building\", \"oldest\", \"late\", \"located\", \"port\", \"art\", \"first\", \"theatre\", \"famous\", \"main\", \"bridge\", \"old\", \"park\", \"place\", \"also\", \"well\", \"offers\", \"buildings\", \"history\", \"area\", \"museum\", \"ugc\", \"demonstration\", \"brouckere\", \"guitar\", \"alyosha\", \"liturgical\", \"cattedrale\", \"churchyard\", \"ir\", \"mound\", \"promising\", \"arc\", \"izmir\", \"hyysalo\", \"miklos\", \"panemune\", \"fuckparade\", \"directed\", \"stallhof\", \"kart\", \"deemed\", \"gastronomic\", \"relationship\", \"korunni\", \"philo\", \"schwabische\", \"cer\", \"dialogue\", \"centrally\", \"mattock\", \"stock\", \"ribnica\", \"castellana\", \"paseo\", \"berlins\", \"creating\", \"planes\", \"motorcycles\", \"mall\", \"leisure\", \"\\u0437\\u0430\\u043c\\u043e\\u043a\", \"di\", \"de\", \"entertainment\", \"th\", \"river\", \"center\", \"european\", \"also\", \"two\", \"century\", \"tours\", \"theatre\", \"like\", \"castle\", \"park\", \"locals\", \"city\", \"centuries\", \"offers\", \"art\", \"many\", \"collection\", \"museum\", \"place\", \"one\", \"hill\", \"first\", \"built\", \"tour\", \"modern\", \"building\", \"day\", \"europe\", \"largest\", \"small\", \"large\", \"bolshoi\", \"gondola\", \"nacional\", \"acronym\", \"cypriot\", \"saragozza\", \"mineralbad\", \"vakano\", \"auditorio\", \"waterloo\", \"showings\", \"animated\", \"saal\", \"maliy\", \"daimler\", \"smoked\", \"recitals\", \"cubic\", \"breathtaking\", \"cannstatt\", \"talent\", \"tramway\", \"coverage\", \"jukupark\", \"wellness\", \"dnistrova\", \"mummified\", \"dayoff\", \"knots\", \"nagyerdei\", \"cruising\", \"motorized\", \"heated\", \"tomislav\", \"debrecen\", \"conferences\", \"fjord\", \"chamber\", \"october\", \"circus\", \"theater\", \"metres\", \"films\", \"best\", \"centre\", \"available\", \"one\", \"russian\", \"built\", \"festival\", \"market\", \"music\", \"well\", \"art\", \"europe\", \"live\", \"stuttgart\", \"jazz\", \"main\", \"small\", \"ski\", \"water\", \"club\", \"area\", \"oldest\", \"every\", \"modern\", \"world\", \"contemporary\", \"square\", \"house\", \"located\", \"largest\", \"around\", \"building\", \"park\", \"city\", \"church\", \"also\", \"hall\", \"th\", \"many\", \"midi\", \"lisi\", \"fork\", \"moixent\", \"consulate\", \"strossmayer\", \"iverskoy\", \"turtle\", \"wilhelma\", \"hellenistic\", \"oldnew\", \"exposure\", \"astrakhan\", \"bison\", \"midoctober\", \"melting\", \"core\", \"budapest\", \"infinite\", \"optical\", \"parkmonument\", \"nomads\", \"leaflet\", \"matchdays\", \"flood\", \"blankets\", \"collect\", \"banyas\", \"obscure\", \"tatarian\", \"schauspielhaus\", \"wax\", \"suyumbike\", \"explaining\", \"hop\", \"linnateatteri\", \"murat\", \"moldova\", \"apse\", \"easter\", \"old\", \"last\", \"pedestrian\", \"opened\", \"monastery\", \"century\", \"th\", \"tower\", \"fortress\", \"death\", \"street\", \"cafes\", \"hotel\", \"square\", \"building\", \"city\", \"early\", \"christmas\", \"different\", \"built\", \"recently\", \"number\", \"museum\", \"roman\", \"hall\", \"children\", \"including\", \"architecture\", \"floor\", \"town\", \"art\", \"one\", \"largest\", \"history\", \"also\", \"former\", \"church\", \"park\", \"national\", \"exhibitions\"], \"Freq\": [379.0, 333.0, 395.0, 103.0, 268.0, 212.0, 489.0, 131.0, 439.0, 256.0, 137.0, 380.0, 97.0, 45.0, 66.0, 166.0, 180.0, 63.0, 96.0, 101.0, 135.0, 57.0, 53.0, 108.0, 35.0, 114.0, 381.0, 99.0, 71.0, 78.0, 4.611245410822666, 3.761505550131607, 3.6130613743142703, 2.873158036249089, 5.71128840621532, 2.776828223522903, 1.946617570680503, 1.9465648780979214, 1.9463452479528254, 1.9463317250776495, 1.9462218322874283, 1.946058625173238, 1.9458943300116198, 1.9457744893592, 1.945595738710325, 1.8776487311892516, 1.8637790797546703, 1.8571673264058028, 1.8416744636440894, 4.216399216638922, 1.783458641447773, 1.7754374003736892, 1.7588034867307656, 1.7669263825216879, 3.495925607800417, 4.083144804656945, 2.871081420015202, 1.7446761234911106, 2.8729609442292863, 1.7043263509321809, 2.2590822538581468, 2.7835019955751625, 3.3683458294611626, 3.7561532893982474, 3.6605111226465166, 4.122298657657228, 124.24370555085952, 11.003077950495438, 47.833206089436985, 6.516776756270874, 4.10773498739897, 98.68310139049723, 87.29112793263677, 89.48638237110066, 66.44536777438333, 28.350656201453617, 43.82631662246082, 90.02586488597467, 21.35896539513073, 38.36090890445858, 5.976683691354454, 73.16329838694112, 35.64526189867916, 35.24506188940859, 9.865312350776277, 23.97904080180589, 23.00229751704169, 11.051132342326921, 27.259380692235265, 26.479627461686615, 27.210802794155597, 56.763372141231095, 22.47951248886747, 51.476018721750016, 27.732598010041087, 12.129887223485985, 23.88512303479209, 32.95187323456835, 26.855691470298652, 19.252183512609868, 19.610638561648205, 16.914277973705662, 21.822550695363084, 23.98288067661442, 22.909068639485117, 25.169389557622296, 24.433165685087697, 22.645746240131547, 1.999982615788434, 1.9999488772102516, 1.9996938296251832, 1.9997605034820671, 1.9996378664280394, 1.9992340745558261, 1.9988747319215354, 1.998781013648807, 1.9386330278613557, 1.8818781790796655, 1.8660656304551622, 1.845106208175653, 3.6026715166280234, 2.369249077978321, 1.7547741105240202, 3.4440985925723346, 1.6994029450975439, 2.281923730282314, 1.6851581692925426, 1.6873351108847805, 1.6637482298877024, 1.6598057699205053, 1.6611302768806535, 1.6199530116254115, 1.6494102713429597, 1.6360693413368022, 2.158510421189966, 6.832391970232212, 1.6137657312598719, 1.0482358011542965, 3.06326823271047, 7.164762485631592, 2.074548890068681, 2.4399380934325405, 12.27234890517669, 5.0113564971074105, 32.90526100676351, 6.194431873048368, 20.093420454726406, 69.05832821940237, 10.563604524303305, 15.636686017961694, 29.38402879477115, 17.296452693974146, 9.727695369127124, 71.89304141614579, 84.6159427918305, 28.892265989845942, 26.20738207007912, 14.874301257639512, 36.42072445741968, 12.761618268514333, 33.213421682418655, 57.98222933718032, 20.04856421173358, 23.82076646063121, 21.135876114468545, 17.719443423772177, 6.463027371622454, 17.261229618351845, 9.692610461015473, 35.07589616254611, 26.338660484385343, 21.404445907459255, 15.849708187406703, 22.703271918747777, 21.402164536934546, 42.889701600527935, 20.193393752743365, 39.746230073315836, 24.948607499823876, 27.502778528118768, 40.116574697291846, 22.111750029000415, 23.1468967345357, 29.099198078162555, 26.65287482492577, 27.637771399222963, 25.423188264393524, 20.994313324679585, 20.60757710703686, 4.711640959099657, 1.9489708539609356, 1.9485608463174093, 1.9482131790173431, 1.9477704426935003, 1.9472964163126516, 1.947503098528277, 1.860847623413176, 1.7505228386242977, 1.709946468148305, 1.7076117024004471, 1.677830761247335, 1.648814088727989, 1.634601449501286, 1.6081977964551266, 1.5731633626274637, 1.5595810801813632, 1.563087484730444, 1.0212430822810843, 1.0212123916504579, 1.0211574841941027, 1.02115172970086, 1.0211460950928934, 1.021144416699031, 1.0211243958579583, 1.0211253549401655, 1.0211166033150259, 1.0211514899303082, 1.0211047346727133, 1.021122717464096, 1.5388432052735228, 2.0023676359547804, 1.5309796902576824, 1.9716531481583528, 2.8756293688651695, 2.877209696571884, 1.9487333612294075, 2.261802370101534, 2.7311803192631463, 2.3078143389861467, 18.473605538531835, 14.71450968218768, 9.702816977356752, 124.11292559898835, 9.390625169048276, 32.6675982889648, 67.35170144527255, 12.765216336834614, 11.08760988093846, 4.786851226696581, 11.736266909134375, 42.028670298884144, 23.677796592227786, 13.261280508637647, 5.771589362355999, 10.330106613061155, 34.76826837447217, 43.64844122044681, 32.805690781468854, 21.71374201262557, 17.299332138486164, 52.75305464819325, 26.722644747316103, 10.563927018818175, 21.288605806364853, 20.861000922503116, 13.524363471614853, 26.71134867708113, 17.620981456438646, 13.000606760164622, 45.1100096137874, 25.71427338745095, 20.796019266644688, 20.687880829632125, 27.680299840070923, 23.042255013213676, 22.002650182192788, 32.471776720252244, 33.33596733376281, 28.1611146047814, 29.27219983269588, 25.691339813715278, 21.12370696617294, 18.133116009703492, 2.442356043922841, 4.117817633921244, 2.2695465573902585, 1.6591392003257885, 1.6589946650162861, 1.6587659941981776, 1.6586871108461712, 1.6585607560787445, 1.6585100525669554, 1.6584766205701382, 1.6583936970976705, 1.6583980402271663, 1.6582400715171302, 1.658143209629071, 1.6580280661959244, 1.657932315340992, 3.192509652697887, 1.625911128588962, 1.4903459975437665, 4.377809889917949, 1.4538742140915881, 2.4485697491922926, 2.3705921921931785, 1.4089199957249248, 1.406585614122396, 1.3571491851129747, 1.3524975924198777, 1.7849379461739037, 1.3398717109633131, 1.3121771902162818, 1.796954274455872, 2.1221144815171504, 2.160612587386685, 3.3496618543887937, 2.117102914090953, 3.2061838444111426, 55.23674026500981, 73.9503584591156, 23.660800644584047, 56.306932622143385, 9.653955916859735, 4.033057118679683, 49.93873961044476, 7.338442484909193, 12.202948718291864, 33.665561029121, 17.423609346866588, 24.24521214954943, 40.6193775819234, 7.148718428047384, 17.182042464245605, 4.271893687892931, 16.027639452265245, 5.121421533636064, 19.812362890563342, 15.748286130993982, 14.356519577720558, 33.3181462225108, 17.627245962548866, 19.848953453557083, 17.716784728259988, 36.01682710308162, 10.904584093914638, 14.192552096823514, 14.65577938052865, 14.347584447308387, 15.771077258540167, 14.179620479251042, 14.321246093997196, 18.152873714802595, 11.573970644518077, 16.062678609001853, 16.63114618257883, 14.711943519133209, 15.972008609561573, 15.971114934915539, 3.2575045418709148, 3.7497422103285545, 2.4268688733506187, 1.6692531627938894, 1.6691445366958397, 1.6689878759379184, 1.668701063176279, 1.6685999113510308, 1.6684944742760432, 1.668373291399687, 1.668250314697858, 1.6481001735096394, 1.632655336192445, 1.6216022819164908, 1.5799288261409463, 1.5690687077602439, 1.4486897641864236, 2.4622648368855686, 1.3766219289208084, 2.8253584322264844, 1.8891324162975835, 2.747240920555267, 1.3575016428676774, 1.8503812018735173, 1.362374669420369, 1.3628377753631553, 1.3093302536323765, 2.192948052333985, 1.7477739862254806, 0.8746352176486643, 2.259674373627705, 2.5969526279677133, 2.5604943211252316, 2.456203101986513, 2.1603869309872206, 3.040685454966131, 12.561190320068466, 3.4568041326427257, 34.34429548211785, 13.11408240990976, 32.83320879441529, 7.380769848150746, 4.581130089663602, 22.433008927948535, 20.273424833517176, 7.419292449484054, 20.472266799479588, 42.17324186158998, 47.84942227793733, 16.40624326127918, 41.980742862497905, 41.45126298546635, 20.875759536911865, 6.424396581085776, 23.34734648614951, 5.261487431293413, 16.42771654806722, 37.537901170267396, 16.148273618724048, 16.715768245166284, 39.958889485091674, 28.147883355618777, 19.48403319888573, 16.679512241974297, 7.544965470311722, 20.54674643309282, 14.427876996858037, 21.636864536983285, 14.736792877340298, 27.261357267541584, 12.995637309852135, 23.74119880686533, 12.288949799310844, 24.804248483005463, 15.420021934237448, 17.258130180856824, 15.575512320694905, 2.5772708288888437, 2.3314059851972986, 1.7464921150569228, 1.7461831264940917, 1.7461422608613055, 1.745779832624831, 1.7454490244028653, 1.7452765011658087, 1.6984579845955523, 1.6690946405959535, 1.6578748979039484, 1.4498081757664851, 2.4572719492663113, 3.472078038064961, 1.433760093841467, 1.4205589226964295, 1.4036224293111348, 1.4407830654849891, 1.4018407062128946, 2.336701135697138, 1.349056916730052, 0.9152751589186527, 0.9152293931081795, 0.9152114566087214, 0.9152020260780784, 0.9151747515041601, 0.9151490486853489, 0.9151421144716408, 0.9151468297369623, 0.9151268592014831, 1.3552305858786111, 1.380883016070205, 1.3457773110146882, 2.5360856675350147, 1.3624310733930598, 2.958433831503652, 1.717746008533524, 1.3579288271166912, 1.7466082400224872, 1.7515661103675666, 3.6747320054380963, 2.1276414341566805, 2.5147597244163356, 7.5661820429481965, 2.4249187572281627, 7.926735268036094, 22.930936593370998, 11.83215099686659, 6.817274388436953, 22.257800848715192, 4.474775695342782, 21.590545317283816, 4.062173337600364, 5.942796444729209, 14.717296476496486, 18.6333897849632, 15.857550442505644, 22.36270829053587, 12.58109119595417, 24.591414132820038, 13.197646715350064, 16.55945115474614, 16.593106684574842, 13.890800333050663, 8.503264656785415, 17.225406382422975, 13.275281802200762, 7.654768379736124, 11.58842392503315, 37.70792426076538, 32.3993801884645, 14.37346598609931, 29.308979764127663, 10.711037679640063, 31.309947537002618, 16.16111885407781, 15.1726379991128, 27.32207716542577, 16.786221762658805, 22.233778513482086, 18.386737399506785, 15.76395963745652, 16.946463860045064, 13.837245274091119, 15.078551628924005, 15.326872663567128, 18.475004207727046, 16.260156437766522, 17.082516461419765, 14.062222971707431, 1.7383319841472742, 1.7382635203578782, 1.7381745530898876, 1.7378810859093003, 1.7377965759192648, 1.737586727273122, 1.7365583441032395, 2.255097023088948, 1.636801967384497, 1.6399331160026451, 1.589748801793293, 1.5924406410961516, 4.132658324364003, 2.5645865133059162, 1.5416583384762959, 2.5788321519426693, 1.4527166552608741, 1.4384064752393262, 1.398337329330966, 1.3893377285566655, 1.3653754022681384, 1.379489194622969, 0.9108601723789971, 0.9108110531759279, 0.9108014254555441, 0.9107884102039142, 0.9107786933379713, 0.9107742360600158, 0.9107369732163082, 0.9107417870765001, 1.7365913279601097, 1.737648772582262, 1.7371101551141248, 1.709149472208436, 1.6829520884619253, 2.016236667898532, 15.839194667084778, 9.049969441526086, 31.251329331865957, 11.91812368384847, 11.105687429516212, 3.2522956500662628, 69.8318214248671, 7.340359443359292, 34.37492696457535, 52.94047524234779, 56.19280191506862, 4.466737012441154, 24.633770639736955, 12.94472822153575, 50.31359381233643, 12.293770232973722, 37.46590445429554, 15.655636116069932, 12.120819290328386, 9.748530445487901, 34.52867666695306, 29.190030118711125, 14.196367529651216, 9.982010509603846, 21.202723523785245, 5.0206679047221225, 24.56023767726798, 17.251026405425886, 13.711434230373984, 14.664097875513809, 16.278765000571514, 9.690851842415364, 18.903104712401554, 20.577880191890873, 16.199817693424492, 20.551955236973, 15.161267650816592, 12.207280498361598, 12.951896950817067, 13.69392461623601, 13.405468129235244, 14.131148638606994, 3.169066534465074, 2.7259485826926007, 1.623788703013215, 1.623457408286038, 1.6229351443052973, 1.551882624420418, 1.5512115943360725, 1.529035597497281, 1.503166473344174, 3.4591393349197066, 1.471366136080497, 1.475376226635649, 2.3964086273216627, 2.4104867189156427, 1.4414079663125234, 1.4090743746644705, 1.8632586957419854, 1.3934298428211846, 1.3780609503010677, 2.6636669324479185, 1.3336469707469825, 1.2948031036016323, 0.8509146805727231, 0.8508821489779632, 0.8508545410840318, 0.8508084693119934, 0.8507833232684762, 0.8507683763195325, 0.8507619579238096, 0.8507598477663116, 1.6938281714526238, 1.6234742895460215, 1.2557142823400627, 3.2460014700683835, 1.6231025501334673, 1.2310910303430325, 1.6241138431143562, 1.623367199053001, 3.8464450276432722, 2.9182370363855057, 3.071252293805458, 3.777000447771825, 19.44030284538762, 5.0147048875598665, 55.43498539662209, 17.42695233959262, 20.168845975725507, 11.837942767077793, 47.199471154283025, 24.752572295905647, 40.118418451981505, 14.344151505493842, 17.086605036749514, 12.882323017534357, 14.62016010622469, 28.164469073068506, 8.282536992023212, 37.19888894412851, 10.158772980531085, 14.088027622251937, 26.619664971974935, 18.358052301701317, 19.609000089946445, 33.20272613184874, 17.90869566928618, 27.713806956547973, 9.816260656095087, 16.357615959793726, 27.513575518339895, 11.929571432725108, 12.771186649204399, 21.56214780232515, 13.704305328652794, 10.919711952163214, 11.690999839551086, 13.489598210008834, 11.811669899456748, 2.2414900778250075, 1.5410171210776766, 1.540988663961015, 1.5408087789294482, 1.5407755574991373, 1.5405582017845456, 1.540474890678301, 1.540411280652822, 1.5403198573368504, 1.539684529673464, 1.531580818451828, 1.5287442491172645, 1.515593713323524, 1.507516527740043, 1.4913912575159116, 1.4881552584262154, 2.468672382466215, 1.350398734685323, 1.315030401631958, 3.4359524404753854, 1.2874115466421476, 2.1114281781580866, 1.644666695995146, 1.2204446115190615, 1.1964441883632229, 0.8073832536793788, 0.8073303955509191, 0.8073284640724127, 0.8073071534262248, 0.8072992343643485, 1.6201492804257491, 1.1960711554810117, 1.9437355402805858, 1.5409401194678864, 1.5403328626254604, 1.8969081315441905, 1.5397359070017356, 3.3106499613788096, 7.2377104281213285, 4.068964647428149, 14.856349622588203, 4.300972300439389, 7.1563107130066905, 13.782619603357688, 13.894353832242196, 10.731783889690755, 30.075427818320964, 9.51514712366453, 27.08612128395531, 14.899472584314474, 8.608149539963344, 13.072355724530725, 15.154459680943045, 19.84330351160201, 9.68256871072496, 4.730406157752027, 4.61549194265451, 5.548022127028078, 13.483010717681847, 13.830996186621485, 3.5212169153161836, 7.005933522408992, 6.469994592354958, 12.825386066417169, 9.508839687453888, 8.834323097763253, 9.291727081623408, 10.746764952047668, 7.304633325534468, 9.944289714018398, 9.649256629689555, 11.102304304660775, 8.72114772838247, 9.314949118941149, 12.331157285944556, 11.416825234528234, 13.278658231456339, 11.794811972812765, 11.561541905449713, 9.215318822030357, 9.73168080100401, 9.095207642098167, 2.1767637655177197, 1.524344534445887, 1.5243231117705973, 1.5242274570344194, 1.5241357879122492, 1.523866385315436, 1.523750927059659, 1.5236308604376858, 1.5235627313482467, 1.52345275331173, 1.523001382525391, 1.4865802189735218, 3.7006196885963862, 1.2284245266875395, 1.2309299832929455, 1.632586088759908, 0.7987308721828493, 0.798699049546009, 0.7986875286305188, 0.7986382066571772, 0.7986279312460643, 0.7986156630279477, 0.7985718212738663, 0.7985535746347386, 0.7985208801448341, 0.7985187005121739, 0.7985124729902873, 0.7985063077436195, 0.7984941640759408, 0.7984794048490695, 1.5458816715879722, 2.9406861532164466, 2.30403861952411, 1.4900869365478508, 1.5242480078566452, 2.1327269654507606, 2.906246960780198, 1.1134624798544046, 1.8949781150844505, 2.9981233348789322, 33.148100605917335, 8.651016332723241, 4.554886729110626, 10.640545168905396, 11.507398280253275, 32.70220804603173, 30.016781040121383, 15.554043994955183, 6.9714412248708255, 3.453519591365198, 12.226434932101466, 5.8024999944368245, 6.422455278464391, 12.832602980873911, 19.628379762973548, 23.04242483680589, 9.477169350230987, 4.925242437722611, 8.566034074453817, 20.161338060850948, 5.1504684888776495, 6.924470265591789, 21.299770910663504, 8.952186265982407, 11.170619875048438, 7.495575373335828, 9.116777178435768, 8.489047954286754, 8.08493060761978, 9.273099934630762, 13.633601791977412, 15.049317793899247, 8.780309651123508, 10.773522191052008, 13.342402868561276, 8.62374377247406, 12.863812331358908, 10.840661851813774, 8.175048329537747, 8.370198937392896], \"Total\": [379.0, 333.0, 395.0, 103.0, 268.0, 212.0, 489.0, 131.0, 439.0, 256.0, 137.0, 380.0, 97.0, 45.0, 66.0, 166.0, 180.0, 63.0, 96.0, 101.0, 135.0, 57.0, 53.0, 108.0, 35.0, 114.0, 381.0, 99.0, 71.0, 78.0, 5.440588604352558, 4.531466240221371, 4.496963151917511, 3.6105349297171005, 7.207421125813626, 3.5894687880462732, 2.6839944230459016, 2.683936598381605, 2.683724206645356, 2.6837224732575917, 2.683595291343437, 2.6834454107838988, 2.683269277098668, 2.683192489332402, 2.6830074770088572, 2.672553649319999, 2.66572240413389, 2.6866101413384005, 2.6836709655028255, 6.2850391429959105, 2.659666571179151, 2.6660212666669865, 2.6545453265376855, 2.667912563683727, 5.295137198583867, 6.1880880137835845, 4.352660986087363, 2.6667832432299505, 4.441430359822205, 2.6481427897115597, 3.5228850493934387, 4.384037746829699, 5.389834068840426, 6.205937972696047, 6.137131666178552, 7.088533853078134, 380.00779586815713, 22.503182505866295, 137.40040554665643, 12.545324703941882, 7.127884042241177, 379.2596330222044, 333.35240465046354, 439.882218500938, 303.6000847918929, 96.27632487074892, 180.58626822584836, 489.57964232881596, 68.5129794826125, 153.17517579539265, 12.315751763732525, 395.58472066425014, 147.51666703910365, 150.3777458230418, 24.981917393116063, 89.26869401970227, 84.57578859013766, 29.480850363601498, 110.59673794466006, 108.52745588011445, 119.32769133514648, 381.89388644762136, 90.24807449154747, 359.66704172061907, 140.8206765087032, 35.87610923113371, 119.44748495938197, 212.942224151242, 157.00714583015682, 86.93480901865011, 91.73468129423236, 68.41532064304441, 117.61762067877912, 144.28233712241098, 131.78290606247427, 172.6918140854058, 256.93566821863163, 268.0158582744291, 2.734790669270668, 2.734756653718119, 2.734509162983095, 2.734616986128911, 2.734461578236605, 2.734067542361857, 2.733693602154054, 2.733593255276317, 2.72392325321005, 2.7314433937779596, 2.7120873675340977, 2.724174935840417, 5.377660074949967, 3.598249077208062, 2.703220227385325, 5.380096932779709, 2.6786094471916067, 3.607074452011017, 2.6761872311144557, 2.6947707022970824, 2.671671862459357, 2.6713279647861325, 2.701153202638405, 2.6651308754666188, 2.7253597053585152, 2.7049056065357586, 3.5888141871211268, 11.387947397365178, 2.7239843726356208, 1.7830425024088732, 5.273306152540184, 13.43282331073868, 3.5679086063857364, 4.358126264183864, 31.68800176820712, 10.58529274418888, 108.52745588011445, 13.804906778477516, 60.22858041219985, 303.6000847918929, 28.534847582661914, 47.50871912383232, 108.51992662705857, 54.9110471639959, 25.84681585934156, 381.89388644762136, 489.57964232881596, 114.4023305833185, 102.63913777228507, 47.4678344690596, 172.6918140854058, 39.39449471112722, 157.00714583015682, 359.66704172061907, 78.37214420053323, 103.48349080099682, 86.93480901865011, 68.04103282847585, 15.450878642820662, 67.29939910898543, 29.16520523823102, 212.942224151242, 144.28233712241098, 103.83860250501954, 64.37289863729968, 117.57188949920332, 107.75712848507473, 380.00779586815713, 102.4542876838081, 395.58472066425014, 156.43529644672537, 193.16389838866368, 439.882218500938, 125.53176519377102, 140.8206765087032, 256.93566821863163, 268.0158582744291, 333.35240465046354, 379.2596330222044, 153.17517579539265, 151.05361360961467, 6.2324511655866015, 2.686220594289414, 2.6858317486979604, 2.685501309083133, 2.685038671730829, 2.6845555031561212, 2.684899015085132, 2.6762284226177653, 2.664113473883822, 2.651109311250914, 2.692678739962892, 2.64750850587236, 2.644330265985718, 2.636891312083033, 2.6417034663594006, 2.6122232160034535, 2.6238444237552745, 2.636963586132779, 1.7584880909391492, 1.7584562089865683, 1.758406204994265, 1.7583965204780658, 1.7583975096244107, 1.7583953487985, 1.7583691844162905, 1.7583716066578823, 1.7583632417895203, 1.7584238782227168, 1.758354653347082, 1.7583889276791183, 2.674210912994757, 3.5153215604023518, 2.6695610086997656, 3.501095426366088, 5.247826974911228, 5.285917673174652, 3.496880051991422, 4.257094561672399, 5.293004386404846, 4.394621185798275, 45.870396562853074, 36.523410534801855, 22.762844618811343, 489.57964232881596, 23.43534303237814, 109.63355681346304, 268.0158582744291, 34.9126987824987, 30.056459335841307, 11.068632504067747, 35.91228627256009, 193.16389838866368, 94.17702843649616, 44.22819863757714, 14.563057714374251, 33.1132324813967, 180.58626822584836, 256.93566821863163, 172.6918140854058, 96.54820741397077, 71.14150723790083, 359.66704172061907, 135.53015257136408, 35.23778747889796, 99.70181555728232, 98.8589953944995, 51.6671126355428, 151.05361360961467, 79.54523905292835, 52.47840391879052, 381.89388644762136, 157.00714583015682, 119.44748495938197, 118.51557415461987, 212.942224151242, 156.43529644672537, 147.51666703910365, 380.00779586815713, 439.882218500938, 333.35240465046354, 379.2596330222044, 303.6000847918929, 166.36423513156836, 113.18049232273674, 3.1992978559087684, 5.563011591230657, 3.2259421914664284, 2.410223300982889, 2.410091735030944, 2.4098841267080293, 2.409770316624646, 2.409649556204294, 2.409614497817345, 2.409591633544581, 2.409479408455674, 2.409494885214474, 2.4093709449228657, 2.409245825253257, 2.40914264055008, 2.4090219148224064, 4.719087435245686, 2.417099203342873, 2.4054274362270394, 7.346712633162097, 2.445184160419044, 4.127134776978228, 4.01352870295337, 2.391296859682102, 2.4298225255948602, 2.3857086616374854, 2.4119307576662252, 3.1937466409609407, 2.436778478108992, 2.402698543943241, 3.291166808115117, 3.9783191535149456, 4.072378527022134, 6.741325283185579, 4.014478040982783, 6.699918871704338, 256.93566821863163, 439.882218500938, 101.93978130767819, 395.58472066425014, 33.86360268627011, 9.85066664120829, 380.00779586815713, 23.74856627405299, 54.190659280075515, 268.0158582744291, 98.8589953944995, 167.4886579319135, 381.89388644762136, 24.388642839298367, 101.39247528298442, 11.00847451520535, 96.94590208733428, 15.054382926243125, 140.8206765087032, 97.13737475058767, 83.94311751373395, 359.66704172061907, 126.8270664729775, 156.43529644672537, 135.90446438525493, 489.57964232881596, 58.14528718693252, 94.13786200660672, 109.63355681346304, 107.75712848507473, 135.53015257136408, 113.18049232273674, 117.57188949920332, 212.942224151242, 71.6175650313561, 166.36423513156836, 193.16389838866368, 147.51666703910365, 333.35240465046354, 379.2596330222044, 4.008121243134373, 4.822425641447288, 3.2152235772475133, 2.4198677142231655, 2.4197679911263448, 2.419606055833512, 2.4193162878248433, 2.41922481577907, 2.4191316182254625, 2.4189956000548287, 2.4189499222220907, 2.418967620481916, 2.4166746291361507, 2.4191253151127485, 2.412445578453357, 2.4163081873415373, 2.4123770517760414, 4.164017094632794, 2.396873196705363, 4.928050299293844, 3.320370730683336, 4.871611268282192, 2.4096094283936584, 3.2867034204001047, 2.440358640178411, 2.443610620551966, 2.3915660624999022, 4.0081960928069, 3.2347521039730807, 1.6252474253279916, 4.205455346768171, 4.8730577804282, 4.917254422300648, 4.8424171412661, 4.18217364636351, 6.3116342604183115, 35.28207152904666, 7.4569136254383706, 131.78290606247427, 45.65455649826379, 180.58626822584836, 23.35552795127853, 11.819220068568619, 125.53176519377102, 108.51992662705857, 24.411416382608493, 113.97105805730828, 359.66704172061907, 439.882218500938, 84.51285710092276, 380.00779586815713, 379.2596330222044, 137.40040554665643, 20.784489620809044, 167.4886579319135, 15.28776935293493, 101.93978130767819, 395.58472066425014, 99.71069726090222, 107.75712848507473, 489.57964232881596, 268.0158582744291, 153.17517579539265, 117.57188949920332, 28.78138055639944, 172.6918140854058, 92.21313546808584, 193.16389838866368, 97.13737475058767, 333.35240465046354, 80.71465215396445, 303.6000847918929, 73.03802613737683, 381.89388644762136, 126.8270664729775, 256.93566821863163, 166.36423513156836, 3.3242123326044126, 3.3100458501858325, 2.4934093563441806, 2.4931077730834796, 2.4930877530165447, 2.492764052655019, 2.492424755341502, 2.4922042573656635, 2.4974919841751095, 2.5004960334181545, 2.487304103309599, 2.478313353191179, 4.245053105443716, 6.012000051914702, 2.484013447174824, 2.4765278498667405, 2.4554675502444296, 2.528524487759792, 2.4760478293451103, 4.157753507621334, 2.442703854992909, 1.662182886874094, 1.6621372506927974, 1.662116534142769, 1.662109602926308, 1.6620825543667905, 1.6620553194318866, 1.6620470703068895, 1.6620562882184187, 1.662031013995222, 2.4737406584248913, 2.5346732851751788, 2.47230617608132, 4.8168767599400555, 2.5165724370085014, 5.697403318716089, 3.2221657791399023, 2.516080614832047, 3.28264314201449, 3.308683350736693, 7.422276174556171, 4.093866235188168, 5.121282265339075, 20.09231607758709, 5.098308452045397, 22.9216039486859, 96.27632487074892, 41.860337075171486, 20.28989323411369, 101.39247528298442, 12.205520179853627, 114.4023305833185, 10.95159027510152, 18.876378881533583, 71.25653131798407, 102.4542876838081, 80.72043437668908, 135.90446438525493, 57.96968625070027, 167.4886579319135, 65.24764502415063, 102.63913777228507, 103.48349080099682, 78.08683853426099, 34.77765226553762, 119.44748495938197, 79.54523905292835, 31.110521126577947, 63.62640295011294, 489.57964232881596, 381.89388644762136, 93.76436967138817, 359.66704172061907, 58.05762554358544, 439.882218500938, 126.8270664729775, 113.97105805730828, 395.58472066425014, 151.05361360961467, 303.6000847918929, 212.942224151242, 156.43529644672537, 193.16389838866368, 110.59673794466006, 147.51666703910365, 157.00714583015682, 380.00779586815713, 256.93566821863163, 379.2596330222044, 150.3777458230418, 2.4856614272731123, 2.485579836751015, 2.4855711053585603, 2.485211648350553, 2.4851287858346978, 2.484902527151103, 2.483902449516567, 3.346367335895798, 2.472743746600072, 2.4802395651942875, 2.479778409640628, 2.4918284297804183, 6.5698304294344645, 4.104943705919737, 2.4781593481357262, 4.194406685231221, 2.515641025949894, 2.530081408639163, 2.480313237184138, 2.470832823231442, 2.456694322625277, 2.485498173659294, 1.658167466703993, 1.658124667658139, 1.6581225869059892, 1.658105951543483, 1.6580892386149635, 1.658091306753735, 1.6580448617790895, 1.658053728582492, 3.27403308268803, 3.288553703939616, 3.334143600542571, 3.305430189464948, 3.2505341593982826, 4.10791572523727, 45.65455649826379, 23.85654307862057, 103.48349080099682, 35.64533548578808, 33.98402940022807, 7.427592835172716, 395.58472066425014, 21.414466449926692, 166.36423513156836, 333.35240465046354, 379.2596330222044, 12.357437332083613, 140.8206765087032, 58.14528718693252, 439.882218500938, 57.40833639964311, 381.89388644762136, 96.94590208733428, 66.20489354732788, 46.16862689437484, 380.00779586815713, 303.6000847918929, 90.24807449154747, 50.19757699240235, 193.16389838866368, 15.867611004402889, 268.0158582744291, 144.28233712241098, 97.13737475058767, 117.61762067877912, 153.17517579539265, 55.68535183780937, 212.942224151242, 256.93566821863163, 167.4886579319135, 359.66704172061907, 156.43529644672537, 90.05794002503298, 119.44748495938197, 172.6918140854058, 157.00714583015682, 489.57964232881596, 3.9218607938450725, 3.9373953770476007, 2.37656726307667, 2.3762449312420983, 2.3762882501723936, 2.379336878663623, 2.3817019911170303, 2.379651333066932, 2.3794694114722876, 5.534010084700318, 2.386411748916493, 2.4062749791370033, 3.9438799684539476, 3.9717994899870583, 2.3807729379773876, 2.395476077937681, 3.1731686192657893, 2.390299027992784, 2.4182816166345518, 4.756675833062172, 2.423758224710313, 2.4050445212341685, 1.6036876386520744, 1.6036573172954163, 1.6036258781128734, 1.6035815539148621, 1.6035585386630307, 1.603542346069422, 1.603533940370847, 1.603534132236191, 3.2219535434243314, 3.101550718495012, 2.4036233802913487, 6.584050126031402, 3.1703134743805563, 2.3662312078902814, 3.203880761531173, 3.203935577076921, 8.751307170300247, 6.3817481151433615, 7.185194346990367, 9.663585136163892, 84.98173956970577, 14.311944912106002, 379.2596330222044, 78.37214420053323, 103.69790360354887, 49.28584464838177, 359.66704172061907, 151.05361360961467, 333.35240465046354, 72.22925346576396, 97.13737475058767, 65.4862455331254, 80.71465215396445, 256.93566821863163, 36.194020973578475, 439.882218500938, 51.977294741496735, 90.05794002503298, 268.0158582744291, 150.3777458230418, 180.58626822584836, 489.57964232881596, 167.4886579319135, 381.89388644762136, 54.190659280075515, 144.28233712241098, 395.58472066425014, 82.24102918791462, 96.54820741397077, 303.6000847918929, 113.97105805730828, 71.26095970087415, 97.64936845866674, 166.36423513156836, 117.57188949920332, 3.039338662063967, 2.2977563298403902, 2.2977222768619616, 2.2975499466971643, 2.2975291463210503, 2.297310153177302, 2.297214181293046, 2.29714803912454, 2.2970558310837053, 2.2964279595908543, 2.2974444054363126, 2.2971696771340935, 2.3038263787484494, 2.305066097949069, 2.3016088429404133, 2.311965194009758, 3.8570235578332777, 2.322518505592627, 2.35667237403862, 6.197281816515867, 2.3577276331763453, 3.934225597091443, 3.1313676073635803, 2.3414068225683335, 2.31555571631485, 1.5641146885807966, 1.5640655658016804, 1.5640716078917012, 1.564040209787955, 1.5640310000030804, 3.140368225917694, 2.339810285553001, 3.874561793466799, 3.070492004085169, 3.124230434211194, 3.927286419823381, 3.12344139465603, 8.191767563566199, 23.17752160758072, 11.086228130219357, 66.31201366647916, 13.571831759304814, 29.834500285258976, 85.57197832587671, 98.30286517192272, 68.41532064304441, 381.89388644762136, 60.642422106917984, 395.58472066425014, 137.40040554665643, 52.172578882551775, 118.51557415461987, 156.43529644672537, 268.0158582744291, 71.26095970087415, 18.63951044514365, 18.262166434923994, 26.879575369429936, 153.17517579539265, 166.36423513156836, 11.4582249600122, 44.366819801244226, 38.606435724301825, 157.00714583015682, 90.24807449154747, 84.51285710092276, 96.54820741397077, 147.51666703910365, 57.40833639964311, 135.90446438525493, 126.8270664729775, 193.16389838866368, 97.64936845866674, 119.32769133514648, 303.6000847918929, 256.93566821863163, 439.882218500938, 380.00779586815713, 359.66704172061907, 135.53015257136408, 379.2596330222044, 150.3777458230418, 3.0255272301646547, 2.2818676232275292, 2.281882146655223, 2.281755776026407, 2.2816954858502907, 2.281403261581791, 2.281271057570566, 2.281156757782915, 2.281087056025733, 2.2810151603477733, 2.2805265701000783, 2.2891249682073176, 6.125508387496698, 2.3065490146847933, 2.3204787076538214, 3.1755456511823317, 1.5562471756617793, 1.556220554958181, 1.556207819728031, 1.5561584246008504, 1.556149991509101, 1.5561329843538028, 1.5560917563105394, 1.5560835634842296, 1.5560391540597767, 1.556040022391195, 1.5560401320626296, 1.556030392586516, 1.5560125915906102, 1.5560021878232846, 3.0930438210051596, 6.128951923545199, 4.816910122149695, 3.074331042536026, 3.1792431318622167, 4.740904073393829, 7.184654129507497, 2.341586746071316, 4.6053050153236565, 8.628904699435772, 212.942224151242, 37.407414077084546, 16.255168442756805, 53.06284681710463, 63.41827374652746, 333.35240465046354, 379.2596330222044, 131.78290606247427, 37.33291813844669, 12.125599626153763, 99.71069726090222, 29.941736704935916, 36.14102825355746, 135.90446438525493, 303.6000847918929, 439.882218500938, 79.4519714657308, 22.52957855486705, 71.03544307882001, 395.58472066425014, 26.71233239042658, 49.42204232170942, 489.57964232881596, 84.57578859013766, 135.53015257136408, 59.49111136114444, 92.21313546808584, 83.48158705561909, 75.30710634103266, 103.83860250501954, 268.0158582744291, 381.89388644762136, 97.64936845866674, 172.6918140854058, 359.66704172061907, 96.94590208733428, 380.00779586815713, 256.93566821863163, 94.13786200660672, 109.63355681346304], \"Category\": [\"Default\", \"Default\", \"Default\", \"Default\", \"Default\", \"Default\", \"Default\", \"Default\", \"Default\", \"Default\", \"Default\", \"Default\", \"Default\", \"Default\", \"Default\", \"Default\", \"Default\", \"Default\", \"Default\", \"Default\", \"Default\", \"Default\", \"Default\", \"Default\", \"Default\", \"Default\", \"Default\", \"Default\", \"Default\", \"Default\", \"Topic1\", \"Topic1\", \"Topic1\", \"Topic1\", \"Topic1\", \"Topic1\", \"Topic1\", \"Topic1\", \"Topic1\", \"Topic1\", \"Topic1\", \"Topic1\", \"Topic1\", \"Topic1\", \"Topic1\", \"Topic1\", \"Topic1\", \"Topic1\", \"Topic1\", \"Topic1\", \"Topic1\", \"Topic1\", \"Topic1\", \"Topic1\", \"Topic1\", \"Topic1\", \"Topic1\", \"Topic1\", \"Topic1\", \"Topic1\", \"Topic1\", \"Topic1\", \"Topic1\", \"Topic1\", \"Topic1\", \"Topic1\", \"Topic1\", \"Topic1\", \"Topic1\", \"Topic1\", \"Topic1\", \"Topic1\", \"Topic1\", \"Topic1\", \"Topic1\", \"Topic1\", \"Topic1\", \"Topic1\", \"Topic1\", \"Topic1\", \"Topic1\", \"Topic1\", \"Topic1\", \"Topic1\", \"Topic1\", \"Topic1\", \"Topic1\", \"Topic1\", \"Topic1\", \"Topic1\", \"Topic1\", \"Topic1\", \"Topic1\", \"Topic1\", \"Topic1\", \"Topic1\", \"Topic1\", \"Topic1\", \"Topic1\", \"Topic1\", \"Topic1\", \"Topic1\", \"Topic1\", \"Topic1\", \"Topic1\", \"Topic1\", \"Topic1\", \"Topic1\", \"Topic2\", \"Topic2\", \"Topic2\", \"Topic2\", \"Topic2\", \"Topic2\", \"Topic2\", \"Topic2\", \"Topic2\", \"Topic2\", \"Topic2\", \"Topic2\", \"Topic2\", \"Topic2\", \"Topic2\", \"Topic2\", \"Topic2\", \"Topic2\", \"Topic2\", \"Topic2\", \"Topic2\", \"Topic2\", \"Topic2\", \"Topic2\", \"Topic2\", \"Topic2\", \"Topic2\", \"Topic2\", \"Topic2\", \"Topic2\", \"Topic2\", \"Topic2\", \"Topic2\", \"Topic2\", \"Topic2\", \"Topic2\", \"Topic2\", \"Topic2\", \"Topic2\", \"Topic2\", \"Topic2\", \"Topic2\", \"Topic2\", \"Topic2\", \"Topic2\", \"Topic2\", \"Topic2\", \"Topic2\", \"Topic2\", \"Topic2\", \"Topic2\", \"Topic2\", \"Topic2\", \"Topic2\", \"Topic2\", \"Topic2\", \"Topic2\", \"Topic2\", \"Topic2\", \"Topic2\", \"Topic2\", \"Topic2\", \"Topic2\", \"Topic2\", \"Topic2\", \"Topic2\", \"Topic2\", \"Topic2\", \"Topic2\", \"Topic2\", \"Topic2\", \"Topic2\", \"Topic2\", \"Topic2\", \"Topic2\", \"Topic2\", \"Topic2\", \"Topic2\", \"Topic2\", \"Topic2\", \"Topic2\", \"Topic3\", \"Topic3\", \"Topic3\", \"Topic3\", \"Topic3\", \"Topic3\", \"Topic3\", \"Topic3\", \"Topic3\", \"Topic3\", \"Topic3\", \"Topic3\", \"Topic3\", \"Topic3\", \"Topic3\", \"Topic3\", \"Topic3\", \"Topic3\", \"Topic3\", \"Topic3\", \"Topic3\", \"Topic3\", \"Topic3\", \"Topic3\", \"Topic3\", \"Topic3\", \"Topic3\", \"Topic3\", \"Topic3\", \"Topic3\", \"Topic3\", \"Topic3\", \"Topic3\", \"Topic3\", \"Topic3\", \"Topic3\", \"Topic3\", \"Topic3\", \"Topic3\", \"Topic3\", \"Topic3\", \"Topic3\", \"Topic3\", \"Topic3\", \"Topic3\", \"Topic3\", \"Topic3\", \"Topic3\", \"Topic3\", \"Topic3\", \"Topic3\", \"Topic3\", \"Topic3\", \"Topic3\", \"Topic3\", \"Topic3\", \"Topic3\", \"Topic3\", \"Topic3\", \"Topic3\", \"Topic3\", \"Topic3\", \"Topic3\", \"Topic3\", \"Topic3\", \"Topic3\", \"Topic3\", \"Topic3\", \"Topic3\", \"Topic3\", \"Topic3\", \"Topic3\", \"Topic3\", \"Topic3\", \"Topic3\", \"Topic3\", \"Topic3\", \"Topic3\", \"Topic3\", \"Topic3\", \"Topic3\", \"Topic3\", \"Topic3\", \"Topic3\", \"Topic4\", \"Topic4\", \"Topic4\", \"Topic4\", \"Topic4\", \"Topic4\", \"Topic4\", \"Topic4\", \"Topic4\", \"Topic4\", \"Topic4\", \"Topic4\", \"Topic4\", \"Topic4\", \"Topic4\", \"Topic4\", \"Topic4\", \"Topic4\", \"Topic4\", \"Topic4\", \"Topic4\", \"Topic4\", \"Topic4\", \"Topic4\", \"Topic4\", \"Topic4\", \"Topic4\", \"Topic4\", \"Topic4\", \"Topic4\", \"Topic4\", \"Topic4\", \"Topic4\", \"Topic4\", \"Topic4\", \"Topic4\", \"Topic4\", \"Topic4\", \"Topic4\", \"Topic4\", \"Topic4\", \"Topic4\", \"Topic4\", \"Topic4\", \"Topic4\", \"Topic4\", \"Topic4\", \"Topic4\", \"Topic4\", \"Topic4\", \"Topic4\", \"Topic4\", \"Topic4\", \"Topic4\", \"Topic4\", \"Topic4\", \"Topic4\", \"Topic4\", \"Topic4\", \"Topic4\", \"Topic4\", \"Topic4\", \"Topic4\", \"Topic4\", \"Topic4\", \"Topic4\", \"Topic4\", \"Topic4\", \"Topic4\", \"Topic4\", \"Topic4\", \"Topic4\", \"Topic4\", \"Topic4\", \"Topic4\", \"Topic4\", \"Topic5\", \"Topic5\", \"Topic5\", \"Topic5\", \"Topic5\", \"Topic5\", \"Topic5\", \"Topic5\", \"Topic5\", \"Topic5\", \"Topic5\", \"Topic5\", \"Topic5\", \"Topic5\", \"Topic5\", \"Topic5\", \"Topic5\", \"Topic5\", \"Topic5\", \"Topic5\", \"Topic5\", \"Topic5\", \"Topic5\", \"Topic5\", \"Topic5\", \"Topic5\", \"Topic5\", \"Topic5\", \"Topic5\", \"Topic5\", \"Topic5\", \"Topic5\", \"Topic5\", \"Topic5\", \"Topic5\", \"Topic5\", \"Topic5\", \"Topic5\", \"Topic5\", \"Topic5\", \"Topic5\", \"Topic5\", \"Topic5\", \"Topic5\", \"Topic5\", \"Topic5\", \"Topic5\", \"Topic5\", \"Topic5\", \"Topic5\", \"Topic5\", \"Topic5\", \"Topic5\", \"Topic5\", \"Topic5\", \"Topic5\", \"Topic5\", \"Topic5\", \"Topic5\", \"Topic5\", \"Topic5\", \"Topic5\", \"Topic5\", \"Topic5\", \"Topic5\", \"Topic5\", \"Topic5\", \"Topic5\", \"Topic5\", \"Topic5\", \"Topic5\", \"Topic5\", \"Topic5\", \"Topic5\", \"Topic5\", \"Topic5\", \"Topic5\", \"Topic6\", \"Topic6\", \"Topic6\", \"Topic6\", \"Topic6\", \"Topic6\", \"Topic6\", \"Topic6\", \"Topic6\", \"Topic6\", \"Topic6\", \"Topic6\", \"Topic6\", \"Topic6\", \"Topic6\", \"Topic6\", \"Topic6\", \"Topic6\", \"Topic6\", \"Topic6\", \"Topic6\", \"Topic6\", \"Topic6\", \"Topic6\", \"Topic6\", \"Topic6\", \"Topic6\", \"Topic6\", \"Topic6\", \"Topic6\", \"Topic6\", \"Topic6\", \"Topic6\", \"Topic6\", \"Topic6\", \"Topic6\", \"Topic6\", \"Topic6\", \"Topic6\", \"Topic6\", \"Topic6\", \"Topic6\", \"Topic6\", \"Topic6\", \"Topic6\", \"Topic6\", \"Topic6\", \"Topic6\", \"Topic6\", \"Topic6\", \"Topic6\", \"Topic6\", \"Topic6\", \"Topic6\", \"Topic6\", \"Topic6\", \"Topic6\", \"Topic6\", \"Topic6\", \"Topic6\", \"Topic6\", \"Topic6\", \"Topic6\", \"Topic6\", \"Topic6\", \"Topic6\", \"Topic6\", \"Topic6\", \"Topic6\", \"Topic6\", \"Topic6\", \"Topic6\", \"Topic6\", \"Topic6\", \"Topic6\", \"Topic6\", \"Topic6\", \"Topic6\", \"Topic6\", \"Topic6\", \"Topic6\", \"Topic6\", \"Topic6\", \"Topic6\", \"Topic6\", \"Topic6\", \"Topic6\", \"Topic6\", \"Topic6\", \"Topic6\", \"Topic7\", \"Topic7\", \"Topic7\", \"Topic7\", \"Topic7\", \"Topic7\", \"Topic7\", \"Topic7\", \"Topic7\", \"Topic7\", \"Topic7\", \"Topic7\", \"Topic7\", \"Topic7\", \"Topic7\", \"Topic7\", \"Topic7\", \"Topic7\", \"Topic7\", \"Topic7\", \"Topic7\", \"Topic7\", \"Topic7\", \"Topic7\", \"Topic7\", \"Topic7\", \"Topic7\", \"Topic7\", \"Topic7\", \"Topic7\", \"Topic7\", \"Topic7\", \"Topic7\", \"Topic7\", \"Topic7\", \"Topic7\", \"Topic7\", \"Topic7\", \"Topic7\", \"Topic7\", \"Topic7\", \"Topic7\", \"Topic7\", \"Topic7\", \"Topic7\", \"Topic7\", \"Topic7\", \"Topic7\", \"Topic7\", \"Topic7\", \"Topic7\", \"Topic7\", \"Topic7\", \"Topic7\", \"Topic7\", \"Topic7\", \"Topic7\", \"Topic7\", \"Topic7\", \"Topic7\", \"Topic7\", \"Topic7\", \"Topic7\", \"Topic7\", \"Topic7\", \"Topic7\", \"Topic7\", \"Topic7\", \"Topic7\", \"Topic7\", \"Topic7\", \"Topic7\", \"Topic7\", \"Topic7\", \"Topic7\", \"Topic7\", \"Topic7\", \"Topic7\", \"Topic8\", \"Topic8\", \"Topic8\", \"Topic8\", \"Topic8\", \"Topic8\", \"Topic8\", \"Topic8\", \"Topic8\", \"Topic8\", \"Topic8\", \"Topic8\", \"Topic8\", \"Topic8\", \"Topic8\", \"Topic8\", \"Topic8\", \"Topic8\", \"Topic8\", \"Topic8\", \"Topic8\", \"Topic8\", \"Topic8\", \"Topic8\", \"Topic8\", \"Topic8\", \"Topic8\", \"Topic8\", \"Topic8\", \"Topic8\", \"Topic8\", \"Topic8\", \"Topic8\", \"Topic8\", \"Topic8\", \"Topic8\", \"Topic8\", \"Topic8\", \"Topic8\", \"Topic8\", \"Topic8\", \"Topic8\", \"Topic8\", \"Topic8\", \"Topic8\", \"Topic8\", \"Topic8\", \"Topic8\", \"Topic8\", \"Topic8\", \"Topic8\", \"Topic8\", \"Topic8\", \"Topic8\", \"Topic8\", \"Topic8\", \"Topic8\", \"Topic8\", \"Topic8\", \"Topic8\", \"Topic8\", \"Topic8\", \"Topic8\", \"Topic8\", \"Topic8\", \"Topic8\", \"Topic8\", \"Topic8\", \"Topic8\", \"Topic8\", \"Topic8\", \"Topic8\", \"Topic8\", \"Topic8\", \"Topic8\", \"Topic8\", \"Topic8\", \"Topic9\", \"Topic9\", \"Topic9\", \"Topic9\", \"Topic9\", \"Topic9\", \"Topic9\", \"Topic9\", \"Topic9\", \"Topic9\", \"Topic9\", \"Topic9\", \"Topic9\", \"Topic9\", \"Topic9\", \"Topic9\", \"Topic9\", \"Topic9\", \"Topic9\", \"Topic9\", \"Topic9\", \"Topic9\", \"Topic9\", \"Topic9\", \"Topic9\", \"Topic9\", \"Topic9\", \"Topic9\", \"Topic9\", \"Topic9\", \"Topic9\", \"Topic9\", \"Topic9\", \"Topic9\", \"Topic9\", \"Topic9\", \"Topic9\", \"Topic9\", \"Topic9\", \"Topic9\", \"Topic9\", \"Topic9\", \"Topic9\", \"Topic9\", \"Topic9\", \"Topic9\", \"Topic9\", \"Topic9\", \"Topic9\", \"Topic9\", \"Topic9\", \"Topic9\", \"Topic9\", \"Topic9\", \"Topic9\", \"Topic9\", \"Topic9\", \"Topic9\", \"Topic9\", \"Topic9\", \"Topic9\", \"Topic9\", \"Topic9\", \"Topic9\", \"Topic9\", \"Topic9\", \"Topic9\", \"Topic9\", \"Topic9\", \"Topic9\", \"Topic9\", \"Topic9\", \"Topic9\", \"Topic9\", \"Topic9\", \"Topic9\", \"Topic9\", \"Topic9\", \"Topic9\", \"Topic9\", \"Topic9\", \"Topic9\", \"Topic10\", \"Topic10\", \"Topic10\", \"Topic10\", \"Topic10\", \"Topic10\", \"Topic10\", \"Topic10\", \"Topic10\", \"Topic10\", \"Topic10\", \"Topic10\", \"Topic10\", \"Topic10\", \"Topic10\", \"Topic10\", \"Topic10\", \"Topic10\", \"Topic10\", \"Topic10\", \"Topic10\", \"Topic10\", \"Topic10\", \"Topic10\", \"Topic10\", \"Topic10\", \"Topic10\", \"Topic10\", \"Topic10\", \"Topic10\", \"Topic10\", \"Topic10\", \"Topic10\", \"Topic10\", \"Topic10\", \"Topic10\", \"Topic10\", \"Topic10\", \"Topic10\", \"Topic10\", \"Topic10\", \"Topic10\", \"Topic10\", \"Topic10\", \"Topic10\", \"Topic10\", \"Topic10\", \"Topic10\", \"Topic10\", \"Topic10\", \"Topic10\", \"Topic10\", \"Topic10\", \"Topic10\", \"Topic10\", \"Topic10\", \"Topic10\", \"Topic10\", \"Topic10\", \"Topic10\", \"Topic10\", \"Topic10\", \"Topic10\", \"Topic10\", \"Topic10\", \"Topic10\", \"Topic10\", \"Topic10\", \"Topic10\", \"Topic10\", \"Topic10\", \"Topic10\", \"Topic10\", \"Topic10\", \"Topic10\", \"Topic10\", \"Topic10\", \"Topic10\", \"Topic10\", \"Topic10\"], \"logprob\": [30.0, 29.0, 28.0, 27.0, 26.0, 25.0, 24.0, 23.0, 22.0, 21.0, 20.0, 19.0, 18.0, 17.0, 16.0, 15.0, 14.0, 13.0, 12.0, 11.0, 10.0, 9.0, 8.0, 7.0, 6.0, 5.0, 4.0, 3.0, 2.0, 1.0, -7.7478, -7.9514, -7.9917, -8.2209, -7.5338, -8.255, -8.6102, -8.6102, -8.6103, -8.6103, -8.6104, -8.6105, -8.6105, -8.6106, -8.6107, -8.6462, -8.6537, -8.6572, -8.6656, -7.8373, -8.6977, -8.7022, -8.7116, -8.707, -8.0247, -7.8694, -8.2216, -8.7197, -8.2209, -8.7431, -8.4613, -8.2526, -8.0618, -7.9529, -7.9787, -7.8599, -4.454, -6.8781, -5.4085, -7.4019, -7.8634, -4.6843, -4.807, -4.7822, -5.0799, -5.9316, -5.496, -4.7762, -6.2148, -5.6292, -7.4884, -4.9836, -5.7026, -5.7139, -6.9872, -6.0991, -6.1407, -6.8737, -5.9709, -5.9999, -5.9726, -5.2374, -6.1637, -5.3351, -5.9537, -6.7806, -6.103, -5.7812, -5.9858, -6.3186, -6.3002, -6.4481, -6.1933, -6.0989, -6.1447, -6.0506, -6.0803, -6.1563, -8.4339, -8.4339, -8.434, -8.434, -8.434, -8.4342, -8.4344, -8.4345, -8.465, -8.4947, -8.5032, -8.5145, -7.8453, -8.2644, -8.5647, -7.8903, -8.5967, -8.302, -8.6051, -8.6039, -8.6179, -8.6203, -8.6195, -8.6446, -8.6266, -8.6347, -8.3576, -7.2053, -8.6484, -9.0799, -8.0075, -7.1578, -8.3973, -8.235, -6.6197, -7.5153, -5.6334, -7.3033, -6.1266, -4.892, -6.7696, -6.3774, -5.7465, -6.2765, -6.852, -4.8518, -4.6889, -5.7634, -5.861, -6.4274, -5.5319, -6.5806, -5.624, -5.0669, -6.1288, -5.9564, -6.076, -6.2523, -7.2609, -6.2785, -6.8556, -5.5695, -5.856, -6.0634, -6.3638, -6.0045, -6.0635, -5.3684, -6.1216, -5.4445, -5.9102, -5.8127, -5.4352, -6.0309, -5.9851, -5.7563, -5.8441, -5.8078, -5.8913, -6.0827, -6.1013, -7.4665, -8.3493, -8.3495, -8.3497, -8.3499, -8.3501, -8.35, -8.3955, -8.4567, -8.4801, -8.4815, -8.4991, -8.5165, -8.5252, -8.5415, -8.5635, -8.5722, -8.5699, -8.9955, -8.9956, -8.9956, -8.9956, -8.9956, -8.9956, -8.9957, -8.9957, -8.9957, -8.9956, -8.9957, -8.9957, -8.5855, -8.3222, -8.5907, -8.3377, -7.9603, -7.9597, -8.3494, -8.2004, -8.0118, -8.1803, -6.1002, -6.3277, -6.7442, -4.1954, -6.7769, -5.5302, -4.8066, -6.4698, -6.6107, -7.4507, -6.5539, -5.2782, -5.852, -6.4317, -7.2636, -6.6815, -5.4679, -5.2404, -5.526, -5.9386, -6.1659, -5.0509, -5.7311, -6.6591, -5.9584, -5.9787, -6.4121, -5.7315, -6.1475, -6.4516, -5.2075, -5.7695, -5.9818, -5.987, -5.6958, -5.8792, -5.9254, -5.5362, -5.5099, -5.6786, -5.6399, -5.7704, -5.9662, -6.1188, -7.9522, -7.4299, -8.0256, -8.3389, -8.339, -8.3391, -8.3392, -8.3392, -8.3393, -8.3393, -8.3393, -8.3393, -8.3394, -8.3395, -8.3396, -8.3396, -7.6844, -8.3591, -8.4462, -7.3686, -8.471, -7.9497, -7.982, -8.5024, -8.504, -8.5398, -8.5432, -8.2658, -8.5526, -8.5735, -8.2591, -8.0928, -8.0748, -7.6363, -8.0951, -7.6801, -4.8336, -4.5418, -5.6814, -4.8144, -6.5778, -7.4507, -4.9344, -6.8521, -6.3435, -5.3287, -5.9874, -5.657, -5.1409, -6.8782, -6.0013, -7.3931, -6.0709, -7.2118, -5.8589, -6.0885, -6.181, -5.3391, -5.9757, -5.857, -5.9707, -5.2612, -6.456, -6.1925, -6.1603, -6.1816, -6.087, -6.1934, -6.1834, -5.9464, -6.3964, -6.0687, -6.0339, -6.1565, -6.0743, -6.0744, -7.6508, -7.5101, -7.9452, -8.3194, -8.3195, -8.3195, -8.3197, -8.3198, -8.3198, -8.3199, -8.32, -8.3321, -8.3416, -8.3484, -8.3744, -8.3813, -8.4611, -7.9307, -8.5121, -7.7931, -8.1956, -7.8212, -8.5261, -8.2164, -8.5225, -8.5222, -8.5623, -8.0465, -8.2734, -8.9657, -8.0165, -7.8774, -7.8916, -7.9331, -8.0615, -7.7197, -6.3012, -7.5914, -5.2953, -6.2581, -5.3403, -6.8329, -7.3098, -5.7212, -5.8225, -6.8277, -5.8127, -5.09, -4.9637, -6.0341, -5.0946, -5.1072, -5.7932, -6.9717, -5.6813, -7.1714, -6.0328, -5.2064, -6.05, -6.0154, -5.1439, -5.4943, -5.8622, -6.0176, -6.8109, -5.8091, -6.1626, -5.7574, -6.1414, -5.5263, -6.2672, -5.6646, -6.3231, -5.6208, -6.0961, -5.9835, -6.0861, -7.81, -7.9103, -8.1992, -8.1993, -8.1994, -8.1996, -8.1998, -8.1999, -8.227, -8.2445, -8.2512, -8.3853, -7.8577, -7.512, -8.3965, -8.4057, -8.4177, -8.3916, -8.419, -7.908, -8.4574, -8.8453, -8.8453, -8.8454, -8.8454, -8.8454, -8.8454, -8.8454, -8.8454, -8.8455, -8.4528, -8.434, -8.4598, -7.8261, -8.4475, -7.6721, -8.2158, -8.4508, -8.1991, -8.1963, -7.4553, -8.0018, -7.8346, -6.7331, -7.871, -6.6865, -5.6243, -6.2859, -6.8373, -5.6541, -7.2583, -5.6845, -7.355, -6.9746, -6.0677, -5.8318, -5.9931, -5.6494, -6.2246, -5.5544, -6.1767, -5.9498, -5.9478, -6.1255, -6.6163, -5.9104, -6.1709, -6.7214, -6.3068, -5.1269, -5.2786, -6.0914, -5.3789, -6.3855, -5.3128, -5.9742, -6.0373, -5.4491, -5.9362, -5.6552, -5.8451, -5.999, -5.9267, -6.1294, -6.0435, -6.0272, -5.8403, -5.968, -5.9187, -6.1133, -8.1674, -8.1674, -8.1675, -8.1676, -8.1677, -8.1678, -8.1684, -7.9071, -8.2276, -8.2256, -8.2567, -8.255, -7.3014, -7.7785, -8.2874, -7.773, -8.3469, -8.3568, -8.385, -8.3915, -8.4089, -8.3986, -8.8137, -8.8137, -8.8137, -8.8137, -8.8138, -8.8138, -8.8138, -8.8138, -8.1684, -8.1678, -8.1681, -8.1843, -8.1998, -8.0191, -5.9578, -6.5175, -5.2782, -6.2422, -6.3128, -7.5409, -4.4742, -6.7269, -5.183, -4.7511, -4.6915, -7.2236, -5.5162, -6.1596, -4.802, -6.2112, -5.0969, -5.9695, -6.2254, -6.4432, -5.1785, -5.3465, -6.0673, -6.4195, -5.6662, -7.1067, -5.5192, -5.8724, -6.1021, -6.0349, -5.9304, -6.4491, -5.781, -5.6961, -5.9353, -5.6973, -6.0016, -6.2183, -6.1591, -6.1034, -6.1246, -6.0719, -7.5531, -7.7037, -8.2217, -8.2219, -8.2223, -8.267, -8.2675, -8.2819, -8.2989, -7.4655, -8.3203, -8.3176, -7.8325, -7.8267, -8.3409, -8.3636, -8.0842, -8.3747, -8.3858, -7.7268, -8.4186, -8.4481, -8.8679, -8.868, -8.868, -8.8681, -8.8681, -8.8681, -8.8681, -8.8681, -8.1795, -8.2219, -8.4788, -7.5291, -8.2222, -8.4986, -8.2215, -8.222, -7.3593, -7.6355, -7.5844, -7.3776, -5.7391, -7.0941, -4.6913, -5.8485, -5.7024, -6.2352, -4.8521, -5.4976, -5.0147, -6.0432, -5.8682, -6.1506, -6.0241, -5.3684, -6.5923, -5.0902, -6.3882, -6.0612, -5.4248, -5.7964, -5.7305, -5.2039, -5.8212, -5.3846, -6.4225, -5.9118, -5.3918, -6.2275, -6.1593, -5.6356, -6.0888, -6.3159, -6.2477, -6.1046, -6.2374, -7.5877, -7.9624, -7.9625, -7.9626, -7.9626, -7.9627, -7.9628, -7.9628, -7.9629, -7.9633, -7.9686, -7.9704, -7.9791, -7.9844, -7.9952, -7.9973, -7.4912, -8.0945, -8.121, -7.1606, -8.1422, -7.6475, -7.8973, -8.1957, -8.2155, -8.6088, -8.6089, -8.6089, -8.6089, -8.6089, -7.9124, -8.2158, -7.7303, -7.9625, -7.9629, -7.7547, -7.9633, -7.1977, -6.4156, -6.9915, -5.6964, -6.936, -6.4269, -5.7715, -5.7634, -6.0217, -4.9912, -6.142, -5.0959, -5.6936, -6.2422, -5.8244, -5.6766, -5.407, -6.1245, -6.8409, -6.8655, -6.6814, -5.7934, -5.768, -7.1361, -6.4481, -6.5277, -5.8434, -6.1427, -6.2162, -6.1658, -6.0203, -6.4064, -6.0979, -6.128, -5.9877, -6.2291, -6.1633, -5.8827, -5.9598, -5.8087, -5.9272, -5.9472, -6.174, -6.1195, -6.1871, -7.5838, -7.94, -7.94, -7.9401, -7.9402, -7.9403, -7.9404, -7.9405, -7.9405, -7.9406, -7.9409, -7.9651, -7.0531, -8.1559, -8.1538, -7.8714, -8.5863, -8.5864, -8.5864, -8.5864, -8.5865, -8.5865, -8.5865, -8.5865, -8.5866, -8.5866, -8.5866, -8.5866, -8.5866, -8.5866, -7.926, -7.283, -7.5269, -7.9628, -7.9401, -7.6042, -7.2947, -8.2541, -7.7224, -7.2636, -4.8606, -6.2039, -6.8454, -5.9969, -5.9186, -4.8742, -4.9598, -5.6173, -6.4198, -7.1222, -5.858, -6.6033, -6.5018, -5.8096, -5.3846, -5.2243, -6.1127, -6.7672, -6.2138, -5.3578, -6.7225, -6.4265, -5.3029, -6.1697, -5.9483, -6.3473, -6.1515, -6.2228, -6.2716, -6.1345, -5.7491, -5.6503, -6.1891, -5.9845, -5.7706, -6.2071, -5.8072, -5.9783, -6.2605, -6.2369], \"loglift\": [30.0, 29.0, 28.0, 27.0, 26.0, 25.0, 24.0, 23.0, 22.0, 21.0, 20.0, 19.0, 18.0, 17.0, 16.0, 15.0, 14.0, 13.0, 12.0, 11.0, 10.0, 9.0, 8.0, 7.0, 6.0, 5.0, 4.0, 3.0, 2.0, 1.0, 1.7022, 1.6813, 1.6487, 1.6391, 1.6349, 1.6109, 1.5463, 1.5463, 1.5463, 1.5463, 1.5463, 1.5463, 1.5462, 1.5462, 1.5462, 1.5145, 1.5097, 1.4983, 1.491, 1.4684, 1.4679, 1.461, 1.4559, 1.4555, 1.4524, 1.4518, 1.4515, 1.4432, 1.4319, 1.4269, 1.4232, 1.4133, 1.3975, 1.3654, 1.3508, 1.3255, 0.7496, 1.1521, 0.8124, 1.2126, 1.3164, 0.5212, 0.5276, 0.2751, 0.3482, 0.645, 0.4516, 0.1741, 0.702, 0.483, 1.1445, 0.1799, 0.4472, 0.4167, 0.9384, 0.5531, 0.5655, 0.8863, 0.4671, 0.4569, 0.3893, -0.0387, 0.4776, -0.0765, 0.2427, 0.7832, 0.2579, 0.0016, 0.1017, 0.36, 0.3247, 0.4701, 0.1831, 0.0731, 0.1179, -0.0583, -0.4853, -0.6035, 1.7039, 1.7039, 1.7039, 1.7039, 1.7038, 1.7038, 1.7037, 1.7037, 1.6767, 1.6443, 1.6429, 1.6272, 1.6162, 1.5989, 1.5847, 1.5708, 1.5618, 1.5589, 1.5543, 1.5487, 1.5432, 1.5409, 1.5306, 1.519, 1.5146, 1.514, 1.5084, 1.5059, 1.4933, 1.4856, 1.4736, 1.3883, 1.4746, 1.4367, 1.0682, 1.2691, 0.8234, 1.2154, 0.9191, 0.5361, 1.0231, 0.9055, 0.7103, 0.8616, 1.0396, 0.3469, 0.2614, 0.6407, 0.6516, 0.8564, 0.4604, 0.8896, 0.4635, 0.1918, 0.6535, 0.548, 0.6026, 0.6714, 1.1452, 0.6561, 0.9152, 0.2133, 0.3161, 0.4376, 0.6153, 0.3723, 0.4004, -0.1647, 0.3928, -0.281, 0.181, 0.0676, -0.3779, 0.2804, 0.2112, -0.1613, -0.2913, -0.4732, -0.6857, 0.0295, 0.0248, 1.8475, 1.8064, 1.8063, 1.8063, 1.8062, 1.8062, 1.8062, 1.7639, 1.7073, 1.6887, 1.6718, 1.6711, 1.6549, 1.649, 1.6309, 1.6201, 1.607, 1.6043, 1.5838, 1.5838, 1.5838, 1.5838, 1.5838, 1.5838, 1.5838, 1.5838, 1.5838, 1.5838, 1.5838, 1.5838, 1.5746, 1.5644, 1.5712, 1.553, 1.5257, 1.519, 1.5426, 1.4948, 1.4656, 1.4832, 1.2178, 1.2181, 1.2745, 0.7549, 1.2127, 0.9165, 0.7461, 1.1211, 1.13, 1.289, 1.0089, 0.6021, 0.7466, 0.9227, 1.2017, 0.9624, 0.4797, 0.3546, 0.4663, 0.6352, 0.7132, 0.2077, 0.5036, 0.9226, 0.5832, 0.5714, 0.7869, 0.3947, 0.62, 0.7318, -0.0088, 0.318, 0.3791, 0.3818, 0.0869, 0.2119, 0.2245, -0.3326, -0.4526, -0.344, -0.4343, -0.3423, 0.0635, 0.296, 2.0287, 1.9978, 1.947, 1.9252, 1.9252, 1.9251, 1.9251, 1.9251, 1.9251, 1.9251, 1.9251, 1.9251, 1.925, 1.925, 1.925, 1.925, 1.9078, 1.9021, 1.8199, 1.7809, 1.7787, 1.7766, 1.7721, 1.7696, 1.752, 1.7345, 1.7202, 1.7168, 1.7005, 1.6937, 1.6935, 1.6702, 1.6648, 1.5992, 1.6588, 1.5616, 0.7614, 0.5155, 0.8381, 0.3491, 1.0437, 1.4056, 0.2692, 1.1242, 0.8078, 0.2241, 0.5628, 0.3659, 0.0577, 1.0714, 0.5235, 1.352, 0.4988, 1.2204, 0.3375, 0.4792, 0.5327, -0.0804, 0.3253, 0.2341, 0.2612, -0.3109, 0.6249, 0.4066, 0.2863, 0.2823, 0.1476, 0.2215, 0.1933, -0.1636, 0.4761, -0.039, -0.1536, -0.0066, -0.7397, -0.8688, 2.1047, 2.0605, 2.0308, 1.9407, 1.9407, 1.9407, 1.9406, 1.9406, 1.9406, 1.9405, 1.9405, 1.9283, 1.9199, 1.9121, 1.8888, 1.8803, 1.8021, 1.7867, 1.7575, 1.7557, 1.7481, 1.7392, 1.7382, 1.7376, 1.7291, 1.7281, 1.7096, 1.709, 1.6964, 1.6924, 1.6909, 1.6827, 1.6595, 1.6333, 1.6515, 1.5817, 1.2793, 1.5433, 0.9673, 1.0646, 0.6073, 1.1601, 1.3643, 0.59, 0.6344, 1.1211, 0.5952, 0.1687, 0.0936, 0.6728, 0.1091, 0.0983, 0.4277, 1.1379, 0.3416, 1.2454, 0.4866, -0.043, 0.4916, 0.4485, -0.1936, 0.0585, 0.2501, 0.3592, 0.9732, 0.1832, 0.4571, 0.1229, 0.4263, -0.1917, 0.4857, -0.2364, 0.5298, -0.4221, 0.2049, -0.3885, -0.0564, 2.1325, 2.0366, 2.031, 2.031, 2.0309, 2.0309, 2.0308, 2.0308, 2.0015, 1.9828, 1.9814, 1.8509, 1.8403, 1.838, 1.8375, 1.8312, 1.8278, 1.8246, 1.8182, 1.8108, 1.7933, 1.7904, 1.7904, 1.7904, 1.7904, 1.7903, 1.7903, 1.7903, 1.7903, 1.7903, 1.7853, 1.7797, 1.7789, 1.7455, 1.7734, 1.7317, 1.758, 1.7703, 1.7561, 1.751, 1.684, 1.7326, 1.6758, 1.4104, 1.6439, 1.3252, 0.9523, 1.1235, 1.2964, 0.8707, 1.3836, 0.7196, 1.3953, 1.2313, 0.8098, 0.6826, 0.7597, 0.5825, 0.8593, 0.4685, 0.7889, 0.5628, 0.5566, 0.6605, 0.9785, 0.4506, 0.5966, 0.9848, 0.684, -0.1766, -0.08, 0.5116, -0.1202, 0.6969, -0.2555, 0.3268, 0.3706, -0.2856, 0.19, -0.227, -0.0623, 0.0921, -0.0464, 0.3085, 0.1064, 0.0604, -0.6367, -0.3731, -0.7131, 0.0174, 2.0659, 2.0659, 2.0658, 2.0658, 2.0658, 2.0658, 2.0656, 2.0288, 2.0109, 2.0098, 1.9789, 1.9758, 1.9599, 1.9531, 1.9489, 1.9371, 1.8744, 1.8588, 1.8504, 1.8478, 1.8361, 1.8348, 1.8244, 1.8244, 1.8244, 1.8244, 1.8244, 1.8244, 1.8244, 1.8244, 1.7894, 1.7856, 1.7715, 1.7639, 1.7652, 1.7118, 1.3649, 1.4542, 1.2262, 1.328, 1.3051, 1.5977, 0.6892, 1.3528, 0.8467, 0.5835, 0.5141, 1.4059, 0.6801, 0.9213, 0.2553, 0.8824, 0.1018, 0.6002, 0.7257, 0.8683, 0.0251, 0.0816, 0.5739, 0.8083, 0.2141, 1.2728, 0.0336, 0.2996, 0.4656, 0.3415, 0.1818, 0.675, 0.0018, -0.1011, 0.0876, -0.4387, 0.0896, 0.4251, 0.2019, -0.111, -0.0371, -1.1217, 2.2242, 2.0696, 2.0564, 2.0564, 2.056, 2.01, 2.0085, 1.995, 1.978, 1.9674, 1.9537, 1.9482, 1.9391, 1.9379, 1.9355, 1.9067, 1.9049, 1.8977, 1.8749, 1.8575, 1.8399, 1.8181, 1.8036, 1.8036, 1.8035, 1.8035, 1.8035, 1.8035, 1.8035, 1.8035, 1.7943, 1.79, 1.788, 1.7301, 1.7678, 1.7839, 1.7579, 1.7574, 1.6153, 1.6549, 1.5874, 1.4979, 0.9622, 1.3886, 0.5143, 0.9339, 0.8, 1.011, 0.4065, 0.6286, 0.32, 0.8208, 0.6995, 0.8113, 0.7288, 0.2266, 0.9626, -0.0329, 0.8049, 0.5822, 0.1279, 0.3342, 0.2171, -0.2536, 0.2017, -0.1859, 0.7289, 0.2602, -0.2284, 0.5067, 0.4145, -0.2075, 0.3191, 0.5615, 0.3148, -0.0749, 0.1394, 2.4444, 2.3494, 2.3494, 2.3494, 2.3494, 2.3493, 2.3493, 2.3493, 2.3493, 2.3492, 2.3434, 2.3417, 2.3302, 2.3243, 2.315, 2.3084, 2.3027, 2.2067, 2.1655, 2.1591, 2.1439, 2.1266, 2.105, 2.0974, 2.0886, 2.0877, 2.0876, 2.0876, 2.0876, 2.0876, 2.0871, 2.0779, 2.0591, 2.0595, 2.0418, 2.0212, 2.0416, 1.843, 1.5851, 1.7466, 1.253, 1.5998, 1.3213, 0.923, 0.7924, 0.8966, 0.2075, 0.8968, 0.0676, 0.5274, 0.9471, 0.5444, 0.4146, 0.1458, 0.7529, 1.3777, 1.3735, 1.171, 0.3188, 0.2617, 1.569, 0.9032, 0.9627, 0.2441, 0.4986, 0.4907, 0.408, 0.1296, 0.6873, 0.134, 0.173, -0.1074, 0.3333, 0.1987, -0.4546, -0.3648, -0.7514, -0.7236, -0.6886, 0.0606, -0.9139, -0.0565, 2.453, 2.3788, 2.3788, 2.3788, 2.3787, 2.3787, 2.3787, 2.3786, 2.3786, 2.3786, 2.3785, 2.3505, 2.2783, 2.1522, 2.1482, 2.1169, 2.1152, 2.1152, 2.1152, 2.1152, 2.1151, 2.1151, 2.1151, 2.1151, 2.1151, 2.1151, 2.1151, 2.1151, 2.1151, 2.1151, 2.0887, 2.0478, 2.0448, 2.058, 2.0471, 1.9834, 1.8771, 2.0389, 1.8942, 1.7251, 0.9222, 1.318, 1.51, 1.1754, 1.0755, 0.4605, 0.2458, 0.6454, 1.1042, 1.5263, 0.6835, 1.1413, 1.0546, 0.4223, 0.0435, -0.1669, 0.656, 1.2618, 0.6668, -0.1944, 1.1362, 0.8169, -0.3526, 0.5365, 0.2863, 0.7107, 0.4682, 0.4964, 0.5506, 0.3665, -0.1963, -0.4516, 0.3733, 0.0078, -0.512, 0.3626, -0.6036, -0.3833, 0.3385, 0.2098]}, \"token.table\": {\"Topic\": [9, 3, 2, 3, 7, 6, 4, 5, 3, 1, 2, 3, 4, 5, 6, 7, 8, 9, 10, 3, 8, 2, 3, 4, 6, 2, 9, 4, 1, 3, 5, 6, 8, 9, 10, 1, 8, 3, 1, 2, 3, 4, 5, 6, 7, 8, 9, 10, 1, 2, 3, 4, 5, 6, 7, 8, 9, 10, 1, 2, 3, 4, 5, 6, 7, 8, 9, 10, 6, 4, 2, 1, 2, 3, 4, 5, 6, 7, 8, 9, 10, 1, 1, 2, 3, 4, 5, 6, 7, 8, 9, 10, 1, 2, 3, 4, 5, 7, 8, 10, 1, 2, 3, 4, 5, 6, 7, 8, 9, 10, 3, 1, 9, 10, 7, 9, 7, 1, 7, 1, 2, 3, 4, 5, 6, 7, 8, 9, 10, 2, 4, 10, 1, 2, 3, 4, 5, 6, 7, 8, 9, 10, 4, 1, 2, 3, 4, 5, 6, 7, 8, 9, 10, 7, 6, 7, 1, 2, 3, 4, 5, 5, 8, 6, 1, 2, 3, 4, 5, 6, 7, 8, 9, 10, 5, 1, 2, 4, 5, 6, 7, 8, 10, 10, 6, 2, 6, 6, 9, 9, 3, 5, 6, 9, 2, 1, 2, 3, 4, 5, 6, 7, 8, 9, 10, 1, 2, 7, 8, 5, 10, 1, 2, 3, 4, 5, 6, 7, 8, 9, 10, 1, 2, 3, 4, 5, 6, 7, 8, 9, 10, 1, 2, 3, 4, 5, 6, 7, 8, 9, 10, 3, 6, 1, 2, 3, 4, 5, 6, 7, 8, 9, 10, 2, 1, 2, 3, 4, 5, 8, 2, 4, 8, 9, 3, 5, 8, 1, 2, 3, 4, 5, 6, 7, 8, 9, 10, 1, 2, 3, 4, 5, 6, 7, 8, 9, 10, 8, 5, 6, 1, 2, 3, 4, 5, 6, 7, 8, 9, 10, 8, 1, 2, 3, 4, 5, 6, 7, 8, 9, 10, 1, 2, 3, 4, 5, 6, 7, 8, 9, 10, 1, 2, 3, 4, 5, 6, 7, 8, 9, 10, 8, 1, 2, 3, 9, 1, 6, 8, 9, 4, 1, 2, 3, 4, 5, 6, 7, 8, 9, 10, 7, 1, 2, 6, 8, 9, 10, 1, 2, 3, 4, 5, 6, 7, 8, 9, 10, 8, 1, 2, 3, 4, 5, 6, 7, 8, 9, 1, 5, 7, 9, 10, 1, 2, 3, 4, 5, 6, 7, 8, 9, 10, 1, 2, 3, 4, 5, 6, 8, 9, 10, 4, 1, 2, 3, 4, 5, 6, 7, 8, 9, 10, 10, 1, 2, 3, 4, 5, 6, 7, 8, 9, 10, 1, 2, 3, 4, 5, 6, 7, 8, 9, 10, 4, 10, 1, 3, 4, 1, 2, 3, 4, 5, 6, 7, 8, 9, 10, 1, 2, 3, 4, 5, 6, 7, 8, 9, 10, 1, 9, 1, 2, 3, 4, 5, 6, 7, 8, 9, 10, 10, 1, 2, 3, 4, 5, 7, 8, 9, 10, 7, 3, 9, 10, 9, 8, 2, 5, 6, 9, 9, 1, 2, 3, 4, 5, 6, 7, 8, 9, 10, 9, 9, 3, 5, 2, 1, 2, 3, 4, 5, 6, 7, 8, 9, 10, 1, 2, 3, 4, 5, 6, 7, 10, 1, 2, 3, 4, 5, 6, 7, 8, 9, 10, 9, 1, 2, 3, 4, 5, 6, 7, 8, 9, 10, 1, 2, 3, 5, 6, 8, 10, 7, 9, 8, 7, 8, 1, 2, 3, 4, 5, 6, 7, 8, 9, 10, 1, 5, 5, 1, 2, 4, 8, 10, 8, 1, 2, 3, 4, 5, 6, 7, 8, 9, 10, 8, 7, 2, 3, 10, 3, 9, 1, 3, 8, 3, 2, 3, 4, 5, 6, 7, 8, 9, 10, 4, 1, 2, 3, 4, 5, 6, 7, 8, 9, 10, 1, 4, 6, 8, 9, 10, 2, 5, 5, 9, 4, 4, 1, 2, 3, 4, 5, 8, 1, 2, 3, 4, 5, 7, 9, 10, 7, 3, 6, 1, 2, 3, 4, 5, 6, 7, 8, 9, 10, 1, 2, 3, 4, 5, 6, 7, 8, 9, 10, 1, 2, 3, 4, 5, 6, 7, 8, 9, 10, 1, 2, 3, 4, 5, 6, 7, 8, 9, 10, 1, 2, 3, 4, 5, 6, 7, 8, 9, 10, 1, 2, 3, 4, 5, 6, 7, 8, 9, 10, 7, 1, 2, 3, 4, 5, 6, 7, 8, 9, 10, 3, 4, 10, 10, 6, 1, 2, 3, 4, 5, 6, 7, 8, 10, 1, 2, 3, 4, 5, 6, 7, 8, 9, 10, 3, 2, 1, 1, 2, 3, 4, 5, 6, 7, 8, 9, 10, 1, 2, 3, 4, 5, 6, 7, 8, 9, 1, 2, 3, 4, 5, 6, 7, 8, 9, 10, 1, 2, 3, 4, 5, 6, 7, 8, 9, 10, 1, 2, 3, 4, 5, 6, 7, 8, 9, 10, 4, 1, 2, 3, 4, 6, 7, 8, 9, 7, 9, 1, 7, 2, 10, 1, 2, 3, 4, 5, 6, 7, 8, 9, 10, 4, 1, 2, 3, 4, 5, 7, 8, 9, 10, 1, 2, 3, 4, 5, 6, 7, 8, 9, 10, 1, 2, 3, 4, 5, 6, 7, 8, 9, 10, 5, 1, 9, 1, 2, 3, 4, 5, 6, 7, 8, 9, 10, 4, 8, 1, 2, 3, 4, 6, 7, 8, 10, 2, 6, 3, 3, 1, 2, 3, 4, 5, 6, 7, 8, 9, 10, 7, 2, 5, 8, 4, 1, 1, 6, 3, 9, 1, 2, 3, 4, 5, 6, 4, 1, 2, 3, 4, 5, 6, 7, 8, 9, 10, 3, 8, 1, 1, 2, 3, 4, 5, 6, 7, 8, 9, 10, 1, 6, 1, 2, 7, 9, 6, 8, 9, 1, 2, 3, 4, 5, 6, 7, 8, 9, 10, 10, 6, 3, 1, 2, 3, 4, 5, 6, 7, 8, 9, 10, 1, 2, 3, 4, 5, 6, 7, 8, 9, 10, 1, 2, 3, 4, 5, 6, 7, 8, 9, 10, 3, 10, 1, 2, 3, 4, 5, 6, 7, 8, 9, 10, 1, 2, 3, 4, 5, 6, 7, 8, 9, 10, 1, 2, 3, 4, 5, 6, 7, 8, 9, 10, 5, 1, 4, 6, 8, 1, 6, 3, 5, 1, 2, 3, 4, 5, 6, 7, 8, 9, 10, 10, 1, 2, 3, 4, 5, 6, 7, 8, 9, 10, 1, 2, 3, 4, 5, 6, 7, 8, 9, 10, 8, 1, 2, 3, 5, 6, 7, 8, 9, 1, 7, 10, 5, 8, 1, 2, 3, 4, 5, 6, 8, 9, 10, 1, 2, 3, 4, 5, 6, 7, 8, 9, 10, 4, 9, 6, 4, 7, 8, 4, 8, 1, 2, 3, 4, 5, 6, 7, 8, 9, 10, 9, 8, 7, 2, 3, 1, 2, 3, 4, 5, 6, 7, 8, 9, 10, 1, 2, 3, 4, 5, 6, 7, 8, 9, 10, 1, 2, 7, 9, 10, 1, 2, 3, 4, 5, 6, 7, 8, 9, 10, 1, 2, 3, 4, 5, 6, 7, 8, 9, 10, 2, 10, 1, 4, 8, 2, 7, 1, 2, 3, 4, 5, 6, 7, 8, 9, 10, 2, 3, 10, 7, 10, 8, 1, 3, 4, 5, 6, 7, 8, 9, 10, 1, 2, 3, 4, 5, 6, 7, 8, 9, 10, 1, 2, 3, 4, 5, 6, 7, 8, 9, 10, 1, 2, 3, 4, 5, 6, 7, 8, 9, 10, 3, 1, 2, 3, 4, 5, 6, 7, 9, 10, 1, 1, 3, 5, 9, 1, 1, 2, 3, 4, 5, 6, 7, 8, 9, 10, 9, 4, 8, 2, 1, 7, 1, 2, 3, 4, 5, 6, 7, 8, 9, 10, 1, 1, 2, 3, 4, 5, 7, 1, 2, 3, 4, 5, 6, 7, 8, 9, 10, 5, 1, 4, 2, 3, 4, 8, 9, 10, 10, 1, 2, 4, 6, 8, 9, 8, 7, 8, 7, 3, 10, 2, 4, 5, 6, 7, 9, 1, 2, 3, 5, 6, 7, 10, 10, 3, 4, 5, 8, 1, 5, 9, 1, 3, 5, 1, 2, 3, 4, 5, 6, 7, 8, 9, 10, 10, 10, 1, 2, 3, 4, 5, 6, 7, 8, 9, 10, 1, 2, 3, 4, 5, 6, 7, 8, 9, 10, 1, 2, 3, 4, 1, 2, 3, 4, 5, 6, 7, 8, 10, 7, 8, 9, 4, 5, 8, 2, 3, 4, 5, 7, 8, 10, 1, 2, 3, 4, 5, 6, 8, 9, 10, 4, 6, 8, 9, 3, 2, 3, 5, 7, 10, 1, 2, 3, 4, 5, 6, 7, 8, 9, 10, 1, 2, 3, 4, 5, 6, 7, 8, 9, 10, 2, 9, 7, 9, 1, 2, 3, 4, 5, 6, 7, 8, 9, 10, 6, 1, 2, 3, 4, 5, 6, 7, 8, 9, 10, 5, 1, 2, 3, 4, 5, 6, 7, 8, 9, 10, 1, 2, 3, 5, 6, 7, 8, 9, 10, 2, 4, 5, 9, 1, 2, 3, 4, 5, 6, 7, 8, 9, 10, 1, 2, 3, 4, 5, 6, 7, 8, 9, 10, 3, 1, 2, 3, 4, 5, 6, 7, 8, 9, 10, 1, 2, 3, 4, 5, 6, 7, 8, 9, 10, 7, 1, 6, 10, 1, 2, 3, 4, 5, 6, 7, 8, 9, 10, 1, 2, 3, 4, 5, 6, 7, 8, 9, 10, 1, 2, 3, 4, 5, 6, 7, 9, 6, 1, 2, 3, 4, 5, 6, 7, 8, 9, 10, 1, 2, 3, 4, 5, 6, 7, 8, 9, 10, 10, 1, 2, 3, 4, 5, 6, 7, 8, 9, 10, 7, 1, 2, 3, 4, 5, 6, 7, 8, 9, 10, 1, 2, 3, 4, 5, 6, 7, 8, 9, 10, 2, 6, 1, 5, 10, 1, 1, 2, 3, 4, 5, 6, 7, 8, 10, 6, 7, 1, 2, 3, 4, 5, 7, 8, 9, 1, 3, 4, 5, 6, 7, 8, 1, 2, 3, 4, 5, 6, 7, 8, 9, 10, 8, 7, 1, 2, 3, 4, 5, 6, 7, 8, 9, 10, 10, 4, 1, 2, 3, 4, 5, 6, 7, 8, 9, 10, 2, 6, 8, 1, 1, 2, 3, 5, 6, 7, 8, 9, 10, 1, 2, 3, 4, 5, 6, 7, 8, 9, 10, 1, 2, 3, 4, 5, 6, 7, 8, 9, 10, 6, 8, 3, 1, 2, 3, 4, 5, 6, 7, 8, 9, 10, 7, 7, 8, 5, 1, 2, 3, 4, 5, 6, 7, 8, 9, 10, 3, 6, 1, 2, 3, 5, 7, 8, 9, 10, 6, 1, 2, 4, 5, 6, 8, 3, 2, 5, 7, 10, 1, 5, 7, 8, 6, 1, 2, 3, 4, 5, 6, 7, 8, 9, 10, 2, 1, 2, 3, 4, 5, 6, 7, 8, 9, 10, 1, 4, 6, 2, 4, 1, 2, 3, 4, 5, 6, 7, 8, 9, 10, 9, 2, 5, 8, 1, 2, 4, 5, 8, 9, 1, 2, 3, 4, 5, 6, 7, 8, 9, 10, 6, 1, 2, 3, 4, 5, 6, 7, 8, 9, 10, 3, 1, 3, 3, 4, 8, 10, 1, 1, 2, 3, 4, 5, 6, 7, 8, 9, 10, 6, 1, 2, 3, 4, 5, 6, 7, 8, 9, 10, 4, 10, 3, 1, 2, 3, 5, 6, 7, 8, 9, 2, 1, 2, 3, 4, 5, 6, 7, 8, 9, 10, 2, 9, 7, 5, 3, 9, 4, 5, 10, 8, 1, 1, 1, 2, 3, 4, 5, 6, 7, 8, 9, 1, 2, 3, 4, 5, 6, 7, 8, 9, 10, 6, 7, 2, 3, 4, 5, 6, 2, 6, 3, 6, 9, 2, 4, 5, 9, 3, 4, 1, 2, 3, 4, 5, 7, 9, 3, 7, 4, 8, 1, 2, 3, 4, 5, 6, 7, 8, 9, 10, 4, 9, 6, 5, 1, 3, 5, 7, 8, 9, 10, 5, 7, 6, 1, 2, 3, 4, 5, 6, 7, 8, 9, 10, 1, 2, 3, 4, 5, 6, 7, 8, 9, 10, 2, 4, 6, 8, 1, 2, 3, 4, 5, 6, 7, 8, 9, 10, 6, 10, 4, 2, 8, 5, 2, 5, 2, 5, 2, 1, 2, 3, 4, 5, 6, 7, 8, 9, 10, 2, 10, 6, 2, 3, 4, 5, 6, 7, 8, 9, 1, 2, 3, 4, 5, 6, 7, 8, 9, 10, 4, 1, 6, 10, 1, 2, 3, 4, 5, 6, 7, 8, 9, 10, 6, 2, 5, 8, 5, 2, 10, 1, 2, 3, 4, 5, 6, 8, 10, 7, 8, 7, 4, 9, 4, 2, 5, 3, 10, 4, 6, 1, 2, 3, 4, 5, 7, 8, 9, 10, 3, 7, 1, 2, 3, 4, 5, 6, 7, 8, 9, 10, 1, 2, 3, 4, 5, 6, 7, 8, 9, 10, 1, 2, 3, 4, 5, 6, 7, 8, 9, 10, 3, 1, 2, 3, 4, 5, 6, 7, 8, 9, 10, 1, 2, 3, 4, 5, 6, 8, 9, 10, 1, 2, 3, 4, 5, 6, 7, 8, 9, 10, 1, 2, 3, 4, 5, 6, 7, 8, 9, 10, 1, 3, 6, 1, 8, 9, 7, 1, 2, 3, 4, 5, 6, 7, 8, 9, 10, 1, 2, 3, 4, 5, 6, 7, 8, 9, 10, 1, 2, 3, 4, 5, 6, 7, 8, 9, 10, 1, 2, 3, 4, 5, 6, 7, 8, 9, 10, 2, 6, 1, 9, 6, 1, 10, 5, 1, 2, 3, 4, 5, 6, 7, 8, 9, 10, 8, 1, 2, 3, 4, 5, 6, 7, 8, 9, 10, 3, 3, 4, 8, 6, 1, 2, 3, 4, 5, 6, 7, 8, 9, 10, 1, 7, 9, 1, 5, 8, 4, 6, 5, 4, 1, 2, 3, 4, 5, 6, 8, 1, 2, 3, 4, 5, 6, 7, 8, 9, 1, 2, 3, 4, 5, 6, 7, 8, 9, 10, 1, 2, 5, 6, 7, 1, 2, 3, 4, 6, 7, 8, 10, 1, 2, 3, 4, 5, 6, 7, 8, 9, 10, 1, 4, 8, 9, 4, 8, 10, 1, 2, 3, 4, 5, 6, 7, 8, 9, 10, 1, 2, 3, 4, 5, 6, 7, 8, 9, 10, 9, 6, 10, 2, 2, 10, 5, 1, 2, 3, 4, 5, 6, 7, 8, 9, 10, 1, 2, 3, 4, 5, 6, 7, 8, 9, 10, 4, 7, 1, 2, 3, 4, 5, 6, 7, 8, 9, 10, 1, 5, 1, 2, 3, 4, 5, 6, 7, 8, 9, 10, 1, 5, 7, 8, 10, 2], \"Freq\": [0.8704925013164975, 0.568713483424103, 0.1891819097135906, 0.5675457291407718, 0.1891819097135906, 0.4038694197052284, 0.8298439312204526, 0.8275834801621216, 0.8022525756171565, 0.14179781321085183, 0.16126025816136091, 0.14735851176814016, 0.09175152619525707, 0.11677466970305446, 0.08063012908068046, 0.05838733485152723, 0.13067641609627523, 0.033364191343729845, 0.036144540622374, 0.5687087836061917, 0.841648735103961, 0.18167821501857676, 0.27251732252786515, 0.3633564300371535, 0.18167821501857676, 0.5544659603255374, 0.8706366011652927, 0.619973911897923, 0.7534246938659711, 0.5686968103045686, 0.8266798392855687, 0.40725441470421997, 0.21714088354031008, 0.21714088354031008, 0.43428176708062016, 0.7452335403266692, 0.41558010147229485, 0.5687080001824467, 0.09105635856965412, 0.30959161913682404, 0.1639014454253774, 0.054633815141792476, 0.09105635856965412, 0.09105635856965412, 0.10926763028358495, 0.03642254342786165, 0.03642254342786165, 0.03642254342786165, 0.1796803406481281, 0.095829515012335, 0.19165903002467, 0.10780820438887687, 0.0479147575061675, 0.07187213625925125, 0.07187213625925125, 0.07187213625925125, 0.0479147575061675, 0.095829515012335, 0.17196669525607053, 0.2101815164240862, 0.16559755839473458, 0.038214821168015674, 0.05732223175202351, 0.09553705292003918, 0.08279877919736729, 0.06369136861335944, 0.08279877919736729, 0.03184568430667972, 0.7998413007942343, 0.8301708526247078, 0.7338480847381957, 0.2262676810210564, 0.13408455171618158, 0.11732398275165887, 0.07542256034035213, 0.10056341378713618, 0.09218312930487484, 0.07542256034035213, 0.07542256034035213, 0.07542256034035213, 0.016760568964522698, 0.5665575579046981, 0.08581581757169623, 0.10074030758416515, 0.24998520770885424, 0.12685816510598574, 0.10447143008728238, 0.018655612515586138, 0.09327806257793068, 0.10074030758416515, 0.07462245006234455, 0.05223571504364119, 0.3731235654444059, 0.10176097239392888, 0.1356812965252385, 0.06784064826261925, 0.1356812965252385, 0.033920324131309625, 0.10176097239392888, 0.033920324131309625, 0.09527728792471317, 0.0571663727548279, 0.24772094860425423, 0.09527728792471317, 0.09527728792471317, 0.03811091516988527, 0.09527728792471317, 0.15244366067954107, 0.09527728792471317, 0.03811091516988527, 0.7478841666083356, 0.16325175589363097, 0.16325175589363097, 0.6530070235745239, 0.6030909614367871, 0.8706797514174655, 0.6031199897251246, 0.6464032171310826, 0.16160080428277065, 0.24848235512477046, 0.10231626387490549, 0.07308304562493248, 0.07308304562493248, 0.14616609124986496, 0.05846643649994599, 0.05846643649994599, 0.05846643649994599, 0.16078270037485148, 0.043849827374959495, 0.7322135997970387, 0.4089671510994185, 0.6426609690687, 0.10318979044183706, 0.15478468566275558, 0.03439659681394568, 0.18918128247670127, 0.06879319362789137, 0.05159489522091853, 0.22357787929064696, 0.08599149203486421, 0.08599149203486421, 0.01719829840697284, 0.829954616920251, 0.12992179911270665, 0.19488269866906, 0.0742410280644038, 0.12992179911270665, 0.1577621846368581, 0.08352115657245428, 0.11136154209660572, 0.05568077104830286, 0.02784038552415143, 0.01856025701610095, 0.8046148111949801, 0.3040850446815029, 0.6081700893630058, 0.2886768022435784, 0.09622560074785946, 0.1443384011217892, 0.09622560074785946, 0.2886768022435784, 0.31542622143868243, 0.6308524428773649, 0.8040834240327936, 0.1636049589350962, 0.14023282194436815, 0.0818024794675481, 0.11686068495364013, 0.14023282194436815, 0.07011641097218407, 0.058430342476820066, 0.058430342476820066, 0.1636049589350962, 0.03505820548609204, 0.8265255211798415, 0.20482219964762743, 0.08192887985905098, 0.08192887985905098, 0.2867510795066784, 0.16385775971810196, 0.04096443992952549, 0.04096443992952549, 0.43354812476710247, 0.642656991857627, 0.6016350331978835, 0.7398583288696715, 0.8023222245482154, 0.48853574716470266, 0.24426787358235133, 0.6580378899407779, 0.7554272235816653, 0.8264914599441429, 0.6016643401842389, 0.42432711946561497, 0.5605524750327011, 0.12570630819373083, 0.107748264166055, 0.08979022013837916, 0.16162239624908248, 0.0538741320830275, 0.0538741320830275, 0.17958044027675832, 0.08979022013837916, 0.107748264166055, 0.017958044027675833, 0.5611763570079494, 0.14029408925198736, 0.2805881785039747, 0.8415499241586071, 0.8267989960120063, 0.6425824391111915, 0.21739124363302026, 0.22727266379815753, 0.08563897476452313, 0.046113294103973995, 0.07905136132109827, 0.07246374787767342, 0.09552039492966041, 0.07246374787767342, 0.03952568066054914, 0.06587613443424856, 0.20092511791404552, 0.09209067904393753, 0.1758094781747898, 0.09209067904393753, 0.05860315939159661, 0.14232195852244892, 0.10883443887010799, 0.05023127947851138, 0.03348751965234092, 0.05860315939159661, 0.1845369555159292, 0.10111614000872832, 0.042974359503709536, 0.14156259601221965, 0.0960603330082919, 0.06825339450589162, 0.17695324501527457, 0.07078129800610983, 0.06825339450589162, 0.05055807000436416, 0.23556831331924516, 0.4711366266384903, 0.06679639259770455, 0.1335927851954091, 0.06679639259770455, 0.10019458889655682, 0.10019458889655682, 0.10019458889655682, 0.06679639259770455, 0.10019458889655682, 0.10019458889655682, 0.20038917779311363, 0.7313638473485732, 0.10151597210859825, 0.10151597210859825, 0.10151597210859825, 0.406063888434393, 0.10151597210859825, 0.10151597210859825, 0.7342350771605143, 0.16136106596524014, 0.16136106596524014, 0.4840831978957204, 0.7473203643968817, 0.7484803522694796, 0.4160385558734196, 0.0991145942714326, 0.07433594570357445, 0.0991145942714326, 0.0991145942714326, 0.16106121569107798, 0.07433594570357445, 0.11150391855536168, 0.18583986425893612, 0.037167972851787225, 0.0495572971357163, 0.2395707131356794, 0.3040705205183623, 0.03685703279010452, 0.05528554918515678, 0.06449980738268292, 0.11057109837031356, 0.08292832377773518, 0.05528554918515678, 0.01842851639505226, 0.02764277459257839, 0.8397356207700821, 0.6182854004619094, 0.3091427002309547, 0.1350075509098419, 0.04821698246780067, 0.1350075509098419, 0.10607736142916148, 0.09643396493560134, 0.08679056844204121, 0.11572075792272161, 0.1928679298712027, 0.05786037896136081, 0.028930189480680404, 0.623622596830555, 0.12207172170427685, 0.1729349390810589, 0.14241700865498966, 0.10172643475356405, 0.10172643475356405, 0.09155379127820765, 0.050863217376782024, 0.030517930426069213, 0.14241700865498966, 0.040690573901425615, 0.19239169813923335, 0.07695667925569333, 0.17315252832531, 0.019239169813923332, 0.11543501888354, 0.038478339627846664, 0.05771750944177, 0.19239169813923335, 0.038478339627846664, 0.09619584906961667, 0.26098506801300503, 0.0839951943030361, 0.0839951943030361, 0.0479972538874492, 0.08099536593507052, 0.038997768783552475, 0.15899090350217548, 0.119993134718623, 0.0239986269437246, 0.09899433614286397, 0.6236130305749558, 0.12207377617104417, 0.24414755234208835, 0.12207377617104417, 0.3662213285131325, 0.13472955956934557, 0.5389182382773823, 0.13472955956934557, 0.13472955956934557, 0.4981967716805298, 0.16809233801826942, 0.15128310421644248, 0.1176646366127886, 0.10085540281096166, 0.06723693520730777, 0.06723693520730777, 0.06723693520730777, 0.1176646366127886, 0.05042770140548083, 0.1176646366127886, 0.8046412231176879, 0.13315828312961991, 0.26631656625923983, 0.22193047188269988, 0.08877218875307995, 0.044386094376539974, 0.22193047188269988, 0.3263090950982004, 0.11315557330018239, 0.08420879873501945, 0.1315762480234679, 0.11052404833971304, 0.04736744928844844, 0.09210337361642752, 0.028946774565162935, 0.03157829952563229, 0.03420982448610165, 0.8404592606524286, 0.1473413749959113, 0.33678028570494006, 0.10524383928279378, 0.06314630356967627, 0.08419507142623502, 0.021048767856558754, 0.04209753571311751, 0.12629260713935253, 0.08419507142623502, 0.18040400905591206, 0.18040400905591206, 0.09020200452795603, 0.3608080181118241, 0.09020200452795603, 0.20232688719107708, 0.0909334324454279, 0.07502008176747801, 0.1682268500240416, 0.10912011893451348, 0.07047341014520662, 0.11366679055678487, 0.0841134250120208, 0.02955336554476407, 0.05228672365612104, 0.06428693340952701, 0.16071733352381756, 0.12857386681905403, 0.16071733352381756, 0.06428693340952701, 0.25714773363810806, 0.09643040011429053, 0.03214346670476351, 0.06428693340952701, 0.830054821378148, 0.25902417077330037, 0.07770725123199011, 0.05180483415466007, 0.05180483415466007, 0.05180483415466007, 0.07770725123199011, 0.025902417077330035, 0.12951208538665018, 0.15541450246398023, 0.10360966830932014, 0.6426569465624493, 0.24365086245080303, 0.07198775481500999, 0.1938131860404115, 0.06645023521385537, 0.18273814683810227, 0.022150078404618457, 0.044300156809236914, 0.11075039202309228, 0.03322511760692769, 0.03322511760692769, 0.17419204482134593, 0.05806401494044864, 0.270965403055427, 0.09677335823408108, 0.15483737317452972, 0.03870934329363243, 0.019354671646816216, 0.07741868658726486, 0.07741868658726486, 0.03870934329363243, 0.7190349928994332, 0.1797587482248583, 0.2985110772679007, 0.14925553863395036, 0.4477666159018511, 0.18641385200956015, 0.24855180267941354, 0.09320692600478007, 0.07767243833731673, 0.07767243833731673, 0.07767243833731673, 0.062137950669853385, 0.062137950669853385, 0.09320692600478007, 0.031068975334926693, 0.05569124685687758, 0.11138249371375517, 0.3341474811412655, 0.16707374057063276, 0.08353687028531638, 0.13922811714219396, 0.02784562342843879, 0.02784562342843879, 0.05569124685687758, 0.02784562342843879, 0.254628741859111, 0.509257483718222, 0.050768515110185874, 0.3299953482162082, 0.10153703022037175, 0.07615277266527881, 0.10153703022037175, 0.025384257555092937, 0.15230554533055762, 0.050768515110185874, 0.025384257555092937, 0.07615277266527881, 0.8765411565227711, 0.05225721886653817, 0.06967629182205089, 0.2264479484216654, 0.08709536477756362, 0.08709536477756362, 0.20902887546615267, 0.06967629182205089, 0.12193351068858907, 0.034838145911025444, 0.4023338301342392, 0.4698039874440328, 0.2349019937220164, 0.6425714472861674, 0.6386985658588573, 0.4226129706452458, 0.24015271245858932, 0.48030542491717865, 0.3184339950159109, 0.6368679900318218, 0.43056707517808746, 0.13566005817162727, 0.18088007756216967, 0.29393012603852575, 0.04522001939054242, 0.06783002908581363, 0.06783002908581363, 0.04522001939054242, 0.02261000969527121, 0.09044003878108484, 0.06783002908581363, 0.8705003822051733, 0.43447869218405205, 0.5712497822648243, 0.8267110964451372, 0.7466560689154979, 0.264830279364683, 0.05885117319215178, 0.05885117319215178, 0.02942558659607589, 0.11770234638430356, 0.02942558659607589, 0.3236814525568348, 0.05885117319215178, 0.02942558659607589, 0.02942558659607589, 0.40028953112924665, 0.08005790622584932, 0.08005790622584932, 0.12008685933877399, 0.04002895311292466, 0.04002895311292466, 0.16011581245169865, 0.08005790622584932, 0.1403865180575466, 0.09651573116456327, 0.08774157378596661, 0.07896741640736996, 0.17548314757193323, 0.13161236067894994, 0.0701932590287733, 0.12283820330035326, 0.04387078689298331, 0.05264494427157997, 0.6393569162398871, 0.12943957202685072, 0.1529740396680963, 0.11767233820622794, 0.047068935282491176, 0.07060340292373676, 0.047068935282491176, 0.05883616910311397, 0.22357744259183307, 0.05883616910311397, 0.08237063674435956, 0.0824701483498676, 0.0824701483498676, 0.0824701483498676, 0.0824701483498676, 0.1649402966997352, 0.0824701483498676, 0.24741044504960283, 0.3200788229477958, 0.6401576458955917, 0.41258240603578344, 0.4031748833204974, 0.7619250069444402, 0.11757611058267065, 0.26454624881100897, 0.17636416587400597, 0.13227312440550448, 0.02939402764566766, 0.05878805529133532, 0.04409104146850149, 0.05878805529133532, 0.05878805529133532, 0.05878805529133532, 0.8324752911288608, 0.13874588185481013, 0.6220407234361471, 0.1034812635175857, 0.1034812635175857, 0.2069625270351714, 0.4139250540703428, 0.1034812635175857, 0.6236193278282824, 0.1689297550616381, 0.0985423571192889, 0.15485227547316827, 0.07038739794234922, 0.07038739794234922, 0.14077479588469843, 0.05630991835387937, 0.07038739794234922, 0.07038739794234922, 0.12669731629622857, 0.41835769846743165, 0.6030917182462198, 0.188928617283695, 0.566785851851085, 0.188928617283695, 0.7445404909231067, 0.639339306318613, 0.5642915845373349, 0.14107289613433371, 0.14107289613433371, 0.7622403149717156, 0.08193014187552573, 0.08193014187552573, 0.08193014187552573, 0.08193014187552573, 0.32772056750210293, 0.08193014187552573, 0.08193014187552573, 0.08193014187552573, 0.16386028375105147, 0.6251371676151407, 0.17620708135654603, 0.1384484210658576, 0.10068976077516917, 0.11327598087206531, 0.03775866029068844, 0.07551732058137688, 0.07551732058137688, 0.11327598087206531, 0.050344880387584584, 0.11327598087206531, 0.11588956360421829, 0.11588956360421829, 0.23177912720843658, 0.11588956360421829, 0.11588956360421829, 0.3476686908126549, 0.2377863792486787, 0.4755727584973574, 0.4989775833545658, 0.2494887916772829, 0.41916266477970837, 0.4115526913864558, 0.20961511649352416, 0.06987170549784139, 0.20961511649352416, 0.06987170549784139, 0.06987170549784139, 0.3493585274892069, 0.4888197479237632, 0.08887631780432058, 0.08887631780432058, 0.08887631780432058, 0.04443815890216029, 0.08887631780432058, 0.04443815890216029, 0.08887631780432058, 0.6031167644096328, 0.5719384051680667, 0.28596920258403336, 0.1122634333522997, 0.028065858338074925, 0.1543622208594121, 0.1543622208594121, 0.08419757501422477, 0.08419757501422477, 0.042098787507112385, 0.1543622208594121, 0.1403292916903746, 0.042098787507112385, 0.2231878154564846, 0.1217388084308098, 0.020289801405134963, 0.08115920562053985, 0.0608694042154049, 0.1217388084308098, 0.04057960281026993, 0.2434776168616196, 0.020289801405134963, 0.0608694042154049, 0.2411397274504418, 0.10334559747876076, 0.03444853249292026, 0.05167279873938038, 0.08612133123230065, 0.1894669287110614, 0.10334559747876076, 0.08612133123230065, 0.05167279873938038, 0.05167279873938038, 0.1538227489395582, 0.10649267234277106, 0.0828276340443775, 0.13015771064116463, 0.18932030638714856, 0.10649267234277106, 0.02366503829839357, 0.059162595745983926, 0.10649267234277106, 0.04733007659678714, 0.14041870673815857, 0.08023926099323346, 0.21062806010723784, 0.07020935336907928, 0.110328983865696, 0.110328983865696, 0.07020935336907928, 0.110328983865696, 0.03008972287246255, 0.07020935336907928, 0.1368194231399596, 0.07297035900797845, 0.3010027309079111, 0.1368194231399596, 0.08209165388397575, 0.054727769255983834, 0.04560647437998653, 0.04560647437998653, 0.04560647437998653, 0.07297035900797845, 0.48686490516659303, 0.0983954413081472, 0.21084737423174402, 0.2389603574626432, 0.0843389496926976, 0.0562259664617984, 0.0421694748463488, 0.0421694748463488, 0.0843389496926976, 0.0421694748463488, 0.0983954413081472, 0.5687107056345654, 0.3252740144649799, 0.3252740144649799, 0.4368481467322992, 0.4037911384900473, 0.04191722148110244, 0.04191722148110244, 0.08383444296220488, 0.08383444296220488, 0.04191722148110244, 0.12575166444330732, 0.37725499332992196, 0.16766888592440976, 0.04191722148110244, 0.18704680364248602, 0.10202552925953783, 0.12753191157442229, 0.10202552925953783, 0.11052765669783264, 0.09352340182124301, 0.12753191157442229, 0.09352340182124301, 0.025506382314884456, 0.034008509753179275, 0.758448091781611, 0.7313926854127584, 0.8357782661297029, 0.3493439470504391, 0.05094599227818903, 0.036389994484420735, 0.07277998896884147, 0.1528379768345671, 0.09461398565949392, 0.05094599227818903, 0.05094599227818903, 0.10916998345326222, 0.021833996690652443, 0.06703648396578596, 0.13407296793157192, 0.03351824198289298, 0.06703648396578596, 0.06703648396578596, 0.10055472594867894, 0.06703648396578596, 0.20110945189735788, 0.23462769388025087, 0.12075276670857332, 0.18975434768490093, 0.06900158097632761, 0.034500790488163804, 0.05175118573224571, 0.22425513817306472, 0.05175118573224571, 0.08625197622040952, 0.12075276670857332, 0.034500790488163804, 0.08859069213023635, 0.11812092284031513, 0.08859069213023635, 0.2953023071007878, 0.02953023071007878, 0.08859069213023635, 0.08859069213023635, 0.11812092284031513, 0.05906046142015756, 0.05906046142015756, 0.16634052704343216, 0.18020223763038484, 0.05544684234781072, 0.09703197410866876, 0.08317026352171608, 0.09703197410866876, 0.11782453998909778, 0.11089368469562144, 0.0346542764673817, 0.05544684234781072, 0.8300161621402795, 0.08200538312764671, 0.08200538312764671, 0.2460161493829401, 0.2870188409467635, 0.04100269156382336, 0.08200538312764671, 0.04100269156382336, 0.12300807469147006, 0.3201596808286282, 0.6403193616572564, 0.7452478436100941, 0.6031030956659633, 0.7374393701108727, 0.6426573504856575, 0.18590543018078767, 0.17262647088216, 0.09295271509039384, 0.09295271509039384, 0.1195106336876492, 0.05311583719451076, 0.07967375579176614, 0.05311583719451076, 0.02655791859725538, 0.10623167438902152, 0.41572652948887945, 0.13082353310203768, 0.13082353310203768, 0.13082353310203768, 0.06541176655101884, 0.3270588327550942, 0.06541176655101884, 0.06541176655101884, 0.06541176655101884, 0.8764694543631865, 0.10315031151075826, 0.07220521805753079, 0.09283528035968243, 0.16504049841721322, 0.09283528035968243, 0.05157515575537913, 0.16504049841721322, 0.11346534266183408, 0.05157515575537913, 0.09283528035968243, 0.1607160730846003, 0.053572024361533445, 0.10714404872306689, 0.08035803654230016, 0.08035803654230016, 0.08035803654230016, 0.08035803654230016, 0.026786012180766722, 0.1607160730846003, 0.18750208526536705, 0.8267429456637363, 0.6892335538166322, 0.2297445179388774, 0.26885125030173534, 0.10081921886315076, 0.17923416686782356, 0.08961708343391178, 0.06721281257543384, 0.11202135429238973, 0.08961708343391178, 0.06721281257543384, 0.011202135429238973, 0.011202135429238973, 0.315142408105429, 0.630284816210858, 0.04210780509695744, 0.12632341529087232, 0.04210780509695744, 0.2947546356787021, 0.08421561019391488, 0.12632341529087232, 0.12632341529087232, 0.12632341529087232, 0.7313264956429819, 0.6016548319893614, 0.5686996225407516, 0.7447399087967035, 0.10618300625978053, 0.10618300625978053, 0.25483921502347323, 0.12741960751173662, 0.08494640500782442, 0.11680130688575857, 0.06370980375586831, 0.031854901877934154, 0.04247320250391221, 0.07432810438184637, 0.8026234776429778, 0.5572871415793078, 0.2786435707896539, 0.41579271866736245, 0.4983146124078526, 0.7501815626926207, 0.7453104847829761, 0.40424609451046156, 0.7449069736936026, 0.8704143141840138, 0.16921590328271233, 0.08460795164135616, 0.16921590328271233, 0.08460795164135616, 0.4230397582067808, 0.6042212375661552, 0.8297986328421935, 0.10136387244162805, 0.2672320273461103, 0.03685958997877384, 0.05528938496816076, 0.1842979498938692, 0.05528938496816076, 0.06450428246285421, 0.0921489749469346, 0.06450428246285421, 0.06450428246285421, 0.758468879940328, 0.8416640783551594, 0.7454321380534108, 0.11067647837333965, 0.1254333421564516, 0.19921766107201136, 0.11805491026489562, 0.0664058870240038, 0.10329804648178367, 0.08116275080711574, 0.051649023240891836, 0.0664058870240038, 0.08116275080711574, 0.6445439863560671, 0.16113599658901678, 0.4871809788882579, 0.1623936596294193, 0.08119682981470965, 0.08119682981470965, 0.25809370279915994, 0.25809370279915994, 0.5161874055983199, 0.1684056152894911, 0.15437181401536684, 0.04210140382237278, 0.07016900637062129, 0.08420280764474555, 0.2105070191118639, 0.07016900637062129, 0.04210140382237278, 0.08420280764474555, 0.08420280764474555, 0.8768025898149101, 0.8022116097798679, 0.7446482829646949, 0.1117044400559749, 0.0698152750349843, 0.15359360507696546, 0.16755666008396233, 0.16755666008396233, 0.1117044400559749, 0.08377833004198117, 0.05585222002798745, 0.04188916502099058, 0.05585222002798745, 0.073813458871697, 0.147626917743394, 0.05536009415377276, 0.22144037661509103, 0.18453364717924253, 0.05536009415377276, 0.01845336471792425, 0.18453364717924253, 0.0369067294358485, 0.0369067294358485, 0.14476656077998054, 0.20846384752317199, 0.1910918602295743, 0.040534637018394555, 0.12160391105518366, 0.06948794917439066, 0.08106927403678911, 0.06369728674319144, 0.017371987293597665, 0.06369728674319144, 0.31454027217297403, 0.6290805443459481, 0.11067753722824057, 0.11067753722824057, 0.08300815292118043, 0.11067753722824057, 0.11067753722824057, 0.13834692153530073, 0.08300815292118043, 0.055338768614120286, 0.027669384307060143, 0.16601630584236085, 0.14192554082164457, 0.11827128401803715, 0.08673227494656058, 0.14192554082164457, 0.11827128401803715, 0.1261560362859063, 0.08673227494656058, 0.055193265875084004, 0.07884752267869144, 0.055193265875084004, 0.1413671178808415, 0.1236962281457363, 0.15903800761594666, 0.1236962281457363, 0.10602533841063112, 0.06184811407286815, 0.09718989354307853, 0.08835444867552593, 0.035341779470210374, 0.05301266920531556, 0.8265808374789486, 0.9190182099047003, 0.8299962103827336, 0.25177504617768565, 0.5035500923553713, 0.7502656679099385, 0.3974435453717574, 0.5686703283079578, 0.8277089861622468, 0.10844442008439148, 0.10844442008439148, 0.17351107213502637, 0.11928886209283063, 0.15182218811814807, 0.08675553606751318, 0.06506665205063489, 0.04337776803375659, 0.032533326025317444, 0.09759997807595233, 0.6425876976860095, 0.13594161273843255, 0.19636010728884704, 0.09062774182562171, 0.09062774182562171, 0.10573236546322533, 0.045313870912810854, 0.18125548365124342, 0.07552311818801809, 0.045313870912810854, 0.045313870912810854, 0.15486677627707915, 0.05956414472195352, 0.13104111838829774, 0.16677960522146984, 0.13104111838829774, 0.05956414472195352, 0.09530263155512562, 0.09530263155512562, 0.08338980261073492, 0.023825657888781406, 0.8405235177041035, 0.0657108562671962, 0.08761447502292827, 0.043807237511464134, 0.2847470438245169, 0.0657108562671962, 0.35045790009171307, 0.043807237511464134, 0.021903618755732067, 0.2999270936732504, 0.5998541873465008, 0.8767042361594221, 0.253557412497017, 0.507114824994034, 0.2604207806035909, 0.0744059373153117, 0.03720296865765585, 0.03720296865765585, 0.0744059373153117, 0.03720296865765585, 0.03720296865765585, 0.22321781194593507, 0.18601484328827925, 0.10513460747632775, 0.38549356074653507, 0.07008973831755183, 0.10513460747632775, 0.035044869158775915, 0.07008973831755183, 0.035044869158775915, 0.10513460747632775, 0.035044869158775915, 0.07008973831755183, 0.8300494897385831, 0.42709365598545623, 0.6016450408802171, 0.2102308492517635, 0.2102308492517635, 0.6306925477552905, 0.6262237506097966, 0.3131118753048983, 0.06641365233290081, 0.33206826166450404, 0.016603413083225202, 0.06641365233290081, 0.08301706541612601, 0.09962047849935121, 0.09962047849935121, 0.1162238915825764, 0.049810239249675606, 0.06641365233290081, 0.639369751328564, 0.6235746186015039, 0.8088181408809236, 0.7473318670484546, 0.7507187736580687, 0.10206521347163781, 0.19562499248730583, 0.093559779015668, 0.11907608238357746, 0.14459238575148692, 0.05953804119178873, 0.08505434455969818, 0.10206521347163781, 0.05953804119178873, 0.04252717227984909, 0.07168505142931852, 0.11264793796035769, 0.11264793796035769, 0.13312938122587728, 0.11264793796035769, 0.11264793796035769, 0.05120360816379895, 0.12288865959311748, 0.0921664946948381, 0.0921664946948381, 0.1346331203380707, 0.1346331203380707, 0.40389936101421214, 0.1346331203380707, 0.1346331203380707, 0.08019800550281217, 0.16039601100562434, 0.02673266850093739, 0.08019800550281217, 0.05346533700187478, 0.10693067400374956, 0.10693067400374956, 0.10693067400374956, 0.02673266850093739, 0.2405940165084365, 0.13944896187040035, 0.11952768160320029, 0.07968512106880019, 0.11952768160320029, 0.11952768160320029, 0.059763840801600146, 0.19921280267200048, 0.059763840801600146, 0.059763840801600146, 0.059763840801600146, 0.7504321901827182, 0.6426356260449441, 0.15669687708718597, 0.15669687708718597, 0.47009063126155787, 0.7316377431571605, 0.8065236765610206, 0.1679742045134621, 0.12216305782797245, 0.1679742045134621, 0.07635191114248277, 0.06108152891398622, 0.09162229337097932, 0.03054076445699311, 0.19851496897045523, 0.04581114668548966, 0.015270382228496556, 0.7316108866129221, 0.21093023282458842, 0.42186046564917684, 0.5976630176090978, 0.8764750328378608, 0.8405703361868282, 0.16094843310552837, 0.16094843310552837, 0.10729895540368559, 0.05364947770184279, 0.05364947770184279, 0.10729895540368559, 0.05364947770184279, 0.2682473885092139, 0.10729895540368559, 0.1486612416380335, 0.0867190576221862, 0.06194218401584728, 0.04955374721267782, 0.16104967844120294, 0.1982149888507113, 0.06194218401584728, 0.136272804834864, 0.04955374721267782, 0.03716531040950837, 0.16577323653484044, 0.16577323653484044, 0.08288661826742022, 0.02762887275580674, 0.05525774551161348, 0.1381443637790337, 0.08288661826742022, 0.2210309820464539, 0.05525774551161348, 0.02762887275580674, 0.11389291779426589, 0.14495462264724748, 0.2174319339708712, 0.08800816375011454, 0.11389291779426589, 0.08800816375011454, 0.1087159669854356, 0.05694645889713294, 0.05694645889713294, 0.02070780323532107, 0.7570872452070676, 0.10423405486478515, 0.2084681097295703, 0.10423405486478515, 0.06948936990985677, 0.2779574796394271, 0.13897873981971354, 0.034744684954928384, 0.06948936990985677, 0.034744684954928384, 0.7452688587029002, 0.7499672142748441, 0.2065084380026252, 0.4130168760052504, 0.2065084380026252, 0.7451740854109542, 0.24808197413632738, 0.13709793307533882, 0.05222778402870051, 0.07834167604305076, 0.12404098706816369, 0.07181320303946319, 0.10445556805740101, 0.07181320303946319, 0.08487014904663832, 0.01958541901076269, 0.8676540780238358, 0.34280593077354793, 0.45707457436473053, 0.7421781743044614, 0.6364319949315871, 0.15910799873289677, 0.2327472047704886, 0.1263484825896938, 0.07979904163559609, 0.09309888190819544, 0.07979904163559609, 0.09309888190819544, 0.06649920136299675, 0.11969856245339415, 0.059849281226697075, 0.04654944095409772, 0.7451580311893204, 0.07444451377548934, 0.5211115964284254, 0.07444451377548934, 0.07444451377548934, 0.07444451377548934, 0.07444451377548934, 0.0766686271921615, 0.21083872477844412, 0.153337254384323, 0.09583578399020187, 0.0766686271921615, 0.0766686271921615, 0.057501470394121124, 0.03833431359608075, 0.17250441118236337, 0.03833431359608075, 0.409230501614909, 0.7496497551023542, 0.83013529754265, 0.13733379618662978, 0.4120013885598894, 0.13733379618662978, 0.06866689809331489, 0.06866689809331489, 0.06866689809331489, 0.6426390095406561, 0.09131093977040974, 0.1826218795408195, 0.09131093977040974, 0.365243759081639, 0.09131093977040974, 0.09131093977040974, 0.623622522213145, 0.7308261001664168, 0.24360870005547225, 0.7152382267945536, 0.3149065105166024, 0.6298130210332048, 0.07368202153805822, 0.14736404307611645, 0.14736404307611645, 0.07368202153805822, 0.22104606461417467, 0.2947280861522329, 0.557976789377203, 0.159421939822058, 0.079710969911029, 0.079710969911029, 0.079710969911029, 0.079710969911029, 0.6610418111791895, 0.4309455616643323, 0.2052708939464737, 0.2052708939464737, 0.6158126818394211, 0.420031656126586, 0.20292000675059937, 0.6087600202517981, 0.8706197342357727, 0.6517702760140889, 0.16294256900352222, 0.16294256900352222, 0.08286016089038624, 0.12429024133557937, 0.22786544244856216, 0.12429024133557937, 0.07250264077908797, 0.03107256033389484, 0.08286016089038624, 0.13464776144687765, 0.09321768100168452, 0.03107256033389484, 0.8765179959280855, 0.42706083884262974, 0.17345158343421982, 0.04730497730024177, 0.07884162883373629, 0.09460995460048353, 0.1419149319007253, 0.1103782803672308, 0.03153665153349451, 0.04730497730024177, 0.09460995460048353, 0.18921990920096707, 0.12322348338209398, 0.15060647968922597, 0.10953198522852799, 0.06845749076782999, 0.164297977842792, 0.06845749076782999, 0.10953198522852799, 0.09584048707496198, 0.082148988921396, 0.027382996307131997, 0.14833878473335663, 0.14833878473335663, 0.14833878473335663, 0.4450163542000699, 0.04831688573025831, 0.23192105150523987, 0.05798026287630997, 0.019326754292103322, 0.04831688573025831, 0.16427741148287825, 0.2995646915276015, 0.04831688573025831, 0.07730701716841329, 0.3121161384001173, 0.6242322768002346, 0.4273850774032543, 0.1807007910528867, 0.1807007910528867, 0.5421023731586601, 0.38832743034894873, 0.06472123839149145, 0.1294424767829829, 0.06472123839149145, 0.06472123839149145, 0.06472123839149145, 0.1294424767829829, 0.09467305707518386, 0.37869222830073546, 0.031557685691727955, 0.06311537138345591, 0.06311537138345591, 0.09467305707518386, 0.09467305707518386, 0.09467305707518386, 0.06311537138345591, 0.1755185553943459, 0.5265556661830377, 0.1755185553943459, 0.6393593861184701, 0.5687023981206997, 0.1391855449092508, 0.1391855449092508, 0.1391855449092508, 0.1391855449092508, 0.4175566347277524, 0.18383117315068703, 0.1736183301978711, 0.25327850522983547, 0.07353246926027482, 0.08170274362252758, 0.0776176064414012, 0.028595960267884652, 0.06740476348858525, 0.018383117315068705, 0.04289394040182698, 0.17719190199089455, 0.09281480580475429, 0.17719190199089455, 0.09281480580475429, 0.10969022504198235, 0.05906396733029819, 0.05906396733029819, 0.05906396733029819, 0.10969022504198235, 0.05062625771168416, 0.7342186027539057, 0.8704272140023093, 0.8048605440845862, 0.6393735162525745, 0.10533448715169619, 0.31600346145508856, 0.18960207687305314, 0.08426758972135695, 0.06320069229101771, 0.06320069229101771, 0.06320069229101771, 0.042133794860678475, 0.021066897430339238, 0.021066897430339238, 0.8024314458094716, 0.13809533935546192, 0.15934077617937914, 0.08498174729566886, 0.14871805776742053, 0.11684990253154469, 0.04249087364783443, 0.05311359205979304, 0.11684990253154469, 0.05311359205979304, 0.08498174729566886, 0.8267450997704043, 0.09059822237787947, 0.2113958522150521, 0.3019940745929316, 0.030199407459293157, 0.06039881491858631, 0.09059822237787947, 0.030199407459293157, 0.12079762983717263, 0.030199407459293157, 0.030199407459293157, 0.0466974044082907, 0.2334870220414535, 0.0933948088165814, 0.0466974044082907, 0.0466974044082907, 0.3268818308580349, 0.0466974044082907, 0.0466974044082907, 0.0466974044082907, 0.7404244964878187, 0.1584375708002009, 0.47531271240060274, 0.1584375708002009, 0.2908295475298837, 0.09348092599174834, 0.06232061732783223, 0.08309415643710963, 0.05193384777319352, 0.2388956997566902, 0.020773539109277407, 0.08309415643710963, 0.031160308663916114, 0.041547078218554814, 0.1783076841528267, 0.2526025525498378, 0.1188717894352178, 0.0594358947176089, 0.10401281575581557, 0.04457692103820667, 0.07429486839701112, 0.10401281575581557, 0.04457692103820667, 0.02971794735880445, 0.5687003213943289, 0.056686013981731787, 0.11337202796346357, 0.028343006990865893, 0.08502902097259768, 0.3684590908812566, 0.14171503495432947, 0.028343006990865893, 0.08502902097259768, 0.056686013981731787, 0.6426186001161452, 0.16187109281976947, 0.14163720621729828, 0.1214033196148271, 0.10116943301235591, 0.1214033196148271, 0.06070165980741355, 0.04046777320494237, 0.06070165980741355, 0.04046777320494237, 0.14163720621729828, 0.40472183734881945, 0.6754580747541188, 0.22515269158470627, 0.6426683211976872, 0.086290503094423, 0.086290503094423, 0.0431452515472115, 0.086290503094423, 0.086290503094423, 0.172581006188846, 0.0431452515472115, 0.0431452515472115, 0.3020167608304805, 0.086290503094423, 0.11103962623640234, 0.07772773836548164, 0.11103962623640234, 0.08883170098912187, 0.044415850494560934, 0.12214358886004258, 0.1332475514836828, 0.15545547673096327, 0.08883170098912187, 0.05551981311820117, 0.0809229270702996, 0.0809229270702996, 0.0809229270702996, 0.0809229270702996, 0.0809229270702996, 0.0809229270702996, 0.3236917082811984, 0.1618458541405992, 0.4035002267620269, 0.15497161322294534, 0.16436383220615414, 0.1314910657649233, 0.08452997084887927, 0.05635331389925285, 0.08452997084887927, 0.08922608034048367, 0.05165720440764844, 0.028176656949626424, 0.15497161322294534, 0.24377251397269972, 0.12188625698634986, 0.03324170645082269, 0.04432227526776358, 0.11080568816940896, 0.09972511935246807, 0.15512796343717256, 0.05540284408470448, 0.11080568816940896, 0.02216113763388179, 0.8769904399369626, 0.14925612067324318, 0.1885340471662019, 0.11783377947887619, 0.10735966574742054, 0.06546321082159788, 0.0837929098516453, 0.09688555201596487, 0.07331879612018963, 0.07855585298591747, 0.039277926492958734, 0.6030977689146636, 0.04871436090093613, 0.25331467668486785, 0.10717159398205947, 0.07794297744149781, 0.09742872180187226, 0.16562882706318283, 0.06820010526131058, 0.08768584962168503, 0.04871436090093613, 0.04871436090093613, 0.09422788824794577, 0.13191904354712408, 0.05653673294876747, 0.11307346589753493, 0.07538231059835662, 0.1696101988463024, 0.03769115529917831, 0.09422788824794577, 0.03769115529917831, 0.2073013541454807, 0.5576107712338195, 0.18587025707793983, 0.7453807387846463, 0.4181360555663266, 0.6426080945174312, 0.8309018077371326, 0.11221664617506023, 0.05610832308753012, 0.11221664617506023, 0.05610832308753012, 0.02805416154376506, 0.05610832308753012, 0.3366499385251807, 0.02805416154376506, 0.16832496926259036, 0.4810289971095971, 0.39524419909391884, 0.09034539719631109, 0.09034539719631109, 0.4517269859815555, 0.09034539719631109, 0.09034539719631109, 0.09034539719631109, 0.09034539719631109, 0.18069079439262217, 0.1706823746711803, 0.3840353430101557, 0.08534118733559015, 0.08534118733559015, 0.042670593667795076, 0.12801178100338523, 0.08534118733559015, 0.15695540832786609, 0.05885827812294978, 0.08828741718442466, 0.23543311249179913, 0.15695540832786609, 0.11771655624589956, 0.02942913906147489, 0.0980971302049163, 0.01961942604098326, 0.04904856510245815, 0.4174535530577798, 0.8046440496867164, 0.09340859588080985, 0.11286872002264522, 0.1712490924481514, 0.21406136556018923, 0.06616442208224031, 0.06227239725387323, 0.08173252139570862, 0.10897669519427815, 0.04281227311203785, 0.04281227311203785, 0.6426115769407512, 0.41460560043920835, 0.13664630652849255, 0.1952090093264179, 0.10736495512952986, 0.07808360373056716, 0.08784405419688807, 0.185448558860097, 0.08784405419688807, 0.03904180186528358, 0.029281351398962686, 0.06832315326424628, 0.15188219725823374, 0.15188219725823374, 0.4556465917747012, 0.745359408043659, 0.06151889496079589, 0.18455668488238766, 0.06151889496079589, 0.18455668488238766, 0.06151889496079589, 0.06151889496079589, 0.06151889496079589, 0.06151889496079589, 0.30759447480397945, 0.19197057542309304, 0.11731535164744575, 0.05332515983974807, 0.04266012787179845, 0.10665031967949613, 0.14931044755129458, 0.10665031967949613, 0.0853202557435969, 0.06399019180769767, 0.07465522377564729, 0.08720221100593872, 0.1090027637574234, 0.39240994952672426, 0.1090027637574234, 0.04360110550296936, 0.04360110550296936, 0.02180055275148468, 0.06540165825445404, 0.02180055275148468, 0.08720221100593872, 0.8025024409973769, 0.623586843819699, 0.7544011827472739, 0.11344051731385756, 0.09552885668535373, 0.09552885668535373, 0.1432932850280306, 0.137322731485196, 0.1492638385708652, 0.09552885668535373, 0.10746996377102294, 0.029852767714173042, 0.029852767714173042, 0.6031038479179328, 0.31212147842920596, 0.6242429568584119, 0.8268050452912081, 0.15326223645770848, 0.12260978916616679, 0.10728356552039593, 0.15326223645770848, 0.06130489458308339, 0.19924090739502104, 0.07663111822885424, 0.045978670937312546, 0.045978670937312546, 0.015326223645770848, 0.19614348747353816, 0.3922869749470763, 0.12604291846107438, 0.12604291846107438, 0.06302145923053719, 0.12604291846107438, 0.31510729615268596, 0.06302145923053719, 0.12604291846107438, 0.06302145923053719, 0.6016676770865187, 0.19714248635250292, 0.1478568647643772, 0.09857124317625146, 0.09857124317625146, 0.3449993511168801, 0.04928562158812573, 0.7491868488797409, 0.15221093005989209, 0.15221093005989209, 0.6088437202395683, 0.15221093005989209, 0.7552462834596029, 0.30253248221281315, 0.6050649644256263, 0.41903917061003065, 0.6016646908851468, 0.21802005215291964, 0.16351503911468973, 0.13081203129175178, 0.10901002607645982, 0.032703007822937946, 0.09810902346881384, 0.09810902346881384, 0.06540601564587589, 0.05450501303822991, 0.04360401043058393, 0.7393973361463991, 0.16427819615265157, 0.05475939871755053, 0.41069549038162895, 0.027379699358775263, 0.08213909807632579, 0.05475939871755053, 0.05475939871755053, 0.05475939871755053, 0.05475939871755053, 0.027379699358775263, 0.13611530080625872, 0.5444612032250349, 0.13611530080625872, 0.7438179327534412, 0.1859544831883603, 0.07487178471606541, 0.11230767707409813, 0.07487178471606541, 0.07487178471606541, 0.14974356943213082, 0.11230767707409813, 0.07487178471606541, 0.07487178471606541, 0.07487178471606541, 0.18717946179016354, 0.5185345565074848, 0.7315108237129636, 0.41500501625553476, 0.6235628285072499, 0.07243801179150633, 0.434628070749038, 0.07243801179150633, 0.07243801179150633, 0.14487602358301266, 0.07243801179150633, 0.14377048691566433, 0.1725245842987972, 0.0862622921493986, 0.11501638953253146, 0.05750819476626573, 0.2587868764481958, 0.028754097383132865, 0.0862622921493986, 0.028754097383132865, 0.028754097383132865, 0.6016734895916177, 0.25991676181866424, 0.0433194603031107, 0.06497919045466606, 0.06497919045466606, 0.12995838090933212, 0.02165973015155535, 0.2165973015155535, 0.10829865075777675, 0.0433194603031107, 0.0433194603031107, 0.5686910945560664, 0.5566034059088247, 0.1855344686362749, 0.45510179727509403, 0.22755089863754702, 0.6448387215058906, 0.3224193607529453, 0.7519739585677874, 0.07655781350893776, 0.2551927116964592, 0.11483672026340662, 0.07655781350893776, 0.05103854233929183, 0.0637981779241148, 0.05103854233929183, 0.21691380494199028, 0.07655781350893776, 0.03827890675446888, 0.39736587164910675, 0.2719454395094108, 0.15370829189662352, 0.10641343285150859, 0.10641343285150859, 0.10641343285150859, 0.035471144283836194, 0.05911857380639366, 0.05911857380639366, 0.011823714761278732, 0.10641343285150859, 0.635716129689344, 0.21190537656311464, 0.568937994898847, 0.14931081058128934, 0.09954054038752622, 0.04977027019376311, 0.19908108077505243, 0.39816216155010486, 0.04977027019376311, 0.04977027019376311, 0.04977027019376311, 0.748691297498591, 0.18139117168845964, 0.14841095865419424, 0.08245053258566347, 0.06596042606853078, 0.08245053258566347, 0.04947031955139808, 0.04947031955139808, 0.09894063910279616, 0.16490106517132694, 0.06596042606853078, 0.7313173993435385, 0.8681209740668467, 0.3975129955683581, 0.4145288976546098, 0.5686999424499111, 0.8705833634321835, 0.4161986956377924, 0.3233061210477858, 0.6466122420955716, 0.6236040802282091, 0.8827164957107995, 0.7452330589885731, 0.13308287431015323, 0.16635359288769153, 0.3659779043529214, 0.03327071857753831, 0.09981215573261491, 0.03327071857753831, 0.03327071857753831, 0.03327071857753831, 0.03327071857753831, 0.08762722314165171, 0.17525444628330342, 0.09559333433634731, 0.11152555672573854, 0.17525444628330342, 0.09559333433634731, 0.09559333433634731, 0.039830555973478045, 0.06372888955756488, 0.05576277836286927, 0.8008033710108483, 0.8047872655131818, 0.472353492797344, 0.0944706985594688, 0.0944706985594688, 0.0944706985594688, 0.0944706985594688, 0.5608391267448811, 0.6016185149641403, 0.7448682289222898, 0.6016425319514354, 0.870532490478339, 0.6146849608402288, 0.17562427452577967, 0.08781213726288983, 0.08781213726288983, 0.24229884751478162, 0.48459769502956324, 0.1745471054181389, 0.08727355270906945, 0.08727355270906945, 0.08727355270906945, 0.08727355270906945, 0.26182065812720834, 0.3490942108362778, 0.5686806386701657, 0.4070510485534799, 0.5027248752109165, 0.25136243760545823, 0.11420723922406724, 0.09617451724131978, 0.12622905387923222, 0.09617451724131978, 0.09617451724131978, 0.06611998060340735, 0.20437084913780454, 0.07814179525857233, 0.08415270258615482, 0.03005453663791243, 0.8299154211750659, 0.43253246311448557, 0.4044806463190697, 0.8294580979375216, 0.08786248087583873, 0.4393124043791936, 0.043931240437919364, 0.13179372131375808, 0.08786248087583873, 0.043931240437919364, 0.13179372131375808, 0.6156298848023073, 0.8070506045160346, 0.8021145805486132, 0.10301354016092898, 0.12508787019541376, 0.09565543014943405, 0.13244598020690868, 0.10301354016092898, 0.1618784202528884, 0.058864880091959414, 0.058864880091959414, 0.07358110011494927, 0.09565543014943405, 0.12237512932312063, 0.25349133931217843, 0.1485983713209322, 0.03496432266374875, 0.0699286453274975, 0.19230377465061813, 0.07866972599343469, 0.026223241997811564, 0.03496432266374875, 0.05244648399562313, 0.3038436087573178, 0.6076872175146356, 0.8022180517232389, 0.4135167687341846, 0.12844924791502194, 0.08563283194334796, 0.12844924791502194, 0.04281641597167398, 0.29971491180171783, 0.04281641597167398, 0.04281641597167398, 0.04281641597167398, 0.04281641597167398, 0.08563283194334796, 0.620700527870997, 0.3103502639354985, 0.830008286309541, 0.31037070725023175, 0.6207414145004635, 0.41721022262444096, 0.30425623248910777, 0.6085124649782155, 0.2391101098514935, 0.478220219702987, 0.7341672422307173, 0.1805222558307996, 0.1604642274051552, 0.1303771847666886, 0.0300870426384666, 0.1604642274051552, 0.0802321137025776, 0.0702030994897554, 0.0300870426384666, 0.0401160568512888, 0.1203481705538664, 0.7485949259348555, 0.8766534324200613, 0.409382413654439, 0.054758015899342115, 0.054758015899342115, 0.2737900794967106, 0.054758015899342115, 0.16427404769802634, 0.054758015899342115, 0.10951603179868423, 0.2737900794967106, 0.19883443748595755, 0.1633282879348937, 0.05680983928170216, 0.1420245982042554, 0.04260737946127662, 0.0710122991021277, 0.17753074775531927, 0.07811352901234048, 0.03550614955106385, 0.04260737946127662, 0.8300921882595494, 0.7483479332618365, 0.622810204518775, 0.2076034015062583, 0.1664813205915128, 0.23051259774209465, 0.08964378801081459, 0.07683753258069821, 0.06403127715058185, 0.17928757602162917, 0.05122502172046548, 0.06403127715058185, 0.02561251086023274, 0.05122502172046548, 0.4025743101903669, 0.5689030587679574, 0.1896343529226525, 0.1896343529226525, 0.8267894327524482, 0.20760196363259506, 0.4152039272651901, 0.10286229688750723, 0.3428743229583574, 0.10286229688750723, 0.13714972918334295, 0.03428743229583574, 0.13714972918334295, 0.06857486459167147, 0.10286229688750723, 0.615283489397394, 0.307641744698697, 0.8047604321054144, 0.8302124558079997, 0.42413720140048317, 0.8274381114494512, 0.3011711887347588, 0.6023423774695176, 0.7656313548349368, 0.6426726182171475, 0.30463256489900414, 0.6092651297980083, 0.08592861923077291, 0.08592861923077291, 0.37235735000001596, 0.08592861923077291, 0.1432143653846215, 0.028642873076924303, 0.11457149230769721, 0.028642873076924303, 0.08592861923077291, 0.7427547781015874, 0.8051845998981372, 0.26103489899807997, 0.06591790378739393, 0.07646476839337696, 0.042187458423932116, 0.10810536221132605, 0.04482417457542787, 0.1476561044837624, 0.14501938833226666, 0.026367161514957573, 0.07910148454487272, 0.120641789589388, 0.1055615658907145, 0.060320894794694, 0.0452406710960205, 0.090481342192041, 0.060320894794694, 0.1055615658907145, 0.0754011184933675, 0.22620335548010248, 0.1055615658907145, 0.07206289049887722, 0.14412578099775444, 0.010294698642696746, 0.16471517828314794, 0.1544204796404512, 0.020589397285393492, 0.14412578099775444, 0.1750098769258447, 0.041178794570786985, 0.07206289049887722, 0.7563351770866892, 0.1634290141657626, 0.0880002383969491, 0.22628632730644052, 0.050285850512542335, 0.13828608890949143, 0.1634290141657626, 0.06285731314067793, 0.03771438788440675, 0.025142925256271167, 0.03771438788440675, 0.14333377175691125, 0.14333377175691125, 0.07166688587845563, 0.07166688587845563, 0.14333377175691125, 0.2866675435138225, 0.04777792391897042, 0.07166688587845563, 0.07166688587845563, 0.21855457226487876, 0.24156031671381337, 0.06901723334680382, 0.12653159446914033, 0.08052010557127112, 0.08052010557127112, 0.03450861667340191, 0.09202297779573843, 0.023005744448934606, 0.03450861667340191, 0.30651126485207764, 0.08757464710059361, 0.17514929420118722, 0.043787323550296804, 0.05838309806706241, 0.07297887258382801, 0.07297887258382801, 0.029191549033531206, 0.07297887258382801, 0.08757464710059361, 0.19526359770638244, 0.19526359770638244, 0.5857907931191473, 0.8894891652146172, 0.32568070480872097, 0.6513614096174419, 0.6030753950249312, 0.19455009449652183, 0.07295628543619569, 0.08511566634222831, 0.14591257087239137, 0.14591257087239137, 0.07295628543619569, 0.03647814271809784, 0.14591257087239137, 0.04863752362413046, 0.04863752362413046, 0.20767208963484401, 0.09691364182959386, 0.05537922390262507, 0.027689611951312535, 0.11075844780525014, 0.0830688358539376, 0.09691364182959386, 0.19382728365918772, 0.06922402987828133, 0.05537922390262507, 0.1745294643077335, 0.0758823757859711, 0.0758823757859711, 0.10623532610035953, 0.2580000776723017, 0.053117663050179766, 0.04552942547158265, 0.030352950314388435, 0.06070590062877687, 0.12141180125755374, 0.12519428889050757, 0.20223692820774303, 0.11556395897585316, 0.05778197948792658, 0.09630329914654429, 0.07704263931723543, 0.10593362906119873, 0.067412309402581, 0.067412309402581, 0.08667296923188986, 0.332667994466008, 0.499001991699012, 0.2541796283210846, 0.5083592566421692, 0.3954875678842938, 0.7444325357171663, 0.8767481643584307, 0.4097758352136682, 0.11254282233813397, 0.1390234864176949, 0.17874448253703631, 0.07282182621879257, 0.07282182621879257, 0.11254282233813397, 0.06620166019890233, 0.16550415049725584, 0.04634116213923164, 0.0397209961193414, 0.7649430098865745, 0.07737897042653165, 0.3868948521326583, 0.07737897042653165, 0.19344742606632914, 0.038689485213265824, 0.038689485213265824, 0.038689485213265824, 0.038689485213265824, 0.07737897042653165, 0.038689485213265824, 0.7450022909374318, 0.5716651891044384, 0.1905550630348128, 0.1905550630348128, 0.39452816497053467, 0.24413016605887733, 0.1085022960261677, 0.09946043802398706, 0.08137672201962577, 0.08137672201962577, 0.126586012030529, 0.09946043802398706, 0.07233486401744513, 0.05425114801308385, 0.04520929001090321, 0.6843006774221867, 0.22810022580739558, 0.8706448021357016, 0.20336551947867842, 0.6100965584360353, 0.20336551947867842, 0.4103778857961795, 0.6044700528851428, 0.6152909301168035, 0.41818312768283383, 0.06642583790377608, 0.13285167580755217, 0.13285167580755217, 0.3321291895188804, 0.13285167580755217, 0.13285167580755217, 0.06642583790377608, 0.33448443148306223, 0.08362110787076556, 0.11149481049435407, 0.11149481049435407, 0.055747405247177036, 0.08362110787076556, 0.055747405247177036, 0.027873702623588518, 0.11149481049435407, 0.15716745779013505, 0.11001722045309453, 0.11001722045309453, 0.06286698311605401, 0.07858372889506753, 0.18860094934816207, 0.06286698311605401, 0.09430047467408104, 0.09430047467408104, 0.04715023733704052, 0.13410373919158985, 0.13410373919158985, 0.40231121757476956, 0.13410373919158985, 0.8063737181143353, 0.15892878707445554, 0.10595252471630369, 0.10595252471630369, 0.10595252471630369, 0.3178575741489111, 0.052976262358151845, 0.052976262358151845, 0.052976262358151845, 0.04507873246177342, 0.13523619738532028, 0.11269683115443356, 0.20285429607798042, 0.06761809869266014, 0.09015746492354684, 0.06761809869266014, 0.06761809869266014, 0.15777556361620698, 0.04507873246177342, 0.2455567411930234, 0.4911134823860468, 0.2455567411930234, 0.8709178059111997, 0.16316003330983303, 0.16316003330983303, 0.48948009992949915, 0.087253928847098, 0.043626964423549, 0.043626964423549, 0.087253928847098, 0.043626964423549, 0.349015715388392, 0.174507857694196, 0.043626964423549, 0.130880893270647, 0.043626964423549, 0.10867112720810686, 0.15981048118839244, 0.14702564269332105, 0.12784838495071396, 0.044746934732749884, 0.10227870796057116, 0.09588628871303546, 0.07031661172289268, 0.09588628871303546, 0.05113935398028558, 0.43186177424030003, 0.9024694272912457, 0.8767749546063086, 0.5558258911725564, 0.45891281683059165, 0.22945640841529583, 0.8290342455236731, 0.1416158432941041, 0.08092333902520234, 0.21242376494115614, 0.17196209542855498, 0.07080792164705205, 0.050577086890751466, 0.04046166951260117, 0.10115417378150293, 0.07080792164705205, 0.060692504268901756, 0.24404022082777355, 0.04745226516095597, 0.14913569050586162, 0.10168342534490565, 0.09490453032191194, 0.10168342534490565, 0.06101005520694339, 0.08134674027592452, 0.07456784525293081, 0.04745226516095597, 0.305433688281178, 0.610867376562356, 0.14793997244998006, 0.07890131863998937, 0.08876398346998804, 0.1676653021099774, 0.08876398346998804, 0.21697862625997077, 0.06903865380999069, 0.06903865380999069, 0.029587994489996012, 0.029587994489996012, 0.5677165084748805, 0.28385825423744027, 0.056757252457967006, 0.1418931311449175, 0.3121648885188185, 0.056757252457967006, 0.028378626228983503, 0.08513587868695051, 0.17027175737390102, 0.056757252457967006, 0.056757252457967006, 0.028378626228983503, 0.13917508027028747, 0.13917508027028747, 0.13917508027028747, 0.41752524081086234, 0.13917508027028747, 0.731405413013613], \"Term\": [\"acronym\", \"admittance\", \"adriatic\", \"adriatic\", \"adriatic\", \"adult\", \"alaadin\", \"alexandra\", \"alpine\", \"also\", \"also\", \"also\", \"also\", \"also\", \"also\", \"also\", \"also\", \"also\", \"also\", \"alvaro\", \"alyosha\", \"amusement\", \"amusement\", \"amusement\", \"amusement\", \"andre\", \"animated\", \"announced\", \"annunciation\", \"anyhow\", \"apoel\", \"appeal\", \"apse\", \"apse\", \"apse\", \"arboretum\", \"arc\", \"archistratigus\", \"architect\", \"architect\", \"architect\", \"architect\", \"architect\", \"architect\", \"architect\", \"architect\", \"architect\", \"architect\", \"architecture\", \"architecture\", \"architecture\", \"architecture\", \"architecture\", \"architecture\", \"architecture\", \"architecture\", \"architecture\", \"architecture\", \"area\", \"area\", \"area\", \"area\", \"area\", \"area\", \"area\", \"area\", \"area\", \"area\", \"areal\", \"ariana\", \"arkhangelsks\", \"around\", \"around\", \"around\", \"around\", \"around\", \"around\", \"around\", \"around\", \"around\", \"around\", \"arsenal\", \"art\", \"art\", \"art\", \"art\", \"art\", \"art\", \"art\", \"art\", \"art\", \"art\", \"artifacts\", \"artifacts\", \"artifacts\", \"artifacts\", \"artifacts\", \"artifacts\", \"artifacts\", \"artifacts\", \"artists\", \"artists\", \"artists\", \"artists\", \"artists\", \"artists\", \"artists\", \"artists\", \"artists\", \"artists\", \"assorted\", \"astrakhan\", \"astrakhan\", \"astrakhan\", \"attika\", \"auditorio\", \"austrianturkish\", \"authorities\", \"authorities\", \"available\", \"available\", \"available\", \"available\", \"available\", \"available\", \"available\", \"available\", \"available\", \"available\", \"bags\", \"baked\", \"banyas\", \"baroque\", \"baroque\", \"baroque\", \"baroque\", \"baroque\", \"baroque\", \"baroque\", \"baroque\", \"baroque\", \"baroque\", \"bartok\", \"beautiful\", \"beautiful\", \"beautiful\", \"beautiful\", \"beautiful\", \"beautiful\", \"beautiful\", \"beautiful\", \"beautiful\", \"beautiful\", \"behalf\", \"bench\", \"bench\", \"bergen\", \"bergen\", \"bergen\", \"bergen\", \"bergen\", \"berlins\", \"berlins\", \"bernardines\", \"best\", \"best\", \"best\", \"best\", \"best\", \"best\", \"best\", \"best\", \"best\", \"best\", \"biff\", \"bike\", \"bike\", \"bike\", \"bike\", \"bike\", \"bike\", \"bike\", \"bison\", \"blankets\", \"blekki\", \"blockbuster\", \"blvd\", \"boeuf\", \"boeuf\", \"bolshoi\", \"bombed\", \"bor\", \"brazilian\", \"breathtaking\", \"bremen\", \"bridge\", \"bridge\", \"bridge\", \"bridge\", \"bridge\", \"bridge\", \"bridge\", \"bridge\", \"bridge\", \"bridge\", \"brinkhall\", \"brinkhall\", \"brinkhall\", \"brouckere\", \"brown\", \"budapest\", \"building\", \"building\", \"building\", \"building\", \"building\", \"building\", \"building\", \"building\", \"building\", \"building\", \"buildings\", \"buildings\", \"buildings\", \"buildings\", \"buildings\", \"buildings\", \"buildings\", \"buildings\", \"buildings\", \"buildings\", \"built\", \"built\", \"built\", \"built\", \"built\", \"built\", \"built\", \"built\", \"built\", \"built\", \"bullfighting\", \"bullfighting\", \"cafes\", \"cafes\", \"cafes\", \"cafes\", \"cafes\", \"cafes\", \"cafes\", \"cafes\", \"cafes\", \"cafes\", \"cagliari\", \"call\", \"call\", \"call\", \"call\", \"call\", \"call\", \"cannot\", \"cannstatt\", \"cannstatt\", \"cannstatt\", \"cardinal\", \"carillon\", \"castellana\", \"castle\", \"castle\", \"castle\", \"castle\", \"castle\", \"castle\", \"castle\", \"castle\", \"castle\", \"castle\", \"cathedral\", \"cathedral\", \"cathedral\", \"cathedral\", \"cathedral\", \"cathedral\", \"cathedral\", \"cathedral\", \"cathedral\", \"cathedral\", \"cattedrale\", \"caucasus\", \"caucasus\", \"center\", \"center\", \"center\", \"center\", \"center\", \"center\", \"center\", \"center\", \"center\", \"center\", \"centrally\", \"centre\", \"centre\", \"centre\", \"centre\", \"centre\", \"centre\", \"centre\", \"centre\", \"centre\", \"centre\", \"centuries\", \"centuries\", \"centuries\", \"centuries\", \"centuries\", \"centuries\", \"centuries\", \"centuries\", \"centuries\", \"centuries\", \"century\", \"century\", \"century\", \"century\", \"century\", \"century\", \"century\", \"century\", \"century\", \"century\", \"cer\", \"chamber\", \"chamber\", \"chamber\", \"chamber\", \"champions\", \"champions\", \"champions\", \"champions\", \"chief\", \"children\", \"children\", \"children\", \"children\", \"children\", \"children\", \"children\", \"children\", \"children\", \"children\", \"chillout\", \"christmas\", \"christmas\", \"christmas\", \"christmas\", \"christmas\", \"christmas\", \"church\", \"church\", \"church\", \"church\", \"church\", \"church\", \"church\", \"church\", \"church\", \"church\", \"churchyard\", \"cinema\", \"cinema\", \"cinema\", \"cinema\", \"cinema\", \"cinema\", \"cinema\", \"cinema\", \"cinema\", \"circus\", \"circus\", \"circus\", \"circus\", \"circus\", \"city\", \"city\", \"city\", \"city\", \"city\", \"city\", \"city\", \"city\", \"city\", \"city\", \"citys\", \"citys\", \"citys\", \"citys\", \"citys\", \"citys\", \"citys\", \"citys\", \"citys\", \"ciurlionis\", \"club\", \"club\", \"club\", \"club\", \"club\", \"club\", \"club\", \"club\", \"club\", \"club\", \"collect\", \"collection\", \"collection\", \"collection\", \"collection\", \"collection\", \"collection\", \"collection\", \"collection\", \"collection\", \"collection\", \"collections\", \"collections\", \"collections\", \"collections\", \"collections\", \"collections\", \"collections\", \"collections\", \"collections\", \"collections\", \"comics\", \"comics\", \"companies\", \"companies\", \"companies\", \"complex\", \"complex\", \"complex\", \"complex\", \"complex\", \"complex\", \"complex\", \"complex\", \"complex\", \"complex\", \"concert\", \"concert\", \"concert\", \"concert\", \"concert\", \"concert\", \"concert\", \"concert\", \"concert\", \"concert\", \"conferences\", \"conferences\", \"construction\", \"construction\", \"construction\", \"construction\", \"construction\", \"construction\", \"construction\", \"construction\", \"construction\", \"construction\", \"consulate\", \"contemporary\", \"contemporary\", \"contemporary\", \"contemporary\", \"contemporary\", \"contemporary\", \"contemporary\", \"contemporary\", \"contemporary\", \"conveniently\", \"corbusier\", \"corbusier\", \"core\", \"coverage\", \"creating\", \"cruise\", \"cruise\", \"cruising\", \"cruising\", \"cubic\", \"culture\", \"culture\", \"culture\", \"culture\", \"culture\", \"culture\", \"culture\", \"culture\", \"culture\", \"culture\", \"cypriot\", \"daimler\", \"dali\", \"dame\", \"damming\", \"dance\", \"dance\", \"dance\", \"dance\", \"dance\", \"dance\", \"dance\", \"dance\", \"dance\", \"dance\", \"dating\", \"dating\", \"dating\", \"dating\", \"dating\", \"dating\", \"dating\", \"dating\", \"day\", \"day\", \"day\", \"day\", \"day\", \"day\", \"day\", \"day\", \"day\", \"day\", \"dayoff\", \"de\", \"de\", \"de\", \"de\", \"de\", \"de\", \"de\", \"de\", \"de\", \"de\", \"death\", \"death\", \"death\", \"death\", \"death\", \"death\", \"death\", \"debrecen\", \"debrecen\", \"deemed\", \"demanding\", \"demonstration\", \"designed\", \"designed\", \"designed\", \"designed\", \"designed\", \"designed\", \"designed\", \"designed\", \"designed\", \"designed\", \"designers\", \"designers\", \"devils\", \"di\", \"di\", \"di\", \"di\", \"di\", \"dialogue\", \"different\", \"different\", \"different\", \"different\", \"different\", \"different\", \"different\", \"different\", \"different\", \"different\", \"directed\", \"directory\", \"displaying\", \"displaying\", \"displaying\", \"divers\", \"dnistrova\", \"dozens\", \"dozens\", \"dozens\", \"drawing\", \"du\", \"du\", \"du\", \"du\", \"du\", \"du\", \"du\", \"du\", \"du\", \"dynamic\", \"early\", \"early\", \"early\", \"early\", \"early\", \"early\", \"early\", \"early\", \"early\", \"early\", \"easter\", \"easter\", \"easter\", \"easter\", \"easter\", \"easter\", \"emin\", \"emin\", \"engines\", \"engines\", \"englishstyle\", \"entering\", \"entertainment\", \"entertainment\", \"entertainment\", \"entertainment\", \"entertainment\", \"entertainment\", \"era\", \"era\", \"era\", \"era\", \"era\", \"era\", \"era\", \"era\", \"escaping\", \"ethno\", \"ethno\", \"europe\", \"europe\", \"europe\", \"europe\", \"europe\", \"europe\", \"europe\", \"europe\", \"europe\", \"europe\", \"european\", \"european\", \"european\", \"european\", \"european\", \"european\", \"european\", \"european\", \"european\", \"european\", \"event\", \"event\", \"event\", \"event\", \"event\", \"event\", \"event\", \"event\", \"event\", \"event\", \"every\", \"every\", \"every\", \"every\", \"every\", \"every\", \"every\", \"every\", \"every\", \"every\", \"exhibition\", \"exhibition\", \"exhibition\", \"exhibition\", \"exhibition\", \"exhibition\", \"exhibition\", \"exhibition\", \"exhibition\", \"exhibition\", \"exhibitions\", \"exhibitions\", \"exhibitions\", \"exhibitions\", \"exhibitions\", \"exhibitions\", \"exhibitions\", \"exhibitions\", \"exhibitions\", \"exhibitions\", \"exhibitors\", \"exhibits\", \"exhibits\", \"exhibits\", \"exhibits\", \"exhibits\", \"exhibits\", \"exhibits\", \"exhibits\", \"exhibits\", \"exhibits\", \"expert\", \"explaining\", \"explaining\", \"exposure\", \"fai\", \"fair\", \"fair\", \"fair\", \"fair\", \"fair\", \"fair\", \"fair\", \"fair\", \"fair\", \"famous\", \"famous\", \"famous\", \"famous\", \"famous\", \"famous\", \"famous\", \"famous\", \"famous\", \"famous\", \"farka\", \"farmhouse\", \"ferries\", \"festival\", \"festival\", \"festival\", \"festival\", \"festival\", \"festival\", \"festival\", \"festival\", \"festival\", \"festival\", \"films\", \"films\", \"films\", \"films\", \"films\", \"films\", \"films\", \"films\", \"films\", \"find\", \"find\", \"find\", \"find\", \"find\", \"find\", \"find\", \"find\", \"find\", \"find\", \"fine\", \"fine\", \"fine\", \"fine\", \"fine\", \"fine\", \"fine\", \"fine\", \"fine\", \"fine\", \"first\", \"first\", \"first\", \"first\", \"first\", \"first\", \"first\", \"first\", \"first\", \"first\", \"fischer\", \"fish\", \"fish\", \"fish\", \"fish\", \"fish\", \"fish\", \"fish\", \"fish\", \"fjord\", \"fjord\", \"flags\", \"flamencos\", \"flaming\", \"flood\", \"floor\", \"floor\", \"floor\", \"floor\", \"floor\", \"floor\", \"floor\", \"floor\", \"floor\", \"floor\", \"focuses\", \"folk\", \"folk\", \"folk\", \"folk\", \"folk\", \"folk\", \"folk\", \"folk\", \"fork\", \"former\", \"former\", \"former\", \"former\", \"former\", \"former\", \"former\", \"former\", \"former\", \"former\", \"fortress\", \"fortress\", \"fortress\", \"fortress\", \"fortress\", \"fortress\", \"fortress\", \"fortress\", \"fortress\", \"fortress\", \"foundry\", \"fourviere\", \"fourviere\", \"free\", \"free\", \"free\", \"free\", \"free\", \"free\", \"free\", \"free\", \"free\", \"free\", \"fuckparade\", \"fuckparade\", \"fun\", \"fun\", \"fun\", \"fun\", \"fun\", \"fun\", \"fun\", \"fun\", \"gaia\", \"galeria\", \"galeries\", \"galluzzi\", \"garden\", \"garden\", \"garden\", \"garden\", \"garden\", \"garden\", \"garden\", \"garden\", \"garden\", \"garden\", \"garners\", \"gaspard\", \"gaspard\", \"gastronomic\", \"gathered\", \"geiereck\", \"giacometti\", \"giftshop\", \"glagolitic\", \"gondola\", \"goya\", \"goya\", \"goya\", \"goya\", \"goya\", \"gpo\", \"gpsenabled\", \"great\", \"great\", \"great\", \"great\", \"great\", \"great\", \"great\", \"great\", \"great\", \"great\", \"guernica\", \"guitar\", \"hagia\", \"hall\", \"hall\", \"hall\", \"hall\", \"hall\", \"hall\", \"hall\", \"hall\", \"hall\", \"hall\", \"hanseatic\", \"hanseatic\", \"harbour\", \"harbour\", \"harbour\", \"harbour\", \"heated\", \"heated\", \"heated\", \"held\", \"held\", \"held\", \"held\", \"held\", \"held\", \"held\", \"held\", \"held\", \"held\", \"hellenistic\", \"hemisphere\", \"herbaceous\", \"high\", \"high\", \"high\", \"high\", \"high\", \"high\", \"high\", \"high\", \"high\", \"high\", \"hill\", \"hill\", \"hill\", \"hill\", \"hill\", \"hill\", \"hill\", \"hill\", \"hill\", \"hill\", \"history\", \"history\", \"history\", \"history\", \"history\", \"history\", \"history\", \"history\", \"history\", \"history\", \"hop\", \"hop\", \"hotel\", \"hotel\", \"hotel\", \"hotel\", \"hotel\", \"hotel\", \"hotel\", \"hotel\", \"hotel\", \"hotel\", \"house\", \"house\", \"house\", \"house\", \"house\", \"house\", \"house\", \"house\", \"house\", \"house\", \"houses\", \"houses\", \"houses\", \"houses\", \"houses\", \"houses\", \"houses\", \"houses\", \"houses\", \"houses\", \"howth\", \"hrs\", \"hunt\", \"hyysalo\", \"hyysalo\", \"ibiza\", \"impressively\", \"incidentally\", \"incline\", \"including\", \"including\", \"including\", \"including\", \"including\", \"including\", \"including\", \"including\", \"including\", \"including\", \"infinite\", \"inside\", \"inside\", \"inside\", \"inside\", \"inside\", \"inside\", \"inside\", \"inside\", \"inside\", \"inside\", \"international\", \"international\", \"international\", \"international\", \"international\", \"international\", \"international\", \"international\", \"international\", \"international\", \"ir\", \"island\", \"island\", \"island\", \"island\", \"island\", \"island\", \"island\", \"island\", \"iv\", \"iv\", \"iverskoy\", \"izmir\", \"izmir\", \"jazz\", \"jazz\", \"jazz\", \"jazz\", \"jazz\", \"jazz\", \"jazz\", \"jazz\", \"jazz\", \"jewish\", \"jewish\", \"jewish\", \"jewish\", \"jewish\", \"jewish\", \"jewish\", \"jewish\", \"jewish\", \"jewish\", \"johann\", \"jukupark\", \"kaleici\", \"kart\", \"kart\", \"kart\", \"karts\", \"karts\", \"kaunas\", \"kaunas\", \"kaunas\", \"kaunas\", \"kaunas\", \"kaunas\", \"kaunas\", \"kaunas\", \"kaunas\", \"kaunas\", \"knots\", \"korunni\", \"kostaki\", \"kruonis\", \"lambertini\", \"large\", \"large\", \"large\", \"large\", \"large\", \"large\", \"large\", \"large\", \"large\", \"large\", \"largest\", \"largest\", \"largest\", \"largest\", \"largest\", \"largest\", \"largest\", \"largest\", \"largest\", \"largest\", \"lari\", \"lari\", \"lari\", \"lari\", \"lari\", \"last\", \"last\", \"last\", \"last\", \"last\", \"last\", \"last\", \"last\", \"last\", \"last\", \"late\", \"late\", \"late\", \"late\", \"late\", \"late\", \"late\", \"late\", \"late\", \"late\", \"lawn\", \"leaflet\", \"leisure\", \"leisure\", \"leisure\", \"lietuvos\", \"lifesize\", \"like\", \"like\", \"like\", \"like\", \"like\", \"like\", \"like\", \"like\", \"like\", \"like\", \"linkmay\", \"linnateatteri\", \"linnateatteri\", \"liquorice\", \"lisi\", \"liturgical\", \"live\", \"live\", \"live\", \"live\", \"live\", \"live\", \"live\", \"live\", \"live\", \"local\", \"local\", \"local\", \"local\", \"local\", \"local\", \"local\", \"local\", \"local\", \"local\", \"locals\", \"locals\", \"locals\", \"locals\", \"locals\", \"locals\", \"locals\", \"locals\", \"locals\", \"locals\", \"located\", \"located\", \"located\", \"located\", \"located\", \"located\", \"located\", \"located\", \"located\", \"located\", \"locomotive\", \"lot\", \"lot\", \"lot\", \"lot\", \"lot\", \"lot\", \"lot\", \"lot\", \"lot\", \"luisenplatz\", \"luther\", \"lying\", \"lying\", \"lying\", \"maerlant\", \"main\", \"main\", \"main\", \"main\", \"main\", \"main\", \"main\", \"main\", \"main\", \"main\", \"maliy\", \"mall\", \"mall\", \"manifestation\", \"manor\", \"manor\", \"many\", \"many\", \"many\", \"many\", \"many\", \"many\", \"many\", \"many\", \"many\", \"many\", \"marine\", \"maritime\", \"maritime\", \"maritime\", \"maritime\", \"maritime\", \"maritime\", \"market\", \"market\", \"market\", \"market\", \"market\", \"market\", \"market\", \"market\", \"market\", \"market\", \"marli\", \"martin\", \"marulic\", \"masters\", \"masters\", \"masters\", \"masters\", \"masters\", \"masters\", \"matchdays\", \"matches\", \"matches\", \"matches\", \"matches\", \"matches\", \"matches\", \"mattock\", \"maximilian\", \"maximilian\", \"mehmet\", \"melting\", \"melting\", \"metres\", \"metres\", \"metres\", \"metres\", \"metres\", \"metres\", \"mid\", \"mid\", \"mid\", \"mid\", \"mid\", \"mid\", \"midi\", \"midoctober\", \"mig\", \"mig\", \"mig\", \"miklos\", \"mine\", \"mine\", \"mineralbad\", \"model\", \"model\", \"model\", \"modern\", \"modern\", \"modern\", \"modern\", \"modern\", \"modern\", \"modern\", \"modern\", \"modern\", \"modern\", \"moixent\", \"moldova\", \"monastery\", \"monastery\", \"monastery\", \"monastery\", \"monastery\", \"monastery\", \"monastery\", \"monastery\", \"monastery\", \"monastery\", \"monument\", \"monument\", \"monument\", \"monument\", \"monument\", \"monument\", \"monument\", \"monument\", \"monument\", \"monument\", \"moravia\", \"moravia\", \"moravia\", \"moravia\", \"mosque\", \"mosque\", \"mosque\", \"mosque\", \"mosque\", \"mosque\", \"mosque\", \"mosque\", \"mosque\", \"motorcycles\", \"motorcycles\", \"motorized\", \"mound\", \"mound\", \"mound\", \"movie\", \"movie\", \"movie\", \"movie\", \"movie\", \"movie\", \"movie\", \"movies\", \"movies\", \"movies\", \"movies\", \"movies\", \"movies\", \"movies\", \"movies\", \"movies\", \"mozart\", \"mozart\", \"mozart\", \"mummified\", \"munnich\", \"murat\", \"murat\", \"murat\", \"murat\", \"murat\", \"museum\", \"museum\", \"museum\", \"museum\", \"museum\", \"museum\", \"museum\", \"museum\", \"museum\", \"museum\", \"music\", \"music\", \"music\", \"music\", \"music\", \"music\", \"music\", \"music\", \"music\", \"music\", \"naberezhnaya\", \"nacional\", \"naftalan\", \"nagyerdei\", \"name\", \"name\", \"name\", \"name\", \"name\", \"name\", \"name\", \"name\", \"name\", \"name\", \"nantes\", \"national\", \"national\", \"national\", \"national\", \"national\", \"national\", \"national\", \"national\", \"national\", \"national\", \"nattjazz\", \"natural\", \"natural\", \"natural\", \"natural\", \"natural\", \"natural\", \"natural\", \"natural\", \"natural\", \"natural\", \"nature\", \"nature\", \"nature\", \"nature\", \"nature\", \"nature\", \"nature\", \"nature\", \"nature\", \"naval\", \"nbspsek\", \"nbspsek\", \"nbspsek\", \"new\", \"new\", \"new\", \"new\", \"new\", \"new\", \"new\", \"new\", \"new\", \"new\", \"nice\", \"nice\", \"nice\", \"nice\", \"nice\", \"nice\", \"nice\", \"nice\", \"nice\", \"nice\", \"nicosias\", \"night\", \"night\", \"night\", \"night\", \"night\", \"night\", \"night\", \"night\", \"night\", \"nomads\", \"number\", \"number\", \"number\", \"number\", \"number\", \"number\", \"number\", \"number\", \"number\", \"number\", \"numbering\", \"oblast\", \"oblast\", \"obscure\", \"october\", \"october\", \"october\", \"october\", \"october\", \"october\", \"october\", \"october\", \"october\", \"october\", \"offers\", \"offers\", \"offers\", \"offers\", \"offers\", \"offers\", \"offers\", \"offers\", \"offers\", \"offers\", \"oil\", \"oil\", \"oil\", \"oil\", \"oil\", \"oil\", \"oil\", \"oil\", \"oktoberfest\", \"old\", \"old\", \"old\", \"old\", \"old\", \"old\", \"old\", \"old\", \"old\", \"old\", \"oldest\", \"oldest\", \"oldest\", \"oldest\", \"oldest\", \"oldest\", \"oldest\", \"oldest\", \"oldest\", \"oldest\", \"oldnew\", \"one\", \"one\", \"one\", \"one\", \"one\", \"one\", \"one\", \"one\", \"one\", \"one\", \"opart\", \"open\", \"open\", \"open\", \"open\", \"open\", \"open\", \"open\", \"open\", \"open\", \"open\", \"opened\", \"opened\", \"opened\", \"opened\", \"opened\", \"opened\", \"opened\", \"opened\", \"opened\", \"opened\", \"operations\", \"operations\", \"operetta\", \"oppression\", \"optical\", \"ossuary\", \"ottoman\", \"ottoman\", \"ottoman\", \"ottoman\", \"ottoman\", \"ottoman\", \"ottoman\", \"ottoman\", \"ottoman\", \"package\", \"paid\", \"painters\", \"painters\", \"painters\", \"painters\", \"painters\", \"painters\", \"painters\", \"painters\", \"painting\", \"painting\", \"painting\", \"painting\", \"painting\", \"painting\", \"painting\", \"palace\", \"palace\", \"palace\", \"palace\", \"palace\", \"palace\", \"palace\", \"palace\", \"palace\", \"palace\", \"panemune\", \"parachute\", \"park\", \"park\", \"park\", \"park\", \"park\", \"park\", \"park\", \"park\", \"park\", \"park\", \"parkmonument\", \"parmigianino\", \"part\", \"part\", \"part\", \"part\", \"part\", \"part\", \"part\", \"part\", \"part\", \"part\", \"paseo\", \"paseo\", \"paseo\", \"pavillon\", \"pedestrian\", \"pedestrian\", \"pedestrian\", \"pedestrian\", \"pedestrian\", \"pedestrian\", \"pedestrian\", \"pedestrian\", \"pedestrian\", \"people\", \"people\", \"people\", \"people\", \"people\", \"people\", \"people\", \"people\", \"people\", \"people\", \"permanent\", \"permanent\", \"permanent\", \"permanent\", \"permanent\", \"permanent\", \"permanent\", \"permanent\", \"permanent\", \"permanent\", \"petrov\", \"philo\", \"picassos\", \"place\", \"place\", \"place\", \"place\", \"place\", \"place\", \"place\", \"place\", \"place\", \"place\", \"plainpalais\", \"planes\", \"planes\", \"pleasing\", \"popular\", \"popular\", \"popular\", \"popular\", \"popular\", \"popular\", \"popular\", \"popular\", \"popular\", \"popular\", \"porsche\", \"porsche\", \"port\", \"port\", \"port\", \"port\", \"port\", \"port\", \"port\", \"port\", \"potocki\", \"prague\", \"prague\", \"prague\", \"prague\", \"prague\", \"prague\", \"preseren\", \"prishtina\", \"prishtina\", \"prishtina\", \"prishtina\", \"pristina\", \"product\", \"product\", \"promising\", \"protector\", \"public\", \"public\", \"public\", \"public\", \"public\", \"public\", \"public\", \"public\", \"public\", \"public\", \"quarters\", \"quite\", \"quite\", \"quite\", \"quite\", \"quite\", \"quite\", \"quite\", \"quite\", \"quite\", \"quite\", \"race\", \"race\", \"race\", \"ramps\", \"ramps\", \"recently\", \"recently\", \"recently\", \"recently\", \"recently\", \"recently\", \"recently\", \"recently\", \"recently\", \"recently\", \"recitals\", \"recreates\", \"reinforced\", \"relationship\", \"reservoir\", \"reservoir\", \"reservoir\", \"reservoir\", \"reservoir\", \"reservoir\", \"residence\", \"residence\", \"residence\", \"residence\", \"residence\", \"residence\", \"residence\", \"residence\", \"residence\", \"residence\", \"respite\", \"restored\", \"restored\", \"restored\", \"restored\", \"restored\", \"restored\", \"restored\", \"restored\", \"restored\", \"restored\", \"retiro\", \"revolution\", \"revolution\", \"revolving\", \"revolving\", \"ribnica\", \"ribnica\", \"riigikogu\", \"river\", \"river\", \"river\", \"river\", \"river\", \"river\", \"river\", \"river\", \"river\", \"river\", \"romain\", \"roman\", \"roman\", \"roman\", \"roman\", \"roman\", \"roman\", \"roman\", \"roman\", \"roman\", \"roman\", \"romanticism\", \"romanticism\", \"roses\", \"rue\", \"rue\", \"rue\", \"rue\", \"rue\", \"rue\", \"rue\", \"rue\", \"rumsiskes\", \"russian\", \"russian\", \"russian\", \"russian\", \"russian\", \"russian\", \"russian\", \"russian\", \"russian\", \"russian\", \"rytas\", \"saal\", \"salmiak\", \"salzburgs\", \"sandstones\", \"saragozza\", \"sardinero\", \"schauspielhaus\", \"schauspielhaus\", \"schwabische\", \"sch\\u00f8tstuene\", \"scout\", \"section\", \"section\", \"section\", \"section\", \"section\", \"section\", \"section\", \"section\", \"section\", \"see\", \"see\", \"see\", \"see\", \"see\", \"see\", \"see\", \"see\", \"see\", \"see\", \"senaatintori\", \"servandoni\", \"serve\", \"serve\", \"serve\", \"serve\", \"serve\", \"shershni\", \"shooted\", \"shot\", \"shoulders\", \"showings\", \"skate\", \"skate\", \"skate\", \"skate\", \"skeleton\", \"skeleton\", \"ski\", \"ski\", \"ski\", \"ski\", \"ski\", \"ski\", \"ski\", \"skopjes\", \"skupi\", \"skyscrapers\", \"skyscrapers\", \"small\", \"small\", \"small\", \"small\", \"small\", \"small\", \"small\", \"small\", \"small\", \"small\", \"smells\", \"smoked\", \"soaps\", \"solovyanenko\", \"species\", \"species\", \"species\", \"species\", \"species\", \"species\", \"species\", \"spectators\", \"spilberk\", \"spy\", \"square\", \"square\", \"square\", \"square\", \"square\", \"square\", \"square\", \"square\", \"square\", \"square\", \"st\", \"st\", \"st\", \"st\", \"st\", \"st\", \"st\", \"st\", \"st\", \"st\", \"stadion\", \"stadion\", \"stalin\", \"stallhof\", \"start\", \"start\", \"start\", \"start\", \"start\", \"start\", \"start\", \"start\", \"start\", \"start\", \"stays\", \"stays\", \"stnicolas\", \"stock\", \"stock\", \"stockholm\", \"stops\", \"stops\", \"storey\", \"storey\", \"strand\", \"street\", \"street\", \"street\", \"street\", \"street\", \"street\", \"street\", \"street\", \"street\", \"street\", \"streva\", \"strossmayer\", \"stuck\", \"stuttgart\", \"stuttgart\", \"stuttgart\", \"stuttgart\", \"stuttgart\", \"stuttgart\", \"stuttgart\", \"stuttgart\", \"style\", \"style\", \"style\", \"style\", \"style\", \"style\", \"style\", \"style\", \"style\", \"style\", \"styled\", \"subject\", \"subjects\", \"subjects\", \"summer\", \"summer\", \"summer\", \"summer\", \"summer\", \"summer\", \"summer\", \"summer\", \"summer\", \"summer\", \"supertitles\", \"supports\", \"supports\", \"supports\", \"sustation\", \"suyumbike\", \"suyumbike\", \"synagogue\", \"synagogue\", \"synagogue\", \"synagogue\", \"synagogue\", \"synagogue\", \"synagogue\", \"synagogue\", \"tabakhane\", \"tabakhane\", \"tablaos\", \"tablets\", \"talent\", \"talk\", \"tampella\", \"tampella\", \"tango\", \"tatarian\", \"television\", \"television\", \"temporary\", \"temporary\", \"temporary\", \"temporary\", \"temporary\", \"temporary\", \"temporary\", \"temporary\", \"temporary\", \"tepesi\", \"teqe\", \"th\", \"th\", \"th\", \"th\", \"th\", \"th\", \"th\", \"th\", \"th\", \"th\", \"theater\", \"theater\", \"theater\", \"theater\", \"theater\", \"theater\", \"theater\", \"theater\", \"theater\", \"theater\", \"theatre\", \"theatre\", \"theatre\", \"theatre\", \"theatre\", \"theatre\", \"theatre\", \"theatre\", \"theatre\", \"theatre\", \"theta\", \"three\", \"three\", \"three\", \"three\", \"three\", \"three\", \"three\", \"three\", \"three\", \"three\", \"tickets\", \"tickets\", \"tickets\", \"tickets\", \"tickets\", \"tickets\", \"tickets\", \"tickets\", \"tickets\", \"time\", \"time\", \"time\", \"time\", \"time\", \"time\", \"time\", \"time\", \"time\", \"time\", \"times\", \"times\", \"times\", \"times\", \"times\", \"times\", \"times\", \"times\", \"times\", \"times\", \"tiranas\", \"tiranas\", \"tiranas\", \"tofrom\", \"tomislav\", \"tomislav\", \"tops\", \"tour\", \"tour\", \"tour\", \"tour\", \"tour\", \"tour\", \"tour\", \"tour\", \"tour\", \"tour\", \"tours\", \"tours\", \"tours\", \"tours\", \"tours\", \"tours\", \"tours\", \"tours\", \"tours\", \"tours\", \"tower\", \"tower\", \"tower\", \"tower\", \"tower\", \"tower\", \"tower\", \"tower\", \"tower\", \"tower\", \"town\", \"town\", \"town\", \"town\", \"town\", \"town\", \"town\", \"town\", \"town\", \"town\", \"traboules\", \"traboules\", \"tramway\", \"tramway\", \"triathlon\", \"tsarist\", \"turtle\", \"tuto\", \"two\", \"two\", \"two\", \"two\", \"two\", \"two\", \"two\", \"two\", \"two\", \"two\", \"ugc\", \"ukrainian\", \"ukrainian\", \"ukrainian\", \"ukrainian\", \"ukrainian\", \"ukrainian\", \"ukrainian\", \"ukrainian\", \"ukrainian\", \"ukrainian\", \"unconventional\", \"underwater\", \"underwater\", \"underwater\", \"uniao\", \"used\", \"used\", \"used\", \"used\", \"used\", \"used\", \"used\", \"used\", \"used\", \"used\", \"uzungol\", \"uzungol\", \"vakano\", \"varna\", \"varna\", \"varna\", \"vending\", \"vepsa\", \"vera\", \"vessel\", \"villa\", \"villa\", \"villa\", \"villa\", \"villa\", \"villa\", \"villa\", \"village\", \"village\", \"village\", \"village\", \"village\", \"village\", \"village\", \"village\", \"village\", \"visitors\", \"visitors\", \"visitors\", \"visitors\", \"visitors\", \"visitors\", \"visitors\", \"visitors\", \"visitors\", \"visitors\", \"vytautas\", \"vytautas\", \"vytautas\", \"vytautas\", \"wanted\", \"watch\", \"watch\", \"watch\", \"watch\", \"watch\", \"watch\", \"watch\", \"watch\", \"water\", \"water\", \"water\", \"water\", \"water\", \"water\", \"water\", \"water\", \"water\", \"water\", \"waterfalls\", \"waterfalls\", \"waterfalls\", \"waterloo\", \"wax\", \"wax\", \"wax\", \"weekend\", \"weekend\", \"weekend\", \"weekend\", \"weekend\", \"weekend\", \"weekend\", \"weekend\", \"weekend\", \"weekend\", \"well\", \"well\", \"well\", \"well\", \"well\", \"well\", \"well\", \"well\", \"well\", \"well\", \"wellness\", \"whiskey\", \"wilhelma\", \"william\", \"wish\", \"wish\", \"wonder\", \"works\", \"works\", \"works\", \"works\", \"works\", \"works\", \"works\", \"works\", \"works\", \"works\", \"world\", \"world\", \"world\", \"world\", \"world\", \"world\", \"world\", \"world\", \"world\", \"world\", \"writing\", \"writing\", \"year\", \"year\", \"year\", \"year\", \"year\", \"year\", \"year\", \"year\", \"year\", \"year\", \"zigana\", \"zigana\", \"zoo\", \"zoo\", \"zoo\", \"zoo\", \"zoo\", \"zoo\", \"zoo\", \"zoo\", \"zoo\", \"zoo\", \"\\u0437\\u0430\\u043c\\u043e\\u043a\", \"\\u0437\\u0430\\u043c\\u043e\\u043a\", \"\\u0437\\u0430\\u043c\\u043e\\u043a\", \"\\u0437\\u0430\\u043c\\u043e\\u043a\", \"\\u0437\\u0430\\u043c\\u043e\\u043a\", \"\\u0442\\u0440\\u043e\\u0456\\u0446\\u044c\\u043a\\u0438\\u0438\"]}, \"R\": 30, \"lambda.step\": 0.01, \"plot.opts\": {\"xlab\": \"PC1\", \"ylab\": \"PC2\"}, \"topic.order\": [9, 2, 8, 6, 1, 7, 4, 10, 3, 5]};\n",
       "\n",
       "function LDAvis_load_lib(url, callback){\n",
       "  var s = document.createElement('script');\n",
       "  s.src = url;\n",
       "  s.async = true;\n",
       "  s.onreadystatechange = s.onload = callback;\n",
       "  s.onerror = function(){console.warn(\"failed to load library \" + url);};\n",
       "  document.getElementsByTagName(\"head\")[0].appendChild(s);\n",
       "}\n",
       "\n",
       "if(typeof(LDAvis) !== \"undefined\"){\n",
       "   // already loaded: just create the visualization\n",
       "   !function(LDAvis){\n",
       "       new LDAvis(\"#\" + \"ldavis_el47755109563555048956037770\", ldavis_el47755109563555048956037770_data);\n",
       "   }(LDAvis);\n",
       "}else if(typeof define === \"function\" && define.amd){\n",
       "   // require.js is available: use it to load d3/LDAvis\n",
       "   require.config({paths: {d3: \"https://d3js.org/d3.v5\"}});\n",
       "   require([\"d3\"], function(d3){\n",
       "      window.d3 = d3;\n",
       "      LDAvis_load_lib(\"https://cdn.jsdelivr.net/gh/bmabey/pyLDAvis@3.4.0/pyLDAvis/js/ldavis.v3.0.0.js\", function(){\n",
       "        new LDAvis(\"#\" + \"ldavis_el47755109563555048956037770\", ldavis_el47755109563555048956037770_data);\n",
       "      });\n",
       "    });\n",
       "}else{\n",
       "    // require.js not available: dynamically load d3 & LDAvis\n",
       "    LDAvis_load_lib(\"https://d3js.org/d3.v5.js\", function(){\n",
       "         LDAvis_load_lib(\"https://cdn.jsdelivr.net/gh/bmabey/pyLDAvis@3.4.0/pyLDAvis/js/ldavis.v3.0.0.js\", function(){\n",
       "                 new LDAvis(\"#\" + \"ldavis_el47755109563555048956037770\", ldavis_el47755109563555048956037770_data);\n",
       "            })\n",
       "         });\n",
       "}\n",
       "</script>"
      ],
      "text/plain": [
       "PreparedData(topic_coordinates=              x         y  topics  cluster       Freq\n",
       "topic                                                \n",
       "8     -0.014437  0.016541       1        1  15.450113\n",
       "1     -0.016637  0.009149       2        1  13.307857\n",
       "7      0.002892 -0.013513       3        1  11.916473\n",
       "5      0.002660  0.023524       4        1  10.039595\n",
       "0      0.003450  0.010250       5        1   9.905800\n",
       "6      0.018234  0.004069       6        1   9.190049\n",
       "3     -0.039002  0.020100       7        1   8.860977\n",
       "9     -0.015871  0.028434       8        1   8.739478\n",
       "2      0.087673 -0.011670       9        1   6.399566\n",
       "4     -0.028962 -0.086883      10        1   6.190093, topic_info=            Term        Freq       Total Category  logprob  loglift\n",
       "4             th  379.000000  379.000000  Default  30.0000  30.0000\n",
       "2        century  333.000000  333.000000  Default  29.0000  29.0000\n",
       "5          built  395.000000  395.000000  Default  28.0000  28.0000\n",
       "125       mosque  103.000000  103.000000  Default  27.0000  27.0000\n",
       "78           art  268.000000  268.000000  Default  26.0000  26.0000\n",
       "..           ...         ...         ...      ...      ...      ...\n",
       "466       former    8.623744   96.945902  Topic10  -6.2071   0.3626\n",
       "561       church   12.863812  380.007796  Topic10  -5.8072  -0.6036\n",
       "629         park   10.840662  256.935668  Topic10  -5.9783  -0.3833\n",
       "67      national    8.175048   94.137862  Topic10  -6.2605   0.3385\n",
       "765  exhibitions    8.370199  109.633557  Topic10  -6.2369   0.2098\n",
       "\n",
       "[833 rows x 6 columns], token_table=       Topic      Freq        Term\n",
       "term                              \n",
       "10326      9  0.870493     acronym\n",
       "11366      3  0.568713  admittance\n",
       "555        2  0.189182    adriatic\n",
       "555        3  0.567546    adriatic\n",
       "555        7  0.189182    adriatic\n",
       "...      ...       ...         ...\n",
       "6929       5  0.139175       замок\n",
       "6929       7  0.139175       замок\n",
       "6929       8  0.417525       замок\n",
       "6929      10  0.139175       замок\n",
       "13101      2  0.731405   троіцькии\n",
       "\n",
       "[2377 rows x 3 columns], R=30, lambda_step=0.01, plot_opts={'xlab': 'PC1', 'ylab': 'PC2'}, topic_order=[9, 2, 8, 6, 1, 7, 4, 10, 3, 5])"
      ]
     },
     "execution_count": 51,
     "metadata": {},
     "output_type": "execute_result"
    }
   ],
   "source": [
    "import pyLDAvis.gensim\n",
    "import pickle \n",
    "import pyLDAvis\n",
    "# Visualize the topics\n",
    "pyLDAvis.enable_notebook()\n",
    "LDAvis_data_filepath = os.path.join('./results/ldavis_prepared_'+str(num_topics))\n",
    "# # this is a bit time consuming - make the if statement True\n",
    "# # if you want to execute visualization prep yourself\n",
    "if 1 == 1:\n",
    "    LDAvis_prepared = pyLDAvis.gensim.prepare(lda_model, corpus, id2word)\n",
    "#     with open(LDAvis_data_filepath, 'wb') as f:\n",
    "#         pickle.dump(LDAvis_prepared, f)\n",
    "# # load the pre-prepared pyLDAvis data from disk\n",
    "# with open(LDAvis_data_filepath, 'rb') as f:\n",
    "#     LDAvis_prepared = pickle.load(f)\n",
    "# pyLDAvis.save_html(LDAvis_prepared, './results/ldavis_prepared_'+ str(num_topics) +'.html')\n",
    "LDAvis_prepared"
   ]
  },
  {
   "cell_type": "code",
   "execution_count": 63,
   "metadata": {},
   "outputs": [],
   "source": [
    "from bertopic import BERTopic"
   ]
  },
  {
   "cell_type": "code",
   "execution_count": 91,
   "metadata": {},
   "outputs": [],
   "source": [
    "docs = things_to_do['description_processed']\n",
    "# topic_model = BERTopic(nr_topics=\"auto\") # error with bertopic, not fixed yet as 28.08.2024; pip install correct version once fixed: https://github.com/MaartenGr/BERTopic/issues/2100\n",
    "topic_model = BERTopic(nr_topics=11, calculate_probabilities=True)\n",
    "topics, probs = topic_model.fit_transform(docs)"
   ]
  },
  {
   "cell_type": "code",
   "execution_count": 92,
   "metadata": {},
   "outputs": [
    {
     "data": {
      "text/html": [
       "<div>\n",
       "<style scoped>\n",
       "    .dataframe tbody tr th:only-of-type {\n",
       "        vertical-align: middle;\n",
       "    }\n",
       "\n",
       "    .dataframe tbody tr th {\n",
       "        vertical-align: top;\n",
       "    }\n",
       "\n",
       "    .dataframe thead th {\n",
       "        text-align: right;\n",
       "    }\n",
       "</style>\n",
       "<table border=\"1\" class=\"dataframe\">\n",
       "  <thead>\n",
       "    <tr style=\"text-align: right;\">\n",
       "      <th></th>\n",
       "      <th>Topic</th>\n",
       "      <th>Count</th>\n",
       "      <th>Name</th>\n",
       "      <th>Representation</th>\n",
       "      <th>Representative_Docs</th>\n",
       "    </tr>\n",
       "  </thead>\n",
       "  <tbody>\n",
       "    <tr>\n",
       "      <th>0</th>\n",
       "      <td>-1</td>\n",
       "      <td>900</td>\n",
       "      <td>-1_museum_city_art_also</td>\n",
       "      <td>[museum, city, art, also, building, park, one,...</td>\n",
       "      <td>[biological museum turku biological museum dio...</td>\n",
       "    </tr>\n",
       "    <tr>\n",
       "      <th>1</th>\n",
       "      <td>0</td>\n",
       "      <td>674</td>\n",
       "      <td>0_church_built_mosque_th</td>\n",
       "      <td>[church, built, mosque, th, cathedral, century...</td>\n",
       "      <td>[mindszent parish church mindszent separate sm...</td>\n",
       "    </tr>\n",
       "    <tr>\n",
       "      <th>2</th>\n",
       "      <td>1</td>\n",
       "      <td>376</td>\n",
       "      <td>1_museum_collection_art_de</td>\n",
       "      <td>[museum, collection, art, de, history, works, ...</td>\n",
       "      <td>[lviv art gallery divided several departments ...</td>\n",
       "    </tr>\n",
       "    <tr>\n",
       "      <th>3</th>\n",
       "      <td>2</td>\n",
       "      <td>348</td>\n",
       "      <td>2_festival_theatre_music_theater</td>\n",
       "      <td>[festival, theatre, music, theater, concerts, ...</td>\n",
       "      <td>[holland festival performing arts festival bri...</td>\n",
       "    </tr>\n",
       "    <tr>\n",
       "      <th>4</th>\n",
       "      <td>3</td>\n",
       "      <td>291</td>\n",
       "      <td>3_park_city_tour_pool</td>\n",
       "      <td>[park, city, tour, pool, tours, also, ice, ava...</td>\n",
       "      <td>[ali demi skate park alidemi skate park great ...</td>\n",
       "    </tr>\n",
       "    <tr>\n",
       "      <th>5</th>\n",
       "      <td>4</td>\n",
       "      <td>27</td>\n",
       "      <td>4_zoo_animals_species_berlin</td>\n",
       "      <td>[zoo, animals, species, berlin, park, aquarium...</td>\n",
       "      <td>[aalborg zoo cosy zoo many classic zoo animals...</td>\n",
       "    </tr>\n",
       "    <tr>\n",
       "      <th>6</th>\n",
       "      <td>5</td>\n",
       "      <td>27</td>\n",
       "      <td>5_christmas_turku_fair_marathon</td>\n",
       "      <td>[christmas, turku, fair, marathon, nurmi, paav...</td>\n",
       "      <td>[turku international book fair turku internati...</td>\n",
       "    </tr>\n",
       "    <tr>\n",
       "      <th>7</th>\n",
       "      <td>6</td>\n",
       "      <td>25</td>\n",
       "      <td>6_football_team_stadium_league</td>\n",
       "      <td>[football, team, stadium, league, games, clubs...</td>\n",
       "      <td>[traditional games croke park stadium catch hu...</td>\n",
       "    </tr>\n",
       "    <tr>\n",
       "      <th>8</th>\n",
       "      <td>7</td>\n",
       "      <td>18</td>\n",
       "      <td>7_bridge_river_dragon_bridges</td>\n",
       "      <td>[bridge, river, dragon, bridges, road, old, us...</td>\n",
       "      <td>[çatalan bridge longest bridge turkey, tanners...</td>\n",
       "    </tr>\n",
       "    <tr>\n",
       "      <th>9</th>\n",
       "      <td>8</td>\n",
       "      <td>17</td>\n",
       "      <td>8_garden_botanical_plants_species</td>\n",
       "      <td>[garden, botanical, plants, species, universit...</td>\n",
       "      <td>[botanical garden nice parc many interesting p...</td>\n",
       "    </tr>\n",
       "    <tr>\n",
       "      <th>10</th>\n",
       "      <td>9</td>\n",
       "      <td>12</td>\n",
       "      <td>9_roman_pompeii_ad_vesuvius</td>\n",
       "      <td>[roman, pompeii, ad, vesuvius, city, site, rd,...</td>\n",
       "      <td>[scythian neapolis scythian neapolis settlemen...</td>\n",
       "    </tr>\n",
       "  </tbody>\n",
       "</table>\n",
       "</div>"
      ],
      "text/plain": [
       "    Topic  Count                               Name  \\\n",
       "0      -1    900            -1_museum_city_art_also   \n",
       "1       0    674           0_church_built_mosque_th   \n",
       "2       1    376         1_museum_collection_art_de   \n",
       "3       2    348   2_festival_theatre_music_theater   \n",
       "4       3    291              3_park_city_tour_pool   \n",
       "5       4     27       4_zoo_animals_species_berlin   \n",
       "6       5     27    5_christmas_turku_fair_marathon   \n",
       "7       6     25     6_football_team_stadium_league   \n",
       "8       7     18      7_bridge_river_dragon_bridges   \n",
       "9       8     17  8_garden_botanical_plants_species   \n",
       "10      9     12        9_roman_pompeii_ad_vesuvius   \n",
       "\n",
       "                                       Representation  \\\n",
       "0   [museum, city, art, also, building, park, one,...   \n",
       "1   [church, built, mosque, th, cathedral, century...   \n",
       "2   [museum, collection, art, de, history, works, ...   \n",
       "3   [festival, theatre, music, theater, concerts, ...   \n",
       "4   [park, city, tour, pool, tours, also, ice, ava...   \n",
       "5   [zoo, animals, species, berlin, park, aquarium...   \n",
       "6   [christmas, turku, fair, marathon, nurmi, paav...   \n",
       "7   [football, team, stadium, league, games, clubs...   \n",
       "8   [bridge, river, dragon, bridges, road, old, us...   \n",
       "9   [garden, botanical, plants, species, universit...   \n",
       "10  [roman, pompeii, ad, vesuvius, city, site, rd,...   \n",
       "\n",
       "                                  Representative_Docs  \n",
       "0   [biological museum turku biological museum dio...  \n",
       "1   [mindszent parish church mindszent separate sm...  \n",
       "2   [lviv art gallery divided several departments ...  \n",
       "3   [holland festival performing arts festival bri...  \n",
       "4   [ali demi skate park alidemi skate park great ...  \n",
       "5   [aalborg zoo cosy zoo many classic zoo animals...  \n",
       "6   [turku international book fair turku internati...  \n",
       "7   [traditional games croke park stadium catch hu...  \n",
       "8   [çatalan bridge longest bridge turkey, tanners...  \n",
       "9   [botanical garden nice parc many interesting p...  \n",
       "10  [scythian neapolis scythian neapolis settlemen...  "
      ]
     },
     "execution_count": 92,
     "metadata": {},
     "output_type": "execute_result"
    }
   ],
   "source": [
    "topic_model.get_topic_info()"
   ]
  },
  {
   "cell_type": "code",
   "execution_count": 93,
   "metadata": {},
   "outputs": [
    {
     "name": "stderr",
     "output_type": "stream",
     "text": [
      "/Users/adithisatish/TUM/Academics/SoSe24/guided_research/.env/lib/python3.9/site-packages/umap/umap_.py:1945: UserWarning:\n",
      "\n",
      "n_jobs value 1 overridden to 1 by setting random_state. Use no seed for parallelism.\n",
      "\n"
     ]
    },
    {
     "data": {
      "application/vnd.plotly.v1+json": {
       "config": {
        "plotlyServerURL": "https://plot.ly"
       },
       "data": [
        {
         "customdata": [
          [
           0,
           "church | built | mosque | th | cathedral",
           674
          ],
          [
           1,
           "museum | collection | art | de | history",
           376
          ],
          [
           2,
           "festival | theatre | music | theater | concerts",
           348
          ],
          [
           3,
           "park | city | tour | pool | tours",
           291
          ],
          [
           4,
           "zoo | animals | species | berlin | park",
           27
          ],
          [
           5,
           "christmas | turku | fair | marathon | nurmi",
           27
          ],
          [
           6,
           "football | team | stadium | league | games",
           25
          ],
          [
           7,
           "bridge | river | dragon | bridges | road",
           18
          ],
          [
           8,
           "garden | botanical | plants | species | university",
           17
          ],
          [
           9,
           "roman | pompeii | ad | vesuvius | city",
           12
          ]
         ],
         "hovertemplate": "<b>Topic %{customdata[0]}</b><br>%{customdata[1]}<br>Size: %{customdata[2]}",
         "legendgroup": "",
         "marker": {
          "color": "#B0BEC5",
          "line": {
           "color": "DarkSlateGrey",
           "width": 2
          },
          "size": [
           674,
           376,
           348,
           291,
           27,
           27,
           25,
           18,
           17,
           12
          ],
          "sizemode": "area",
          "sizeref": 0.42125,
          "symbol": "circle"
         },
         "mode": "markers",
         "name": "",
         "orientation": "v",
         "showlegend": false,
         "type": "scatter",
         "x": [
          8.836653709411621,
          8.950928688049316,
          8.808009147644043,
          3.147277355194092,
          3.8260738849639893,
          2.892345428466797,
          3.5219013690948486,
          2.704122543334961,
          3.7896130084991455,
          8.397136688232422
         ],
         "xaxis": "x",
         "y": [
          13.662456512451172,
          14.282002449035645,
          14.609772682189941,
          -3.658670663833618,
          -3.2151761054992676,
          -4.2138543128967285,
          -3.7628979682922363,
          -3.2563869953155518,
          -4.545464992523193,
          13.405267715454102
         ],
         "yaxis": "y"
        }
       ],
       "layout": {
        "annotations": [
         {
          "showarrow": false,
          "text": "D1",
          "x": 2.2985041618347166,
          "y": 5.786976921558381,
          "yshift": 10
         },
         {
          "showarrow": false,
          "text": "D2",
          "x": 6.296036076545715,
          "xshift": 10,
          "y": 16.801238584518433
         }
        ],
        "height": 650,
        "hoverlabel": {
         "bgcolor": "white",
         "font": {
          "family": "Rockwell",
          "size": 16
         }
        },
        "legend": {
         "itemsizing": "constant",
         "tracegroupgap": 0
        },
        "margin": {
         "t": 60
        },
        "shapes": [
         {
          "line": {
           "color": "#CFD8DC",
           "width": 2
          },
          "type": "line",
          "x0": 6.296036076545715,
          "x1": 6.296036076545715,
          "y0": -5.2272847414016725,
          "y1": 16.801238584518433
         },
         {
          "line": {
           "color": "#9E9E9E",
           "width": 2
          },
          "type": "line",
          "x0": 2.2985041618347166,
          "x1": 10.293567991256714,
          "y0": 5.786976921558381,
          "y1": 5.786976921558381
         }
        ],
        "sliders": [
         {
          "active": 0,
          "pad": {
           "t": 50
          },
          "steps": [
           {
            "args": [
             {
              "marker.color": [
               [
                "red",
                "#B0BEC5",
                "#B0BEC5",
                "#B0BEC5",
                "#B0BEC5",
                "#B0BEC5",
                "#B0BEC5",
                "#B0BEC5",
                "#B0BEC5",
                "#B0BEC5"
               ]
              ]
             }
            ],
            "label": "Topic 0",
            "method": "update"
           },
           {
            "args": [
             {
              "marker.color": [
               [
                "#B0BEC5",
                "red",
                "#B0BEC5",
                "#B0BEC5",
                "#B0BEC5",
                "#B0BEC5",
                "#B0BEC5",
                "#B0BEC5",
                "#B0BEC5",
                "#B0BEC5"
               ]
              ]
             }
            ],
            "label": "Topic 1",
            "method": "update"
           },
           {
            "args": [
             {
              "marker.color": [
               [
                "#B0BEC5",
                "#B0BEC5",
                "red",
                "#B0BEC5",
                "#B0BEC5",
                "#B0BEC5",
                "#B0BEC5",
                "#B0BEC5",
                "#B0BEC5",
                "#B0BEC5"
               ]
              ]
             }
            ],
            "label": "Topic 2",
            "method": "update"
           },
           {
            "args": [
             {
              "marker.color": [
               [
                "#B0BEC5",
                "#B0BEC5",
                "#B0BEC5",
                "red",
                "#B0BEC5",
                "#B0BEC5",
                "#B0BEC5",
                "#B0BEC5",
                "#B0BEC5",
                "#B0BEC5"
               ]
              ]
             }
            ],
            "label": "Topic 3",
            "method": "update"
           },
           {
            "args": [
             {
              "marker.color": [
               [
                "#B0BEC5",
                "#B0BEC5",
                "#B0BEC5",
                "#B0BEC5",
                "red",
                "#B0BEC5",
                "#B0BEC5",
                "#B0BEC5",
                "#B0BEC5",
                "#B0BEC5"
               ]
              ]
             }
            ],
            "label": "Topic 4",
            "method": "update"
           },
           {
            "args": [
             {
              "marker.color": [
               [
                "#B0BEC5",
                "#B0BEC5",
                "#B0BEC5",
                "#B0BEC5",
                "#B0BEC5",
                "red",
                "#B0BEC5",
                "#B0BEC5",
                "#B0BEC5",
                "#B0BEC5"
               ]
              ]
             }
            ],
            "label": "Topic 5",
            "method": "update"
           },
           {
            "args": [
             {
              "marker.color": [
               [
                "#B0BEC5",
                "#B0BEC5",
                "#B0BEC5",
                "#B0BEC5",
                "#B0BEC5",
                "#B0BEC5",
                "red",
                "#B0BEC5",
                "#B0BEC5",
                "#B0BEC5"
               ]
              ]
             }
            ],
            "label": "Topic 6",
            "method": "update"
           },
           {
            "args": [
             {
              "marker.color": [
               [
                "#B0BEC5",
                "#B0BEC5",
                "#B0BEC5",
                "#B0BEC5",
                "#B0BEC5",
                "#B0BEC5",
                "#B0BEC5",
                "red",
                "#B0BEC5",
                "#B0BEC5"
               ]
              ]
             }
            ],
            "label": "Topic 7",
            "method": "update"
           },
           {
            "args": [
             {
              "marker.color": [
               [
                "#B0BEC5",
                "#B0BEC5",
                "#B0BEC5",
                "#B0BEC5",
                "#B0BEC5",
                "#B0BEC5",
                "#B0BEC5",
                "#B0BEC5",
                "red",
                "#B0BEC5"
               ]
              ]
             }
            ],
            "label": "Topic 8",
            "method": "update"
           },
           {
            "args": [
             {
              "marker.color": [
               [
                "#B0BEC5",
                "#B0BEC5",
                "#B0BEC5",
                "#B0BEC5",
                "#B0BEC5",
                "#B0BEC5",
                "#B0BEC5",
                "#B0BEC5",
                "#B0BEC5",
                "red"
               ]
              ]
             }
            ],
            "label": "Topic 9",
            "method": "update"
           }
          ]
         }
        ],
        "template": {
         "data": {
          "bar": [
           {
            "error_x": {
             "color": "rgb(36,36,36)"
            },
            "error_y": {
             "color": "rgb(36,36,36)"
            },
            "marker": {
             "line": {
              "color": "white",
              "width": 0.5
             },
             "pattern": {
              "fillmode": "overlay",
              "size": 10,
              "solidity": 0.2
             }
            },
            "type": "bar"
           }
          ],
          "barpolar": [
           {
            "marker": {
             "line": {
              "color": "white",
              "width": 0.5
             },
             "pattern": {
              "fillmode": "overlay",
              "size": 10,
              "solidity": 0.2
             }
            },
            "type": "barpolar"
           }
          ],
          "carpet": [
           {
            "aaxis": {
             "endlinecolor": "rgb(36,36,36)",
             "gridcolor": "white",
             "linecolor": "white",
             "minorgridcolor": "white",
             "startlinecolor": "rgb(36,36,36)"
            },
            "baxis": {
             "endlinecolor": "rgb(36,36,36)",
             "gridcolor": "white",
             "linecolor": "white",
             "minorgridcolor": "white",
             "startlinecolor": "rgb(36,36,36)"
            },
            "type": "carpet"
           }
          ],
          "choropleth": [
           {
            "colorbar": {
             "outlinewidth": 1,
             "tickcolor": "rgb(36,36,36)",
             "ticks": "outside"
            },
            "type": "choropleth"
           }
          ],
          "contour": [
           {
            "colorbar": {
             "outlinewidth": 1,
             "tickcolor": "rgb(36,36,36)",
             "ticks": "outside"
            },
            "colorscale": [
             [
              0,
              "#440154"
             ],
             [
              0.1111111111111111,
              "#482878"
             ],
             [
              0.2222222222222222,
              "#3e4989"
             ],
             [
              0.3333333333333333,
              "#31688e"
             ],
             [
              0.4444444444444444,
              "#26828e"
             ],
             [
              0.5555555555555556,
              "#1f9e89"
             ],
             [
              0.6666666666666666,
              "#35b779"
             ],
             [
              0.7777777777777778,
              "#6ece58"
             ],
             [
              0.8888888888888888,
              "#b5de2b"
             ],
             [
              1,
              "#fde725"
             ]
            ],
            "type": "contour"
           }
          ],
          "contourcarpet": [
           {
            "colorbar": {
             "outlinewidth": 1,
             "tickcolor": "rgb(36,36,36)",
             "ticks": "outside"
            },
            "type": "contourcarpet"
           }
          ],
          "heatmap": [
           {
            "colorbar": {
             "outlinewidth": 1,
             "tickcolor": "rgb(36,36,36)",
             "ticks": "outside"
            },
            "colorscale": [
             [
              0,
              "#440154"
             ],
             [
              0.1111111111111111,
              "#482878"
             ],
             [
              0.2222222222222222,
              "#3e4989"
             ],
             [
              0.3333333333333333,
              "#31688e"
             ],
             [
              0.4444444444444444,
              "#26828e"
             ],
             [
              0.5555555555555556,
              "#1f9e89"
             ],
             [
              0.6666666666666666,
              "#35b779"
             ],
             [
              0.7777777777777778,
              "#6ece58"
             ],
             [
              0.8888888888888888,
              "#b5de2b"
             ],
             [
              1,
              "#fde725"
             ]
            ],
            "type": "heatmap"
           }
          ],
          "heatmapgl": [
           {
            "colorbar": {
             "outlinewidth": 1,
             "tickcolor": "rgb(36,36,36)",
             "ticks": "outside"
            },
            "colorscale": [
             [
              0,
              "#440154"
             ],
             [
              0.1111111111111111,
              "#482878"
             ],
             [
              0.2222222222222222,
              "#3e4989"
             ],
             [
              0.3333333333333333,
              "#31688e"
             ],
             [
              0.4444444444444444,
              "#26828e"
             ],
             [
              0.5555555555555556,
              "#1f9e89"
             ],
             [
              0.6666666666666666,
              "#35b779"
             ],
             [
              0.7777777777777778,
              "#6ece58"
             ],
             [
              0.8888888888888888,
              "#b5de2b"
             ],
             [
              1,
              "#fde725"
             ]
            ],
            "type": "heatmapgl"
           }
          ],
          "histogram": [
           {
            "marker": {
             "line": {
              "color": "white",
              "width": 0.6
             }
            },
            "type": "histogram"
           }
          ],
          "histogram2d": [
           {
            "colorbar": {
             "outlinewidth": 1,
             "tickcolor": "rgb(36,36,36)",
             "ticks": "outside"
            },
            "colorscale": [
             [
              0,
              "#440154"
             ],
             [
              0.1111111111111111,
              "#482878"
             ],
             [
              0.2222222222222222,
              "#3e4989"
             ],
             [
              0.3333333333333333,
              "#31688e"
             ],
             [
              0.4444444444444444,
              "#26828e"
             ],
             [
              0.5555555555555556,
              "#1f9e89"
             ],
             [
              0.6666666666666666,
              "#35b779"
             ],
             [
              0.7777777777777778,
              "#6ece58"
             ],
             [
              0.8888888888888888,
              "#b5de2b"
             ],
             [
              1,
              "#fde725"
             ]
            ],
            "type": "histogram2d"
           }
          ],
          "histogram2dcontour": [
           {
            "colorbar": {
             "outlinewidth": 1,
             "tickcolor": "rgb(36,36,36)",
             "ticks": "outside"
            },
            "colorscale": [
             [
              0,
              "#440154"
             ],
             [
              0.1111111111111111,
              "#482878"
             ],
             [
              0.2222222222222222,
              "#3e4989"
             ],
             [
              0.3333333333333333,
              "#31688e"
             ],
             [
              0.4444444444444444,
              "#26828e"
             ],
             [
              0.5555555555555556,
              "#1f9e89"
             ],
             [
              0.6666666666666666,
              "#35b779"
             ],
             [
              0.7777777777777778,
              "#6ece58"
             ],
             [
              0.8888888888888888,
              "#b5de2b"
             ],
             [
              1,
              "#fde725"
             ]
            ],
            "type": "histogram2dcontour"
           }
          ],
          "mesh3d": [
           {
            "colorbar": {
             "outlinewidth": 1,
             "tickcolor": "rgb(36,36,36)",
             "ticks": "outside"
            },
            "type": "mesh3d"
           }
          ],
          "parcoords": [
           {
            "line": {
             "colorbar": {
              "outlinewidth": 1,
              "tickcolor": "rgb(36,36,36)",
              "ticks": "outside"
             }
            },
            "type": "parcoords"
           }
          ],
          "pie": [
           {
            "automargin": true,
            "type": "pie"
           }
          ],
          "scatter": [
           {
            "fillpattern": {
             "fillmode": "overlay",
             "size": 10,
             "solidity": 0.2
            },
            "type": "scatter"
           }
          ],
          "scatter3d": [
           {
            "line": {
             "colorbar": {
              "outlinewidth": 1,
              "tickcolor": "rgb(36,36,36)",
              "ticks": "outside"
             }
            },
            "marker": {
             "colorbar": {
              "outlinewidth": 1,
              "tickcolor": "rgb(36,36,36)",
              "ticks": "outside"
             }
            },
            "type": "scatter3d"
           }
          ],
          "scattercarpet": [
           {
            "marker": {
             "colorbar": {
              "outlinewidth": 1,
              "tickcolor": "rgb(36,36,36)",
              "ticks": "outside"
             }
            },
            "type": "scattercarpet"
           }
          ],
          "scattergeo": [
           {
            "marker": {
             "colorbar": {
              "outlinewidth": 1,
              "tickcolor": "rgb(36,36,36)",
              "ticks": "outside"
             }
            },
            "type": "scattergeo"
           }
          ],
          "scattergl": [
           {
            "marker": {
             "colorbar": {
              "outlinewidth": 1,
              "tickcolor": "rgb(36,36,36)",
              "ticks": "outside"
             }
            },
            "type": "scattergl"
           }
          ],
          "scattermapbox": [
           {
            "marker": {
             "colorbar": {
              "outlinewidth": 1,
              "tickcolor": "rgb(36,36,36)",
              "ticks": "outside"
             }
            },
            "type": "scattermapbox"
           }
          ],
          "scatterpolar": [
           {
            "marker": {
             "colorbar": {
              "outlinewidth": 1,
              "tickcolor": "rgb(36,36,36)",
              "ticks": "outside"
             }
            },
            "type": "scatterpolar"
           }
          ],
          "scatterpolargl": [
           {
            "marker": {
             "colorbar": {
              "outlinewidth": 1,
              "tickcolor": "rgb(36,36,36)",
              "ticks": "outside"
             }
            },
            "type": "scatterpolargl"
           }
          ],
          "scatterternary": [
           {
            "marker": {
             "colorbar": {
              "outlinewidth": 1,
              "tickcolor": "rgb(36,36,36)",
              "ticks": "outside"
             }
            },
            "type": "scatterternary"
           }
          ],
          "surface": [
           {
            "colorbar": {
             "outlinewidth": 1,
             "tickcolor": "rgb(36,36,36)",
             "ticks": "outside"
            },
            "colorscale": [
             [
              0,
              "#440154"
             ],
             [
              0.1111111111111111,
              "#482878"
             ],
             [
              0.2222222222222222,
              "#3e4989"
             ],
             [
              0.3333333333333333,
              "#31688e"
             ],
             [
              0.4444444444444444,
              "#26828e"
             ],
             [
              0.5555555555555556,
              "#1f9e89"
             ],
             [
              0.6666666666666666,
              "#35b779"
             ],
             [
              0.7777777777777778,
              "#6ece58"
             ],
             [
              0.8888888888888888,
              "#b5de2b"
             ],
             [
              1,
              "#fde725"
             ]
            ],
            "type": "surface"
           }
          ],
          "table": [
           {
            "cells": {
             "fill": {
              "color": "rgb(237,237,237)"
             },
             "line": {
              "color": "white"
             }
            },
            "header": {
             "fill": {
              "color": "rgb(217,217,217)"
             },
             "line": {
              "color": "white"
             }
            },
            "type": "table"
           }
          ]
         },
         "layout": {
          "annotationdefaults": {
           "arrowhead": 0,
           "arrowwidth": 1
          },
          "autotypenumbers": "strict",
          "coloraxis": {
           "colorbar": {
            "outlinewidth": 1,
            "tickcolor": "rgb(36,36,36)",
            "ticks": "outside"
           }
          },
          "colorscale": {
           "diverging": [
            [
             0,
             "rgb(103,0,31)"
            ],
            [
             0.1,
             "rgb(178,24,43)"
            ],
            [
             0.2,
             "rgb(214,96,77)"
            ],
            [
             0.3,
             "rgb(244,165,130)"
            ],
            [
             0.4,
             "rgb(253,219,199)"
            ],
            [
             0.5,
             "rgb(247,247,247)"
            ],
            [
             0.6,
             "rgb(209,229,240)"
            ],
            [
             0.7,
             "rgb(146,197,222)"
            ],
            [
             0.8,
             "rgb(67,147,195)"
            ],
            [
             0.9,
             "rgb(33,102,172)"
            ],
            [
             1,
             "rgb(5,48,97)"
            ]
           ],
           "sequential": [
            [
             0,
             "#440154"
            ],
            [
             0.1111111111111111,
             "#482878"
            ],
            [
             0.2222222222222222,
             "#3e4989"
            ],
            [
             0.3333333333333333,
             "#31688e"
            ],
            [
             0.4444444444444444,
             "#26828e"
            ],
            [
             0.5555555555555556,
             "#1f9e89"
            ],
            [
             0.6666666666666666,
             "#35b779"
            ],
            [
             0.7777777777777778,
             "#6ece58"
            ],
            [
             0.8888888888888888,
             "#b5de2b"
            ],
            [
             1,
             "#fde725"
            ]
           ],
           "sequentialminus": [
            [
             0,
             "#440154"
            ],
            [
             0.1111111111111111,
             "#482878"
            ],
            [
             0.2222222222222222,
             "#3e4989"
            ],
            [
             0.3333333333333333,
             "#31688e"
            ],
            [
             0.4444444444444444,
             "#26828e"
            ],
            [
             0.5555555555555556,
             "#1f9e89"
            ],
            [
             0.6666666666666666,
             "#35b779"
            ],
            [
             0.7777777777777778,
             "#6ece58"
            ],
            [
             0.8888888888888888,
             "#b5de2b"
            ],
            [
             1,
             "#fde725"
            ]
           ]
          },
          "colorway": [
           "#1F77B4",
           "#FF7F0E",
           "#2CA02C",
           "#D62728",
           "#9467BD",
           "#8C564B",
           "#E377C2",
           "#7F7F7F",
           "#BCBD22",
           "#17BECF"
          ],
          "font": {
           "color": "rgb(36,36,36)"
          },
          "geo": {
           "bgcolor": "white",
           "lakecolor": "white",
           "landcolor": "white",
           "showlakes": true,
           "showland": true,
           "subunitcolor": "white"
          },
          "hoverlabel": {
           "align": "left"
          },
          "hovermode": "closest",
          "mapbox": {
           "style": "light"
          },
          "paper_bgcolor": "white",
          "plot_bgcolor": "white",
          "polar": {
           "angularaxis": {
            "gridcolor": "rgb(232,232,232)",
            "linecolor": "rgb(36,36,36)",
            "showgrid": false,
            "showline": true,
            "ticks": "outside"
           },
           "bgcolor": "white",
           "radialaxis": {
            "gridcolor": "rgb(232,232,232)",
            "linecolor": "rgb(36,36,36)",
            "showgrid": false,
            "showline": true,
            "ticks": "outside"
           }
          },
          "scene": {
           "xaxis": {
            "backgroundcolor": "white",
            "gridcolor": "rgb(232,232,232)",
            "gridwidth": 2,
            "linecolor": "rgb(36,36,36)",
            "showbackground": true,
            "showgrid": false,
            "showline": true,
            "ticks": "outside",
            "zeroline": false,
            "zerolinecolor": "rgb(36,36,36)"
           },
           "yaxis": {
            "backgroundcolor": "white",
            "gridcolor": "rgb(232,232,232)",
            "gridwidth": 2,
            "linecolor": "rgb(36,36,36)",
            "showbackground": true,
            "showgrid": false,
            "showline": true,
            "ticks": "outside",
            "zeroline": false,
            "zerolinecolor": "rgb(36,36,36)"
           },
           "zaxis": {
            "backgroundcolor": "white",
            "gridcolor": "rgb(232,232,232)",
            "gridwidth": 2,
            "linecolor": "rgb(36,36,36)",
            "showbackground": true,
            "showgrid": false,
            "showline": true,
            "ticks": "outside",
            "zeroline": false,
            "zerolinecolor": "rgb(36,36,36)"
           }
          },
          "shapedefaults": {
           "fillcolor": "black",
           "line": {
            "width": 0
           },
           "opacity": 0.3
          },
          "ternary": {
           "aaxis": {
            "gridcolor": "rgb(232,232,232)",
            "linecolor": "rgb(36,36,36)",
            "showgrid": false,
            "showline": true,
            "ticks": "outside"
           },
           "baxis": {
            "gridcolor": "rgb(232,232,232)",
            "linecolor": "rgb(36,36,36)",
            "showgrid": false,
            "showline": true,
            "ticks": "outside"
           },
           "bgcolor": "white",
           "caxis": {
            "gridcolor": "rgb(232,232,232)",
            "linecolor": "rgb(36,36,36)",
            "showgrid": false,
            "showline": true,
            "ticks": "outside"
           }
          },
          "title": {
           "x": 0.05
          },
          "xaxis": {
           "automargin": true,
           "gridcolor": "rgb(232,232,232)",
           "linecolor": "rgb(36,36,36)",
           "showgrid": false,
           "showline": true,
           "ticks": "outside",
           "title": {
            "standoff": 15
           },
           "zeroline": false,
           "zerolinecolor": "rgb(36,36,36)"
          },
          "yaxis": {
           "automargin": true,
           "gridcolor": "rgb(232,232,232)",
           "linecolor": "rgb(36,36,36)",
           "showgrid": false,
           "showline": true,
           "ticks": "outside",
           "title": {
            "standoff": 15
           },
           "zeroline": false,
           "zerolinecolor": "rgb(36,36,36)"
          }
         }
        },
        "title": {
         "font": {
          "color": "Black",
          "size": 22
         },
         "text": "<b>Intertopic Distance Map</b>",
         "x": 0.5,
         "xanchor": "center",
         "y": 0.95,
         "yanchor": "top"
        },
        "width": 650,
        "xaxis": {
         "anchor": "y",
         "domain": [
          0,
          1
         ],
         "range": [
          2.2985041618347166,
          10.293567991256714
         ],
         "title": {
          "text": ""
         },
         "visible": false
        },
        "yaxis": {
         "anchor": "x",
         "domain": [
          0,
          1
         ],
         "range": [
          -5.2272847414016725,
          16.801238584518433
         ],
         "title": {
          "text": ""
         },
         "visible": false
        }
       }
      }
     },
     "metadata": {},
     "output_type": "display_data"
    }
   ],
   "source": [
    "topic_model.visualize_topics()"
   ]
  },
  {
   "cell_type": "code",
   "execution_count": 94,
   "metadata": {},
   "outputs": [
    {
     "data": {
      "text/html": [
       "<div>\n",
       "<style scoped>\n",
       "    .dataframe tbody tr th:only-of-type {\n",
       "        vertical-align: middle;\n",
       "    }\n",
       "\n",
       "    .dataframe tbody tr th {\n",
       "        vertical-align: top;\n",
       "    }\n",
       "\n",
       "    .dataframe thead th {\n",
       "        text-align: right;\n",
       "    }\n",
       "</style>\n",
       "<table border=\"1\" class=\"dataframe\">\n",
       "  <thead>\n",
       "    <tr style=\"text-align: right;\">\n",
       "      <th></th>\n",
       "      <th>Topic</th>\n",
       "      <th>Count</th>\n",
       "      <th>Name</th>\n",
       "      <th>Representation</th>\n",
       "      <th>Representative_Docs</th>\n",
       "    </tr>\n",
       "  </thead>\n",
       "  <tbody>\n",
       "    <tr>\n",
       "      <th>0</th>\n",
       "      <td>-1</td>\n",
       "      <td>900</td>\n",
       "      <td>-1_museum_city_art_also</td>\n",
       "      <td>[museum, city, art, also, building, park, one,...</td>\n",
       "      <td>[biological museum turku biological museum dio...</td>\n",
       "    </tr>\n",
       "    <tr>\n",
       "      <th>1</th>\n",
       "      <td>0</td>\n",
       "      <td>674</td>\n",
       "      <td>0_church_built_mosque_th</td>\n",
       "      <td>[church, built, mosque, th, century, cathedral...</td>\n",
       "      <td>[mindszent parish church mindszent separate sm...</td>\n",
       "    </tr>\n",
       "    <tr>\n",
       "      <th>2</th>\n",
       "      <td>1</td>\n",
       "      <td>376</td>\n",
       "      <td>1_museum_art_collection_de</td>\n",
       "      <td>[museum, art, collection, de, history, th, wor...</td>\n",
       "      <td>[lviv art gallery divided several departments ...</td>\n",
       "    </tr>\n",
       "    <tr>\n",
       "      <th>3</th>\n",
       "      <td>2</td>\n",
       "      <td>348</td>\n",
       "      <td>2_festival_theatre_music_theater</td>\n",
       "      <td>[festival, theatre, music, theater, concerts, ...</td>\n",
       "      <td>[holland festival performing arts festival bri...</td>\n",
       "    </tr>\n",
       "    <tr>\n",
       "      <th>4</th>\n",
       "      <td>3</td>\n",
       "      <td>291</td>\n",
       "      <td>3_park_city_tour_pool</td>\n",
       "      <td>[park, city, tour, pool, tours, also, one, ice...</td>\n",
       "      <td>[ali demi skate park alidemi skate park great ...</td>\n",
       "    </tr>\n",
       "    <tr>\n",
       "      <th>5</th>\n",
       "      <td>4</td>\n",
       "      <td>27</td>\n",
       "      <td>4_zoo_animals_park_species</td>\n",
       "      <td>[zoo, animals, park, species, berlin, children...</td>\n",
       "      <td>[aalborg zoo cosy zoo many classic zoo animals...</td>\n",
       "    </tr>\n",
       "    <tr>\n",
       "      <th>6</th>\n",
       "      <td>5</td>\n",
       "      <td>27</td>\n",
       "      <td>5_turku_christmas_fair_marathon</td>\n",
       "      <td>[turku, christmas, fair, marathon, nurmi, even...</td>\n",
       "      <td>[turku international book fair turku internati...</td>\n",
       "    </tr>\n",
       "    <tr>\n",
       "      <th>7</th>\n",
       "      <td>6</td>\n",
       "      <td>25</td>\n",
       "      <td>6_football_team_stadium_league</td>\n",
       "      <td>[football, team, stadium, league, games, clubs...</td>\n",
       "      <td>[traditional games croke park stadium catch hu...</td>\n",
       "    </tr>\n",
       "    <tr>\n",
       "      <th>8</th>\n",
       "      <td>7</td>\n",
       "      <td>18</td>\n",
       "      <td>7_bridge_river_dragon_bridges</td>\n",
       "      <td>[bridge, river, dragon, bridges, old, dragon b...</td>\n",
       "      <td>[çatalan bridge longest bridge turkey, tanners...</td>\n",
       "    </tr>\n",
       "    <tr>\n",
       "      <th>9</th>\n",
       "      <td>8</td>\n",
       "      <td>17</td>\n",
       "      <td>8_garden_botanical_botanical garden_plants</td>\n",
       "      <td>[garden, botanical, botanical garden, plants, ...</td>\n",
       "      <td>[botanical garden nice parc many interesting p...</td>\n",
       "    </tr>\n",
       "    <tr>\n",
       "      <th>10</th>\n",
       "      <td>9</td>\n",
       "      <td>12</td>\n",
       "      <td>9_roman_pompeii_ad_city</td>\n",
       "      <td>[roman, pompeii, ad, city, vesuvius, site, rd,...</td>\n",
       "      <td>[scythian neapolis scythian neapolis settlemen...</td>\n",
       "    </tr>\n",
       "  </tbody>\n",
       "</table>\n",
       "</div>"
      ],
      "text/plain": [
       "    Topic  Count                                        Name  \\\n",
       "0      -1    900                     -1_museum_city_art_also   \n",
       "1       0    674                    0_church_built_mosque_th   \n",
       "2       1    376                  1_museum_art_collection_de   \n",
       "3       2    348            2_festival_theatre_music_theater   \n",
       "4       3    291                       3_park_city_tour_pool   \n",
       "5       4     27                  4_zoo_animals_park_species   \n",
       "6       5     27             5_turku_christmas_fair_marathon   \n",
       "7       6     25              6_football_team_stadium_league   \n",
       "8       7     18               7_bridge_river_dragon_bridges   \n",
       "9       8     17  8_garden_botanical_botanical garden_plants   \n",
       "10      9     12                     9_roman_pompeii_ad_city   \n",
       "\n",
       "                                       Representation  \\\n",
       "0   [museum, city, art, also, building, park, one,...   \n",
       "1   [church, built, mosque, th, century, cathedral...   \n",
       "2   [museum, art, collection, de, history, th, wor...   \n",
       "3   [festival, theatre, music, theater, concerts, ...   \n",
       "4   [park, city, tour, pool, tours, also, one, ice...   \n",
       "5   [zoo, animals, park, species, berlin, children...   \n",
       "6   [turku, christmas, fair, marathon, nurmi, even...   \n",
       "7   [football, team, stadium, league, games, clubs...   \n",
       "8   [bridge, river, dragon, bridges, old, dragon b...   \n",
       "9   [garden, botanical, botanical garden, plants, ...   \n",
       "10  [roman, pompeii, ad, city, vesuvius, site, rd,...   \n",
       "\n",
       "                                  Representative_Docs  \n",
       "0   [biological museum turku biological museum dio...  \n",
       "1   [mindszent parish church mindszent separate sm...  \n",
       "2   [lviv art gallery divided several departments ...  \n",
       "3   [holland festival performing arts festival bri...  \n",
       "4   [ali demi skate park alidemi skate park great ...  \n",
       "5   [aalborg zoo cosy zoo many classic zoo animals...  \n",
       "6   [turku international book fair turku internati...  \n",
       "7   [traditional games croke park stadium catch hu...  \n",
       "8   [çatalan bridge longest bridge turkey, tanners...  \n",
       "9   [botanical garden nice parc many interesting p...  \n",
       "10  [scythian neapolis scythian neapolis settlemen...  "
      ]
     },
     "execution_count": 94,
     "metadata": {},
     "output_type": "execute_result"
    }
   ],
   "source": [
    "topic_model.update_topics(docs, n_gram_range=(1, 3))\n",
    "topic_model.get_topic_info()"
   ]
  },
  {
   "cell_type": "code",
   "execution_count": 95,
   "metadata": {},
   "outputs": [],
   "source": [
    "new_topics = topic_model.reduce_outliers(docs, topics, probabilities=probs, strategy=\"probabilities\")"
   ]
  },
  {
   "cell_type": "code",
   "execution_count": 96,
   "metadata": {},
   "outputs": [
    {
     "name": "stderr",
     "output_type": "stream",
     "text": [
      "2024-08-28 12:12:57,200 - BERTopic - WARNING: Using a custom list of topic assignments may lead to errors if topic reduction techniques are used afterwards. Make sure that manually assigning topics is the last step in the pipeline.Note that topic embeddings will also be created through weightedc-TF-IDF embeddings instead of centroid embeddings.\n"
     ]
    }
   ],
   "source": [
    "topic_model.update_topics(docs, topics=new_topics)"
   ]
  },
  {
   "cell_type": "code",
   "execution_count": 97,
   "metadata": {},
   "outputs": [],
   "source": [
    "topics_df = topic_model.get_topic_info()"
   ]
  },
  {
   "cell_type": "code",
   "execution_count": 98,
   "metadata": {},
   "outputs": [
    {
     "data": {
      "text/html": [
       "<div>\n",
       "<style scoped>\n",
       "    .dataframe tbody tr th:only-of-type {\n",
       "        vertical-align: middle;\n",
       "    }\n",
       "\n",
       "    .dataframe tbody tr th {\n",
       "        vertical-align: top;\n",
       "    }\n",
       "\n",
       "    .dataframe thead th {\n",
       "        text-align: right;\n",
       "    }\n",
       "</style>\n",
       "<table border=\"1\" class=\"dataframe\">\n",
       "  <thead>\n",
       "    <tr style=\"text-align: right;\">\n",
       "      <th></th>\n",
       "      <th>Topic</th>\n",
       "      <th>Count</th>\n",
       "      <th>Name</th>\n",
       "      <th>Representation</th>\n",
       "      <th>Representative_Docs</th>\n",
       "    </tr>\n",
       "  </thead>\n",
       "  <tbody>\n",
       "    <tr>\n",
       "      <th>0</th>\n",
       "      <td>0</td>\n",
       "      <td>950</td>\n",
       "      <td>0_church_built_th_century</td>\n",
       "      <td>[church, built, th, century, mosque, cathedral...</td>\n",
       "      <td>[mindszent parish church mindszent separate sm...</td>\n",
       "    </tr>\n",
       "    <tr>\n",
       "      <th>1</th>\n",
       "      <td>1</td>\n",
       "      <td>678</td>\n",
       "      <td>1_museum_art_collection_history</td>\n",
       "      <td>[museum, art, collection, history, de, exhibit...</td>\n",
       "      <td>[lviv art gallery divided several departments ...</td>\n",
       "    </tr>\n",
       "    <tr>\n",
       "      <th>2</th>\n",
       "      <td>2</td>\n",
       "      <td>422</td>\n",
       "      <td>2_festival_theatre_music_theater</td>\n",
       "      <td>[festival, theatre, music, theater, concerts, ...</td>\n",
       "      <td>[holland festival performing arts festival bri...</td>\n",
       "    </tr>\n",
       "    <tr>\n",
       "      <th>3</th>\n",
       "      <td>3</td>\n",
       "      <td>532</td>\n",
       "      <td>3_park_city_lake_also</td>\n",
       "      <td>[park, city, lake, also, tour, one, pool, area...</td>\n",
       "      <td>[ali demi skate park alidemi skate park great ...</td>\n",
       "    </tr>\n",
       "    <tr>\n",
       "      <th>4</th>\n",
       "      <td>4</td>\n",
       "      <td>27</td>\n",
       "      <td>4_zoo_animals_species_berlin</td>\n",
       "      <td>[zoo, animals, species, berlin, park, aquarium...</td>\n",
       "      <td>[aalborg zoo cosy zoo many classic zoo animals...</td>\n",
       "    </tr>\n",
       "  </tbody>\n",
       "</table>\n",
       "</div>"
      ],
      "text/plain": [
       "   Topic  Count                              Name  \\\n",
       "0      0    950         0_church_built_th_century   \n",
       "1      1    678   1_museum_art_collection_history   \n",
       "2      2    422  2_festival_theatre_music_theater   \n",
       "3      3    532             3_park_city_lake_also   \n",
       "4      4     27      4_zoo_animals_species_berlin   \n",
       "\n",
       "                                      Representation  \\\n",
       "0  [church, built, th, century, mosque, cathedral...   \n",
       "1  [museum, art, collection, history, de, exhibit...   \n",
       "2  [festival, theatre, music, theater, concerts, ...   \n",
       "3  [park, city, lake, also, tour, one, pool, area...   \n",
       "4  [zoo, animals, species, berlin, park, aquarium...   \n",
       "\n",
       "                                 Representative_Docs  \n",
       "0  [mindszent parish church mindszent separate sm...  \n",
       "1  [lviv art gallery divided several departments ...  \n",
       "2  [holland festival performing arts festival bri...  \n",
       "3  [ali demi skate park alidemi skate park great ...  \n",
       "4  [aalborg zoo cosy zoo many classic zoo animals...  "
      ]
     },
     "execution_count": 98,
     "metadata": {},
     "output_type": "execute_result"
    }
   ],
   "source": [
    "topics_df.head()"
   ]
  },
  {
   "cell_type": "code",
   "execution_count": 99,
   "metadata": {},
   "outputs": [
    {
     "data": {
      "text/html": [
       "<div>\n",
       "<style scoped>\n",
       "    .dataframe tbody tr th:only-of-type {\n",
       "        vertical-align: middle;\n",
       "    }\n",
       "\n",
       "    .dataframe tbody tr th {\n",
       "        vertical-align: top;\n",
       "    }\n",
       "\n",
       "    .dataframe thead th {\n",
       "        text-align: right;\n",
       "    }\n",
       "</style>\n",
       "<table border=\"1\" class=\"dataframe\">\n",
       "  <thead>\n",
       "    <tr style=\"text-align: right;\">\n",
       "      <th></th>\n",
       "      <th>Topic</th>\n",
       "      <th>Count</th>\n",
       "      <th>Name</th>\n",
       "      <th>Representation</th>\n",
       "      <th>Representative_Docs</th>\n",
       "      <th>label</th>\n",
       "    </tr>\n",
       "  </thead>\n",
       "  <tbody>\n",
       "    <tr>\n",
       "      <th>0</th>\n",
       "      <td>0</td>\n",
       "      <td>950</td>\n",
       "      <td>0_church_built_th_century</td>\n",
       "      <td>[church, built, th, century, mosque, cathedral...</td>\n",
       "      <td>[mindszent parish church mindszent separate sm...</td>\n",
       "      <td>church_built_th_century</td>\n",
       "    </tr>\n",
       "    <tr>\n",
       "      <th>1</th>\n",
       "      <td>1</td>\n",
       "      <td>678</td>\n",
       "      <td>1_museum_art_collection_history</td>\n",
       "      <td>[museum, art, collection, history, de, exhibit...</td>\n",
       "      <td>[lviv art gallery divided several departments ...</td>\n",
       "      <td>museum_art_collection_history</td>\n",
       "    </tr>\n",
       "    <tr>\n",
       "      <th>2</th>\n",
       "      <td>2</td>\n",
       "      <td>422</td>\n",
       "      <td>2_festival_theatre_music_theater</td>\n",
       "      <td>[festival, theatre, music, theater, concerts, ...</td>\n",
       "      <td>[holland festival performing arts festival bri...</td>\n",
       "      <td>festival_theatre_music_theater</td>\n",
       "    </tr>\n",
       "    <tr>\n",
       "      <th>3</th>\n",
       "      <td>3</td>\n",
       "      <td>532</td>\n",
       "      <td>3_park_city_lake_also</td>\n",
       "      <td>[park, city, lake, also, tour, one, pool, area...</td>\n",
       "      <td>[ali demi skate park alidemi skate park great ...</td>\n",
       "      <td>park_city_lake_also</td>\n",
       "    </tr>\n",
       "    <tr>\n",
       "      <th>4</th>\n",
       "      <td>4</td>\n",
       "      <td>27</td>\n",
       "      <td>4_zoo_animals_species_berlin</td>\n",
       "      <td>[zoo, animals, species, berlin, park, aquarium...</td>\n",
       "      <td>[aalborg zoo cosy zoo many classic zoo animals...</td>\n",
       "      <td>zoo_animals_species_berlin</td>\n",
       "    </tr>\n",
       "    <tr>\n",
       "      <th>5</th>\n",
       "      <td>5</td>\n",
       "      <td>34</td>\n",
       "      <td>5_turku_christmas_fair_marathon</td>\n",
       "      <td>[turku, christmas, fair, marathon, nurmi, even...</td>\n",
       "      <td>[turku international book fair turku internati...</td>\n",
       "      <td>turku_christmas_fair_marathon</td>\n",
       "    </tr>\n",
       "    <tr>\n",
       "      <th>6</th>\n",
       "      <td>6</td>\n",
       "      <td>25</td>\n",
       "      <td>6_football_team_stadium_league</td>\n",
       "      <td>[football, team, stadium, league, games, clubs...</td>\n",
       "      <td>[traditional games croke park stadium catch hu...</td>\n",
       "      <td>football_team_stadium_league</td>\n",
       "    </tr>\n",
       "    <tr>\n",
       "      <th>7</th>\n",
       "      <td>7</td>\n",
       "      <td>18</td>\n",
       "      <td>7_bridge_river_dragon_bridges</td>\n",
       "      <td>[bridge, river, dragon, bridges, road, old, us...</td>\n",
       "      <td>[çatalan bridge longest bridge turkey, tanners...</td>\n",
       "      <td>bridge_river_dragon_bridges</td>\n",
       "    </tr>\n",
       "    <tr>\n",
       "      <th>8</th>\n",
       "      <td>8</td>\n",
       "      <td>17</td>\n",
       "      <td>8_garden_botanical_plants_species</td>\n",
       "      <td>[garden, botanical, plants, species, universit...</td>\n",
       "      <td>[botanical garden nice parc many interesting p...</td>\n",
       "      <td>garden_botanical_plants_species</td>\n",
       "    </tr>\n",
       "    <tr>\n",
       "      <th>9</th>\n",
       "      <td>9</td>\n",
       "      <td>12</td>\n",
       "      <td>9_roman_pompeii_ad_vesuvius</td>\n",
       "      <td>[roman, pompeii, ad, vesuvius, city, site, rd,...</td>\n",
       "      <td>[scythian neapolis scythian neapolis settlemen...</td>\n",
       "      <td>roman_pompeii_ad_vesuvius</td>\n",
       "    </tr>\n",
       "  </tbody>\n",
       "</table>\n",
       "</div>"
      ],
      "text/plain": [
       "   Topic  Count                               Name  \\\n",
       "0      0    950          0_church_built_th_century   \n",
       "1      1    678    1_museum_art_collection_history   \n",
       "2      2    422   2_festival_theatre_music_theater   \n",
       "3      3    532              3_park_city_lake_also   \n",
       "4      4     27       4_zoo_animals_species_berlin   \n",
       "5      5     34    5_turku_christmas_fair_marathon   \n",
       "6      6     25     6_football_team_stadium_league   \n",
       "7      7     18      7_bridge_river_dragon_bridges   \n",
       "8      8     17  8_garden_botanical_plants_species   \n",
       "9      9     12        9_roman_pompeii_ad_vesuvius   \n",
       "\n",
       "                                      Representation  \\\n",
       "0  [church, built, th, century, mosque, cathedral...   \n",
       "1  [museum, art, collection, history, de, exhibit...   \n",
       "2  [festival, theatre, music, theater, concerts, ...   \n",
       "3  [park, city, lake, also, tour, one, pool, area...   \n",
       "4  [zoo, animals, species, berlin, park, aquarium...   \n",
       "5  [turku, christmas, fair, marathon, nurmi, even...   \n",
       "6  [football, team, stadium, league, games, clubs...   \n",
       "7  [bridge, river, dragon, bridges, road, old, us...   \n",
       "8  [garden, botanical, plants, species, universit...   \n",
       "9  [roman, pompeii, ad, vesuvius, city, site, rd,...   \n",
       "\n",
       "                                 Representative_Docs  \\\n",
       "0  [mindszent parish church mindszent separate sm...   \n",
       "1  [lviv art gallery divided several departments ...   \n",
       "2  [holland festival performing arts festival bri...   \n",
       "3  [ali demi skate park alidemi skate park great ...   \n",
       "4  [aalborg zoo cosy zoo many classic zoo animals...   \n",
       "5  [turku international book fair turku internati...   \n",
       "6  [traditional games croke park stadium catch hu...   \n",
       "7  [çatalan bridge longest bridge turkey, tanners...   \n",
       "8  [botanical garden nice parc many interesting p...   \n",
       "9  [scythian neapolis scythian neapolis settlemen...   \n",
       "\n",
       "                             label  \n",
       "0          church_built_th_century  \n",
       "1    museum_art_collection_history  \n",
       "2   festival_theatre_music_theater  \n",
       "3              park_city_lake_also  \n",
       "4       zoo_animals_species_berlin  \n",
       "5    turku_christmas_fair_marathon  \n",
       "6     football_team_stadium_league  \n",
       "7      bridge_river_dragon_bridges  \n",
       "8  garden_botanical_plants_species  \n",
       "9        roman_pompeii_ad_vesuvius  "
      ]
     },
     "execution_count": 99,
     "metadata": {},
     "output_type": "execute_result"
    }
   ],
   "source": [
    "topics_df['label'] = topics_df['Name'].apply(lambda x: '_'.join(x.split(\"_\")[1:]))\n",
    "topics_df.head(11)"
   ]
  },
  {
   "cell_type": "code",
   "execution_count": 100,
   "metadata": {},
   "outputs": [
    {
     "data": {
      "image/png": "[encoded data removed]",
      "text/plain": [
       "<Figure size 1000x500 with 1 Axes>"
      ]
     },
     "metadata": {},
     "output_type": "display_data"
    }
   ],
   "source": [
    "from wordcloud import WordCloud\n",
    "import matplotlib.pyplot as plt\n",
    "import random\n",
    "\n",
    "# Convert the labels and counts into a dictionary\n",
    "word_freq = dict(zip(topics_df['label'], topics_df['Count']))\n",
    "\n",
    "# Create the word cloud\n",
    "wordcloud = WordCloud(\n",
    "    width=800, \n",
    "    height=400,\n",
    "    background_color='white',\n",
    ").generate_from_frequencies(word_freq)\n",
    "\n",
    "# Plot the word cloud\n",
    "plt.figure(figsize=(10, 5))\n",
    "plt.imshow(wordcloud, interpolation=\"bilinear\")\n",
    "plt.axis('off')\n",
    "plt.show()\n"
   ]
  },
  {
   "cell_type": "code",
   "execution_count": 101,
   "metadata": {},
   "outputs": [
    {
     "name": "stderr",
     "output_type": "stream",
     "text": [
      "2024-08-28 12:12:58,505 - BERTopic - WARNING: When you use `pickle` to save/load a BERTopic model,please make sure that the environments in which you saveand load the model are **exactly** the same. The version of BERTopic,its dependencies, and python need to remain the same.\n"
     ]
    }
   ],
   "source": [
    "topic_model.save(\"wikivoyage_listings_topics\", serialization=\"pickle\")"
   ]
  },
  {
   "cell_type": "code",
   "execution_count": null,
   "metadata": {},
   "outputs": [],
   "source": []
  }
 ],
 "metadata": {
  "kernelspec": {
   "display_name": ".env",
   "language": "python",
   "name": "python3"
  },
  "language_info": {
   "codemirror_mode": {
    "name": "ipython",
    "version": 3
   },
   "file_extension": ".py",
   "mimetype": "text/x-python",
   "name": "python",
   "nbconvert_exporter": "python",
   "pygments_lexer": "ipython3",
   "version": "3.9.6"
  }
 },
 "nbformat": 4,
 "nbformat_minor": 2
}
