{
 "cells": [
  {
   "cell_type": "code",
   "execution_count": 9,
   "metadata": {},
   "outputs": [
    {
     "name": "stdout",
     "output_type": "stream",
     "text": [
      "Folders already exist\n"
     ]
    }
   ],
   "source": [
    "import os \n",
    "import pandas as pd\n",
    "import numpy as np\n",
    "import re\n",
    "\n",
    "tripadvisor_dir = \"../../europeancities-wikivoyage-tripadvisor/data-sources/tripadvisor/\" \n",
    "\n",
    "try:\n",
    "    os.makedirs(tripadvisor_dir + \"attractions/original\")\n",
    "    os.makedirs(tripadvisor_dir + \"attractions/cleaned\")\n",
    "except Exception as e:\n",
    "    print(\"Folders already exist\")"
   ]
  },
  {
   "cell_type": "code",
   "execution_count": 4,
   "metadata": {},
   "outputs": [
    {
     "name": "stdout",
     "output_type": "stream",
     "text": [
      "File already moved for city: Zurich\n",
      "File already moved for city: Thessaloniki\n",
      "File already moved for city: Barcelona\n",
      "File already moved for city: Paris\n",
      "File already moved for city: Milan\n",
      "File already moved for city: Valencia\n",
      "File already moved for city: Bologna\n",
      "File already moved for city: Lyon\n",
      "File already moved for city: Istanbul\n"
     ]
    }
   ],
   "source": [
    "data_dir = tripadvisor_dir + \"attractions/original/\"\n",
    "for folder in os.listdir(tripadvisor_dir):\n",
    "    if folder == \"attractions\" or \".csv\" in folder:\n",
    "        continue\n",
    "    else: \n",
    "        cur_path = os.path.join(tripadvisor_dir,folder,\"attractions.csv\")\n",
    "        city = folder.lower()\n",
    "        new_path = os.path.join(data_dir, city + \".csv\")\n",
    "        try:\n",
    "            os.rename(cur_path, new_path)\n",
    "        except FileNotFoundError:\n",
    "            print(\"File already moved for city: {0}\".format(folder))"
   ]
  },
  {
   "cell_type": "code",
   "execution_count": 6,
   "metadata": {},
   "outputs": [],
   "source": [
    "for folder in os.listdir(tripadvisor_dir):\n",
    "    if folder == \"attractions\" or \".csv\" in folder:\n",
    "        continue\n",
    "    else:\n",
    "        os.rmdir(tripadvisor_dir + folder)"
   ]
  },
  {
   "cell_type": "code",
   "execution_count": 16,
   "metadata": {},
   "outputs": [],
   "source": [
    "cleaned_dir = tripadvisor_dir + \"attractions/cleaned/\"\n",
    "data_dir = tripadvisor_dir + \"attractions/original/\"\n",
    "\n",
    "ai_desc = \"This attraction description was created by AI, using \\\n",
    "information and phrases commonly found in reviews \\\n",
    "users submitted to Tripadvisor. Tripadvisor did not \\\n",
    "create and is not responsible for this description. \\\n",
    "Please read full traveler reviews for more details and \\\n",
    "information. If you believe something in this AI-generated \\\n",
    "description is inaccurate, please share your feedback.\""
   ]
  },
  {
   "cell_type": "code",
   "execution_count": 17,
   "metadata": {},
   "outputs": [
    {
     "data": {
      "text/plain": [
       "'This attraction description was created by AI, using information and phrases commonly found in reviews users submitted to Tripadvisor. Tripadvisor did not create and is not responsible for this description. Please read full traveler reviews for more details and information. If you believe something in this AI-generated description is inaccurate, please share your feedback.'"
      ]
     },
     "execution_count": 17,
     "metadata": {},
     "output_type": "execute_result"
    }
   ],
   "source": [
    "ai_desc"
   ]
  },
  {
   "cell_type": "code",
   "execution_count": 21,
   "metadata": {},
   "outputs": [],
   "source": [
    "def clean_string(s):\n",
    "    return re.sub(ai_desc, \" \", s)\n",
    "    # s.replace(ai_desc, '')\n",
    "\n",
    "for file in os.listdir(data_dir):\n",
    "    df = pd.read_csv(data_dir + file)\n",
    "    df['description'] = df['description'].apply(clean_string)\n",
    "    df.to_csv(cleaned_dir + file)"
   ]
  },
  {
   "cell_type": "code",
   "execution_count": null,
   "metadata": {},
   "outputs": [],
   "source": []
  }
 ],
 "metadata": {
  "kernelspec": {
   "display_name": ".env",
   "language": "python",
   "name": "python3"
  },
  "language_info": {
   "codemirror_mode": {
    "name": "ipython",
    "version": 3
   },
   "file_extension": ".py",
   "mimetype": "text/x-python",
   "name": "python",
   "nbconvert_exporter": "python",
   "pygments_lexer": "ipython3",
   "version": "3.9.6"
  }
 },
 "nbformat": 4,
 "nbformat_minor": 2
}
