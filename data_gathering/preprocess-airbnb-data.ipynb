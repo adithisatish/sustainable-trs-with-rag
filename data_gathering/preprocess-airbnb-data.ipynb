{
 "cells": [
  {
   "cell_type": "code",
   "execution_count": 1,
   "metadata": {},
   "outputs": [],
   "source": [
    "import pandas as pd \n",
    "import numpy as np \n",
    "import os "
   ]
  },
  {
   "cell_type": "code",
   "execution_count": 2,
   "metadata": {},
   "outputs": [],
   "source": [
    "columns = ['listing_url', 'name','description', 'host_name', 'property_type',\n",
    "            'room_type', 'accommodates', 'price',\n",
    "            'minimum_nights', 'maximum_nights']"
   ]
  },
  {
   "cell_type": "code",
   "execution_count": 4,
   "metadata": {},
   "outputs": [
    {
     "data": {
      "text/plain": [
       "['.DS_Store', 'original', 'cleaned']"
      ]
     },
     "execution_count": 4,
     "metadata": {},
     "output_type": "execute_result"
    }
   ],
   "source": [
    "airbnb_dir  = \"../../europeancities-wikivoyage-tripadvisor/data-sources/airbnb/\"\n",
    "os.listdir(airbnb_dir)"
   ]
  },
  {
   "cell_type": "code",
   "execution_count": 5,
   "metadata": {},
   "outputs": [],
   "source": [
    "# os.mkdir(airbnb_dir+\"cleaned/\")"
   ]
  },
  {
   "cell_type": "code",
   "execution_count": 6,
   "metadata": {},
   "outputs": [],
   "source": [
    "def read_and_preprocess_listings(file):\n",
    "    df = pd.read_csv(file)\n",
    "    filename = file.split(\"/\")[-1]\n",
    "    # print(df.head())\n",
    "\n",
    "    print(\"Removing irrelevant columns and rows with NaNs for file: {0}\".format(filename))\n",
    "    new_filename = filename.split(\".\")[0] + \"_cleaned.csv.gz\"\n",
    "    \n",
    "    df = df[columns]\n",
    "    df.dropna(inplace=True)\n",
    "\n",
    "    df.to_csv(airbnb_dir + \"/cleaned/\" + new_filename)\n",
    "    print(\"Saved preprocessed file: {0}\".format(new_filename))\n"
   ]
  },
  {
   "cell_type": "code",
   "execution_count": 7,
   "metadata": {},
   "outputs": [
    {
     "name": "stdout",
     "output_type": "stream",
     "text": [
      "Removing irrelevant columns and rows with NaNs for file: milan-2024-03-24.csv.gz\n",
      "Saved preprocessed file: milan-2024-03-24_cleaned.csv.gz\n",
      "Removing irrelevant columns and rows with NaNs for file: porto-2024-04-22.csv.gz\n",
      "Saved preprocessed file: porto-2024-04-22_cleaned.csv.gz\n",
      "Removing irrelevant columns and rows with NaNs for file: paris-2024-04-17.csv.gz\n",
      "Saved preprocessed file: paris-2024-04-17_cleaned.csv.gz\n",
      "Removing irrelevant columns and rows with NaNs for file: vienna-2024-04-19.csv.gz\n",
      "Saved preprocessed file: vienna-2024-04-19_cleaned.csv.gz\n",
      "Removing irrelevant columns and rows with NaNs for file: munich-2024-04-28.csv.gz\n",
      "Saved preprocessed file: munich-2024-04-28_cleaned.csv.gz\n",
      "Removing irrelevant columns and rows with NaNs for file: copenhagen-2024-03-30.csv.gz\n",
      "Saved preprocessed file: copenhagen-2024-03-30_cleaned.csv.gz\n",
      "Removing irrelevant columns and rows with NaNs for file: naples-2024-04-25.csv.gz\n",
      "Saved preprocessed file: naples-2024-04-25_cleaned.csv.gz\n",
      "Removing irrelevant columns and rows with NaNs for file: rome-2024-04-19.csv.gz\n",
      "Saved preprocessed file: rome-2024-04-19_cleaned.csv.gz\n",
      "Removing irrelevant columns and rows with NaNs for file: bologna-2024-04-25.csv.gz\n",
      "Saved preprocessed file: bologna-2024-04-25_cleaned.csv.gz\n",
      "Removing irrelevant columns and rows with NaNs for file: madrid-2024-04-19.csv.gz\n",
      "Saved preprocessed file: madrid-2024-04-19_cleaned.csv.gz\n",
      "Removing irrelevant columns and rows with NaNs for file: zurich-2024-03-30.csv.gz\n",
      "Saved preprocessed file: zurich-2024-03-30_cleaned.csv.gz\n",
      "Removing irrelevant columns and rows with NaNs for file: bordeaux-2024-04-22.csv.gz\n",
      "Saved preprocessed file: bordeaux-2024-04-22_cleaned.csv.gz\n",
      "Removing irrelevant columns and rows with NaNs for file: stockholm-2024-03-30.csv.gz\n",
      "Saved preprocessed file: stockholm-2024-03-30_cleaned.csv.gz\n",
      "Removing irrelevant columns and rows with NaNs for file: prague-2024-03-25.csv.gz\n",
      "Saved preprocessed file: prague-2024-03-25_cleaned.csv.gz\n",
      "Removing irrelevant columns and rows with NaNs for file: london-2024-04-17.csv.gz\n",
      "Saved preprocessed file: london-2024-04-17_cleaned.csv.gz\n",
      "Removing irrelevant columns and rows with NaNs for file: valencia-2024-03-24.csv.gz\n",
      "Saved preprocessed file: valencia-2024-03-24_cleaned.csv.gz\n",
      "Removing irrelevant columns and rows with NaNs for file: brussels-2024-04-25.csv.gz\n",
      "Saved preprocessed file: brussels-2024-04-25_cleaned.csv.gz\n",
      "Removing irrelevant columns and rows with NaNs for file: istanbul-2024-03-31.csv.gz\n",
      "Saved preprocessed file: istanbul-2024-03-31_cleaned.csv.gz\n",
      "Removing irrelevant columns and rows with NaNs for file: riga-2024-03-31.csv.gz\n",
      "Saved preprocessed file: riga-2024-03-31_cleaned.csv.gz\n",
      "Removing irrelevant columns and rows with NaNs for file: lyon-2024-04-22.csv.gz\n",
      "Saved preprocessed file: lyon-2024-04-22_cleaned.csv.gz\n",
      "Removing irrelevant columns and rows with NaNs for file: geneva-2023-12-27.csv.gz\n",
      "Saved preprocessed file: geneva-2023-12-27_cleaned.csv.gz\n",
      "Removing irrelevant columns and rows with NaNs for file: thessaloniki-2023-12-25.csv.gz\n",
      "Saved preprocessed file: thessaloniki-2023-12-25_cleaned.csv.gz\n",
      "Removing irrelevant columns and rows with NaNs for file: berlin-2024-03-24.csv.gz\n",
      "Saved preprocessed file: berlin-2024-03-24_cleaned.csv.gz\n",
      "Removing irrelevant columns and rows with NaNs for file: barcelona-2024-04-17.csv.gz\n",
      "Saved preprocessed file: barcelona-2024-04-17_cleaned.csv.gz\n",
      "Removing irrelevant columns and rows with NaNs for file: amsterdam-2024-04-12.csv.gz\n",
      "Saved preprocessed file: amsterdam-2024-04-12_cleaned.csv.gz\n"
     ]
    }
   ],
   "source": [
    "for file in os.listdir(airbnb_dir+\"original\"):\n",
    "    read_and_preprocess_listings(airbnb_dir + \"original/\" + file)"
   ]
  },
  {
   "cell_type": "code",
   "execution_count": null,
   "metadata": {},
   "outputs": [],
   "source": []
  }
 ],
 "metadata": {
  "kernelspec": {
   "display_name": ".env",
   "language": "python",
   "name": "python3"
  },
  "language_info": {
   "codemirror_mode": {
    "name": "ipython",
    "version": 3
   },
   "file_extension": ".py",
   "mimetype": "text/x-python",
   "name": "python",
   "nbconvert_exporter": "python",
   "pygments_lexer": "ipython3",
   "version": "3.9.6"
  }
 },
 "nbformat": 4,
 "nbformat_minor": 2
}
